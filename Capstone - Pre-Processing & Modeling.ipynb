{
 "cells": [
  {
   "attachments": {},
   "cell_type": "markdown",
   "metadata": {},
   "source": [
    "# Libraries"
   ]
  },
  {
   "cell_type": "code",
   "execution_count": 15,
   "metadata": {},
   "outputs": [],
   "source": [
    "import os\n",
    "import re\n",
    "import emoji\n",
    "import pandas as pd\n",
    "import numpy as np\n",
    "import warnings\n",
    "import AppKit\n",
    "\n",
    "\n",
    "#Pre Processing\n",
    "import string\n",
    "import shutil\n",
    "import seaborn as sns\n",
    "import matplotlib.pylab as plt\n",
    "from datetime import datetime, timedelta\n",
    "from tqdm import tqdm\n",
    "from sklearn.model_selection import train_test_split\n",
    "\n",
    "#Modeling\n",
    "from sklearn.model_selection import GridSearchCV\n",
    "from sklearn.ensemble import RandomForestClassifier, GradientBoostingClassifier\n",
    "from dmba import classificationSummary, regressionSummary\n",
    "from sklearn.linear_model import LogisticRegression, LogisticRegressionCV\n",
    "from sklearn.metrics import accuracy_score, classification_report, confusion_matrix\n",
    "from dmba import plotDecisionTree, gainsChart, liftChart, classificationSummary, regressionSummary, adjusted_r2_score, AIC_score, BIC_score\n",
    "from sklearn.model_selection import RepeatedStratifiedKFold\n",
    "from sklearn.naive_bayes import MultinomialNB, GaussianNB, BernoulliNB\n",
    "from sklearn.metrics import recall_score\n",
    "from sklearn import svm, metrics"
   ]
  },
  {
   "cell_type": "code",
   "execution_count": 16,
   "metadata": {},
   "outputs": [],
   "source": [
    "AppKit.NSBeep()"
   ]
  },
  {
   "cell_type": "code",
   "execution_count": 17,
   "metadata": {},
   "outputs": [],
   "source": [
    "#os.chdir('C:\\\\Users\\\\halle.davis\\\\Downloads\\\\') ## Halle's work folder path\n",
    "#os.chdir('/Users/halledavis/Downloads/') ## Halle's personal folder path\n",
    "os.chdir('/users/clairephibbs/Desktop/Capstone') ## Claire's folder path\n",
    "#os.chdir('/Users/summerpurschke/Desktop/Capstone') ## Summer's folder path"
   ]
  },
  {
   "cell_type": "code",
   "execution_count": 18,
   "metadata": {
    "scrolled": true
   },
   "outputs": [
    {
     "name": "stderr",
     "output_type": "stream",
     "text": [
      "/var/folders/pf/065skph15m56xshv4vk3x09m0000gn/T/ipykernel_12922/1629659168.py:1: DtypeWarning: Columns (35) have mixed types. Specify dtype option on import or set low_memory=False.\n",
      "  accidents = pd.read_csv('Accidents.txt', sep= '|', encoding = 'latin-1')\n",
      "/var/folders/pf/065skph15m56xshv4vk3x09m0000gn/T/ipykernel_12922/1629659168.py:2: DtypeWarning: Columns (25,34,36,37,43,45,46,55,56,58) have mixed types. Specify dtype option on import or set low_memory=False.\n",
      "  violations = pd.read_csv('Violations.txt', sep= '|', encoding = 'latin-1')\n"
     ]
    }
   ],
   "source": [
    "accidents = pd.read_csv('Accidents.txt', sep= '|', encoding = 'latin-1')\n",
    "violations = pd.read_csv('Violations.txt', sep= '|', encoding = 'latin-1')\n",
    "\n",
    "# # inspections = pd.read_csv('Inspections.txt', sep= '|', encoding = 'latin-1')\n",
    "# # mines = pd.read_csv('Mines.txt', sep= '|', encoding = 'latin-1')"
   ]
  },
  {
   "attachments": {},
   "cell_type": "markdown",
   "metadata": {},
   "source": [
    "# Pre-Processing"
   ]
  },
  {
   "attachments": {},
   "cell_type": "markdown",
   "metadata": {},
   "source": [
    "## Assessing Duplicates"
   ]
  },
  {
   "cell_type": "code",
   "execution_count": 19,
   "metadata": {},
   "outputs": [
    {
     "data": {
      "text/plain": [
       "0"
      ]
     },
     "execution_count": 19,
     "metadata": {},
     "output_type": "execute_result"
    }
   ],
   "source": [
    "violations.duplicated().sum()"
   ]
  },
  {
   "cell_type": "code",
   "execution_count": 20,
   "metadata": {},
   "outputs": [
    {
     "data": {
      "text/plain": [
       "0"
      ]
     },
     "execution_count": 20,
     "metadata": {},
     "output_type": "execute_result"
    }
   ],
   "source": [
    "accidents.duplicated().sum()"
   ]
  },
  {
   "attachments": {},
   "cell_type": "markdown",
   "metadata": {},
   "source": [
    "INSIGHT: No duplicate values in the violations and accidents dataframes."
   ]
  },
  {
   "attachments": {},
   "cell_type": "markdown",
   "metadata": {},
   "source": [
    "## Assessing Nulls"
   ]
  },
  {
   "attachments": {},
   "cell_type": "markdown",
   "metadata": {},
   "source": [
    "### Violation Data"
   ]
  },
  {
   "cell_type": "code",
   "execution_count": 21,
   "metadata": {
    "scrolled": true
   },
   "outputs": [
    {
     "name": "stdout",
     "output_type": "stream",
     "text": [
      "INSPECTION_END_DT                 7665\n",
      "CONTROLLER_ID                   192131\n",
      "CONTROLLER_NAME                 192131\n",
      "VIOLATOR_ID                        120\n",
      "VIOLATOR_NAME                      135\n",
      "MINE_TYPE                           21\n",
      "CONTRACTOR_ID                  2622477\n",
      "SIG_SUB                          45093\n",
      "SECTION_OF_ACT                 2796797\n",
      "PART_SECTION                     30731\n",
      "SECTION_OF_ACT_2               2811540\n",
      "ORIG_TERM_DUE_DT                677782\n",
      "ORIG_TERM_DUE_TIME              677782\n",
      "LATEST_TERM_DUE_DT               94312\n",
      "LATEST_TERM_DUE_TIME             94312\n",
      "TERMINATION_DT                   18626\n",
      "TERMINATION_TIME                 18626\n",
      "VACATE_DT                      2812687\n",
      "VACATE_TIME                    2812687\n",
      "INITIAL_VIOL_NO                2737136\n",
      "REPLACED_BY_ORDER_NO           2795513\n",
      "LIKELIHOOD                       46331\n",
      "INJ_ILLNESS                      46314\n",
      "NEGLIGENCE                       46297\n",
      "WRITTEN_NOTICE                 1440981\n",
      "ENFORCEMENT_AREA               1368509\n",
      "PRIMARY_OR_MILL                1456125\n",
      "RIGHT_TO_CONF_DT               2523674\n",
      "FINAL_ORDER_ISSUE_DT             85940\n",
      "PROPOSED_PENALTY                 63067\n",
      "AMOUNT_DUE                       63067\n",
      "AMOUNT_PAID                      63067\n",
      "BILL_PRINT_DT                    63070\n",
      "LAST_ACTION_CD                   63080\n",
      "LAST_ACTION_DT                   63080\n",
      "DOCKET_NO                      2620523\n",
      "DOCKET_STATUS_CD               2619838\n",
      "CONTESTED_DT                   2619838\n",
      "VIOLATOR_VIOLATION_CNT           63067\n",
      "VIOLATOR_INSPECTION_DAY_CNT      63067\n",
      "dtype: int64\n"
     ]
    }
   ],
   "source": [
    "# assessing null values in the df\n",
    "pd.set_option('display.max_rows', None)\n",
    "\n",
    "missing_sum = violations.isna().sum()\n",
    "print(missing_sum[missing_sum > 0])\n",
    "\n",
    "pd.reset_option('display.max_rows')"
   ]
  },
  {
   "cell_type": "code",
   "execution_count": 22,
   "metadata": {},
   "outputs": [],
   "source": [
    "# Fill in missing values\n",
    "violations  = violations.replace('?', np.nan)"
   ]
  },
  {
   "attachments": {},
   "cell_type": "markdown",
   "metadata": {},
   "source": [
    "### Accident Data"
   ]
  },
  {
   "cell_type": "code",
   "execution_count": 23,
   "metadata": {},
   "outputs": [
    {
     "name": "stdout",
     "output_type": "stream",
     "text": [
      "CONTROLLER_ID           719\n",
      "CONTROLLER_NAME         719\n",
      "OPERATOR_ID             719\n",
      "OPERATOR_NAME           719\n",
      "CONTRACTOR_ID        229611\n",
      "ACCIDENT_TIME             1\n",
      "EQUIP_MODEL_NO       151664\n",
      "SHIFT_BEGIN_TIME        990\n",
      "NO_INJURIES              24\n",
      "TOT_EXPER             42602\n",
      "MINE_EXPER            39673\n",
      "JOB_EXPER             38873\n",
      "INJ_BODY_PART            25\n",
      "SCHEDULE_CHARGE       65023\n",
      "DAYS_RESTRICT         59928\n",
      "DAYS_LOST             44754\n",
      "TRANS_TERM            34368\n",
      "RETURN_TO_WORK_DT     41033\n",
      "IMMED_NOTIFY             82\n",
      "INVEST_BEGIN_DT      203054\n",
      "NARRATIVE                91\n",
      "CLOSED_DOC_NO        143124\n",
      "COAL_METAL_IND          134\n",
      "dtype: int64\n"
     ]
    }
   ],
   "source": [
    "# assessing null values in the df\n",
    "pd.set_option('display.max_rows', None)\n",
    "\n",
    "missing_sum = accidents.isna().sum()\n",
    "print(missing_sum[missing_sum > 0])\n",
    "\n",
    "pd.reset_option('display.max_rows')"
   ]
  },
  {
   "cell_type": "code",
   "execution_count": 24,
   "metadata": {},
   "outputs": [],
   "source": [
    "# Fill in missing values\n",
    "accidents  = accidents.replace('?', np.nan)"
   ]
  },
  {
   "attachments": {},
   "cell_type": "markdown",
   "metadata": {},
   "source": [
    "### INSPECTION_END_DT Missing Values: Remove INSPECTION_START_DT with year 2023"
   ]
  },
  {
   "cell_type": "code",
   "execution_count": 25,
   "metadata": {},
   "outputs": [
    {
     "name": "stderr",
     "output_type": "stream",
     "text": [
      "/var/folders/pf/065skph15m56xshv4vk3x09m0000gn/T/ipykernel_12922/1807657532.py:5: SettingWithCopyWarning: \n",
      "A value is trying to be set on a copy of a slice from a DataFrame.\n",
      "Try using .loc[row_indexer,col_indexer] = value instead\n",
      "\n",
      "See the caveats in the documentation: https://pandas.pydata.org/pandas-docs/stable/user_guide/indexing.html#returning-a-view-versus-a-copy\n",
      "  missing_end_dt['INSPECTION_BEGIN_DT'] = pd.to_datetime(missing_end_dt['INSPECTION_BEGIN_DT'])\n",
      "/var/folders/pf/065skph15m56xshv4vk3x09m0000gn/T/ipykernel_12922/1807657532.py:6: SettingWithCopyWarning: \n",
      "A value is trying to be set on a copy of a slice from a DataFrame.\n",
      "Try using .loc[row_indexer,col_indexer] = value instead\n",
      "\n",
      "See the caveats in the documentation: https://pandas.pydata.org/pandas-docs/stable/user_guide/indexing.html#returning-a-view-versus-a-copy\n",
      "  missing_end_dt['Year'] = missing_end_dt['INSPECTION_BEGIN_DT'].dt.year\n"
     ]
    },
    {
     "data": {
      "image/png": "[encoded data removed]",
      "text/plain": [
       "<Figure size 640x480 with 1 Axes>"
      ]
     },
     "metadata": {},
     "output_type": "display_data"
    },
    {
     "name": "stdout",
     "output_type": "stream",
     "text": [
      "Year\n",
      "2013       2\n",
      "2014       1\n",
      "2015       1\n",
      "2018       2\n",
      "2019       9\n",
      "2020       3\n",
      "2021      19\n",
      "2022      86\n",
      "2023    7542\n",
      "Name: count, dtype: int64\n"
     ]
    }
   ],
   "source": [
    "# Visualizing the missing INSPECTION_END_DT's by year to test theory that majority of missings\n",
    "# are coming from 2023 because inspection is still ongoing\n",
    "missing_end_dt = violations[violations['INSPECTION_END_DT'].isnull()]\n",
    "\n",
    "missing_end_dt['INSPECTION_BEGIN_DT'] = pd.to_datetime(missing_end_dt['INSPECTION_BEGIN_DT'])\n",
    "missing_end_dt['Year'] = missing_end_dt['INSPECTION_BEGIN_DT'].dt.year\n",
    "counts_by_year = missing_end_dt['Year'].value_counts().sort_index()\n",
    "\n",
    "plt.bar(counts_by_year.index, counts_by_year.values)\n",
    "plt.xlabel('Year')\n",
    "plt.ylabel('Count')\n",
    "plt.title('Years of Start Dates with Missing End Dates')\n",
    "plt.show()\n",
    "\n",
    "print(counts_by_year)"
   ]
  },
  {
   "attachments": {},
   "cell_type": "markdown",
   "metadata": {},
   "source": [
    "INSIGHT: We can see that majority of the inspections with missing end dates are inspections that started in 2023, which makes sense, given that those inspections are likely still ongoing. Would make sense to remove year 2023 of INSPECTION_BEGIN_DT from dataframe. We can also see in counts_by_year that there are some missing end dates for some pretty early years (i.e., 2013, 2014, 2015). Inspection may have been terminated or for some other reason the inspection was never completed, so would make sense to remove these as well."
   ]
  },
  {
   "cell_type": "code",
   "execution_count": 26,
   "metadata": {},
   "outputs": [],
   "source": [
    "# Copying dataframe for cleaned data\n",
    "violations_cleaned = violations.copy()\n",
    "\n",
    "# Converting 'INSPECTION_BEGIN_DT' to a datetime column \n",
    "violations_cleaned['INSPECTION_BEGIN_DT'] = pd.to_datetime(violations_cleaned['INSPECTION_BEGIN_DT'])\n",
    "\n",
    "# Removing year 2023 from 'INSPECTION_LENGTH_DAYS' in violations df\n",
    "violations_cleaned = violations_cleaned[violations_cleaned['INSPECTION_BEGIN_DT'].dt.year != 2023]"
   ]
  },
  {
   "cell_type": "code",
   "execution_count": 27,
   "metadata": {},
   "outputs": [
    {
     "data": {
      "text/plain": [
       "Year\n",
       "2000    119520\n",
       "2001    124165\n",
       "2002    104371\n",
       "2003    108413\n",
       "2004    119971\n",
       "2005    126672\n",
       "2006    139122\n",
       "2007    142686\n",
       "2008    171914\n",
       "2009    172486\n",
       "2010    168977\n",
       "2011    154499\n",
       "2012    137519\n",
       "2013    117695\n",
       "2014    120269\n",
       "2015    106260\n",
       "2016     96407\n",
       "2017    103712\n",
       "2018     97202\n",
       "2019     98521\n",
       "2020     76781\n",
       "2021     77177\n",
       "2022     87185\n",
       "Name: count, dtype: int64"
      ]
     },
     "execution_count": 27,
     "metadata": {},
     "output_type": "execute_result"
    }
   ],
   "source": [
    "# confirming removal of 2023 from 'INSPECTION_BEGIN_DT' column\n",
    "violations_cleaned['Year'] = violations_cleaned['INSPECTION_BEGIN_DT'].dt.year\n",
    "violations_cleaned['Year'].value_counts().sort_index()"
   ]
  },
  {
   "cell_type": "code",
   "execution_count": 28,
   "metadata": {},
   "outputs": [
    {
     "data": {
      "text/html": [
       "<div>\n",
       "<style scoped>\n",
       "    .dataframe tbody tr th:only-of-type {\n",
       "        vertical-align: middle;\n",
       "    }\n",
       "\n",
       "    .dataframe tbody tr th {\n",
       "        vertical-align: top;\n",
       "    }\n",
       "\n",
       "    .dataframe thead th {\n",
       "        text-align: right;\n",
       "    }\n",
       "</style>\n",
       "<table border=\"1\" class=\"dataframe\">\n",
       "  <thead>\n",
       "    <tr style=\"text-align: right;\">\n",
       "      <th></th>\n",
       "      <th>EVENT_NO</th>\n",
       "      <th>INSPECTION_BEGIN_DT</th>\n",
       "      <th>INSPECTION_END_DT</th>\n",
       "      <th>VIOLATION_NO</th>\n",
       "      <th>CONTROLLER_ID</th>\n",
       "      <th>CONTROLLER_NAME</th>\n",
       "      <th>VIOLATOR_ID</th>\n",
       "      <th>VIOLATOR_NAME</th>\n",
       "      <th>VIOLATOR_TYPE_CD</th>\n",
       "      <th>MINE_ID</th>\n",
       "      <th>...</th>\n",
       "      <th>AMOUNT_PAID</th>\n",
       "      <th>BILL_PRINT_DT</th>\n",
       "      <th>LAST_ACTION_CD</th>\n",
       "      <th>LAST_ACTION_DT</th>\n",
       "      <th>DOCKET_NO</th>\n",
       "      <th>DOCKET_STATUS_CD</th>\n",
       "      <th>CONTESTED_IND</th>\n",
       "      <th>CONTESTED_DT</th>\n",
       "      <th>VIOLATOR_VIOLATION_CNT</th>\n",
       "      <th>VIOLATOR_INSPECTION_DAY_CNT</th>\n",
       "    </tr>\n",
       "  </thead>\n",
       "  <tbody>\n",
       "    <tr>\n",
       "      <th>0</th>\n",
       "      <td>711256</td>\n",
       "      <td>2000-01-04</td>\n",
       "      <td>01/07/2000</td>\n",
       "      <td>6089192</td>\n",
       "      <td>0041044</td>\n",
       "      <td>Lhoist Group</td>\n",
       "      <td>L13586</td>\n",
       "      <td>Lhoist North America of Alabama, LLC</td>\n",
       "      <td>Operator</td>\n",
       "      <td>100003</td>\n",
       "      <td>...</td>\n",
       "      <td>55.0</td>\n",
       "      <td>12/04/2000</td>\n",
       "      <td>Paid</td>\n",
       "      <td>01/08/2001</td>\n",
       "      <td>NaN</td>\n",
       "      <td>NaN</td>\n",
       "      <td>N</td>\n",
       "      <td>NaN</td>\n",
       "      <td>0.0</td>\n",
       "      <td>0.0</td>\n",
       "    </tr>\n",
       "    <tr>\n",
       "      <th>1</th>\n",
       "      <td>711256</td>\n",
       "      <td>2000-01-04</td>\n",
       "      <td>01/07/2000</td>\n",
       "      <td>6089193</td>\n",
       "      <td>0041044</td>\n",
       "      <td>Lhoist Group</td>\n",
       "      <td>L13586</td>\n",
       "      <td>Lhoist North America of Alabama, LLC</td>\n",
       "      <td>Operator</td>\n",
       "      <td>100003</td>\n",
       "      <td>...</td>\n",
       "      <td>55.0</td>\n",
       "      <td>12/04/2000</td>\n",
       "      <td>Paid</td>\n",
       "      <td>01/08/2001</td>\n",
       "      <td>NaN</td>\n",
       "      <td>NaN</td>\n",
       "      <td>N</td>\n",
       "      <td>NaN</td>\n",
       "      <td>0.0</td>\n",
       "      <td>0.0</td>\n",
       "    </tr>\n",
       "    <tr>\n",
       "      <th>2</th>\n",
       "      <td>711256</td>\n",
       "      <td>2000-01-04</td>\n",
       "      <td>01/07/2000</td>\n",
       "      <td>6089194</td>\n",
       "      <td>0041044</td>\n",
       "      <td>Lhoist Group</td>\n",
       "      <td>L13586</td>\n",
       "      <td>Lhoist North America of Alabama, LLC</td>\n",
       "      <td>Operator</td>\n",
       "      <td>100003</td>\n",
       "      <td>...</td>\n",
       "      <td>55.0</td>\n",
       "      <td>12/04/2000</td>\n",
       "      <td>Paid</td>\n",
       "      <td>01/08/2001</td>\n",
       "      <td>NaN</td>\n",
       "      <td>NaN</td>\n",
       "      <td>N</td>\n",
       "      <td>NaN</td>\n",
       "      <td>0.0</td>\n",
       "      <td>0.0</td>\n",
       "    </tr>\n",
       "    <tr>\n",
       "      <th>3</th>\n",
       "      <td>711256</td>\n",
       "      <td>2000-01-04</td>\n",
       "      <td>01/07/2000</td>\n",
       "      <td>6089195</td>\n",
       "      <td>0041044</td>\n",
       "      <td>Lhoist Group</td>\n",
       "      <td>L13586</td>\n",
       "      <td>Lhoist North America of Alabama, LLC</td>\n",
       "      <td>Operator</td>\n",
       "      <td>100003</td>\n",
       "      <td>...</td>\n",
       "      <td>196.0</td>\n",
       "      <td>12/04/2000</td>\n",
       "      <td>Paid</td>\n",
       "      <td>01/08/2001</td>\n",
       "      <td>NaN</td>\n",
       "      <td>NaN</td>\n",
       "      <td>N</td>\n",
       "      <td>NaN</td>\n",
       "      <td>0.0</td>\n",
       "      <td>0.0</td>\n",
       "    </tr>\n",
       "    <tr>\n",
       "      <th>4</th>\n",
       "      <td>711256</td>\n",
       "      <td>2000-01-04</td>\n",
       "      <td>01/07/2000</td>\n",
       "      <td>6089196</td>\n",
       "      <td>0041044</td>\n",
       "      <td>Lhoist Group</td>\n",
       "      <td>L13586</td>\n",
       "      <td>Lhoist North America of Alabama, LLC</td>\n",
       "      <td>Operator</td>\n",
       "      <td>100003</td>\n",
       "      <td>...</td>\n",
       "      <td>55.0</td>\n",
       "      <td>12/04/2000</td>\n",
       "      <td>Paid</td>\n",
       "      <td>01/08/2001</td>\n",
       "      <td>NaN</td>\n",
       "      <td>NaN</td>\n",
       "      <td>N</td>\n",
       "      <td>NaN</td>\n",
       "      <td>0.0</td>\n",
       "      <td>0.0</td>\n",
       "    </tr>\n",
       "  </tbody>\n",
       "</table>\n",
       "<p>5 rows × 61 columns</p>\n",
       "</div>"
      ],
      "text/plain": [
       "   EVENT_NO INSPECTION_BEGIN_DT INSPECTION_END_DT  VIOLATION_NO CONTROLLER_ID  \\\n",
       "0    711256          2000-01-04        01/07/2000       6089192       0041044   \n",
       "1    711256          2000-01-04        01/07/2000       6089193       0041044   \n",
       "2    711256          2000-01-04        01/07/2000       6089194       0041044   \n",
       "3    711256          2000-01-04        01/07/2000       6089195       0041044   \n",
       "4    711256          2000-01-04        01/07/2000       6089196       0041044   \n",
       "\n",
       "  CONTROLLER_NAME VIOLATOR_ID                         VIOLATOR_NAME  \\\n",
       "0    Lhoist Group      L13586  Lhoist North America of Alabama, LLC   \n",
       "1    Lhoist Group      L13586  Lhoist North America of Alabama, LLC   \n",
       "2    Lhoist Group      L13586  Lhoist North America of Alabama, LLC   \n",
       "3    Lhoist Group      L13586  Lhoist North America of Alabama, LLC   \n",
       "4    Lhoist Group      L13586  Lhoist North America of Alabama, LLC   \n",
       "\n",
       "  VIOLATOR_TYPE_CD  MINE_ID  ... AMOUNT_PAID BILL_PRINT_DT LAST_ACTION_CD  \\\n",
       "0         Operator   100003  ...        55.0    12/04/2000           Paid   \n",
       "1         Operator   100003  ...        55.0    12/04/2000           Paid   \n",
       "2         Operator   100003  ...        55.0    12/04/2000           Paid   \n",
       "3         Operator   100003  ...       196.0    12/04/2000           Paid   \n",
       "4         Operator   100003  ...        55.0    12/04/2000           Paid   \n",
       "\n",
       "  LAST_ACTION_DT DOCKET_NO DOCKET_STATUS_CD  CONTESTED_IND  CONTESTED_DT  \\\n",
       "0     01/08/2001       NaN              NaN              N           NaN   \n",
       "1     01/08/2001       NaN              NaN              N           NaN   \n",
       "2     01/08/2001       NaN              NaN              N           NaN   \n",
       "3     01/08/2001       NaN              NaN              N           NaN   \n",
       "4     01/08/2001       NaN              NaN              N           NaN   \n",
       "\n",
       "   VIOLATOR_VIOLATION_CNT  VIOLATOR_INSPECTION_DAY_CNT  \n",
       "0                     0.0                          0.0  \n",
       "1                     0.0                          0.0  \n",
       "2                     0.0                          0.0  \n",
       "3                     0.0                          0.0  \n",
       "4                     0.0                          0.0  \n",
       "\n",
       "[5 rows x 61 columns]"
      ]
     },
     "metadata": {},
     "output_type": "display_data"
    },
    {
     "data": {
      "text/plain": [
       "(2771401, 61)"
      ]
     },
     "metadata": {},
     "output_type": "display_data"
    }
   ],
   "source": [
    "# Dropping created year column \n",
    "violations_cleaned.drop(columns='Year', inplace=True)\n",
    "\n",
    "# Removing 'INSPECTION_BEGIN_DT' from 2013-2022 with missing values \n",
    "violations_cleaned = violations_cleaned[violations_cleaned['INSPECTION_END_DT'].notna()]\n",
    "display(violations_cleaned.head())\n",
    "display(violations_cleaned.shape)"
   ]
  },
  {
   "attachments": {},
   "cell_type": "markdown",
   "metadata": {},
   "source": [
    "NOTE: Dataset decreased from 2,812,757 rows to 2,771,401 rows after removing INSPECTION_BEGIN_DT 2023 and missing values in other years from 2013-2022. "
   ]
  },
  {
   "attachments": {},
   "cell_type": "markdown",
   "metadata": {},
   "source": [
    "### MINE_TYPE: Filling in Missing Values "
   ]
  },
  {
   "cell_type": "code",
   "execution_count": 29,
   "metadata": {},
   "outputs": [
    {
     "data": {
      "text/html": [
       "<div>\n",
       "<style scoped>\n",
       "    .dataframe tbody tr th:only-of-type {\n",
       "        vertical-align: middle;\n",
       "    }\n",
       "\n",
       "    .dataframe tbody tr th {\n",
       "        vertical-align: top;\n",
       "    }\n",
       "\n",
       "    .dataframe thead th {\n",
       "        text-align: right;\n",
       "    }\n",
       "</style>\n",
       "<table border=\"1\" class=\"dataframe\">\n",
       "  <thead>\n",
       "    <tr style=\"text-align: right;\">\n",
       "      <th></th>\n",
       "      <th>EVENT_NO</th>\n",
       "      <th>INSPECTION_BEGIN_DT</th>\n",
       "      <th>INSPECTION_END_DT</th>\n",
       "      <th>VIOLATION_NO</th>\n",
       "      <th>CONTROLLER_ID</th>\n",
       "      <th>CONTROLLER_NAME</th>\n",
       "      <th>VIOLATOR_ID</th>\n",
       "      <th>VIOLATOR_NAME</th>\n",
       "      <th>VIOLATOR_TYPE_CD</th>\n",
       "      <th>MINE_ID</th>\n",
       "      <th>...</th>\n",
       "      <th>AMOUNT_PAID</th>\n",
       "      <th>BILL_PRINT_DT</th>\n",
       "      <th>LAST_ACTION_CD</th>\n",
       "      <th>LAST_ACTION_DT</th>\n",
       "      <th>DOCKET_NO</th>\n",
       "      <th>DOCKET_STATUS_CD</th>\n",
       "      <th>CONTESTED_IND</th>\n",
       "      <th>CONTESTED_DT</th>\n",
       "      <th>VIOLATOR_VIOLATION_CNT</th>\n",
       "      <th>VIOLATOR_INSPECTION_DAY_CNT</th>\n",
       "    </tr>\n",
       "  </thead>\n",
       "  <tbody>\n",
       "    <tr>\n",
       "      <th>1620303</th>\n",
       "      <td>6628476</td>\n",
       "      <td>2013-09-17</td>\n",
       "      <td>09/18/2013</td>\n",
       "      <td>8715293</td>\n",
       "      <td>0112981</td>\n",
       "      <td>Penny  Evans</td>\n",
       "      <td>0132753</td>\n",
       "      <td>P E Reliable Equipment Services Inc</td>\n",
       "      <td>Operator</td>\n",
       "      <td>3304704</td>\n",
       "      <td>...</td>\n",
       "      <td>100.0</td>\n",
       "      <td>04/30/2014</td>\n",
       "      <td>Paid</td>\n",
       "      <td>05/15/2014</td>\n",
       "      <td>NaN</td>\n",
       "      <td>NaN</td>\n",
       "      <td>N</td>\n",
       "      <td>NaN</td>\n",
       "      <td>0.0</td>\n",
       "      <td>0.0</td>\n",
       "    </tr>\n",
       "    <tr>\n",
       "      <th>1620304</th>\n",
       "      <td>6628477</td>\n",
       "      <td>2013-09-17</td>\n",
       "      <td>09/23/2013</td>\n",
       "      <td>8715294</td>\n",
       "      <td>0112981</td>\n",
       "      <td>Penny  Evans</td>\n",
       "      <td>0132753</td>\n",
       "      <td>P E Reliable Equipment Services Inc</td>\n",
       "      <td>Operator</td>\n",
       "      <td>3304704</td>\n",
       "      <td>...</td>\n",
       "      <td>100.0</td>\n",
       "      <td>04/30/2014</td>\n",
       "      <td>Paid</td>\n",
       "      <td>05/15/2014</td>\n",
       "      <td>NaN</td>\n",
       "      <td>NaN</td>\n",
       "      <td>N</td>\n",
       "      <td>NaN</td>\n",
       "      <td>0.0</td>\n",
       "      <td>0.0</td>\n",
       "    </tr>\n",
       "    <tr>\n",
       "      <th>1620305</th>\n",
       "      <td>6628477</td>\n",
       "      <td>2013-09-17</td>\n",
       "      <td>09/23/2013</td>\n",
       "      <td>8715295</td>\n",
       "      <td>0112981</td>\n",
       "      <td>Penny  Evans</td>\n",
       "      <td>0132753</td>\n",
       "      <td>P E Reliable Equipment Services Inc</td>\n",
       "      <td>Operator</td>\n",
       "      <td>3304704</td>\n",
       "      <td>...</td>\n",
       "      <td>100.0</td>\n",
       "      <td>04/30/2014</td>\n",
       "      <td>Paid</td>\n",
       "      <td>05/15/2014</td>\n",
       "      <td>NaN</td>\n",
       "      <td>NaN</td>\n",
       "      <td>N</td>\n",
       "      <td>NaN</td>\n",
       "      <td>0.0</td>\n",
       "      <td>0.0</td>\n",
       "    </tr>\n",
       "    <tr>\n",
       "      <th>1620306</th>\n",
       "      <td>6628477</td>\n",
       "      <td>2013-09-17</td>\n",
       "      <td>09/23/2013</td>\n",
       "      <td>8715296</td>\n",
       "      <td>0112981</td>\n",
       "      <td>Penny  Evans</td>\n",
       "      <td>0132753</td>\n",
       "      <td>P E Reliable Equipment Services Inc</td>\n",
       "      <td>Operator</td>\n",
       "      <td>3304704</td>\n",
       "      <td>...</td>\n",
       "      <td>100.0</td>\n",
       "      <td>04/30/2014</td>\n",
       "      <td>Paid</td>\n",
       "      <td>05/15/2014</td>\n",
       "      <td>NaN</td>\n",
       "      <td>NaN</td>\n",
       "      <td>N</td>\n",
       "      <td>NaN</td>\n",
       "      <td>0.0</td>\n",
       "      <td>0.0</td>\n",
       "    </tr>\n",
       "    <tr>\n",
       "      <th>1620307</th>\n",
       "      <td>6628477</td>\n",
       "      <td>2013-09-17</td>\n",
       "      <td>09/23/2013</td>\n",
       "      <td>8715297</td>\n",
       "      <td>0112981</td>\n",
       "      <td>Penny  Evans</td>\n",
       "      <td>0132753</td>\n",
       "      <td>P E Reliable Equipment Services Inc</td>\n",
       "      <td>Operator</td>\n",
       "      <td>3304704</td>\n",
       "      <td>...</td>\n",
       "      <td>100.0</td>\n",
       "      <td>04/30/2014</td>\n",
       "      <td>Paid</td>\n",
       "      <td>05/15/2014</td>\n",
       "      <td>NaN</td>\n",
       "      <td>NaN</td>\n",
       "      <td>N</td>\n",
       "      <td>NaN</td>\n",
       "      <td>0.0</td>\n",
       "      <td>0.0</td>\n",
       "    </tr>\n",
       "    <tr>\n",
       "      <th>1620308</th>\n",
       "      <td>6628477</td>\n",
       "      <td>2013-09-17</td>\n",
       "      <td>09/23/2013</td>\n",
       "      <td>8715298</td>\n",
       "      <td>0112981</td>\n",
       "      <td>Penny  Evans</td>\n",
       "      <td>0132753</td>\n",
       "      <td>P E Reliable Equipment Services Inc</td>\n",
       "      <td>Operator</td>\n",
       "      <td>3304704</td>\n",
       "      <td>...</td>\n",
       "      <td>154.0</td>\n",
       "      <td>04/30/2014</td>\n",
       "      <td>Paid</td>\n",
       "      <td>05/15/2014</td>\n",
       "      <td>NaN</td>\n",
       "      <td>NaN</td>\n",
       "      <td>N</td>\n",
       "      <td>NaN</td>\n",
       "      <td>0.0</td>\n",
       "      <td>0.0</td>\n",
       "    </tr>\n",
       "    <tr>\n",
       "      <th>1620309</th>\n",
       "      <td>6628477</td>\n",
       "      <td>2013-09-17</td>\n",
       "      <td>09/23/2013</td>\n",
       "      <td>8715299</td>\n",
       "      <td>0112981</td>\n",
       "      <td>Penny  Evans</td>\n",
       "      <td>0132753</td>\n",
       "      <td>P E Reliable Equipment Services Inc</td>\n",
       "      <td>Operator</td>\n",
       "      <td>3304704</td>\n",
       "      <td>...</td>\n",
       "      <td>100.0</td>\n",
       "      <td>04/30/2014</td>\n",
       "      <td>Paid</td>\n",
       "      <td>05/15/2014</td>\n",
       "      <td>NaN</td>\n",
       "      <td>NaN</td>\n",
       "      <td>N</td>\n",
       "      <td>NaN</td>\n",
       "      <td>0.0</td>\n",
       "      <td>2.0</td>\n",
       "    </tr>\n",
       "    <tr>\n",
       "      <th>1620310</th>\n",
       "      <td>6628477</td>\n",
       "      <td>2013-09-17</td>\n",
       "      <td>09/23/2013</td>\n",
       "      <td>8715300</td>\n",
       "      <td>0112981</td>\n",
       "      <td>Penny  Evans</td>\n",
       "      <td>0132753</td>\n",
       "      <td>P E Reliable Equipment Services Inc</td>\n",
       "      <td>Operator</td>\n",
       "      <td>3304704</td>\n",
       "      <td>...</td>\n",
       "      <td>100.0</td>\n",
       "      <td>04/30/2014</td>\n",
       "      <td>Paid</td>\n",
       "      <td>05/15/2014</td>\n",
       "      <td>NaN</td>\n",
       "      <td>NaN</td>\n",
       "      <td>N</td>\n",
       "      <td>NaN</td>\n",
       "      <td>0.0</td>\n",
       "      <td>2.0</td>\n",
       "    </tr>\n",
       "    <tr>\n",
       "      <th>1620311</th>\n",
       "      <td>6628477</td>\n",
       "      <td>2013-09-17</td>\n",
       "      <td>09/23/2013</td>\n",
       "      <td>8796701</td>\n",
       "      <td>0112981</td>\n",
       "      <td>Penny  Evans</td>\n",
       "      <td>0132753</td>\n",
       "      <td>P E Reliable Equipment Services Inc</td>\n",
       "      <td>Operator</td>\n",
       "      <td>3304704</td>\n",
       "      <td>...</td>\n",
       "      <td>100.0</td>\n",
       "      <td>04/30/2014</td>\n",
       "      <td>Paid</td>\n",
       "      <td>05/15/2014</td>\n",
       "      <td>NaN</td>\n",
       "      <td>NaN</td>\n",
       "      <td>N</td>\n",
       "      <td>NaN</td>\n",
       "      <td>0.0</td>\n",
       "      <td>2.0</td>\n",
       "    </tr>\n",
       "    <tr>\n",
       "      <th>1620312</th>\n",
       "      <td>6628477</td>\n",
       "      <td>2013-09-17</td>\n",
       "      <td>09/23/2013</td>\n",
       "      <td>8796702</td>\n",
       "      <td>0112981</td>\n",
       "      <td>Penny  Evans</td>\n",
       "      <td>0132753</td>\n",
       "      <td>P E Reliable Equipment Services Inc</td>\n",
       "      <td>Operator</td>\n",
       "      <td>3304704</td>\n",
       "      <td>...</td>\n",
       "      <td>100.0</td>\n",
       "      <td>04/30/2014</td>\n",
       "      <td>Paid</td>\n",
       "      <td>05/15/2014</td>\n",
       "      <td>NaN</td>\n",
       "      <td>NaN</td>\n",
       "      <td>N</td>\n",
       "      <td>NaN</td>\n",
       "      <td>0.0</td>\n",
       "      <td>2.0</td>\n",
       "    </tr>\n",
       "    <tr>\n",
       "      <th>1620313</th>\n",
       "      <td>6628477</td>\n",
       "      <td>2013-09-17</td>\n",
       "      <td>09/23/2013</td>\n",
       "      <td>8796703</td>\n",
       "      <td>0112981</td>\n",
       "      <td>Penny  Evans</td>\n",
       "      <td>0132753</td>\n",
       "      <td>P E Reliable Equipment Services Inc</td>\n",
       "      <td>Operator</td>\n",
       "      <td>3304704</td>\n",
       "      <td>...</td>\n",
       "      <td>100.0</td>\n",
       "      <td>04/30/2014</td>\n",
       "      <td>Paid</td>\n",
       "      <td>05/15/2014</td>\n",
       "      <td>NaN</td>\n",
       "      <td>NaN</td>\n",
       "      <td>N</td>\n",
       "      <td>NaN</td>\n",
       "      <td>0.0</td>\n",
       "      <td>2.0</td>\n",
       "    </tr>\n",
       "    <tr>\n",
       "      <th>1649219</th>\n",
       "      <td>7029767</td>\n",
       "      <td>2022-08-16</td>\n",
       "      <td>09/02/2022</td>\n",
       "      <td>9533687</td>\n",
       "      <td>NaN</td>\n",
       "      <td>NaN</td>\n",
       "      <td>NaN</td>\n",
       "      <td>NaN</td>\n",
       "      <td>Operator</td>\n",
       "      <td>3402225</td>\n",
       "      <td>...</td>\n",
       "      <td>NaN</td>\n",
       "      <td>NaN</td>\n",
       "      <td>NaN</td>\n",
       "      <td>NaN</td>\n",
       "      <td>NaN</td>\n",
       "      <td>NaN</td>\n",
       "      <td>N</td>\n",
       "      <td>NaN</td>\n",
       "      <td>NaN</td>\n",
       "      <td>NaN</td>\n",
       "    </tr>\n",
       "    <tr>\n",
       "      <th>1649220</th>\n",
       "      <td>7029767</td>\n",
       "      <td>2022-08-16</td>\n",
       "      <td>09/02/2022</td>\n",
       "      <td>9533688</td>\n",
       "      <td>NaN</td>\n",
       "      <td>NaN</td>\n",
       "      <td>NaN</td>\n",
       "      <td>NaN</td>\n",
       "      <td>Operator</td>\n",
       "      <td>3402225</td>\n",
       "      <td>...</td>\n",
       "      <td>NaN</td>\n",
       "      <td>NaN</td>\n",
       "      <td>NaN</td>\n",
       "      <td>NaN</td>\n",
       "      <td>NaN</td>\n",
       "      <td>NaN</td>\n",
       "      <td>N</td>\n",
       "      <td>NaN</td>\n",
       "      <td>NaN</td>\n",
       "      <td>NaN</td>\n",
       "    </tr>\n",
       "    <tr>\n",
       "      <th>1649221</th>\n",
       "      <td>7029767</td>\n",
       "      <td>2022-08-16</td>\n",
       "      <td>09/02/2022</td>\n",
       "      <td>9533689</td>\n",
       "      <td>NaN</td>\n",
       "      <td>NaN</td>\n",
       "      <td>NaN</td>\n",
       "      <td>NaN</td>\n",
       "      <td>Operator</td>\n",
       "      <td>3402225</td>\n",
       "      <td>...</td>\n",
       "      <td>NaN</td>\n",
       "      <td>NaN</td>\n",
       "      <td>NaN</td>\n",
       "      <td>NaN</td>\n",
       "      <td>NaN</td>\n",
       "      <td>NaN</td>\n",
       "      <td>N</td>\n",
       "      <td>NaN</td>\n",
       "      <td>NaN</td>\n",
       "      <td>NaN</td>\n",
       "    </tr>\n",
       "  </tbody>\n",
       "</table>\n",
       "<p>14 rows × 61 columns</p>\n",
       "</div>"
      ],
      "text/plain": [
       "         EVENT_NO INSPECTION_BEGIN_DT INSPECTION_END_DT  VIOLATION_NO  \\\n",
       "1620303   6628476          2013-09-17        09/18/2013       8715293   \n",
       "1620304   6628477          2013-09-17        09/23/2013       8715294   \n",
       "1620305   6628477          2013-09-17        09/23/2013       8715295   \n",
       "1620306   6628477          2013-09-17        09/23/2013       8715296   \n",
       "1620307   6628477          2013-09-17        09/23/2013       8715297   \n",
       "1620308   6628477          2013-09-17        09/23/2013       8715298   \n",
       "1620309   6628477          2013-09-17        09/23/2013       8715299   \n",
       "1620310   6628477          2013-09-17        09/23/2013       8715300   \n",
       "1620311   6628477          2013-09-17        09/23/2013       8796701   \n",
       "1620312   6628477          2013-09-17        09/23/2013       8796702   \n",
       "1620313   6628477          2013-09-17        09/23/2013       8796703   \n",
       "1649219   7029767          2022-08-16        09/02/2022       9533687   \n",
       "1649220   7029767          2022-08-16        09/02/2022       9533688   \n",
       "1649221   7029767          2022-08-16        09/02/2022       9533689   \n",
       "\n",
       "        CONTROLLER_ID CONTROLLER_NAME VIOLATOR_ID  \\\n",
       "1620303       0112981    Penny  Evans     0132753   \n",
       "1620304       0112981    Penny  Evans     0132753   \n",
       "1620305       0112981    Penny  Evans     0132753   \n",
       "1620306       0112981    Penny  Evans     0132753   \n",
       "1620307       0112981    Penny  Evans     0132753   \n",
       "1620308       0112981    Penny  Evans     0132753   \n",
       "1620309       0112981    Penny  Evans     0132753   \n",
       "1620310       0112981    Penny  Evans     0132753   \n",
       "1620311       0112981    Penny  Evans     0132753   \n",
       "1620312       0112981    Penny  Evans     0132753   \n",
       "1620313       0112981    Penny  Evans     0132753   \n",
       "1649219           NaN             NaN         NaN   \n",
       "1649220           NaN             NaN         NaN   \n",
       "1649221           NaN             NaN         NaN   \n",
       "\n",
       "                               VIOLATOR_NAME VIOLATOR_TYPE_CD  MINE_ID  ...  \\\n",
       "1620303  P E Reliable Equipment Services Inc         Operator  3304704  ...   \n",
       "1620304  P E Reliable Equipment Services Inc         Operator  3304704  ...   \n",
       "1620305  P E Reliable Equipment Services Inc         Operator  3304704  ...   \n",
       "1620306  P E Reliable Equipment Services Inc         Operator  3304704  ...   \n",
       "1620307  P E Reliable Equipment Services Inc         Operator  3304704  ...   \n",
       "1620308  P E Reliable Equipment Services Inc         Operator  3304704  ...   \n",
       "1620309  P E Reliable Equipment Services Inc         Operator  3304704  ...   \n",
       "1620310  P E Reliable Equipment Services Inc         Operator  3304704  ...   \n",
       "1620311  P E Reliable Equipment Services Inc         Operator  3304704  ...   \n",
       "1620312  P E Reliable Equipment Services Inc         Operator  3304704  ...   \n",
       "1620313  P E Reliable Equipment Services Inc         Operator  3304704  ...   \n",
       "1649219                                  NaN         Operator  3402225  ...   \n",
       "1649220                                  NaN         Operator  3402225  ...   \n",
       "1649221                                  NaN         Operator  3402225  ...   \n",
       "\n",
       "        AMOUNT_PAID BILL_PRINT_DT LAST_ACTION_CD LAST_ACTION_DT DOCKET_NO  \\\n",
       "1620303       100.0    04/30/2014           Paid     05/15/2014       NaN   \n",
       "1620304       100.0    04/30/2014           Paid     05/15/2014       NaN   \n",
       "1620305       100.0    04/30/2014           Paid     05/15/2014       NaN   \n",
       "1620306       100.0    04/30/2014           Paid     05/15/2014       NaN   \n",
       "1620307       100.0    04/30/2014           Paid     05/15/2014       NaN   \n",
       "1620308       154.0    04/30/2014           Paid     05/15/2014       NaN   \n",
       "1620309       100.0    04/30/2014           Paid     05/15/2014       NaN   \n",
       "1620310       100.0    04/30/2014           Paid     05/15/2014       NaN   \n",
       "1620311       100.0    04/30/2014           Paid     05/15/2014       NaN   \n",
       "1620312       100.0    04/30/2014           Paid     05/15/2014       NaN   \n",
       "1620313       100.0    04/30/2014           Paid     05/15/2014       NaN   \n",
       "1649219         NaN           NaN            NaN            NaN       NaN   \n",
       "1649220         NaN           NaN            NaN            NaN       NaN   \n",
       "1649221         NaN           NaN            NaN            NaN       NaN   \n",
       "\n",
       "        DOCKET_STATUS_CD  CONTESTED_IND  CONTESTED_DT  VIOLATOR_VIOLATION_CNT  \\\n",
       "1620303              NaN              N           NaN                     0.0   \n",
       "1620304              NaN              N           NaN                     0.0   \n",
       "1620305              NaN              N           NaN                     0.0   \n",
       "1620306              NaN              N           NaN                     0.0   \n",
       "1620307              NaN              N           NaN                     0.0   \n",
       "1620308              NaN              N           NaN                     0.0   \n",
       "1620309              NaN              N           NaN                     0.0   \n",
       "1620310              NaN              N           NaN                     0.0   \n",
       "1620311              NaN              N           NaN                     0.0   \n",
       "1620312              NaN              N           NaN                     0.0   \n",
       "1620313              NaN              N           NaN                     0.0   \n",
       "1649219              NaN              N           NaN                     NaN   \n",
       "1649220              NaN              N           NaN                     NaN   \n",
       "1649221              NaN              N           NaN                     NaN   \n",
       "\n",
       "         VIOLATOR_INSPECTION_DAY_CNT  \n",
       "1620303                          0.0  \n",
       "1620304                          0.0  \n",
       "1620305                          0.0  \n",
       "1620306                          0.0  \n",
       "1620307                          0.0  \n",
       "1620308                          0.0  \n",
       "1620309                          2.0  \n",
       "1620310                          2.0  \n",
       "1620311                          2.0  \n",
       "1620312                          2.0  \n",
       "1620313                          2.0  \n",
       "1649219                          NaN  \n",
       "1649220                          NaN  \n",
       "1649221                          NaN  \n",
       "\n",
       "[14 rows x 61 columns]"
      ]
     },
     "execution_count": 29,
     "metadata": {},
     "output_type": "execute_result"
    }
   ],
   "source": [
    "# Viewing the rows with missing value for 'MINE_TYPE', to best see how to address the nulls\n",
    "missing_mine_type = violations_cleaned[violations_cleaned['MINE_TYPE'].isnull()]\n",
    "missing_mine_type"
   ]
  },
  {
   "attachments": {},
   "cell_type": "markdown",
   "metadata": {},
   "source": [
    "INSIGHT: There are two mines with missing values for 'MINE_TYPE', 'MINE_ID' 3304704 and 3402225. Upon research and the data itself, the first Mine 3304704 is a metal producing mine. From the EDA, we know that a large majority of metal producing mines are surface mines, so, to impute the missing values for Mine 3304704, we could fill it in with 'surface'. For the other missing value for 'MINE_TYPE', it is a coal producing mine. Again, from the EDA we know that a large majority of coal producing mines are underground, so we could impute the missing value for mine 3402225 with 'underground'. They could also just be removed given that only 14 MINE_TYPE's are missing values.\n",
    "\n",
    "Source: https://minesdatabase.com/mines/view/3304704"
   ]
  },
  {
   "cell_type": "code",
   "execution_count": 30,
   "metadata": {},
   "outputs": [],
   "source": [
    "# Filling in missing values for MINE_TYPE\n",
    "\n",
    "# MINE_ID 3304704 as MINE_TYPE Surface\n",
    "violations_cleaned.loc[violations_cleaned['MINE_ID'] == 3304704, 'MINE_TYPE'] = violations_cleaned.loc[violations_cleaned['MINE_ID'] == 3304704, 'MINE_TYPE'].fillna(\"Surface\")\n",
    "\n",
    "# MINE_ID 3402225 as MINE_TYPE Underground\n",
    "violations_cleaned.loc[violations_cleaned['MINE_ID'] == 3402225, 'MINE_TYPE'] = violations_cleaned.loc[violations_cleaned['MINE_ID'] == 3402225, 'MINE_TYPE'].fillna(\"Underground\")"
   ]
  },
  {
   "attachments": {},
   "cell_type": "markdown",
   "metadata": {},
   "source": [
    "### Removing Columns and Rows with High Proportion of Missings"
   ]
  },
  {
   "cell_type": "code",
   "execution_count": 31,
   "metadata": {},
   "outputs": [
    {
     "data": {
      "text/html": [
       "<div>\n",
       "<style scoped>\n",
       "    .dataframe tbody tr th:only-of-type {\n",
       "        vertical-align: middle;\n",
       "    }\n",
       "\n",
       "    .dataframe tbody tr th {\n",
       "        vertical-align: top;\n",
       "    }\n",
       "\n",
       "    .dataframe thead th {\n",
       "        text-align: right;\n",
       "    }\n",
       "</style>\n",
       "<table border=\"1\" class=\"dataframe\">\n",
       "  <thead>\n",
       "    <tr style=\"text-align: right;\">\n",
       "      <th></th>\n",
       "      <th>EVENT_NO</th>\n",
       "      <th>INSPECTION_BEGIN_DT</th>\n",
       "      <th>INSPECTION_END_DT</th>\n",
       "      <th>VIOLATION_NO</th>\n",
       "      <th>CONTROLLER_ID</th>\n",
       "      <th>CONTROLLER_NAME</th>\n",
       "      <th>VIOLATOR_ID</th>\n",
       "      <th>VIOLATOR_NAME</th>\n",
       "      <th>VIOLATOR_TYPE_CD</th>\n",
       "      <th>MINE_ID</th>\n",
       "      <th>...</th>\n",
       "      <th>FINAL_ORDER_ISSUE_DT</th>\n",
       "      <th>PROPOSED_PENALTY</th>\n",
       "      <th>AMOUNT_DUE</th>\n",
       "      <th>AMOUNT_PAID</th>\n",
       "      <th>BILL_PRINT_DT</th>\n",
       "      <th>LAST_ACTION_CD</th>\n",
       "      <th>LAST_ACTION_DT</th>\n",
       "      <th>CONTESTED_IND</th>\n",
       "      <th>VIOLATOR_VIOLATION_CNT</th>\n",
       "      <th>VIOLATOR_INSPECTION_DAY_CNT</th>\n",
       "    </tr>\n",
       "  </thead>\n",
       "  <tbody>\n",
       "    <tr>\n",
       "      <th>0</th>\n",
       "      <td>711256</td>\n",
       "      <td>2000-01-04</td>\n",
       "      <td>01/07/2000</td>\n",
       "      <td>6089192</td>\n",
       "      <td>0041044</td>\n",
       "      <td>Lhoist Group</td>\n",
       "      <td>L13586</td>\n",
       "      <td>Lhoist North America of Alabama, LLC</td>\n",
       "      <td>Operator</td>\n",
       "      <td>100003</td>\n",
       "      <td>...</td>\n",
       "      <td>01/10/2001</td>\n",
       "      <td>55.0</td>\n",
       "      <td>55.0</td>\n",
       "      <td>55.0</td>\n",
       "      <td>12/04/2000</td>\n",
       "      <td>Paid</td>\n",
       "      <td>01/08/2001</td>\n",
       "      <td>N</td>\n",
       "      <td>0.0</td>\n",
       "      <td>0.0</td>\n",
       "    </tr>\n",
       "    <tr>\n",
       "      <th>1</th>\n",
       "      <td>711256</td>\n",
       "      <td>2000-01-04</td>\n",
       "      <td>01/07/2000</td>\n",
       "      <td>6089193</td>\n",
       "      <td>0041044</td>\n",
       "      <td>Lhoist Group</td>\n",
       "      <td>L13586</td>\n",
       "      <td>Lhoist North America of Alabama, LLC</td>\n",
       "      <td>Operator</td>\n",
       "      <td>100003</td>\n",
       "      <td>...</td>\n",
       "      <td>01/10/2001</td>\n",
       "      <td>55.0</td>\n",
       "      <td>55.0</td>\n",
       "      <td>55.0</td>\n",
       "      <td>12/04/2000</td>\n",
       "      <td>Paid</td>\n",
       "      <td>01/08/2001</td>\n",
       "      <td>N</td>\n",
       "      <td>0.0</td>\n",
       "      <td>0.0</td>\n",
       "    </tr>\n",
       "    <tr>\n",
       "      <th>2</th>\n",
       "      <td>711256</td>\n",
       "      <td>2000-01-04</td>\n",
       "      <td>01/07/2000</td>\n",
       "      <td>6089194</td>\n",
       "      <td>0041044</td>\n",
       "      <td>Lhoist Group</td>\n",
       "      <td>L13586</td>\n",
       "      <td>Lhoist North America of Alabama, LLC</td>\n",
       "      <td>Operator</td>\n",
       "      <td>100003</td>\n",
       "      <td>...</td>\n",
       "      <td>01/10/2001</td>\n",
       "      <td>55.0</td>\n",
       "      <td>55.0</td>\n",
       "      <td>55.0</td>\n",
       "      <td>12/04/2000</td>\n",
       "      <td>Paid</td>\n",
       "      <td>01/08/2001</td>\n",
       "      <td>N</td>\n",
       "      <td>0.0</td>\n",
       "      <td>0.0</td>\n",
       "    </tr>\n",
       "    <tr>\n",
       "      <th>3</th>\n",
       "      <td>711256</td>\n",
       "      <td>2000-01-04</td>\n",
       "      <td>01/07/2000</td>\n",
       "      <td>6089195</td>\n",
       "      <td>0041044</td>\n",
       "      <td>Lhoist Group</td>\n",
       "      <td>L13586</td>\n",
       "      <td>Lhoist North America of Alabama, LLC</td>\n",
       "      <td>Operator</td>\n",
       "      <td>100003</td>\n",
       "      <td>...</td>\n",
       "      <td>01/10/2001</td>\n",
       "      <td>196.0</td>\n",
       "      <td>196.0</td>\n",
       "      <td>196.0</td>\n",
       "      <td>12/04/2000</td>\n",
       "      <td>Paid</td>\n",
       "      <td>01/08/2001</td>\n",
       "      <td>N</td>\n",
       "      <td>0.0</td>\n",
       "      <td>0.0</td>\n",
       "    </tr>\n",
       "    <tr>\n",
       "      <th>4</th>\n",
       "      <td>711256</td>\n",
       "      <td>2000-01-04</td>\n",
       "      <td>01/07/2000</td>\n",
       "      <td>6089196</td>\n",
       "      <td>0041044</td>\n",
       "      <td>Lhoist Group</td>\n",
       "      <td>L13586</td>\n",
       "      <td>Lhoist North America of Alabama, LLC</td>\n",
       "      <td>Operator</td>\n",
       "      <td>100003</td>\n",
       "      <td>...</td>\n",
       "      <td>01/10/2001</td>\n",
       "      <td>55.0</td>\n",
       "      <td>55.0</td>\n",
       "      <td>55.0</td>\n",
       "      <td>12/04/2000</td>\n",
       "      <td>Paid</td>\n",
       "      <td>01/08/2001</td>\n",
       "      <td>N</td>\n",
       "      <td>0.0</td>\n",
       "      <td>0.0</td>\n",
       "    </tr>\n",
       "  </tbody>\n",
       "</table>\n",
       "<p>5 rows × 46 columns</p>\n",
       "</div>"
      ],
      "text/plain": [
       "   EVENT_NO INSPECTION_BEGIN_DT INSPECTION_END_DT  VIOLATION_NO CONTROLLER_ID  \\\n",
       "0    711256          2000-01-04        01/07/2000       6089192       0041044   \n",
       "1    711256          2000-01-04        01/07/2000       6089193       0041044   \n",
       "2    711256          2000-01-04        01/07/2000       6089194       0041044   \n",
       "3    711256          2000-01-04        01/07/2000       6089195       0041044   \n",
       "4    711256          2000-01-04        01/07/2000       6089196       0041044   \n",
       "\n",
       "  CONTROLLER_NAME VIOLATOR_ID                         VIOLATOR_NAME  \\\n",
       "0    Lhoist Group      L13586  Lhoist North America of Alabama, LLC   \n",
       "1    Lhoist Group      L13586  Lhoist North America of Alabama, LLC   \n",
       "2    Lhoist Group      L13586  Lhoist North America of Alabama, LLC   \n",
       "3    Lhoist Group      L13586  Lhoist North America of Alabama, LLC   \n",
       "4    Lhoist Group      L13586  Lhoist North America of Alabama, LLC   \n",
       "\n",
       "  VIOLATOR_TYPE_CD  MINE_ID  ... FINAL_ORDER_ISSUE_DT PROPOSED_PENALTY  \\\n",
       "0         Operator   100003  ...           01/10/2001             55.0   \n",
       "1         Operator   100003  ...           01/10/2001             55.0   \n",
       "2         Operator   100003  ...           01/10/2001             55.0   \n",
       "3         Operator   100003  ...           01/10/2001            196.0   \n",
       "4         Operator   100003  ...           01/10/2001             55.0   \n",
       "\n",
       "  AMOUNT_DUE AMOUNT_PAID BILL_PRINT_DT  LAST_ACTION_CD  LAST_ACTION_DT  \\\n",
       "0       55.0        55.0    12/04/2000            Paid      01/08/2001   \n",
       "1       55.0        55.0    12/04/2000            Paid      01/08/2001   \n",
       "2       55.0        55.0    12/04/2000            Paid      01/08/2001   \n",
       "3      196.0       196.0    12/04/2000            Paid      01/08/2001   \n",
       "4       55.0        55.0    12/04/2000            Paid      01/08/2001   \n",
       "\n",
       "   CONTESTED_IND  VIOLATOR_VIOLATION_CNT  VIOLATOR_INSPECTION_DAY_CNT  \n",
       "0              N                     0.0                          0.0  \n",
       "1              N                     0.0                          0.0  \n",
       "2              N                     0.0                          0.0  \n",
       "3              N                     0.0                          0.0  \n",
       "4              N                     0.0                          0.0  \n",
       "\n",
       "[5 rows x 46 columns]"
      ]
     },
     "metadata": {},
     "output_type": "display_data"
    },
    {
     "data": {
      "text/plain": [
       "(2771401, 46)"
      ]
     },
     "metadata": {},
     "output_type": "display_data"
    }
   ],
   "source": [
    "# Removing columns with 24% or more missing values \n",
    "violations_cleaned = violations_cleaned.drop(columns=['CONTRACTOR_ID', 'SECTION_OF_ACT_2',\n",
    "                                             'ORIG_TERM_DUE_DT', 'ORIG_TERM_DUE_TIME', 'VACATE_DT',\n",
    "                                             'VACATE_TIME', 'INITIAL_VIOL_NO', 'REPLACED_BY_ORDER_NO',\n",
    "                                             'WRITTEN_NOTICE', 'ENFORCEMENT_AREA', 'PRIMARY_OR_MILL',\n",
    "                                             'RIGHT_TO_CONF_DT', 'DOCKET_NO', 'DOCKET_STATUS_CD', 'CONTESTED_DT'])\n",
    "\n",
    "display(violations_cleaned.head())\n",
    "display(violations_cleaned.shape)\n"
   ]
  },
  {
   "cell_type": "code",
   "execution_count": 32,
   "metadata": {},
   "outputs": [
    {
     "data": {
      "text/html": [
       "<div>\n",
       "<style scoped>\n",
       "    .dataframe tbody tr th:only-of-type {\n",
       "        vertical-align: middle;\n",
       "    }\n",
       "\n",
       "    .dataframe tbody tr th {\n",
       "        vertical-align: top;\n",
       "    }\n",
       "\n",
       "    .dataframe thead th {\n",
       "        text-align: right;\n",
       "    }\n",
       "</style>\n",
       "<table border=\"1\" class=\"dataframe\">\n",
       "  <thead>\n",
       "    <tr style=\"text-align: right;\">\n",
       "      <th></th>\n",
       "      <th>EVENT_NO</th>\n",
       "      <th>INSPECTION_BEGIN_DT</th>\n",
       "      <th>INSPECTION_END_DT</th>\n",
       "      <th>VIOLATION_NO</th>\n",
       "      <th>CONTROLLER_ID</th>\n",
       "      <th>CONTROLLER_NAME</th>\n",
       "      <th>VIOLATOR_ID</th>\n",
       "      <th>VIOLATOR_NAME</th>\n",
       "      <th>VIOLATOR_TYPE_CD</th>\n",
       "      <th>MINE_ID</th>\n",
       "      <th>...</th>\n",
       "      <th>FINAL_ORDER_ISSUE_DT</th>\n",
       "      <th>PROPOSED_PENALTY</th>\n",
       "      <th>AMOUNT_DUE</th>\n",
       "      <th>AMOUNT_PAID</th>\n",
       "      <th>BILL_PRINT_DT</th>\n",
       "      <th>LAST_ACTION_CD</th>\n",
       "      <th>LAST_ACTION_DT</th>\n",
       "      <th>CONTESTED_IND</th>\n",
       "      <th>VIOLATOR_VIOLATION_CNT</th>\n",
       "      <th>VIOLATOR_INSPECTION_DAY_CNT</th>\n",
       "    </tr>\n",
       "  </thead>\n",
       "  <tbody>\n",
       "    <tr>\n",
       "      <th>0</th>\n",
       "      <td>711256</td>\n",
       "      <td>2000-01-04</td>\n",
       "      <td>01/07/2000</td>\n",
       "      <td>6089192</td>\n",
       "      <td>0041044</td>\n",
       "      <td>Lhoist Group</td>\n",
       "      <td>L13586</td>\n",
       "      <td>Lhoist North America of Alabama, LLC</td>\n",
       "      <td>Operator</td>\n",
       "      <td>100003</td>\n",
       "      <td>...</td>\n",
       "      <td>01/10/2001</td>\n",
       "      <td>55.0</td>\n",
       "      <td>55.0</td>\n",
       "      <td>55.0</td>\n",
       "      <td>12/04/2000</td>\n",
       "      <td>Paid</td>\n",
       "      <td>01/08/2001</td>\n",
       "      <td>N</td>\n",
       "      <td>0.0</td>\n",
       "      <td>0.0</td>\n",
       "    </tr>\n",
       "    <tr>\n",
       "      <th>1</th>\n",
       "      <td>711256</td>\n",
       "      <td>2000-01-04</td>\n",
       "      <td>01/07/2000</td>\n",
       "      <td>6089193</td>\n",
       "      <td>0041044</td>\n",
       "      <td>Lhoist Group</td>\n",
       "      <td>L13586</td>\n",
       "      <td>Lhoist North America of Alabama, LLC</td>\n",
       "      <td>Operator</td>\n",
       "      <td>100003</td>\n",
       "      <td>...</td>\n",
       "      <td>01/10/2001</td>\n",
       "      <td>55.0</td>\n",
       "      <td>55.0</td>\n",
       "      <td>55.0</td>\n",
       "      <td>12/04/2000</td>\n",
       "      <td>Paid</td>\n",
       "      <td>01/08/2001</td>\n",
       "      <td>N</td>\n",
       "      <td>0.0</td>\n",
       "      <td>0.0</td>\n",
       "    </tr>\n",
       "    <tr>\n",
       "      <th>2</th>\n",
       "      <td>711256</td>\n",
       "      <td>2000-01-04</td>\n",
       "      <td>01/07/2000</td>\n",
       "      <td>6089194</td>\n",
       "      <td>0041044</td>\n",
       "      <td>Lhoist Group</td>\n",
       "      <td>L13586</td>\n",
       "      <td>Lhoist North America of Alabama, LLC</td>\n",
       "      <td>Operator</td>\n",
       "      <td>100003</td>\n",
       "      <td>...</td>\n",
       "      <td>01/10/2001</td>\n",
       "      <td>55.0</td>\n",
       "      <td>55.0</td>\n",
       "      <td>55.0</td>\n",
       "      <td>12/04/2000</td>\n",
       "      <td>Paid</td>\n",
       "      <td>01/08/2001</td>\n",
       "      <td>N</td>\n",
       "      <td>0.0</td>\n",
       "      <td>0.0</td>\n",
       "    </tr>\n",
       "    <tr>\n",
       "      <th>3</th>\n",
       "      <td>711256</td>\n",
       "      <td>2000-01-04</td>\n",
       "      <td>01/07/2000</td>\n",
       "      <td>6089195</td>\n",
       "      <td>0041044</td>\n",
       "      <td>Lhoist Group</td>\n",
       "      <td>L13586</td>\n",
       "      <td>Lhoist North America of Alabama, LLC</td>\n",
       "      <td>Operator</td>\n",
       "      <td>100003</td>\n",
       "      <td>...</td>\n",
       "      <td>01/10/2001</td>\n",
       "      <td>196.0</td>\n",
       "      <td>196.0</td>\n",
       "      <td>196.0</td>\n",
       "      <td>12/04/2000</td>\n",
       "      <td>Paid</td>\n",
       "      <td>01/08/2001</td>\n",
       "      <td>N</td>\n",
       "      <td>0.0</td>\n",
       "      <td>0.0</td>\n",
       "    </tr>\n",
       "    <tr>\n",
       "      <th>4</th>\n",
       "      <td>711256</td>\n",
       "      <td>2000-01-04</td>\n",
       "      <td>01/07/2000</td>\n",
       "      <td>6089196</td>\n",
       "      <td>0041044</td>\n",
       "      <td>Lhoist Group</td>\n",
       "      <td>L13586</td>\n",
       "      <td>Lhoist North America of Alabama, LLC</td>\n",
       "      <td>Operator</td>\n",
       "      <td>100003</td>\n",
       "      <td>...</td>\n",
       "      <td>01/10/2001</td>\n",
       "      <td>55.0</td>\n",
       "      <td>55.0</td>\n",
       "      <td>55.0</td>\n",
       "      <td>12/04/2000</td>\n",
       "      <td>Paid</td>\n",
       "      <td>01/08/2001</td>\n",
       "      <td>N</td>\n",
       "      <td>0.0</td>\n",
       "      <td>0.0</td>\n",
       "    </tr>\n",
       "  </tbody>\n",
       "</table>\n",
       "<p>5 rows × 46 columns</p>\n",
       "</div>"
      ],
      "text/plain": [
       "   EVENT_NO INSPECTION_BEGIN_DT INSPECTION_END_DT  VIOLATION_NO CONTROLLER_ID  \\\n",
       "0    711256          2000-01-04        01/07/2000       6089192       0041044   \n",
       "1    711256          2000-01-04        01/07/2000       6089193       0041044   \n",
       "2    711256          2000-01-04        01/07/2000       6089194       0041044   \n",
       "3    711256          2000-01-04        01/07/2000       6089195       0041044   \n",
       "4    711256          2000-01-04        01/07/2000       6089196       0041044   \n",
       "\n",
       "  CONTROLLER_NAME VIOLATOR_ID                         VIOLATOR_NAME  \\\n",
       "0    Lhoist Group      L13586  Lhoist North America of Alabama, LLC   \n",
       "1    Lhoist Group      L13586  Lhoist North America of Alabama, LLC   \n",
       "2    Lhoist Group      L13586  Lhoist North America of Alabama, LLC   \n",
       "3    Lhoist Group      L13586  Lhoist North America of Alabama, LLC   \n",
       "4    Lhoist Group      L13586  Lhoist North America of Alabama, LLC   \n",
       "\n",
       "  VIOLATOR_TYPE_CD  MINE_ID  ... FINAL_ORDER_ISSUE_DT PROPOSED_PENALTY  \\\n",
       "0         Operator   100003  ...           01/10/2001             55.0   \n",
       "1         Operator   100003  ...           01/10/2001             55.0   \n",
       "2         Operator   100003  ...           01/10/2001             55.0   \n",
       "3         Operator   100003  ...           01/10/2001            196.0   \n",
       "4         Operator   100003  ...           01/10/2001             55.0   \n",
       "\n",
       "  AMOUNT_DUE AMOUNT_PAID BILL_PRINT_DT  LAST_ACTION_CD  LAST_ACTION_DT  \\\n",
       "0       55.0        55.0    12/04/2000            Paid      01/08/2001   \n",
       "1       55.0        55.0    12/04/2000            Paid      01/08/2001   \n",
       "2       55.0        55.0    12/04/2000            Paid      01/08/2001   \n",
       "3      196.0       196.0    12/04/2000            Paid      01/08/2001   \n",
       "4       55.0        55.0    12/04/2000            Paid      01/08/2001   \n",
       "\n",
       "   CONTESTED_IND  VIOLATOR_VIOLATION_CNT  VIOLATOR_INSPECTION_DAY_CNT  \n",
       "0              N                     0.0                          0.0  \n",
       "1              N                     0.0                          0.0  \n",
       "2              N                     0.0                          0.0  \n",
       "3              N                     0.0                          0.0  \n",
       "4              N                     0.0                          0.0  \n",
       "\n",
       "[5 rows x 46 columns]"
      ]
     },
     "metadata": {},
     "output_type": "display_data"
    },
    {
     "data": {
      "text/plain": [
       "(2720784, 46)"
      ]
     },
     "metadata": {},
     "output_type": "display_data"
    }
   ],
   "source": [
    "# Removing rows with more than 5 missing values since there isn't\n",
    "# a great way to impute our data\n",
    "violations_cleaned = violations_cleaned.dropna(thresh=violations_cleaned.shape[1] - 5)\n",
    "display(violations_cleaned.head())\n",
    "display(violations_cleaned.shape)"
   ]
  },
  {
   "attachments": {},
   "cell_type": "markdown",
   "metadata": {},
   "source": [
    "NOTE: Dataset size decreased from 2,771,401 to 2,720,784."
   ]
  },
  {
   "cell_type": "code",
   "execution_count": 33,
   "metadata": {},
   "outputs": [
    {
     "data": {
      "text/plain": [
       "(2720784, 46)"
      ]
     },
     "execution_count": 33,
     "metadata": {},
     "output_type": "execute_result"
    }
   ],
   "source": [
    "violations_cleaned.shape\n",
    "violations_cleaned.dropna(subset=['NO_AFFECTED', 'NEGLIGENCE', 'LIKELIHOOD', 'MINE_TYPE',\n",
    "       'COAL_METAL_IND', 'CIT_ORD_SAFE', 'SPECIAL_ASSESS'])\n",
    "violations_cleaned.shape"
   ]
  },
  {
   "attachments": {},
   "cell_type": "markdown",
   "metadata": {},
   "source": [
    "## Data Filtering"
   ]
  },
  {
   "attachments": {},
   "cell_type": "markdown",
   "metadata": {},
   "source": [
    "### VIOLATOR_TYPE_CD: Filter to only operator mines"
   ]
  },
  {
   "cell_type": "code",
   "execution_count": 34,
   "metadata": {
    "scrolled": true
   },
   "outputs": [
    {
     "data": {
      "text/html": [
       "<div>\n",
       "<style scoped>\n",
       "    .dataframe tbody tr th:only-of-type {\n",
       "        vertical-align: middle;\n",
       "    }\n",
       "\n",
       "    .dataframe tbody tr th {\n",
       "        vertical-align: top;\n",
       "    }\n",
       "\n",
       "    .dataframe thead th {\n",
       "        text-align: right;\n",
       "    }\n",
       "</style>\n",
       "<table border=\"1\" class=\"dataframe\">\n",
       "  <thead>\n",
       "    <tr style=\"text-align: right;\">\n",
       "      <th></th>\n",
       "      <th>EVENT_NO</th>\n",
       "      <th>INSPECTION_BEGIN_DT</th>\n",
       "      <th>INSPECTION_END_DT</th>\n",
       "      <th>VIOLATION_NO</th>\n",
       "      <th>CONTROLLER_ID</th>\n",
       "      <th>CONTROLLER_NAME</th>\n",
       "      <th>VIOLATOR_ID</th>\n",
       "      <th>VIOLATOR_NAME</th>\n",
       "      <th>VIOLATOR_TYPE_CD</th>\n",
       "      <th>MINE_ID</th>\n",
       "      <th>...</th>\n",
       "      <th>FINAL_ORDER_ISSUE_DT</th>\n",
       "      <th>PROPOSED_PENALTY</th>\n",
       "      <th>AMOUNT_DUE</th>\n",
       "      <th>AMOUNT_PAID</th>\n",
       "      <th>BILL_PRINT_DT</th>\n",
       "      <th>LAST_ACTION_CD</th>\n",
       "      <th>LAST_ACTION_DT</th>\n",
       "      <th>CONTESTED_IND</th>\n",
       "      <th>VIOLATOR_VIOLATION_CNT</th>\n",
       "      <th>VIOLATOR_INSPECTION_DAY_CNT</th>\n",
       "    </tr>\n",
       "  </thead>\n",
       "  <tbody>\n",
       "    <tr>\n",
       "      <th>0</th>\n",
       "      <td>711256</td>\n",
       "      <td>2000-01-04</td>\n",
       "      <td>01/07/2000</td>\n",
       "      <td>6089192</td>\n",
       "      <td>0041044</td>\n",
       "      <td>Lhoist Group</td>\n",
       "      <td>L13586</td>\n",
       "      <td>Lhoist North America of Alabama, LLC</td>\n",
       "      <td>Operator</td>\n",
       "      <td>100003</td>\n",
       "      <td>...</td>\n",
       "      <td>01/10/2001</td>\n",
       "      <td>55.0</td>\n",
       "      <td>55.0</td>\n",
       "      <td>55.0</td>\n",
       "      <td>12/04/2000</td>\n",
       "      <td>Paid</td>\n",
       "      <td>01/08/2001</td>\n",
       "      <td>N</td>\n",
       "      <td>0.0</td>\n",
       "      <td>0.0</td>\n",
       "    </tr>\n",
       "    <tr>\n",
       "      <th>1</th>\n",
       "      <td>711256</td>\n",
       "      <td>2000-01-04</td>\n",
       "      <td>01/07/2000</td>\n",
       "      <td>6089193</td>\n",
       "      <td>0041044</td>\n",
       "      <td>Lhoist Group</td>\n",
       "      <td>L13586</td>\n",
       "      <td>Lhoist North America of Alabama, LLC</td>\n",
       "      <td>Operator</td>\n",
       "      <td>100003</td>\n",
       "      <td>...</td>\n",
       "      <td>01/10/2001</td>\n",
       "      <td>55.0</td>\n",
       "      <td>55.0</td>\n",
       "      <td>55.0</td>\n",
       "      <td>12/04/2000</td>\n",
       "      <td>Paid</td>\n",
       "      <td>01/08/2001</td>\n",
       "      <td>N</td>\n",
       "      <td>0.0</td>\n",
       "      <td>0.0</td>\n",
       "    </tr>\n",
       "    <tr>\n",
       "      <th>2</th>\n",
       "      <td>711256</td>\n",
       "      <td>2000-01-04</td>\n",
       "      <td>01/07/2000</td>\n",
       "      <td>6089194</td>\n",
       "      <td>0041044</td>\n",
       "      <td>Lhoist Group</td>\n",
       "      <td>L13586</td>\n",
       "      <td>Lhoist North America of Alabama, LLC</td>\n",
       "      <td>Operator</td>\n",
       "      <td>100003</td>\n",
       "      <td>...</td>\n",
       "      <td>01/10/2001</td>\n",
       "      <td>55.0</td>\n",
       "      <td>55.0</td>\n",
       "      <td>55.0</td>\n",
       "      <td>12/04/2000</td>\n",
       "      <td>Paid</td>\n",
       "      <td>01/08/2001</td>\n",
       "      <td>N</td>\n",
       "      <td>0.0</td>\n",
       "      <td>0.0</td>\n",
       "    </tr>\n",
       "    <tr>\n",
       "      <th>3</th>\n",
       "      <td>711256</td>\n",
       "      <td>2000-01-04</td>\n",
       "      <td>01/07/2000</td>\n",
       "      <td>6089195</td>\n",
       "      <td>0041044</td>\n",
       "      <td>Lhoist Group</td>\n",
       "      <td>L13586</td>\n",
       "      <td>Lhoist North America of Alabama, LLC</td>\n",
       "      <td>Operator</td>\n",
       "      <td>100003</td>\n",
       "      <td>...</td>\n",
       "      <td>01/10/2001</td>\n",
       "      <td>196.0</td>\n",
       "      <td>196.0</td>\n",
       "      <td>196.0</td>\n",
       "      <td>12/04/2000</td>\n",
       "      <td>Paid</td>\n",
       "      <td>01/08/2001</td>\n",
       "      <td>N</td>\n",
       "      <td>0.0</td>\n",
       "      <td>0.0</td>\n",
       "    </tr>\n",
       "    <tr>\n",
       "      <th>4</th>\n",
       "      <td>711256</td>\n",
       "      <td>2000-01-04</td>\n",
       "      <td>01/07/2000</td>\n",
       "      <td>6089196</td>\n",
       "      <td>0041044</td>\n",
       "      <td>Lhoist Group</td>\n",
       "      <td>L13586</td>\n",
       "      <td>Lhoist North America of Alabama, LLC</td>\n",
       "      <td>Operator</td>\n",
       "      <td>100003</td>\n",
       "      <td>...</td>\n",
       "      <td>01/10/2001</td>\n",
       "      <td>55.0</td>\n",
       "      <td>55.0</td>\n",
       "      <td>55.0</td>\n",
       "      <td>12/04/2000</td>\n",
       "      <td>Paid</td>\n",
       "      <td>01/08/2001</td>\n",
       "      <td>N</td>\n",
       "      <td>0.0</td>\n",
       "      <td>0.0</td>\n",
       "    </tr>\n",
       "  </tbody>\n",
       "</table>\n",
       "<p>5 rows × 46 columns</p>\n",
       "</div>"
      ],
      "text/plain": [
       "   EVENT_NO INSPECTION_BEGIN_DT INSPECTION_END_DT  VIOLATION_NO CONTROLLER_ID  \\\n",
       "0    711256          2000-01-04        01/07/2000       6089192       0041044   \n",
       "1    711256          2000-01-04        01/07/2000       6089193       0041044   \n",
       "2    711256          2000-01-04        01/07/2000       6089194       0041044   \n",
       "3    711256          2000-01-04        01/07/2000       6089195       0041044   \n",
       "4    711256          2000-01-04        01/07/2000       6089196       0041044   \n",
       "\n",
       "  CONTROLLER_NAME VIOLATOR_ID                         VIOLATOR_NAME  \\\n",
       "0    Lhoist Group      L13586  Lhoist North America of Alabama, LLC   \n",
       "1    Lhoist Group      L13586  Lhoist North America of Alabama, LLC   \n",
       "2    Lhoist Group      L13586  Lhoist North America of Alabama, LLC   \n",
       "3    Lhoist Group      L13586  Lhoist North America of Alabama, LLC   \n",
       "4    Lhoist Group      L13586  Lhoist North America of Alabama, LLC   \n",
       "\n",
       "  VIOLATOR_TYPE_CD  MINE_ID  ... FINAL_ORDER_ISSUE_DT PROPOSED_PENALTY  \\\n",
       "0         Operator   100003  ...           01/10/2001             55.0   \n",
       "1         Operator   100003  ...           01/10/2001             55.0   \n",
       "2         Operator   100003  ...           01/10/2001             55.0   \n",
       "3         Operator   100003  ...           01/10/2001            196.0   \n",
       "4         Operator   100003  ...           01/10/2001             55.0   \n",
       "\n",
       "  AMOUNT_DUE AMOUNT_PAID BILL_PRINT_DT  LAST_ACTION_CD  LAST_ACTION_DT  \\\n",
       "0       55.0        55.0    12/04/2000            Paid      01/08/2001   \n",
       "1       55.0        55.0    12/04/2000            Paid      01/08/2001   \n",
       "2       55.0        55.0    12/04/2000            Paid      01/08/2001   \n",
       "3      196.0       196.0    12/04/2000            Paid      01/08/2001   \n",
       "4       55.0        55.0    12/04/2000            Paid      01/08/2001   \n",
       "\n",
       "   CONTESTED_IND  VIOLATOR_VIOLATION_CNT  VIOLATOR_INSPECTION_DAY_CNT  \n",
       "0              N                     0.0                          0.0  \n",
       "1              N                     0.0                          0.0  \n",
       "2              N                     0.0                          0.0  \n",
       "3              N                     0.0                          0.0  \n",
       "4              N                     0.0                          0.0  \n",
       "\n",
       "[5 rows x 46 columns]"
      ]
     },
     "metadata": {},
     "output_type": "display_data"
    },
    {
     "data": {
      "text/plain": [
       "(2537146, 46)"
      ]
     },
     "metadata": {},
     "output_type": "display_data"
    }
   ],
   "source": [
    "violations_cleaned = violations_cleaned.loc[violations_cleaned['VIOLATOR_TYPE_CD'] == 'Operator']\n",
    "display(violations_cleaned.head())\n",
    "display(violations_cleaned.shape)"
   ]
  },
  {
   "cell_type": "code",
   "execution_count": 35,
   "metadata": {},
   "outputs": [
    {
     "data": {
      "text/plain": [
       "Index(['EVENT_NO', 'INSPECTION_BEGIN_DT', 'INSPECTION_END_DT', 'VIOLATION_NO',\n",
       "       'CONTROLLER_ID', 'CONTROLLER_NAME', 'VIOLATOR_ID', 'VIOLATOR_NAME',\n",
       "       'VIOLATOR_TYPE_CD', 'MINE_ID', 'MINE_NAME', 'MINE_TYPE',\n",
       "       'COAL_METAL_IND', 'VIOLATION_ISSUE_DT', 'VIOLATION_OCCUR_DT', 'CAL_YR',\n",
       "       'CAL_QTR', 'FISCAL_YR', 'FISCAL_QTR', 'VIOLATION_ISSUE_TIME', 'SIG_SUB',\n",
       "       'SECTION_OF_ACT', 'PART_SECTION', 'SECTION_OF_ACT_1', 'CIT_ORD_SAFE',\n",
       "       'LATEST_TERM_DUE_DT', 'LATEST_TERM_DUE_TIME', 'TERMINATION_DT',\n",
       "       'TERMINATION_TIME', 'TERMINATION_TYPE', 'LIKELIHOOD', 'INJ_ILLNESS',\n",
       "       'NO_AFFECTED', 'NEGLIGENCE', 'SPECIAL_ASSESS', 'ASMT_GENERATED_IND',\n",
       "       'FINAL_ORDER_ISSUE_DT', 'PROPOSED_PENALTY', 'AMOUNT_DUE', 'AMOUNT_PAID',\n",
       "       'BILL_PRINT_DT', 'LAST_ACTION_CD', 'LAST_ACTION_DT', 'CONTESTED_IND',\n",
       "       'VIOLATOR_VIOLATION_CNT', 'VIOLATOR_INSPECTION_DAY_CNT'],\n",
       "      dtype='object')"
      ]
     },
     "execution_count": 35,
     "metadata": {},
     "output_type": "execute_result"
    }
   ],
   "source": [
    "violations_cleaned.columns"
   ]
  },
  {
   "attachments": {},
   "cell_type": "markdown",
   "metadata": {},
   "source": [
    "NOTE: Dataset decreased from 2,720,784 to 2,537,146 after removing 'VIOLATOR_TYPE_CD' == 'Contractor'."
   ]
  },
  {
   "attachments": {},
   "cell_type": "markdown",
   "metadata": {},
   "source": [
    "### Unnecessary Feature Removal (CONTROLLER_ID, CONTROLLER_NAME, ASMT_GENERATED_IND, LATEST_TERM_DUE_DT, LATEST_TERM_DUE_TIME, TERMINATION_DT, TERMINATION_TIME)"
   ]
  },
  {
   "cell_type": "code",
   "execution_count": 36,
   "metadata": {},
   "outputs": [
    {
     "data": {
      "text/html": [
       "<div>\n",
       "<style scoped>\n",
       "    .dataframe tbody tr th:only-of-type {\n",
       "        vertical-align: middle;\n",
       "    }\n",
       "\n",
       "    .dataframe tbody tr th {\n",
       "        vertical-align: top;\n",
       "    }\n",
       "\n",
       "    .dataframe thead th {\n",
       "        text-align: right;\n",
       "    }\n",
       "</style>\n",
       "<table border=\"1\" class=\"dataframe\">\n",
       "  <thead>\n",
       "    <tr style=\"text-align: right;\">\n",
       "      <th></th>\n",
       "      <th>EVENT_NO</th>\n",
       "      <th>INSPECTION_BEGIN_DT</th>\n",
       "      <th>INSPECTION_END_DT</th>\n",
       "      <th>VIOLATION_NO</th>\n",
       "      <th>VIOLATOR_ID</th>\n",
       "      <th>VIOLATOR_NAME</th>\n",
       "      <th>VIOLATOR_TYPE_CD</th>\n",
       "      <th>MINE_ID</th>\n",
       "      <th>MINE_NAME</th>\n",
       "      <th>MINE_TYPE</th>\n",
       "      <th>...</th>\n",
       "      <th>FINAL_ORDER_ISSUE_DT</th>\n",
       "      <th>PROPOSED_PENALTY</th>\n",
       "      <th>AMOUNT_DUE</th>\n",
       "      <th>AMOUNT_PAID</th>\n",
       "      <th>BILL_PRINT_DT</th>\n",
       "      <th>LAST_ACTION_CD</th>\n",
       "      <th>LAST_ACTION_DT</th>\n",
       "      <th>CONTESTED_IND</th>\n",
       "      <th>VIOLATOR_VIOLATION_CNT</th>\n",
       "      <th>VIOLATOR_INSPECTION_DAY_CNT</th>\n",
       "    </tr>\n",
       "  </thead>\n",
       "  <tbody>\n",
       "    <tr>\n",
       "      <th>0</th>\n",
       "      <td>711256</td>\n",
       "      <td>2000-01-04</td>\n",
       "      <td>01/07/2000</td>\n",
       "      <td>6089192</td>\n",
       "      <td>L13586</td>\n",
       "      <td>Lhoist North America of Alabama, LLC</td>\n",
       "      <td>Operator</td>\n",
       "      <td>100003</td>\n",
       "      <td>O'Neal Quarry &amp; Mill</td>\n",
       "      <td>Surface</td>\n",
       "      <td>...</td>\n",
       "      <td>01/10/2001</td>\n",
       "      <td>55.0</td>\n",
       "      <td>55.0</td>\n",
       "      <td>55.0</td>\n",
       "      <td>12/04/2000</td>\n",
       "      <td>Paid</td>\n",
       "      <td>01/08/2001</td>\n",
       "      <td>N</td>\n",
       "      <td>0.0</td>\n",
       "      <td>0.0</td>\n",
       "    </tr>\n",
       "    <tr>\n",
       "      <th>1</th>\n",
       "      <td>711256</td>\n",
       "      <td>2000-01-04</td>\n",
       "      <td>01/07/2000</td>\n",
       "      <td>6089193</td>\n",
       "      <td>L13586</td>\n",
       "      <td>Lhoist North America of Alabama, LLC</td>\n",
       "      <td>Operator</td>\n",
       "      <td>100003</td>\n",
       "      <td>O'Neal Quarry &amp; Mill</td>\n",
       "      <td>Surface</td>\n",
       "      <td>...</td>\n",
       "      <td>01/10/2001</td>\n",
       "      <td>55.0</td>\n",
       "      <td>55.0</td>\n",
       "      <td>55.0</td>\n",
       "      <td>12/04/2000</td>\n",
       "      <td>Paid</td>\n",
       "      <td>01/08/2001</td>\n",
       "      <td>N</td>\n",
       "      <td>0.0</td>\n",
       "      <td>0.0</td>\n",
       "    </tr>\n",
       "    <tr>\n",
       "      <th>2</th>\n",
       "      <td>711256</td>\n",
       "      <td>2000-01-04</td>\n",
       "      <td>01/07/2000</td>\n",
       "      <td>6089194</td>\n",
       "      <td>L13586</td>\n",
       "      <td>Lhoist North America of Alabama, LLC</td>\n",
       "      <td>Operator</td>\n",
       "      <td>100003</td>\n",
       "      <td>O'Neal Quarry &amp; Mill</td>\n",
       "      <td>Surface</td>\n",
       "      <td>...</td>\n",
       "      <td>01/10/2001</td>\n",
       "      <td>55.0</td>\n",
       "      <td>55.0</td>\n",
       "      <td>55.0</td>\n",
       "      <td>12/04/2000</td>\n",
       "      <td>Paid</td>\n",
       "      <td>01/08/2001</td>\n",
       "      <td>N</td>\n",
       "      <td>0.0</td>\n",
       "      <td>0.0</td>\n",
       "    </tr>\n",
       "    <tr>\n",
       "      <th>3</th>\n",
       "      <td>711256</td>\n",
       "      <td>2000-01-04</td>\n",
       "      <td>01/07/2000</td>\n",
       "      <td>6089195</td>\n",
       "      <td>L13586</td>\n",
       "      <td>Lhoist North America of Alabama, LLC</td>\n",
       "      <td>Operator</td>\n",
       "      <td>100003</td>\n",
       "      <td>O'Neal Quarry &amp; Mill</td>\n",
       "      <td>Surface</td>\n",
       "      <td>...</td>\n",
       "      <td>01/10/2001</td>\n",
       "      <td>196.0</td>\n",
       "      <td>196.0</td>\n",
       "      <td>196.0</td>\n",
       "      <td>12/04/2000</td>\n",
       "      <td>Paid</td>\n",
       "      <td>01/08/2001</td>\n",
       "      <td>N</td>\n",
       "      <td>0.0</td>\n",
       "      <td>0.0</td>\n",
       "    </tr>\n",
       "    <tr>\n",
       "      <th>4</th>\n",
       "      <td>711256</td>\n",
       "      <td>2000-01-04</td>\n",
       "      <td>01/07/2000</td>\n",
       "      <td>6089196</td>\n",
       "      <td>L13586</td>\n",
       "      <td>Lhoist North America of Alabama, LLC</td>\n",
       "      <td>Operator</td>\n",
       "      <td>100003</td>\n",
       "      <td>O'Neal Quarry &amp; Mill</td>\n",
       "      <td>Surface</td>\n",
       "      <td>...</td>\n",
       "      <td>01/10/2001</td>\n",
       "      <td>55.0</td>\n",
       "      <td>55.0</td>\n",
       "      <td>55.0</td>\n",
       "      <td>12/04/2000</td>\n",
       "      <td>Paid</td>\n",
       "      <td>01/08/2001</td>\n",
       "      <td>N</td>\n",
       "      <td>0.0</td>\n",
       "      <td>0.0</td>\n",
       "    </tr>\n",
       "  </tbody>\n",
       "</table>\n",
       "<p>5 rows × 39 columns</p>\n",
       "</div>"
      ],
      "text/plain": [
       "   EVENT_NO INSPECTION_BEGIN_DT INSPECTION_END_DT  VIOLATION_NO VIOLATOR_ID  \\\n",
       "0    711256          2000-01-04        01/07/2000       6089192      L13586   \n",
       "1    711256          2000-01-04        01/07/2000       6089193      L13586   \n",
       "2    711256          2000-01-04        01/07/2000       6089194      L13586   \n",
       "3    711256          2000-01-04        01/07/2000       6089195      L13586   \n",
       "4    711256          2000-01-04        01/07/2000       6089196      L13586   \n",
       "\n",
       "                          VIOLATOR_NAME VIOLATOR_TYPE_CD  MINE_ID  \\\n",
       "0  Lhoist North America of Alabama, LLC         Operator   100003   \n",
       "1  Lhoist North America of Alabama, LLC         Operator   100003   \n",
       "2  Lhoist North America of Alabama, LLC         Operator   100003   \n",
       "3  Lhoist North America of Alabama, LLC         Operator   100003   \n",
       "4  Lhoist North America of Alabama, LLC         Operator   100003   \n",
       "\n",
       "              MINE_NAME MINE_TYPE  ... FINAL_ORDER_ISSUE_DT PROPOSED_PENALTY  \\\n",
       "0  O'Neal Quarry & Mill   Surface  ...           01/10/2001             55.0   \n",
       "1  O'Neal Quarry & Mill   Surface  ...           01/10/2001             55.0   \n",
       "2  O'Neal Quarry & Mill   Surface  ...           01/10/2001             55.0   \n",
       "3  O'Neal Quarry & Mill   Surface  ...           01/10/2001            196.0   \n",
       "4  O'Neal Quarry & Mill   Surface  ...           01/10/2001             55.0   \n",
       "\n",
       "  AMOUNT_DUE  AMOUNT_PAID  BILL_PRINT_DT  LAST_ACTION_CD  LAST_ACTION_DT  \\\n",
       "0       55.0         55.0     12/04/2000            Paid      01/08/2001   \n",
       "1       55.0         55.0     12/04/2000            Paid      01/08/2001   \n",
       "2       55.0         55.0     12/04/2000            Paid      01/08/2001   \n",
       "3      196.0        196.0     12/04/2000            Paid      01/08/2001   \n",
       "4       55.0         55.0     12/04/2000            Paid      01/08/2001   \n",
       "\n",
       "   CONTESTED_IND VIOLATOR_VIOLATION_CNT VIOLATOR_INSPECTION_DAY_CNT  \n",
       "0              N                    0.0                         0.0  \n",
       "1              N                    0.0                         0.0  \n",
       "2              N                    0.0                         0.0  \n",
       "3              N                    0.0                         0.0  \n",
       "4              N                    0.0                         0.0  \n",
       "\n",
       "[5 rows x 39 columns]"
      ]
     },
     "metadata": {},
     "output_type": "display_data"
    },
    {
     "data": {
      "text/plain": [
       "(2537146, 39)"
      ]
     },
     "metadata": {},
     "output_type": "display_data"
    }
   ],
   "source": [
    "violations_cleaned = violations_cleaned.drop(columns=['CONTROLLER_ID', 'CONTROLLER_NAME', 'ASMT_GENERATED_IND', 'LATEST_TERM_DUE_DT',\n",
    "                                                      'LATEST_TERM_DUE_TIME', 'TERMINATION_DT', 'TERMINATION_TIME'])\n",
    "display(violations_cleaned.head())\n",
    "display(violations_cleaned.shape)"
   ]
  },
  {
   "cell_type": "code",
   "execution_count": 37,
   "metadata": {},
   "outputs": [
    {
     "data": {
      "text/plain": [
       "EVENT_NO                             0\n",
       "INSPECTION_BEGIN_DT                  0\n",
       "INSPECTION_END_DT                    0\n",
       "VIOLATION_NO                         0\n",
       "VIOLATOR_ID                          4\n",
       "VIOLATOR_NAME                        4\n",
       "VIOLATOR_TYPE_CD                     0\n",
       "MINE_ID                              0\n",
       "MINE_NAME                            0\n",
       "MINE_TYPE                            0\n",
       "COAL_METAL_IND                       0\n",
       "VIOLATION_ISSUE_DT                   0\n",
       "VIOLATION_OCCUR_DT                   0\n",
       "CAL_YR                               0\n",
       "CAL_QTR                              0\n",
       "FISCAL_YR                            0\n",
       "FISCAL_QTR                           0\n",
       "VIOLATION_ISSUE_TIME                 0\n",
       "SIG_SUB                             44\n",
       "SECTION_OF_ACT                 2524302\n",
       "PART_SECTION                      9298\n",
       "SECTION_OF_ACT_1                     0\n",
       "CIT_ORD_SAFE                         0\n",
       "TERMINATION_TYPE                     0\n",
       "LIKELIHOOD                         197\n",
       "INJ_ILLNESS                        179\n",
       "NO_AFFECTED                          0\n",
       "NEGLIGENCE                         178\n",
       "SPECIAL_ASSESS                       0\n",
       "FINAL_ORDER_ISSUE_DT              7839\n",
       "PROPOSED_PENALTY                     0\n",
       "AMOUNT_DUE                           0\n",
       "AMOUNT_PAID                          0\n",
       "BILL_PRINT_DT                        0\n",
       "LAST_ACTION_CD                       1\n",
       "LAST_ACTION_DT                       1\n",
       "CONTESTED_IND                        0\n",
       "VIOLATOR_VIOLATION_CNT               0\n",
       "VIOLATOR_INSPECTION_DAY_CNT          0\n",
       "dtype: int64"
      ]
     },
     "execution_count": 37,
     "metadata": {},
     "output_type": "execute_result"
    }
   ],
   "source": [
    "# Viewing sum of missing values\n",
    "violations_cleaned.isna().sum()"
   ]
  },
  {
   "cell_type": "code",
   "execution_count": 38,
   "metadata": {},
   "outputs": [],
   "source": [
    "# Converts dataframe to a csv \n",
    "# violations_cleaned.to_csv('violations_cleaned.csv', index=False)"
   ]
  },
  {
   "attachments": {},
   "cell_type": "markdown",
   "metadata": {},
   "source": [
    "## Feature Engineering"
   ]
  },
  {
   "attachments": {},
   "cell_type": "markdown",
   "metadata": {},
   "source": [
    "### Creating Column: 'INSPECTION_LENGTH_DAYS' from 'INSPECTION_BEGIN_DT' and 'INSPECTION_END_DT'"
   ]
  },
  {
   "cell_type": "code",
   "execution_count": 39,
   "metadata": {},
   "outputs": [
    {
     "data": {
      "text/plain": [
       "0         3 days\n",
       "1         3 days\n",
       "2         3 days\n",
       "3         3 days\n",
       "4         3 days\n",
       "           ...  \n",
       "2812752   3 days\n",
       "2812753   3 days\n",
       "2812754   3 days\n",
       "2812755   3 days\n",
       "2812756   3 days\n",
       "Name: INSPECTION_LENGTH_DAYS, Length: 2537146, dtype: timedelta64[ns]"
      ]
     },
     "execution_count": 39,
     "metadata": {},
     "output_type": "execute_result"
    }
   ],
   "source": [
    "# Creating new column 'INSPECTION_LENGTH_DAYS' from 'INSPECTION_BEGIN_DT' and 'INSPECTION_END_DT'\n",
    "violations_cleaned['INSPECTION_LENGTH_DAYS'] = pd.to_datetime(violations_cleaned['INSPECTION_END_DT']) - pd.to_datetime(violations_cleaned['INSPECTION_BEGIN_DT'])\n",
    "\n",
    "violations_cleaned['INSPECTION_LENGTH_DAYS']"
   ]
  },
  {
   "cell_type": "code",
   "execution_count": 40,
   "metadata": {},
   "outputs": [
    {
     "data": {
      "text/plain": [
       "count                       2537146\n",
       "mean     39 days 08:57:39.910308670\n",
       "std      43 days 05:15:51.829451606\n",
       "min                 0 days 00:00:00\n",
       "25%                 2 days 00:00:00\n",
       "50%                21 days 00:00:00\n",
       "75%                80 days 00:00:00\n",
       "max              3500 days 00:00:00\n",
       "Name: INSPECTION_LENGTH_DAYS, dtype: object"
      ]
     },
     "execution_count": 40,
     "metadata": {},
     "output_type": "execute_result"
    }
   ],
   "source": [
    "# Descriptive statistics of 'INSPECTION_LENGTH_DAYS'\n",
    "violations_cleaned.INSPECTION_LENGTH_DAYS.describe()"
   ]
  },
  {
   "attachments": {},
   "cell_type": "markdown",
   "metadata": {},
   "source": [
    "INSIGHT: A new column has been created called 'INSPECTION_LENGTH_DAYS' which represents the number of days between an inspection end date and inspection begin date. The average inspection length is 37 days with a standard deviation of 42 days. After creating the new column, outliers are removed based on standard deviation/z-scores, same method used above to remove outliers. After removing outliers from the INSPECTION_LENGTH_DAYS column, the dataframe decreases from 2,406,620 to 2,391,418."
   ]
  },
  {
   "attachments": {},
   "cell_type": "markdown",
   "metadata": {},
   "source": [
    "### Creating Column: 'VIOLATION_SEVERITY' from 'INJ_ILLNESS'\n",
    "\n",
    "The original variable 'INJ_ILLNESS' is a categorical value assigned to a violation for the gravity of injury. There are 4 possible categories: Fatal, LostDays, NoLostDays, or Permanent. A new column will be created called 'VIOLATION_SEVERITY' that is a numerical representation of the 'INJ_ILLNESS' categories. 0 will be used to denote NoLostDays, 1 for LostDays, 2 for Permanent, and 3 for Fatal."
   ]
  },
  {
   "cell_type": "code",
   "execution_count": 41,
   "metadata": {},
   "outputs": [
    {
     "data": {
      "text/plain": [
       "0          3.0\n",
       "1          3.0\n",
       "2          1.0\n",
       "3          3.0\n",
       "4          2.0\n",
       "          ... \n",
       "2812752    3.0\n",
       "2812753    3.0\n",
       "2812754    2.0\n",
       "2812755    0.0\n",
       "2812756    0.0\n",
       "Name: VIOLATION_SEVERITY, Length: 2537146, dtype: float64"
      ]
     },
     "execution_count": 41,
     "metadata": {},
     "output_type": "execute_result"
    }
   ],
   "source": [
    "# Define the mapping dictionary for hierarchical representation\n",
    "severity_mapping = {\n",
    "    'Fatal': 3,\n",
    "    'Permanent': 2,\n",
    "    'LostDays': 1,\n",
    "    'NoLostDays': 0\n",
    "}\n",
    "\n",
    "# Create the new column 'VIOLATION_SEVERITY' based on the mapping\n",
    "violations_cleaned['VIOLATION_SEVERITY'] = violations_cleaned['INJ_ILLNESS'].map(severity_mapping)\n",
    "violations_cleaned['VIOLATION_SEVERITY']"
   ]
  },
  {
   "attachments": {},
   "cell_type": "markdown",
   "metadata": {},
   "source": [
    "### Creating Column: 'SIG_SUB_BINARY' from 'SIG_SUB'\n",
    "\n",
    "The original variable 'SIG_SUB' has a value of either yes/no. A new column will be created called 'SIG_SUB_BINARY' that is a numerical representation of the 'SIG_SUB' categories. 0 will be used to denote No, and 1 for Yes."
   ]
  },
  {
   "cell_type": "code",
   "execution_count": 42,
   "metadata": {},
   "outputs": [
    {
     "data": {
      "text/plain": [
       "0          0.0\n",
       "1          0.0\n",
       "2          0.0\n",
       "3          1.0\n",
       "4          0.0\n",
       "          ... \n",
       "2812752    1.0\n",
       "2812753    0.0\n",
       "2812754    0.0\n",
       "2812755    0.0\n",
       "2812756    0.0\n",
       "Name: SIG_SUB_BINARY, Length: 2537146, dtype: float64"
      ]
     },
     "execution_count": 42,
     "metadata": {},
     "output_type": "execute_result"
    }
   ],
   "source": [
    "# Change to binary yes or no \n",
    "violations_cleaned['SIG_SUB_BINARY'] = violations_cleaned['SIG_SUB'].replace({'N': 0, 'Y': 1})\n",
    "violations_cleaned['SIG_SUB_BINARY']"
   ]
  },
  {
   "attachments": {},
   "cell_type": "markdown",
   "metadata": {},
   "source": [
    "### Creating Column: 'NEGLIGENCE_SCORES' from 'NEGLIGENCE'"
   ]
  },
  {
   "cell_type": "code",
   "execution_count": 43,
   "metadata": {},
   "outputs": [
    {
     "data": {
      "text/plain": [
       "0          1.0\n",
       "1          2.0\n",
       "2          1.0\n",
       "3          2.0\n",
       "4          2.0\n",
       "          ... \n",
       "2812752    2.0\n",
       "2812753    2.0\n",
       "2812754    2.0\n",
       "2812755    3.0\n",
       "2812756    2.0\n",
       "Name: NEGLIGENCE_SCORE, Length: 2537146, dtype: float64"
      ]
     },
     "execution_count": 43,
     "metadata": {},
     "output_type": "execute_result"
    }
   ],
   "source": [
    "# NEGLIGENCE\n",
    "# Change to Ordinal values\n",
    "negligence_mapping = {\n",
    "    'LowNegligence': 1,\n",
    "    'ModNegligence': 2,\n",
    "    'HighNegligence': 3,\n",
    "    'NoNegligence': 0,\n",
    "    'Reckless': 4\n",
    "}\n",
    "\n",
    "violations_cleaned['NEGLIGENCE_SCORE'] = violations_cleaned['NEGLIGENCE'].replace(negligence_mapping)\n",
    "violations_cleaned['NEGLIGENCE_SCORE']"
   ]
  },
  {
   "attachments": {},
   "cell_type": "markdown",
   "metadata": {},
   "source": [
    "### Creating Column: 'LIKELIHOOD_SCORE' from 'LIKELIHOOD'"
   ]
  },
  {
   "cell_type": "code",
   "execution_count": 44,
   "metadata": {},
   "outputs": [
    {
     "data": {
      "text/plain": [
       "0          1.0\n",
       "1          1.0\n",
       "2          1.0\n",
       "3          2.0\n",
       "4          1.0\n",
       "          ... \n",
       "2812752    2.0\n",
       "2812753    1.0\n",
       "2812754    1.0\n",
       "2812755    0.0\n",
       "2812756    0.0\n",
       "Name: LIKELIHOOD_SCORE, Length: 2537146, dtype: float64"
      ]
     },
     "execution_count": 44,
     "metadata": {},
     "output_type": "execute_result"
    }
   ],
   "source": [
    "# LIKELIHOOD\n",
    "# Change to Ordinal values\n",
    "likelihood_mapping = {\n",
    "    'Unlikely': 1,\n",
    "    'Reasonably': 2,\n",
    "    'NoLikelihood': 0,\n",
    "    'Highly': 3,\n",
    "    'Occurred': 4\n",
    "}\n",
    "\n",
    "violations_cleaned['LIKELIHOOD_SCORE'] = violations_cleaned['LIKELIHOOD'].map(likelihood_mapping)\n",
    "violations_cleaned['LIKELIHOOD_SCORE']"
   ]
  },
  {
   "attachments": {},
   "cell_type": "markdown",
   "metadata": {},
   "source": [
    "### Creating Column: One Hot Encoding"
   ]
  },
  {
   "cell_type": "code",
   "execution_count": 45,
   "metadata": {
    "scrolled": false
   },
   "outputs": [
    {
     "data": {
      "text/plain": [
       "SECTION_OF_ACT\n",
       "316(b)              0.418795\n",
       "103(h)              0.121224\n",
       "316(b)(2)(A)        0.087434\n",
       "103(d)              0.080349\n",
       "109(a)              0.064622\n",
       "109(d)              0.054111\n",
       "316(b)(2)(F)(ii)    0.043989\n",
       "103(a)              0.026004\n",
       "104(b)              0.020554\n",
       "104(a)              0.012613\n",
       "104(g)(1)           0.011289\n",
       "316(b)(2)           0.007864\n",
       "103(j)              0.007708\n",
       "103(k)              0.006462\n",
       "110(j)              0.006229\n",
       "104(d)(1)           0.005139\n",
       "104(d)(2)           0.004516\n",
       "115(a)              0.004516\n",
       "314(b)              0.002491\n",
       "107(a)              0.002336\n",
       "316(b)(2)(C)        0.002180\n",
       "203(a)              0.002024\n",
       "103(f)              0.001713\n",
       "109(c)              0.001090\n",
       "115(e)              0.000545\n",
       "101(a)(7)           0.000545\n",
       "115(a)(2)           0.000467\n",
       "115(a)(3)           0.000389\n",
       "103(a)(h)           0.000389\n",
       "115(b)              0.000389\n",
       "103(b)              0.000234\n",
       "108(a)(1)(b)        0.000234\n",
       "115(a)(4)           0.000234\n",
       "105(c)              0.000234\n",
       "317(c)              0.000156\n",
       "111                 0.000156\n",
       "113(d)(1)           0.000156\n",
       "104(e)(2)           0.000156\n",
       "110(a)              0.000078\n",
       "103(c)              0.000078\n",
       "110(c)              0.000078\n",
       "115(a)(1)           0.000078\n",
       "104(d)              0.000078\n",
       "104(e)(1)           0.000078\n",
       "Name: proportion, dtype: float64"
      ]
     },
     "execution_count": 45,
     "metadata": {},
     "output_type": "execute_result"
    }
   ],
   "source": [
    "violations_cleaned.SECTION_OF_ACT.value_counts(normalize = True)"
   ]
  },
  {
   "cell_type": "code",
   "execution_count": 46,
   "metadata": {},
   "outputs": [
    {
     "data": {
      "text/plain": [
       "46"
      ]
     },
     "execution_count": 46,
     "metadata": {},
     "output_type": "execute_result"
    }
   ],
   "source": [
    "len(pd.unique(violations['SECTION_OF_ACT']))"
   ]
  },
  {
   "cell_type": "code",
   "execution_count": 47,
   "metadata": {},
   "outputs": [
    {
     "data": {
      "text/plain": [
       "0          0\n",
       "1          0\n",
       "2          0\n",
       "3          0\n",
       "4          0\n",
       "          ..\n",
       "2812752    0\n",
       "2812753    0\n",
       "2812754    0\n",
       "2812755    0\n",
       "2812756    0\n",
       "Name: SECTION_OF_ACT_FILTERED, Length: 2537146, dtype: object"
      ]
     },
     "execution_count": 47,
     "metadata": {},
     "output_type": "execute_result"
    }
   ],
   "source": [
    "top10sectionsviolated = ['316(b)', '103(h)', '316(b)(2)(A)', '103(d)', '109(a)', '316(b)(2)(F)(ii)', '103(a)', '104(b)', '104(a)', '104(g)(1)']\n",
    "\n",
    "#violations_cleaned.loc[~violations_cleaned['SECTION_OF_ACT'].isin(top10sectionsviolated), 'SECTION_OF_ACT_FILTERED'] = violations_cleaned['SECTION_OF_ACT']\n",
    "violations_cleaned['SECTION_OF_ACT_FILTERED'] = np.where(violations_cleaned['SECTION_OF_ACT'].isin(top10sectionsviolated), violations_cleaned['SECTION_OF_ACT'], '0')\n",
    "\n",
    "violations_cleaned['SECTION_OF_ACT_FILTERED']"
   ]
  },
  {
   "cell_type": "code",
   "execution_count": 48,
   "metadata": {
    "scrolled": true
   },
   "outputs": [
    {
     "data": {
      "text/plain": [
       "SECTION_OF_ACT_FILTERED\n",
       "0                   0.995510\n",
       "316(b)              0.002120\n",
       "103(h)              0.000614\n",
       "316(b)(2)(A)        0.000443\n",
       "103(d)              0.000407\n",
       "109(a)              0.000327\n",
       "316(b)(2)(F)(ii)    0.000223\n",
       "103(a)              0.000132\n",
       "104(b)              0.000104\n",
       "104(a)              0.000064\n",
       "104(g)(1)           0.000057\n",
       "Name: proportion, dtype: float64"
      ]
     },
     "execution_count": 48,
     "metadata": {},
     "output_type": "execute_result"
    }
   ],
   "source": [
    "violations_cleaned.SECTION_OF_ACT_FILTERED.value_counts(normalize = True)"
   ]
  },
  {
   "cell_type": "code",
   "execution_count": 49,
   "metadata": {},
   "outputs": [
    {
     "data": {
      "text/html": [
       "<div>\n",
       "<style scoped>\n",
       "    .dataframe tbody tr th:only-of-type {\n",
       "        vertical-align: middle;\n",
       "    }\n",
       "\n",
       "    .dataframe tbody tr th {\n",
       "        vertical-align: top;\n",
       "    }\n",
       "\n",
       "    .dataframe thead th {\n",
       "        text-align: right;\n",
       "    }\n",
       "</style>\n",
       "<table border=\"1\" class=\"dataframe\">\n",
       "  <thead>\n",
       "    <tr style=\"text-align: right;\">\n",
       "      <th></th>\n",
       "      <th>EVENT_NO</th>\n",
       "      <th>INSPECTION_BEGIN_DT</th>\n",
       "      <th>INSPECTION_END_DT</th>\n",
       "      <th>VIOLATION_NO</th>\n",
       "      <th>VIOLATOR_ID</th>\n",
       "      <th>VIOLATOR_NAME</th>\n",
       "      <th>VIOLATOR_TYPE_CD</th>\n",
       "      <th>MINE_ID</th>\n",
       "      <th>MINE_NAME</th>\n",
       "      <th>VIOLATION_ISSUE_DT</th>\n",
       "      <th>...</th>\n",
       "      <th>MINE_TYPE_Surface</th>\n",
       "      <th>MINE_TYPE_Underground</th>\n",
       "      <th>COAL_METAL_IND_C</th>\n",
       "      <th>COAL_METAL_IND_M</th>\n",
       "      <th>CIT_ORD_SAFE_Citation</th>\n",
       "      <th>CIT_ORD_SAFE_Notice</th>\n",
       "      <th>CIT_ORD_SAFE_Order</th>\n",
       "      <th>CIT_ORD_SAFE_Safeguard</th>\n",
       "      <th>SPECIAL_ASSESS_N</th>\n",
       "      <th>SPECIAL_ASSESS_Y</th>\n",
       "    </tr>\n",
       "  </thead>\n",
       "  <tbody>\n",
       "    <tr>\n",
       "      <th>0</th>\n",
       "      <td>711256</td>\n",
       "      <td>2000-01-04</td>\n",
       "      <td>01/07/2000</td>\n",
       "      <td>6089192</td>\n",
       "      <td>L13586</td>\n",
       "      <td>Lhoist North America of Alabama, LLC</td>\n",
       "      <td>Operator</td>\n",
       "      <td>100003</td>\n",
       "      <td>O'Neal Quarry &amp; Mill</td>\n",
       "      <td>01/04/2000</td>\n",
       "      <td>...</td>\n",
       "      <td>True</td>\n",
       "      <td>False</td>\n",
       "      <td>False</td>\n",
       "      <td>True</td>\n",
       "      <td>True</td>\n",
       "      <td>False</td>\n",
       "      <td>False</td>\n",
       "      <td>False</td>\n",
       "      <td>True</td>\n",
       "      <td>False</td>\n",
       "    </tr>\n",
       "    <tr>\n",
       "      <th>1</th>\n",
       "      <td>711256</td>\n",
       "      <td>2000-01-04</td>\n",
       "      <td>01/07/2000</td>\n",
       "      <td>6089193</td>\n",
       "      <td>L13586</td>\n",
       "      <td>Lhoist North America of Alabama, LLC</td>\n",
       "      <td>Operator</td>\n",
       "      <td>100003</td>\n",
       "      <td>O'Neal Quarry &amp; Mill</td>\n",
       "      <td>01/04/2000</td>\n",
       "      <td>...</td>\n",
       "      <td>True</td>\n",
       "      <td>False</td>\n",
       "      <td>False</td>\n",
       "      <td>True</td>\n",
       "      <td>True</td>\n",
       "      <td>False</td>\n",
       "      <td>False</td>\n",
       "      <td>False</td>\n",
       "      <td>True</td>\n",
       "      <td>False</td>\n",
       "    </tr>\n",
       "    <tr>\n",
       "      <th>2</th>\n",
       "      <td>711256</td>\n",
       "      <td>2000-01-04</td>\n",
       "      <td>01/07/2000</td>\n",
       "      <td>6089194</td>\n",
       "      <td>L13586</td>\n",
       "      <td>Lhoist North America of Alabama, LLC</td>\n",
       "      <td>Operator</td>\n",
       "      <td>100003</td>\n",
       "      <td>O'Neal Quarry &amp; Mill</td>\n",
       "      <td>01/04/2000</td>\n",
       "      <td>...</td>\n",
       "      <td>True</td>\n",
       "      <td>False</td>\n",
       "      <td>False</td>\n",
       "      <td>True</td>\n",
       "      <td>True</td>\n",
       "      <td>False</td>\n",
       "      <td>False</td>\n",
       "      <td>False</td>\n",
       "      <td>True</td>\n",
       "      <td>False</td>\n",
       "    </tr>\n",
       "    <tr>\n",
       "      <th>3</th>\n",
       "      <td>711256</td>\n",
       "      <td>2000-01-04</td>\n",
       "      <td>01/07/2000</td>\n",
       "      <td>6089195</td>\n",
       "      <td>L13586</td>\n",
       "      <td>Lhoist North America of Alabama, LLC</td>\n",
       "      <td>Operator</td>\n",
       "      <td>100003</td>\n",
       "      <td>O'Neal Quarry &amp; Mill</td>\n",
       "      <td>01/04/2000</td>\n",
       "      <td>...</td>\n",
       "      <td>True</td>\n",
       "      <td>False</td>\n",
       "      <td>False</td>\n",
       "      <td>True</td>\n",
       "      <td>True</td>\n",
       "      <td>False</td>\n",
       "      <td>False</td>\n",
       "      <td>False</td>\n",
       "      <td>True</td>\n",
       "      <td>False</td>\n",
       "    </tr>\n",
       "    <tr>\n",
       "      <th>4</th>\n",
       "      <td>711256</td>\n",
       "      <td>2000-01-04</td>\n",
       "      <td>01/07/2000</td>\n",
       "      <td>6089196</td>\n",
       "      <td>L13586</td>\n",
       "      <td>Lhoist North America of Alabama, LLC</td>\n",
       "      <td>Operator</td>\n",
       "      <td>100003</td>\n",
       "      <td>O'Neal Quarry &amp; Mill</td>\n",
       "      <td>01/05/2000</td>\n",
       "      <td>...</td>\n",
       "      <td>True</td>\n",
       "      <td>False</td>\n",
       "      <td>False</td>\n",
       "      <td>True</td>\n",
       "      <td>True</td>\n",
       "      <td>False</td>\n",
       "      <td>False</td>\n",
       "      <td>False</td>\n",
       "      <td>True</td>\n",
       "      <td>False</td>\n",
       "    </tr>\n",
       "  </tbody>\n",
       "</table>\n",
       "<p>5 rows × 62 columns</p>\n",
       "</div>"
      ],
      "text/plain": [
       "   EVENT_NO INSPECTION_BEGIN_DT INSPECTION_END_DT  VIOLATION_NO VIOLATOR_ID  \\\n",
       "0    711256          2000-01-04        01/07/2000       6089192      L13586   \n",
       "1    711256          2000-01-04        01/07/2000       6089193      L13586   \n",
       "2    711256          2000-01-04        01/07/2000       6089194      L13586   \n",
       "3    711256          2000-01-04        01/07/2000       6089195      L13586   \n",
       "4    711256          2000-01-04        01/07/2000       6089196      L13586   \n",
       "\n",
       "                          VIOLATOR_NAME VIOLATOR_TYPE_CD  MINE_ID  \\\n",
       "0  Lhoist North America of Alabama, LLC         Operator   100003   \n",
       "1  Lhoist North America of Alabama, LLC         Operator   100003   \n",
       "2  Lhoist North America of Alabama, LLC         Operator   100003   \n",
       "3  Lhoist North America of Alabama, LLC         Operator   100003   \n",
       "4  Lhoist North America of Alabama, LLC         Operator   100003   \n",
       "\n",
       "              MINE_NAME VIOLATION_ISSUE_DT  ... MINE_TYPE_Surface  \\\n",
       "0  O'Neal Quarry & Mill         01/04/2000  ...              True   \n",
       "1  O'Neal Quarry & Mill         01/04/2000  ...              True   \n",
       "2  O'Neal Quarry & Mill         01/04/2000  ...              True   \n",
       "3  O'Neal Quarry & Mill         01/04/2000  ...              True   \n",
       "4  O'Neal Quarry & Mill         01/05/2000  ...              True   \n",
       "\n",
       "   MINE_TYPE_Underground  COAL_METAL_IND_C  COAL_METAL_IND_M  \\\n",
       "0                  False             False              True   \n",
       "1                  False             False              True   \n",
       "2                  False             False              True   \n",
       "3                  False             False              True   \n",
       "4                  False             False              True   \n",
       "\n",
       "   CIT_ORD_SAFE_Citation  CIT_ORD_SAFE_Notice CIT_ORD_SAFE_Order  \\\n",
       "0                   True                False              False   \n",
       "1                   True                False              False   \n",
       "2                   True                False              False   \n",
       "3                   True                False              False   \n",
       "4                   True                False              False   \n",
       "\n",
       "  CIT_ORD_SAFE_Safeguard SPECIAL_ASSESS_N SPECIAL_ASSESS_Y  \n",
       "0                  False             True            False  \n",
       "1                  False             True            False  \n",
       "2                  False             True            False  \n",
       "3                  False             True            False  \n",
       "4                  False             True            False  \n",
       "\n",
       "[5 rows x 62 columns]"
      ]
     },
     "execution_count": 49,
     "metadata": {},
     "output_type": "execute_result"
    }
   ],
   "source": [
    "violations_cleaned = pd.get_dummies(violations_cleaned, columns=['SECTION_OF_ACT_FILTERED', 'MINE_TYPE', 'COAL_METAL_IND', 'CIT_ORD_SAFE', 'SPECIAL_ASSESS'])\n",
    "violations_cleaned.head()"
   ]
  },
  {
   "attachments": {},
   "cell_type": "markdown",
   "metadata": {},
   "source": [
    "## Merge Violations and Accidents\n",
    "\n",
    "For each row in violations, add columns ['Accident_30','Accident_60', 'Accident_90'] as binary columns that show if an accident (or multiple accidents) occurred 30/60/90 days after the violation_data['VIOLATION_OCCUR_DT']. You can find out whether an accident happened in the time following a violation at a specific mine by looking at the accidents dataset, in the row that has the same ['MINE_ID'] value as the violations row that we're looking at. If any accident column (ACCIDENT_1\tACCIDENT_2\tACCIDENT_3....) has a date within 30 days, ['Accident_30'] should be 1. Same logic for 60 and 90 days. This dataset is very large so I rather not iterate through rows if possible"
   ]
  },
  {
   "cell_type": "code",
   "execution_count": 50,
   "metadata": {},
   "outputs": [],
   "source": [
    "sample_size = 100000"
   ]
  },
  {
   "cell_type": "code",
   "execution_count": 51,
   "metadata": {},
   "outputs": [],
   "source": [
    "violations_data = violations_cleaned.copy()"
   ]
  },
  {
   "cell_type": "code",
   "execution_count": 52,
   "metadata": {},
   "outputs": [
    {
     "data": {
      "text/html": [
       "<div>\n",
       "<style scoped>\n",
       "    .dataframe tbody tr th:only-of-type {\n",
       "        vertical-align: middle;\n",
       "    }\n",
       "\n",
       "    .dataframe tbody tr th {\n",
       "        vertical-align: top;\n",
       "    }\n",
       "\n",
       "    .dataframe thead th {\n",
       "        text-align: right;\n",
       "    }\n",
       "</style>\n",
       "<table border=\"1\" class=\"dataframe\">\n",
       "  <thead>\n",
       "    <tr style=\"text-align: right;\">\n",
       "      <th></th>\n",
       "      <th>VIOLATION_ISSUE_DT</th>\n",
       "      <th>VIOLATION_OCCUR_DT</th>\n",
       "    </tr>\n",
       "  </thead>\n",
       "  <tbody>\n",
       "    <tr>\n",
       "      <th>81</th>\n",
       "      <td>02/17/2009</td>\n",
       "      <td>01/13/2009</td>\n",
       "    </tr>\n",
       "    <tr>\n",
       "      <th>82</th>\n",
       "      <td>02/17/2009</td>\n",
       "      <td>01/13/2009</td>\n",
       "    </tr>\n",
       "    <tr>\n",
       "      <th>88</th>\n",
       "      <td>02/03/2009</td>\n",
       "      <td>01/18/2009</td>\n",
       "    </tr>\n",
       "    <tr>\n",
       "      <th>219</th>\n",
       "      <td>03/17/2016</td>\n",
       "      <td>10/16/2015</td>\n",
       "    </tr>\n",
       "    <tr>\n",
       "      <th>293</th>\n",
       "      <td>04/22/2010</td>\n",
       "      <td>03/05/2010</td>\n",
       "    </tr>\n",
       "    <tr>\n",
       "      <th>...</th>\n",
       "      <td>...</td>\n",
       "      <td>...</td>\n",
       "    </tr>\n",
       "    <tr>\n",
       "      <th>2812322</th>\n",
       "      <td>08/17/2017</td>\n",
       "      <td>08/16/2017</td>\n",
       "    </tr>\n",
       "    <tr>\n",
       "      <th>2812362</th>\n",
       "      <td>12/12/2012</td>\n",
       "      <td>12/11/2012</td>\n",
       "    </tr>\n",
       "    <tr>\n",
       "      <th>2812615</th>\n",
       "      <td>03/17/2009</td>\n",
       "      <td>03/16/2009</td>\n",
       "    </tr>\n",
       "    <tr>\n",
       "      <th>2812616</th>\n",
       "      <td>03/17/2009</td>\n",
       "      <td>03/16/2009</td>\n",
       "    </tr>\n",
       "    <tr>\n",
       "      <th>2812617</th>\n",
       "      <td>03/17/2009</td>\n",
       "      <td>03/16/2009</td>\n",
       "    </tr>\n",
       "  </tbody>\n",
       "</table>\n",
       "<p>46019 rows × 2 columns</p>\n",
       "</div>"
      ],
      "text/plain": [
       "        VIOLATION_ISSUE_DT VIOLATION_OCCUR_DT\n",
       "81              02/17/2009         01/13/2009\n",
       "82              02/17/2009         01/13/2009\n",
       "88              02/03/2009         01/18/2009\n",
       "219             03/17/2016         10/16/2015\n",
       "293             04/22/2010         03/05/2010\n",
       "...                    ...                ...\n",
       "2812322         08/17/2017         08/16/2017\n",
       "2812362         12/12/2012         12/11/2012\n",
       "2812615         03/17/2009         03/16/2009\n",
       "2812616         03/17/2009         03/16/2009\n",
       "2812617         03/17/2009         03/16/2009\n",
       "\n",
       "[46019 rows x 2 columns]"
      ]
     },
     "execution_count": 52,
     "metadata": {},
     "output_type": "execute_result"
    }
   ],
   "source": [
    "# Violation Occur Date is not always the same as Violation Issue Date - \n",
    "# Have to decide which one to use \n",
    "violations_data[violations_data['VIOLATION_ISSUE_DT'] != violations_data['VIOLATION_OCCUR_DT']][['VIOLATION_ISSUE_DT', 'VIOLATION_OCCUR_DT']]"
   ]
  },
  {
   "cell_type": "code",
   "execution_count": 53,
   "metadata": {},
   "outputs": [],
   "source": [
    "### Create a new df with the dates of accidents at each mine\n",
    "\n",
    "# Grab just the accident dates and the Mine ID columns from accidents data\n",
    "accident_dates = accidents[['MINE_ID', 'ACCIDENT_DT']].copy()\n",
    "\n",
    "# Convert the 'ACCIDENT_DT' column to datetime format using .loc\n",
    "accident_dates.loc[:, 'ACCIDENT_DT'] = pd.to_datetime(accident_dates['ACCIDENT_DT'], format='%m/%d/%Y')\n",
    "\n",
    "# Create a new column to count occurrences of accidents for each MINE_ID using .loc\n",
    "accident_dates.loc[:, 'ACCIDENT_NUMBER'] = accident_dates.groupby('MINE_ID').cumcount() + 1\n",
    "\n",
    "# Pivot the DataFrame\n",
    "accident_dates = accident_dates.pivot(index='MINE_ID', columns='ACCIDENT_NUMBER', values='ACCIDENT_DT')\n",
    "\n",
    "# Rename the columns to have meaningful names\n",
    "accident_dates.columns = ['ACCIDENT_' + str(i) for i in accident_dates.columns]\n",
    "\n",
    "# Reset the index if needed\n",
    "accident_dates = accident_dates.reset_index()"
   ]
  },
  {
   "attachments": {},
   "cell_type": "markdown",
   "metadata": {},
   "source": [
    "Insight: There are duplicated VIOLATION_NO values"
   ]
  },
  {
   "cell_type": "code",
   "execution_count": 54,
   "metadata": {},
   "outputs": [
    {
     "data": {
      "text/plain": [
       "False"
      ]
     },
     "execution_count": 54,
     "metadata": {},
     "output_type": "execute_result"
    }
   ],
   "source": [
    "violations_data['VIOLATION_NO'].nunique() == violations_data.shape[0]"
   ]
  },
  {
   "cell_type": "code",
   "execution_count": 55,
   "metadata": {},
   "outputs": [
    {
     "data": {
      "text/html": [
       "<div>\n",
       "<style scoped>\n",
       "    .dataframe tbody tr th:only-of-type {\n",
       "        vertical-align: middle;\n",
       "    }\n",
       "\n",
       "    .dataframe tbody tr th {\n",
       "        vertical-align: top;\n",
       "    }\n",
       "\n",
       "    .dataframe thead th {\n",
       "        text-align: right;\n",
       "    }\n",
       "</style>\n",
       "<table border=\"1\" class=\"dataframe\">\n",
       "  <thead>\n",
       "    <tr style=\"text-align: right;\">\n",
       "      <th></th>\n",
       "      <th>EVENT_NO</th>\n",
       "      <th>INSPECTION_BEGIN_DT</th>\n",
       "      <th>INSPECTION_END_DT</th>\n",
       "      <th>VIOLATION_NO</th>\n",
       "      <th>VIOLATOR_ID</th>\n",
       "      <th>VIOLATOR_NAME</th>\n",
       "      <th>VIOLATOR_TYPE_CD</th>\n",
       "      <th>MINE_ID</th>\n",
       "      <th>MINE_NAME</th>\n",
       "      <th>VIOLATION_ISSUE_DT</th>\n",
       "      <th>...</th>\n",
       "      <th>MINE_TYPE_Surface</th>\n",
       "      <th>MINE_TYPE_Underground</th>\n",
       "      <th>COAL_METAL_IND_C</th>\n",
       "      <th>COAL_METAL_IND_M</th>\n",
       "      <th>CIT_ORD_SAFE_Citation</th>\n",
       "      <th>CIT_ORD_SAFE_Notice</th>\n",
       "      <th>CIT_ORD_SAFE_Order</th>\n",
       "      <th>CIT_ORD_SAFE_Safeguard</th>\n",
       "      <th>SPECIAL_ASSESS_N</th>\n",
       "      <th>SPECIAL_ASSESS_Y</th>\n",
       "    </tr>\n",
       "  </thead>\n",
       "  <tbody>\n",
       "    <tr>\n",
       "      <th>465422</th>\n",
       "      <td>6156330</td>\n",
       "      <td>2008-01-30</td>\n",
       "      <td>02/01/2008</td>\n",
       "      <td>6673447</td>\n",
       "      <td>P24038</td>\n",
       "      <td>Big Ridge Inc</td>\n",
       "      <td>Operator</td>\n",
       "      <td>1103054</td>\n",
       "      <td>Willow Lake Portal</td>\n",
       "      <td>01/30/2008</td>\n",
       "      <td>...</td>\n",
       "      <td>False</td>\n",
       "      <td>True</td>\n",
       "      <td>True</td>\n",
       "      <td>False</td>\n",
       "      <td>True</td>\n",
       "      <td>False</td>\n",
       "      <td>False</td>\n",
       "      <td>False</td>\n",
       "      <td>True</td>\n",
       "      <td>False</td>\n",
       "    </tr>\n",
       "    <tr>\n",
       "      <th>465423</th>\n",
       "      <td>6156330</td>\n",
       "      <td>2008-01-30</td>\n",
       "      <td>02/01/2008</td>\n",
       "      <td>6673447</td>\n",
       "      <td>P24038</td>\n",
       "      <td>Big Ridge Inc</td>\n",
       "      <td>Operator</td>\n",
       "      <td>1103054</td>\n",
       "      <td>Willow Lake Portal</td>\n",
       "      <td>01/30/2008</td>\n",
       "      <td>...</td>\n",
       "      <td>False</td>\n",
       "      <td>True</td>\n",
       "      <td>True</td>\n",
       "      <td>False</td>\n",
       "      <td>True</td>\n",
       "      <td>False</td>\n",
       "      <td>False</td>\n",
       "      <td>False</td>\n",
       "      <td>True</td>\n",
       "      <td>False</td>\n",
       "    </tr>\n",
       "    <tr>\n",
       "      <th>754539</th>\n",
       "      <td>4206742</td>\n",
       "      <td>2002-01-03</td>\n",
       "      <td>01/28/2002</td>\n",
       "      <td>7531415</td>\n",
       "      <td>P24481</td>\n",
       "      <td>Highlands Mining &amp; Processing Company Inc</td>\n",
       "      <td>Operator</td>\n",
       "      <td>1516011</td>\n",
       "      <td>Mine #4</td>\n",
       "      <td>01/08/2002</td>\n",
       "      <td>...</td>\n",
       "      <td>False</td>\n",
       "      <td>True</td>\n",
       "      <td>True</td>\n",
       "      <td>False</td>\n",
       "      <td>True</td>\n",
       "      <td>False</td>\n",
       "      <td>False</td>\n",
       "      <td>False</td>\n",
       "      <td>True</td>\n",
       "      <td>False</td>\n",
       "    </tr>\n",
       "    <tr>\n",
       "      <th>754540</th>\n",
       "      <td>4206742</td>\n",
       "      <td>2002-01-03</td>\n",
       "      <td>01/28/2002</td>\n",
       "      <td>7531415</td>\n",
       "      <td>P24481</td>\n",
       "      <td>Highlands Mining &amp; Processing Company Inc</td>\n",
       "      <td>Operator</td>\n",
       "      <td>1516011</td>\n",
       "      <td>Mine #4</td>\n",
       "      <td>01/08/2002</td>\n",
       "      <td>...</td>\n",
       "      <td>False</td>\n",
       "      <td>True</td>\n",
       "      <td>True</td>\n",
       "      <td>False</td>\n",
       "      <td>True</td>\n",
       "      <td>False</td>\n",
       "      <td>False</td>\n",
       "      <td>False</td>\n",
       "      <td>True</td>\n",
       "      <td>False</td>\n",
       "    </tr>\n",
       "    <tr>\n",
       "      <th>754541</th>\n",
       "      <td>4206742</td>\n",
       "      <td>2002-01-03</td>\n",
       "      <td>01/28/2002</td>\n",
       "      <td>7531416</td>\n",
       "      <td>P24481</td>\n",
       "      <td>Highlands Mining &amp; Processing Company Inc</td>\n",
       "      <td>Operator</td>\n",
       "      <td>1516011</td>\n",
       "      <td>Mine #4</td>\n",
       "      <td>01/08/2002</td>\n",
       "      <td>...</td>\n",
       "      <td>False</td>\n",
       "      <td>True</td>\n",
       "      <td>True</td>\n",
       "      <td>False</td>\n",
       "      <td>True</td>\n",
       "      <td>False</td>\n",
       "      <td>False</td>\n",
       "      <td>False</td>\n",
       "      <td>True</td>\n",
       "      <td>False</td>\n",
       "    </tr>\n",
       "    <tr>\n",
       "      <th>...</th>\n",
       "      <td>...</td>\n",
       "      <td>...</td>\n",
       "      <td>...</td>\n",
       "      <td>...</td>\n",
       "      <td>...</td>\n",
       "      <td>...</td>\n",
       "      <td>...</td>\n",
       "      <td>...</td>\n",
       "      <td>...</td>\n",
       "      <td>...</td>\n",
       "      <td>...</td>\n",
       "      <td>...</td>\n",
       "      <td>...</td>\n",
       "      <td>...</td>\n",
       "      <td>...</td>\n",
       "      <td>...</td>\n",
       "      <td>...</td>\n",
       "      <td>...</td>\n",
       "      <td>...</td>\n",
       "      <td>...</td>\n",
       "      <td>...</td>\n",
       "    </tr>\n",
       "    <tr>\n",
       "      <th>2322117</th>\n",
       "      <td>4358107</td>\n",
       "      <td>2006-01-03</td>\n",
       "      <td>04/14/2006</td>\n",
       "      <td>6601251</td>\n",
       "      <td>P24184</td>\n",
       "      <td>Eastern Associated Coal LLC</td>\n",
       "      <td>Operator</td>\n",
       "      <td>4601456</td>\n",
       "      <td>Federal No 2</td>\n",
       "      <td>03/09/2006</td>\n",
       "      <td>...</td>\n",
       "      <td>False</td>\n",
       "      <td>False</td>\n",
       "      <td>True</td>\n",
       "      <td>False</td>\n",
       "      <td>True</td>\n",
       "      <td>False</td>\n",
       "      <td>False</td>\n",
       "      <td>False</td>\n",
       "      <td>True</td>\n",
       "      <td>False</td>\n",
       "    </tr>\n",
       "    <tr>\n",
       "      <th>2350191</th>\n",
       "      <td>4052852</td>\n",
       "      <td>2000-08-16</td>\n",
       "      <td>11/09/2000</td>\n",
       "      <td>7088629</td>\n",
       "      <td>P00812</td>\n",
       "      <td>Consolidation Coal Company</td>\n",
       "      <td>Operator</td>\n",
       "      <td>4601968</td>\n",
       "      <td>Monongalia County Mine</td>\n",
       "      <td>09/15/2000</td>\n",
       "      <td>...</td>\n",
       "      <td>False</td>\n",
       "      <td>False</td>\n",
       "      <td>True</td>\n",
       "      <td>False</td>\n",
       "      <td>True</td>\n",
       "      <td>False</td>\n",
       "      <td>False</td>\n",
       "      <td>False</td>\n",
       "      <td>True</td>\n",
       "      <td>False</td>\n",
       "    </tr>\n",
       "    <tr>\n",
       "      <th>2350192</th>\n",
       "      <td>4052852</td>\n",
       "      <td>2000-08-16</td>\n",
       "      <td>11/09/2000</td>\n",
       "      <td>7088629</td>\n",
       "      <td>P00812</td>\n",
       "      <td>Consolidation Coal Company</td>\n",
       "      <td>Operator</td>\n",
       "      <td>4601968</td>\n",
       "      <td>Monongalia County Mine</td>\n",
       "      <td>09/15/2000</td>\n",
       "      <td>...</td>\n",
       "      <td>False</td>\n",
       "      <td>False</td>\n",
       "      <td>True</td>\n",
       "      <td>False</td>\n",
       "      <td>True</td>\n",
       "      <td>False</td>\n",
       "      <td>False</td>\n",
       "      <td>False</td>\n",
       "      <td>True</td>\n",
       "      <td>False</td>\n",
       "    </tr>\n",
       "    <tr>\n",
       "      <th>2350193</th>\n",
       "      <td>4052852</td>\n",
       "      <td>2000-08-16</td>\n",
       "      <td>11/09/2000</td>\n",
       "      <td>7088630</td>\n",
       "      <td>P00812</td>\n",
       "      <td>Consolidation Coal Company</td>\n",
       "      <td>Operator</td>\n",
       "      <td>4601968</td>\n",
       "      <td>Monongalia County Mine</td>\n",
       "      <td>09/15/2000</td>\n",
       "      <td>...</td>\n",
       "      <td>False</td>\n",
       "      <td>False</td>\n",
       "      <td>True</td>\n",
       "      <td>False</td>\n",
       "      <td>True</td>\n",
       "      <td>False</td>\n",
       "      <td>False</td>\n",
       "      <td>False</td>\n",
       "      <td>True</td>\n",
       "      <td>False</td>\n",
       "    </tr>\n",
       "    <tr>\n",
       "      <th>2350194</th>\n",
       "      <td>4052852</td>\n",
       "      <td>2000-08-16</td>\n",
       "      <td>11/09/2000</td>\n",
       "      <td>7088630</td>\n",
       "      <td>P00812</td>\n",
       "      <td>Consolidation Coal Company</td>\n",
       "      <td>Operator</td>\n",
       "      <td>4601968</td>\n",
       "      <td>Monongalia County Mine</td>\n",
       "      <td>09/15/2000</td>\n",
       "      <td>...</td>\n",
       "      <td>False</td>\n",
       "      <td>False</td>\n",
       "      <td>True</td>\n",
       "      <td>False</td>\n",
       "      <td>True</td>\n",
       "      <td>False</td>\n",
       "      <td>False</td>\n",
       "      <td>False</td>\n",
       "      <td>True</td>\n",
       "      <td>False</td>\n",
       "    </tr>\n",
       "  </tbody>\n",
       "</table>\n",
       "<p>98 rows × 62 columns</p>\n",
       "</div>"
      ],
      "text/plain": [
       "         EVENT_NO INSPECTION_BEGIN_DT INSPECTION_END_DT  VIOLATION_NO  \\\n",
       "465422    6156330          2008-01-30        02/01/2008       6673447   \n",
       "465423    6156330          2008-01-30        02/01/2008       6673447   \n",
       "754539    4206742          2002-01-03        01/28/2002       7531415   \n",
       "754540    4206742          2002-01-03        01/28/2002       7531415   \n",
       "754541    4206742          2002-01-03        01/28/2002       7531416   \n",
       "...           ...                 ...               ...           ...   \n",
       "2322117   4358107          2006-01-03        04/14/2006       6601251   \n",
       "2350191   4052852          2000-08-16        11/09/2000       7088629   \n",
       "2350192   4052852          2000-08-16        11/09/2000       7088629   \n",
       "2350193   4052852          2000-08-16        11/09/2000       7088630   \n",
       "2350194   4052852          2000-08-16        11/09/2000       7088630   \n",
       "\n",
       "        VIOLATOR_ID                              VIOLATOR_NAME  \\\n",
       "465422       P24038                              Big Ridge Inc   \n",
       "465423       P24038                              Big Ridge Inc   \n",
       "754539       P24481  Highlands Mining & Processing Company Inc   \n",
       "754540       P24481  Highlands Mining & Processing Company Inc   \n",
       "754541       P24481  Highlands Mining & Processing Company Inc   \n",
       "...             ...                                        ...   \n",
       "2322117      P24184                Eastern Associated Coal LLC   \n",
       "2350191      P00812                 Consolidation Coal Company   \n",
       "2350192      P00812                 Consolidation Coal Company   \n",
       "2350193      P00812                 Consolidation Coal Company   \n",
       "2350194      P00812                 Consolidation Coal Company   \n",
       "\n",
       "        VIOLATOR_TYPE_CD  MINE_ID               MINE_NAME VIOLATION_ISSUE_DT  \\\n",
       "465422          Operator  1103054      Willow Lake Portal         01/30/2008   \n",
       "465423          Operator  1103054      Willow Lake Portal         01/30/2008   \n",
       "754539          Operator  1516011                 Mine #4         01/08/2002   \n",
       "754540          Operator  1516011                 Mine #4         01/08/2002   \n",
       "754541          Operator  1516011                 Mine #4         01/08/2002   \n",
       "...                  ...      ...                     ...                ...   \n",
       "2322117         Operator  4601456            Federal No 2         03/09/2006   \n",
       "2350191         Operator  4601968  Monongalia County Mine         09/15/2000   \n",
       "2350192         Operator  4601968  Monongalia County Mine         09/15/2000   \n",
       "2350193         Operator  4601968  Monongalia County Mine         09/15/2000   \n",
       "2350194         Operator  4601968  Monongalia County Mine         09/15/2000   \n",
       "\n",
       "         ... MINE_TYPE_Surface  MINE_TYPE_Underground  COAL_METAL_IND_C  \\\n",
       "465422   ...             False                   True              True   \n",
       "465423   ...             False                   True              True   \n",
       "754539   ...             False                   True              True   \n",
       "754540   ...             False                   True              True   \n",
       "754541   ...             False                   True              True   \n",
       "...      ...               ...                    ...               ...   \n",
       "2322117  ...             False                  False              True   \n",
       "2350191  ...             False                  False              True   \n",
       "2350192  ...             False                  False              True   \n",
       "2350193  ...             False                  False              True   \n",
       "2350194  ...             False                  False              True   \n",
       "\n",
       "         COAL_METAL_IND_M  CIT_ORD_SAFE_Citation  CIT_ORD_SAFE_Notice  \\\n",
       "465422              False                   True                False   \n",
       "465423              False                   True                False   \n",
       "754539              False                   True                False   \n",
       "754540              False                   True                False   \n",
       "754541              False                   True                False   \n",
       "...                   ...                    ...                  ...   \n",
       "2322117             False                   True                False   \n",
       "2350191             False                   True                False   \n",
       "2350192             False                   True                False   \n",
       "2350193             False                   True                False   \n",
       "2350194             False                   True                False   \n",
       "\n",
       "        CIT_ORD_SAFE_Order CIT_ORD_SAFE_Safeguard SPECIAL_ASSESS_N  \\\n",
       "465422               False                  False             True   \n",
       "465423               False                  False             True   \n",
       "754539               False                  False             True   \n",
       "754540               False                  False             True   \n",
       "754541               False                  False             True   \n",
       "...                    ...                    ...              ...   \n",
       "2322117              False                  False             True   \n",
       "2350191              False                  False             True   \n",
       "2350192              False                  False             True   \n",
       "2350193              False                  False             True   \n",
       "2350194              False                  False             True   \n",
       "\n",
       "        SPECIAL_ASSESS_Y  \n",
       "465422             False  \n",
       "465423             False  \n",
       "754539             False  \n",
       "754540             False  \n",
       "754541             False  \n",
       "...                  ...  \n",
       "2322117            False  \n",
       "2350191            False  \n",
       "2350192            False  \n",
       "2350193            False  \n",
       "2350194            False  \n",
       "\n",
       "[98 rows x 62 columns]"
      ]
     },
     "execution_count": 55,
     "metadata": {},
     "output_type": "execute_result"
    }
   ],
   "source": [
    "# Check for duplicate 'VIOLATION_NO' values\n",
    "duplicates_mask = violations_data.duplicated(subset='VIOLATION_NO', keep=False)\n",
    "\n",
    "# Select rows with duplicated 'VIOLATION_NO' values\n",
    "violations_data[duplicates_mask]"
   ]
  },
  {
   "cell_type": "code",
   "execution_count": 56,
   "metadata": {},
   "outputs": [],
   "source": [
    "# accidents_violations_merged = violations_data[['VIOLATION_OCCUR_DT', 'MINE_ID', 'VIOLATION_NO']].head(1000).merge(accident_dates.head(1000), on = 'MINE_ID', how = 'left')"
   ]
  },
  {
   "cell_type": "code",
   "execution_count": 57,
   "metadata": {},
   "outputs": [],
   "source": [
    "accidents_violations_merged = violations_data.head(sample_size).merge(accident_dates.head(sample_size), on = 'MINE_ID', how = 'left')"
   ]
  },
  {
   "cell_type": "code",
   "execution_count": 58,
   "metadata": {},
   "outputs": [],
   "source": [
    "### Method 2 with all other info\n",
    "\n",
    "# accidents_violations_merged = violations_data.head(1000000).merge(accident_dates.head(1000000), on = 'MINE_ID', how = 'outer')\n",
    "\n",
    "#Reorder the columns to move 'VIOLATION_NO' and 'MINE_ID' to the first two columns\n",
    "new_order = ['VIOLATION_OCCUR_DT', 'MINE_ID', 'VIOLATION_NO'] + [col for col in accidents_violations_merged.columns if col not in ['VIOLATION_NO', 'MINE_ID']]\n",
    "\n",
    "# Reassign the DataFrame with the new column order\n",
    "accidents_violations_merged = accidents_violations_merged[new_order]"
   ]
  },
  {
   "cell_type": "code",
   "execution_count": 59,
   "metadata": {},
   "outputs": [
    {
     "name": "stdout",
     "output_type": "stream",
     "text": [
      "The 'ACCIDENT_i' columns start at index: 63\n"
     ]
    }
   ],
   "source": [
    "### Find the index where the accident date columns start \n",
    "\n",
    "# Find the index where the 'ACCIDENT_i' columns start\n",
    "accident_columns_start_index = accidents_violations_merged.columns.get_loc('ACCIDENT_1')\n",
    "\n",
    "# Display the index where the 'ACCIDENT_i' columns start\n",
    "print(\"The 'ACCIDENT_i' columns start at index:\", accident_columns_start_index)"
   ]
  },
  {
   "cell_type": "code",
   "execution_count": 60,
   "metadata": {},
   "outputs": [],
   "source": [
    "# There are duplicated columns after the merge - drop them so that the 30/60/90 works\n",
    "accidents_violations_merged = accidents_violations_merged.iloc[:, ~accidents_violations_merged.columns.duplicated()]"
   ]
  },
  {
   "cell_type": "code",
   "execution_count": 61,
   "metadata": {},
   "outputs": [
    {
     "data": {
      "text/plain": [
       "0        01/04/2000\n",
       "1        01/04/2000\n",
       "2        01/04/2000\n",
       "3        01/04/2000\n",
       "4        01/05/2000\n",
       "            ...    \n",
       "99995    11/30/2022\n",
       "99996    11/30/2022\n",
       "99997    12/07/2020\n",
       "99998    12/14/2016\n",
       "99999    12/14/2016\n",
       "Name: VIOLATION_OCCUR_DT, Length: 100000, dtype: object"
      ]
     },
     "execution_count": 61,
     "metadata": {},
     "output_type": "execute_result"
    }
   ],
   "source": [
    "# Check that duplicates were dropped - this was a duplicate\n",
    "accidents_violations_merged['VIOLATION_OCCUR_DT']"
   ]
  },
  {
   "cell_type": "code",
   "execution_count": 62,
   "metadata": {},
   "outputs": [
    {
     "name": "stderr",
     "output_type": "stream",
     "text": [
      "/var/folders/pf/065skph15m56xshv4vk3x09m0000gn/T/ipykernel_12922/3548747735.py:14: PerformanceWarning: DataFrame is highly fragmented.  This is usually the result of calling `frame.insert` many times, which has poor performance.  Consider joining all columns at once using pd.concat(axis=1) instead. To get a de-fragmented frame, use `newframe = frame.copy()`\n",
      "  accidents_violations_merged['ACCIDENT_DATES'] = accidents_violations_merged[accident_columns].apply(lambda x: x.dropna().unique(), axis=1)\n",
      "/var/folders/pf/065skph15m56xshv4vk3x09m0000gn/T/ipykernel_12922/3548747735.py:35: PerformanceWarning: DataFrame is highly fragmented.  This is usually the result of calling `frame.insert` many times, which has poor performance.  Consider joining all columns at once using pd.concat(axis=1) instead. To get a de-fragmented frame, use `newframe = frame.copy()`\n",
      "  accidents_violations_merged['ACCIDENT_in_30'] = accidents_violations_merged.apply(lambda row: check_within_30_days(row['ACCIDENT_DATES'], row['VIOLATION_OCCUR_DT']), axis=1)\n",
      "/var/folders/pf/065skph15m56xshv4vk3x09m0000gn/T/ipykernel_12922/3548747735.py:38: PerformanceWarning: DataFrame is highly fragmented.  This is usually the result of calling `frame.insert` many times, which has poor performance.  Consider joining all columns at once using pd.concat(axis=1) instead. To get a de-fragmented frame, use `newframe = frame.copy()`\n",
      "  accidents_violations_merged['ACCIDENT_in_60'] = accidents_violations_merged.apply(lambda row: check_within_60_days(row['ACCIDENT_DATES'], row['VIOLATION_OCCUR_DT']), axis=1)\n",
      "/var/folders/pf/065skph15m56xshv4vk3x09m0000gn/T/ipykernel_12922/3548747735.py:41: PerformanceWarning: DataFrame is highly fragmented.  This is usually the result of calling `frame.insert` many times, which has poor performance.  Consider joining all columns at once using pd.concat(axis=1) instead. To get a de-fragmented frame, use `newframe = frame.copy()`\n",
      "  accidents_violations_merged['ACCIDENT_in_90'] = accidents_violations_merged.apply(lambda row: check_within_90_days(row['ACCIDENT_DATES'], row['VIOLATION_OCCUR_DT']), axis=1)\n"
     ]
    }
   ],
   "source": [
    "### Columns for if an accident occured at that mine 30/60/90 days after the violation occured\n",
    "\n",
    "# Convert the 'ACCIDENT_1', 'ACCIDENT_2', etc., columns to datetime format - all columns except the first two\n",
    "for col in accidents_violations_merged.columns[accident_columns_start_index:]:\n",
    "    accidents_violations_merged[col] = pd.to_datetime(accidents_violations_merged[col], format='%Y-%m-%d')\n",
    "\n",
    "# Convert the 'VIOLATION_OCCUR_DT' column to datetime format\n",
    "accidents_violations_merged['VIOLATION_OCCUR_DT'] = pd.to_datetime(accidents_violations_merged['VIOLATION_OCCUR_DT'], format='%m/%d/%Y')\n",
    "\n",
    "# Check if any accident date is within 30 days of the violation occurrence date\n",
    "accident_columns = [col for col in accidents_violations_merged.columns[2:] if 'ACCIDENT' in col]\n",
    "\n",
    "# Group by 'MINE_ID' and create a list of unique dates for each group\n",
    "accidents_violations_merged['ACCIDENT_DATES'] = accidents_violations_merged[accident_columns].apply(lambda x: x.dropna().unique(), axis=1)\n",
    "\n",
    "# Function to check if any date is within 30 days of the violation occurrence date\n",
    "def check_within_30_days(accident_dates, violation_date):\n",
    "    if pd.isnull(accident_dates).any():\n",
    "        return pd.NA\n",
    "    return any((violation_date <= date <= violation_date + pd.Timedelta(days=30)) for date in accident_dates)\n",
    "\n",
    "# Function to check if any date is within 60 days of the violation occurrence date\n",
    "def check_within_60_days(accident_dates, violation_date):\n",
    "    if pd.isnull(accident_dates).any():\n",
    "        return pd.NA\n",
    "    return any((violation_date <= date <= violation_date + pd.Timedelta(days=60)) for date in accident_dates)\n",
    "\n",
    "# Function to check if any date is within 90 days of the violation occurrence date\n",
    "def check_within_90_days(accident_dates, violation_date):\n",
    "    if pd.isnull(accident_dates).any():\n",
    "        return pd.NA\n",
    "    return any((violation_date <= date <= violation_date + pd.Timedelta(days=90)) for date in accident_dates)\n",
    "\n",
    "# Apply the function to create the 'ACCIDENT_30' column\n",
    "accidents_violations_merged['ACCIDENT_in_30'] = accidents_violations_merged.apply(lambda row: check_within_30_days(row['ACCIDENT_DATES'], row['VIOLATION_OCCUR_DT']), axis=1)\n",
    "\n",
    "# Apply the function to create the 'ACCIDENT_60' column\n",
    "accidents_violations_merged['ACCIDENT_in_60'] = accidents_violations_merged.apply(lambda row: check_within_60_days(row['ACCIDENT_DATES'], row['VIOLATION_OCCUR_DT']), axis=1)\n",
    "\n",
    "# Apply the function to create the 'ACCIDENT_90' column\n",
    "accidents_violations_merged['ACCIDENT_in_90'] = accidents_violations_merged.apply(lambda row: check_within_90_days(row['ACCIDENT_DATES'], row['VIOLATION_OCCUR_DT']), axis=1)\n",
    "\n",
    "# Convert the boolean values in 'ACCIDENT_30', 'ACCIDENT_60', and 'ACCIDENT_90' to 1 or 0\n",
    "accidents_violations_merged['ACCIDENT_in_30'] = accidents_violations_merged['ACCIDENT_in_30'].astype(int)\n",
    "accidents_violations_merged['ACCIDENT_in_60'] = accidents_violations_merged['ACCIDENT_in_60'].astype(int)\n",
    "accidents_violations_merged['ACCIDENT_in_90'] = accidents_violations_merged['ACCIDENT_in_90'].astype(int)\n",
    "\n",
    "# Drop the temporary 'ACCIDENT_DATES' column\n",
    "accidents_violations_merged = accidents_violations_merged.drop(columns='ACCIDENT_DATES')"
   ]
  },
  {
   "cell_type": "code",
   "execution_count": 63,
   "metadata": {},
   "outputs": [],
   "source": [
    "# accidents_violations_merged[(accidents_violations_merged['ACCIDENT_in_60']== 1) &(accidents_violations_merged['ACCIDENT_in_90']== 1)][['MINE_ID', 'VIOLATION_OCCUR_DT', 'ACCIDENT_in_30',  'ACCIDENT_in_60',  'ACCIDENT_in_90']]"
   ]
  },
  {
   "cell_type": "code",
   "execution_count": 64,
   "metadata": {},
   "outputs": [],
   "source": [
    "### Drop all of the Accident Columns \n",
    "\n",
    "#List all columns that start with 'ACCIDENT_'\n",
    "accident_columns_to_drop = [col for col in accidents_violations_merged.columns if col.startswith('ACCIDENT_')]\n",
    "\n",
    "# Keep only the desired columns: 'ACCIDENT_in_30', 'ACCIDENT_in_60', 'ACCIDENT_in_90'\n",
    "columns_to_keep = ['ACCIDENT_in_30', 'ACCIDENT_in_60', 'ACCIDENT_in_90']\n",
    "\n",
    "# Combine the columns to drop and the columns to keep\n",
    "columns_to_drop = [col for col in accident_columns_to_drop if col not in columns_to_keep]\n",
    "\n",
    "# Drop the columns from the DataFrame\n",
    "accidents_violations_merged = accidents_violations_merged.drop(columns=columns_to_drop)"
   ]
  },
  {
   "cell_type": "code",
   "execution_count": 65,
   "metadata": {},
   "outputs": [
    {
     "data": {
      "image/png": "[encoded data removed]",
      "text/plain": [
       "<Figure size 1000x600 with 1 Axes>"
      ]
     },
     "metadata": {},
     "output_type": "display_data"
    }
   ],
   "source": [
    "### EDA for Merged\n",
    "\n",
    "# Count the number of accidents for each mine\n",
    "accident_counts = accident_dates.iloc[:, 1:].count(axis=1)\n",
    "\n",
    "# Create a histogram\n",
    "plt.figure(figsize=(10, 6))\n",
    "plt.hist(accident_counts, bins=10)  # Adjust the number of bins as needed\n",
    "\n",
    "# Set labels and title\n",
    "plt.xlabel('Number of Accidents')\n",
    "plt.ylabel('Frequency')\n",
    "plt.title('Accidents per Mine Frequency Distribution')\n",
    "\n",
    "# Show the plot\n",
    "plt.show()"
   ]
  },
  {
   "cell_type": "code",
   "execution_count": 66,
   "metadata": {},
   "outputs": [
    {
     "data": {
      "image/png": "[encoded data removed]",
      "text/plain": [
       "<Figure size 640x480 with 1 Axes>"
      ]
     },
     "metadata": {},
     "output_type": "display_data"
    }
   ],
   "source": [
    "# Count the number of '1's in each column\n",
    "accident_30_count = accidents_violations_merged['ACCIDENT_in_30'].value_counts()[1]\n",
    "accident_60_count = accidents_violations_merged['ACCIDENT_in_60'].value_counts()[1]\n",
    "accident_90_count = accidents_violations_merged['ACCIDENT_in_90'].value_counts()[1]\n",
    "\n",
    "# Create a list of counts and labels\n",
    "counts = [accident_30_count, accident_60_count, accident_90_count]\n",
    "labels = ['ACCIDENT_in_30', 'ACCIDENT_in_60', 'ACCIDENT_in_90']\n",
    "\n",
    "# Create a figure and axis\n",
    "fig, ax = plt.subplots()\n",
    "\n",
    "# Plot the bar chart\n",
    "ax.bar(labels, counts)\n",
    "\n",
    "# Set labels and title\n",
    "ax.set_xlabel(\"Time Frame after Violation\")\n",
    "ax.set_ylabel(\"Count of Accidents\")\n",
    "ax.set_title(\"Count of Accidents in 30, 60, and 90 Days after Violations\")\n",
    "\n",
    "# Show the plot\n",
    "plt.show()"
   ]
  },
  {
   "cell_type": "code",
   "execution_count": 67,
   "metadata": {},
   "outputs": [
    {
     "data": {
      "image/png": "[encoded data removed]",
      "text/plain": [
       "<Figure size 1000x800 with 2 Axes>"
      ]
     },
     "metadata": {},
     "output_type": "display_data"
    }
   ],
   "source": [
    "### Correlation between accidents occuring and each of the columns \n",
    "\n",
    "# Select the columns for the heatmap\n",
    "#heatmap_columns = ['ACCIDENT_in_30_TEST', 'ACCIDENT_in_60_TEST', 'ACCIDENT_in_90_TEST', 'SIG_SUB', 'PROPOSED_PENALTY', 'AMOUNT_DUE', 'AMOUNT_PAID', 'NEGLIGENCE', 'NO_AFFECTED', 'LIKELIHOOD']\n",
    "heatmap_columns = ['ACCIDENT_in_30', 'ACCIDENT_in_60', 'ACCIDENT_in_90', 'SIG_SUB_BINARY', 'NEGLIGENCE_SCORE', 'NO_AFFECTED', 'LIKELIHOOD_SCORE', 'VIOLATION_SEVERITY', 'INSPECTION_LENGTH_DAYS']\n",
    "\n",
    "# Calculate the correlation matrix\n",
    "correlation_matrix = accidents_violations_merged[heatmap_columns].corr()\n",
    "\n",
    "# Set seaborn context and font scale\n",
    "sns.set(font_scale=1.2)\n",
    "sns.set_context(\"paper\", rc={\"font.size\": 12, \"axes.titlesize\": 12, \"axes.labelsize\": 12})\n",
    "\n",
    "# Create a heatmap using seaborn\n",
    "plt.figure(figsize=(10, 8))\n",
    "sns.heatmap(correlation_matrix, annot=True, cmap='coolwarm', fmt='.2f', linewidths=0.5)\n",
    "\n",
    "# Set title and display the plot\n",
    "plt.title(\"Correlation Heatmap\")\n",
    "plt.show()"
   ]
  },
  {
   "attachments": {},
   "cell_type": "markdown",
   "metadata": {},
   "source": [
    "# Train Test Split"
   ]
  },
  {
   "cell_type": "code",
   "execution_count": 68,
   "metadata": {},
   "outputs": [],
   "source": [
    "data = accidents_violations_merged.dropna()"
   ]
  },
  {
   "cell_type": "code",
   "execution_count": 69,
   "metadata": {},
   "outputs": [
    {
     "data": {
      "text/plain": [
       "Index(['VIOLATION_OCCUR_DT', 'MINE_ID', 'VIOLATION_NO', 'EVENT_NO',\n",
       "       'INSPECTION_BEGIN_DT', 'INSPECTION_END_DT', 'VIOLATOR_ID',\n",
       "       'VIOLATOR_NAME', 'VIOLATOR_TYPE_CD', 'MINE_NAME', 'VIOLATION_ISSUE_DT',\n",
       "       'CAL_YR', 'CAL_QTR', 'FISCAL_YR', 'FISCAL_QTR', 'VIOLATION_ISSUE_TIME',\n",
       "       'SIG_SUB', 'SECTION_OF_ACT', 'PART_SECTION', 'SECTION_OF_ACT_1',\n",
       "       'TERMINATION_TYPE', 'LIKELIHOOD', 'INJ_ILLNESS', 'NO_AFFECTED',\n",
       "       'NEGLIGENCE', 'FINAL_ORDER_ISSUE_DT', 'PROPOSED_PENALTY', 'AMOUNT_DUE',\n",
       "       'AMOUNT_PAID', 'BILL_PRINT_DT', 'LAST_ACTION_CD', 'LAST_ACTION_DT',\n",
       "       'CONTESTED_IND', 'VIOLATOR_VIOLATION_CNT',\n",
       "       'VIOLATOR_INSPECTION_DAY_CNT', 'INSPECTION_LENGTH_DAYS',\n",
       "       'VIOLATION_SEVERITY', 'SIG_SUB_BINARY', 'NEGLIGENCE_SCORE',\n",
       "       'LIKELIHOOD_SCORE', 'SECTION_OF_ACT_FILTERED_0',\n",
       "       'SECTION_OF_ACT_FILTERED_103(a)', 'SECTION_OF_ACT_FILTERED_103(d)',\n",
       "       'SECTION_OF_ACT_FILTERED_103(h)', 'SECTION_OF_ACT_FILTERED_104(a)',\n",
       "       'SECTION_OF_ACT_FILTERED_104(b)', 'SECTION_OF_ACT_FILTERED_104(g)(1)',\n",
       "       'SECTION_OF_ACT_FILTERED_109(a)', 'SECTION_OF_ACT_FILTERED_316(b)',\n",
       "       'SECTION_OF_ACT_FILTERED_316(b)(2)(A)',\n",
       "       'SECTION_OF_ACT_FILTERED_316(b)(2)(F)(ii)', 'MINE_TYPE_Facility',\n",
       "       'MINE_TYPE_Surface', 'MINE_TYPE_Underground', 'COAL_METAL_IND_C',\n",
       "       'COAL_METAL_IND_M', 'CIT_ORD_SAFE_Citation', 'CIT_ORD_SAFE_Notice',\n",
       "       'CIT_ORD_SAFE_Order', 'CIT_ORD_SAFE_Safeguard', 'SPECIAL_ASSESS_N',\n",
       "       'SPECIAL_ASSESS_Y', 'ACCIDENT_in_30', 'ACCIDENT_in_60',\n",
       "       'ACCIDENT_in_90'],\n",
       "      dtype='object')"
      ]
     },
     "execution_count": 69,
     "metadata": {},
     "output_type": "execute_result"
    }
   ],
   "source": [
    "accidents_violations_merged.columns"
   ]
  },
  {
   "cell_type": "code",
   "execution_count": 70,
   "metadata": {},
   "outputs": [],
   "source": [
    "data_X = data.drop(columns = ['VIOLATION_OCCUR_DT', 'MINE_ID', 'VIOLATION_NO',\n",
    "                    'EVENT_NO', 'INSPECTION_BEGIN_DT', 'INSPECTION_END_DT', 'VIOLATOR_ID', 'PART_SECTION',\n",
    "                    'VIOLATOR_NAME', 'VIOLATOR_TYPE_CD', 'MINE_NAME','VIOLATION_ISSUE_DT', 'SECTION_OF_ACT',\n",
    "                    'SECTION_OF_ACT_1','CAL_YR', 'CAL_QTR', 'FISCAL_YR', 'FISCAL_QTR','VIOLATION_ISSUE_TIME', 'SIG_SUB',\n",
    "                    'TERMINATION_TYPE','FINAL_ORDER_ISSUE_DT', 'PROPOSED_PENALTY','INJ_ILLNESS',\n",
    "                    'AMOUNT_DUE', 'AMOUNT_PAID', 'BILL_PRINT_DT', 'LAST_ACTION_CD',\n",
    "                    'LAST_ACTION_DT', 'CONTESTED_IND', 'VIOLATOR_INSPECTION_DAY_CNT', 'INSPECTION_LENGTH_DAYS',\n",
    "                    'VIOLATION_SEVERITY', 'SIG_SUB_BINARY', 'NEGLIGENCE', 'LIKELIHOOD','VIOLATOR_VIOLATION_CNT',\n",
    "                    'ACCIDENT_in_30', 'ACCIDENT_in_60','ACCIDENT_in_90',\n",
    "                    'CIT_ORD_SAFE_Citation', 'CIT_ORD_SAFE_Notice', 'CIT_ORD_SAFE_Order', 'CIT_ORD_SAFE_Safeguard', 'SPECIAL_ASSESS_N', 'SPECIAL_ASSESS_Y' \n",
    "                    ]) #dropping all non predictor columns\n"
   ]
  },
  {
   "cell_type": "code",
   "execution_count": 71,
   "metadata": {},
   "outputs": [
    {
     "data": {
      "text/plain": [
       "Index(['NO_AFFECTED', 'NEGLIGENCE_SCORE', 'LIKELIHOOD_SCORE',\n",
       "       'SECTION_OF_ACT_FILTERED_0', 'SECTION_OF_ACT_FILTERED_103(a)',\n",
       "       'SECTION_OF_ACT_FILTERED_103(d)', 'SECTION_OF_ACT_FILTERED_103(h)',\n",
       "       'SECTION_OF_ACT_FILTERED_104(a)', 'SECTION_OF_ACT_FILTERED_104(b)',\n",
       "       'SECTION_OF_ACT_FILTERED_104(g)(1)', 'SECTION_OF_ACT_FILTERED_109(a)',\n",
       "       'SECTION_OF_ACT_FILTERED_316(b)',\n",
       "       'SECTION_OF_ACT_FILTERED_316(b)(2)(A)',\n",
       "       'SECTION_OF_ACT_FILTERED_316(b)(2)(F)(ii)', 'MINE_TYPE_Facility',\n",
       "       'MINE_TYPE_Surface', 'MINE_TYPE_Underground', 'COAL_METAL_IND_C',\n",
       "       'COAL_METAL_IND_M'],\n",
       "      dtype='object')"
      ]
     },
     "execution_count": 71,
     "metadata": {},
     "output_type": "execute_result"
    }
   ],
   "source": [
    "data_X.columns"
   ]
  },
  {
   "cell_type": "code",
   "execution_count": 72,
   "metadata": {},
   "outputs": [],
   "source": [
    "# Predict 30\n",
    "\n",
    "X_30 = data_X.copy()\n",
    "y_30 = data['ACCIDENT_in_30']\n",
    "\n",
    "X_train_30, X_test_30, y_train_30, y_test_30 = train_test_split(X_30,y_30, train_size=0.65, random_state = 42)\n",
    "\n",
    "X_train_30, X_val_30, y_train_30, y_val_30 = train_test_split(X_train_30, y_train_30, test_size=0.25, random_state=1)"
   ]
  },
  {
   "cell_type": "code",
   "execution_count": 73,
   "metadata": {},
   "outputs": [],
   "source": [
    "# Predict 60\n",
    "\n",
    "X_60 = data_X.copy()\n",
    "y_60 = data['ACCIDENT_in_60']\n",
    "\n",
    "X_train_60, X_test_60, y_train_60, y_test_60 = train_test_split(X_60,y_60, train_size=0.65, random_state = 42)\n",
    "\n",
    "X_train_60, X_val_60, y_train_60, y_val_60 = train_test_split(X_train_60, y_train_60, test_size=0.25, random_state=1)"
   ]
  },
  {
   "cell_type": "code",
   "execution_count": 74,
   "metadata": {},
   "outputs": [],
   "source": [
    "# Predict 90\n",
    "\n",
    "X_90 = data_X.copy()\n",
    "y_90 = data['ACCIDENT_in_90']\n",
    "\n",
    "X_train_90, X_test_90, y_train_90, y_test_90 = train_test_split(X_90,y_90, train_size=0.65, random_state = 42)\n",
    "\n",
    "X_train_90, X_val_90, y_train_90, y_val_90 = train_test_split(X_train_90, y_train_90, test_size=0.25, random_state=1)"
   ]
  },
  {
   "cell_type": "code",
   "execution_count": 75,
   "metadata": {},
   "outputs": [
    {
     "data": {
      "text/html": [
       "<div>\n",
       "<style scoped>\n",
       "    .dataframe tbody tr th:only-of-type {\n",
       "        vertical-align: middle;\n",
       "    }\n",
       "\n",
       "    .dataframe tbody tr th {\n",
       "        vertical-align: top;\n",
       "    }\n",
       "\n",
       "    .dataframe thead th {\n",
       "        text-align: right;\n",
       "    }\n",
       "</style>\n",
       "<table border=\"1\" class=\"dataframe\">\n",
       "  <thead>\n",
       "    <tr style=\"text-align: right;\">\n",
       "      <th></th>\n",
       "      <th>NO_AFFECTED</th>\n",
       "      <th>NEGLIGENCE_SCORE</th>\n",
       "      <th>LIKELIHOOD_SCORE</th>\n",
       "      <th>SECTION_OF_ACT_FILTERED_0</th>\n",
       "      <th>SECTION_OF_ACT_FILTERED_103(a)</th>\n",
       "      <th>SECTION_OF_ACT_FILTERED_103(d)</th>\n",
       "      <th>SECTION_OF_ACT_FILTERED_103(h)</th>\n",
       "      <th>SECTION_OF_ACT_FILTERED_104(a)</th>\n",
       "      <th>SECTION_OF_ACT_FILTERED_104(b)</th>\n",
       "      <th>SECTION_OF_ACT_FILTERED_104(g)(1)</th>\n",
       "      <th>SECTION_OF_ACT_FILTERED_109(a)</th>\n",
       "      <th>SECTION_OF_ACT_FILTERED_316(b)</th>\n",
       "      <th>SECTION_OF_ACT_FILTERED_316(b)(2)(A)</th>\n",
       "      <th>SECTION_OF_ACT_FILTERED_316(b)(2)(F)(ii)</th>\n",
       "      <th>MINE_TYPE_Facility</th>\n",
       "      <th>MINE_TYPE_Surface</th>\n",
       "      <th>MINE_TYPE_Underground</th>\n",
       "      <th>COAL_METAL_IND_C</th>\n",
       "      <th>COAL_METAL_IND_M</th>\n",
       "    </tr>\n",
       "  </thead>\n",
       "  <tbody>\n",
       "    <tr>\n",
       "      <th>91183</th>\n",
       "      <td>0</td>\n",
       "      <td>2.0</td>\n",
       "      <td>0.0</td>\n",
       "      <td>False</td>\n",
       "      <td>False</td>\n",
       "      <td>False</td>\n",
       "      <td>True</td>\n",
       "      <td>False</td>\n",
       "      <td>False</td>\n",
       "      <td>False</td>\n",
       "      <td>False</td>\n",
       "      <td>False</td>\n",
       "      <td>False</td>\n",
       "      <td>False</td>\n",
       "      <td>False</td>\n",
       "      <td>True</td>\n",
       "      <td>False</td>\n",
       "      <td>False</td>\n",
       "      <td>True</td>\n",
       "    </tr>\n",
       "    <tr>\n",
       "      <th>7090</th>\n",
       "      <td>1</td>\n",
       "      <td>2.0</td>\n",
       "      <td>2.0</td>\n",
       "      <td>False</td>\n",
       "      <td>False</td>\n",
       "      <td>False</td>\n",
       "      <td>False</td>\n",
       "      <td>True</td>\n",
       "      <td>False</td>\n",
       "      <td>False</td>\n",
       "      <td>False</td>\n",
       "      <td>False</td>\n",
       "      <td>False</td>\n",
       "      <td>False</td>\n",
       "      <td>True</td>\n",
       "      <td>False</td>\n",
       "      <td>False</td>\n",
       "      <td>False</td>\n",
       "      <td>True</td>\n",
       "    </tr>\n",
       "    <tr>\n",
       "      <th>93427</th>\n",
       "      <td>0</td>\n",
       "      <td>2.0</td>\n",
       "      <td>0.0</td>\n",
       "      <td>False</td>\n",
       "      <td>False</td>\n",
       "      <td>False</td>\n",
       "      <td>True</td>\n",
       "      <td>False</td>\n",
       "      <td>False</td>\n",
       "      <td>False</td>\n",
       "      <td>False</td>\n",
       "      <td>False</td>\n",
       "      <td>False</td>\n",
       "      <td>False</td>\n",
       "      <td>False</td>\n",
       "      <td>True</td>\n",
       "      <td>False</td>\n",
       "      <td>False</td>\n",
       "      <td>True</td>\n",
       "    </tr>\n",
       "    <tr>\n",
       "      <th>76886</th>\n",
       "      <td>0</td>\n",
       "      <td>2.0</td>\n",
       "      <td>0.0</td>\n",
       "      <td>False</td>\n",
       "      <td>False</td>\n",
       "      <td>True</td>\n",
       "      <td>False</td>\n",
       "      <td>False</td>\n",
       "      <td>False</td>\n",
       "      <td>False</td>\n",
       "      <td>False</td>\n",
       "      <td>False</td>\n",
       "      <td>False</td>\n",
       "      <td>False</td>\n",
       "      <td>True</td>\n",
       "      <td>False</td>\n",
       "      <td>False</td>\n",
       "      <td>False</td>\n",
       "      <td>True</td>\n",
       "    </tr>\n",
       "    <tr>\n",
       "      <th>89885</th>\n",
       "      <td>0</td>\n",
       "      <td>2.0</td>\n",
       "      <td>0.0</td>\n",
       "      <td>False</td>\n",
       "      <td>False</td>\n",
       "      <td>True</td>\n",
       "      <td>False</td>\n",
       "      <td>False</td>\n",
       "      <td>False</td>\n",
       "      <td>False</td>\n",
       "      <td>False</td>\n",
       "      <td>False</td>\n",
       "      <td>False</td>\n",
       "      <td>False</td>\n",
       "      <td>False</td>\n",
       "      <td>True</td>\n",
       "      <td>False</td>\n",
       "      <td>False</td>\n",
       "      <td>True</td>\n",
       "    </tr>\n",
       "  </tbody>\n",
       "</table>\n",
       "</div>"
      ],
      "text/plain": [
       "       NO_AFFECTED  NEGLIGENCE_SCORE  LIKELIHOOD_SCORE  \\\n",
       "91183            0               2.0               0.0   \n",
       "7090             1               2.0               2.0   \n",
       "93427            0               2.0               0.0   \n",
       "76886            0               2.0               0.0   \n",
       "89885            0               2.0               0.0   \n",
       "\n",
       "       SECTION_OF_ACT_FILTERED_0  SECTION_OF_ACT_FILTERED_103(a)  \\\n",
       "91183                      False                           False   \n",
       "7090                       False                           False   \n",
       "93427                      False                           False   \n",
       "76886                      False                           False   \n",
       "89885                      False                           False   \n",
       "\n",
       "       SECTION_OF_ACT_FILTERED_103(d)  SECTION_OF_ACT_FILTERED_103(h)  \\\n",
       "91183                           False                            True   \n",
       "7090                            False                           False   \n",
       "93427                           False                            True   \n",
       "76886                            True                           False   \n",
       "89885                            True                           False   \n",
       "\n",
       "       SECTION_OF_ACT_FILTERED_104(a)  SECTION_OF_ACT_FILTERED_104(b)  \\\n",
       "91183                           False                           False   \n",
       "7090                             True                           False   \n",
       "93427                           False                           False   \n",
       "76886                           False                           False   \n",
       "89885                           False                           False   \n",
       "\n",
       "       SECTION_OF_ACT_FILTERED_104(g)(1)  SECTION_OF_ACT_FILTERED_109(a)  \\\n",
       "91183                              False                           False   \n",
       "7090                               False                           False   \n",
       "93427                              False                           False   \n",
       "76886                              False                           False   \n",
       "89885                              False                           False   \n",
       "\n",
       "       SECTION_OF_ACT_FILTERED_316(b)  SECTION_OF_ACT_FILTERED_316(b)(2)(A)  \\\n",
       "91183                           False                                 False   \n",
       "7090                            False                                 False   \n",
       "93427                           False                                 False   \n",
       "76886                           False                                 False   \n",
       "89885                           False                                 False   \n",
       "\n",
       "       SECTION_OF_ACT_FILTERED_316(b)(2)(F)(ii)  MINE_TYPE_Facility  \\\n",
       "91183                                     False               False   \n",
       "7090                                      False                True   \n",
       "93427                                     False               False   \n",
       "76886                                     False                True   \n",
       "89885                                     False               False   \n",
       "\n",
       "       MINE_TYPE_Surface  MINE_TYPE_Underground  COAL_METAL_IND_C  \\\n",
       "91183               True                  False             False   \n",
       "7090               False                  False             False   \n",
       "93427               True                  False             False   \n",
       "76886              False                  False             False   \n",
       "89885               True                  False             False   \n",
       "\n",
       "       COAL_METAL_IND_M  \n",
       "91183              True  \n",
       "7090               True  \n",
       "93427              True  \n",
       "76886              True  \n",
       "89885              True  "
      ]
     },
     "execution_count": 75,
     "metadata": {},
     "output_type": "execute_result"
    }
   ],
   "source": [
    "X_train_30.head()"
   ]
  },
  {
   "attachments": {},
   "cell_type": "markdown",
   "metadata": {},
   "source": [
    "## Removing Outliers from Training Sets\n",
    "\n",
    "We waited to remove the outliers in 'NO_AFFECTED' until after partioning the dataset into training and testing sets, to ensure our test sets contain extreme values. This will ensure the quality of model performance on our test sets, since in real-life, there are likely to be outliers in the data that our model will need to deal with."
   ]
  },
  {
   "cell_type": "code",
   "execution_count": 76,
   "metadata": {},
   "outputs": [
    {
     "data": {
      "text/plain": [
       "(93, 19)"
      ]
     },
     "metadata": {},
     "output_type": "display_data"
    }
   ],
   "source": [
    "# Removing outliers from X_train_30\n",
    "\n",
    "numeric_vars = ['NO_AFFECTED']\n",
    "\n",
    "# Set a threshold for Z-scores to identify outliers\n",
    "z_score_threshold = 3  # You can adjust this threshold based on your data and requirements\n",
    "\n",
    "# Create a copy of the original DataFrame to store the outliers removed data\n",
    "outliers_removed_30 = X_train_30.copy()\n",
    "\n",
    "# Loop through each column and remove outliers based on Z-scores\n",
    "for column_name in numeric_vars:\n",
    "    # Calculate the Z-scores for the current column\n",
    "    z_scores = np.abs((X_train_30[column_name] - X_train_30[column_name].mean()) / X_train_30[column_name].std())\n",
    "\n",
    "    # Filter the DataFrame to keep only the rows where the Z-score is less than the threshold for the current column\n",
    "    X_train_30 = outliers_removed_30[z_scores < z_score_threshold]\n",
    "\n",
    "display(X_train_30.shape)"
   ]
  },
  {
   "cell_type": "code",
   "execution_count": 77,
   "metadata": {},
   "outputs": [
    {
     "data": {
      "text/plain": [
       "(93, 19)"
      ]
     },
     "metadata": {},
     "output_type": "display_data"
    }
   ],
   "source": [
    "# Removing outliers from X_train_60\n",
    "\n",
    "numeric_vars = ['NO_AFFECTED']\n",
    "\n",
    "# Set a threshold for Z-scores to identify outliers\n",
    "z_score_threshold = 3  # You can adjust this threshold based on your data and requirements\n",
    "\n",
    "# Create a copy of the original DataFrame to store the outliers removed data\n",
    "outliers_removed_60 = X_train_60.copy()\n",
    "\n",
    "# Loop through each column and remove outliers based on Z-scores\n",
    "for column_name in numeric_vars:\n",
    "    # Calculate the Z-scores for the current column\n",
    "    z_scores = np.abs((X_train_60[column_name] - X_train_60[column_name].mean()) / X_train_60[column_name].std())\n",
    "\n",
    "    # Filter the DataFrame to keep only the rows where the Z-score is less than the threshold for the current column\n",
    "    X_train_60 = outliers_removed_60[z_scores < z_score_threshold]\n",
    "\n",
    "display(X_train_60.shape)"
   ]
  },
  {
   "cell_type": "code",
   "execution_count": 78,
   "metadata": {},
   "outputs": [
    {
     "data": {
      "text/plain": [
       "(93, 19)"
      ]
     },
     "metadata": {},
     "output_type": "display_data"
    }
   ],
   "source": [
    "# Removing outliers from X_train_90\n",
    "\n",
    "numeric_vars = ['NO_AFFECTED']\n",
    "\n",
    "# Set a threshold for Z-scores to identify outliers\n",
    "z_score_threshold = 3  # You can adjust this threshold based on your data and requirements\n",
    "\n",
    "# Create a copy of the original DataFrame to store the outliers removed data\n",
    "outliers_removed_90 = X_train_90.copy()\n",
    "\n",
    "# Loop through each column and remove outliers based on Z-scores\n",
    "for column_name in numeric_vars:\n",
    "    # Calculate the Z-scores for the current column\n",
    "    z_scores = np.abs((X_train_90[column_name] - X_train_90[column_name].mean()) / X_train_90[column_name].std())\n",
    "\n",
    "    # Filter the DataFrame to keep only the rows where the Z-score is less than the threshold for the current column\n",
    "    X_train_90 = outliers_removed_90[z_scores < z_score_threshold]\n",
    "\n",
    "display(X_train_90.shape)"
   ]
  },
  {
   "cell_type": "code",
   "execution_count": 79,
   "metadata": {},
   "outputs": [],
   "source": [
    "AppKit.NSBeep()"
   ]
  },
  {
   "attachments": {},
   "cell_type": "markdown",
   "metadata": {},
   "source": [
    "NOTE: No outliers found in 'NO_AFFECTED'."
   ]
  },
  {
   "attachments": {},
   "cell_type": "markdown",
   "metadata": {},
   "source": [
    "# Modeling"
   ]
  },
  {
   "attachments": {},
   "cell_type": "markdown",
   "metadata": {},
   "source": [
    "## Random Forest"
   ]
  },
  {
   "cell_type": "code",
   "execution_count": 80,
   "metadata": {},
   "outputs": [
    {
     "name": "stdout",
     "output_type": "stream",
     "text": [
      "Random Forest \n",
      "Base 30 Model \n",
      "\n",
      "Confusion Matrix (Accuracy 0.8235)\n",
      "\n",
      "       Prediction\n",
      "Actual  0  1\n",
      "     0 34  1\n",
      "     1 11 22\n",
      "              precision    recall  f1-score   support\n",
      "\n",
      "           0       0.76      0.97      0.85        35\n",
      "           1       0.96      0.67      0.79        33\n",
      "\n",
      "    accuracy                           0.82        68\n",
      "   macro avg       0.86      0.82      0.82        68\n",
      "weighted avg       0.85      0.82      0.82        68\n",
      "\n"
     ]
    }
   ],
   "source": [
    "# Base 30 \n",
    "rf_30 = RandomForestClassifier()\n",
    "rf_30.fit(X_train_30, y_train_30)\n",
    "\n",
    "rf_pred_30 = rf_30.predict(X_test_30)\n",
    "\n",
    "print(\"Random Forest \\nBase 30 Model \\n\")\n",
    "classificationSummary(y_test_30, rf_pred_30)\n",
    "print(classification_report(y_test_30, rf_pred_30))"
   ]
  },
  {
   "cell_type": "code",
   "execution_count": 81,
   "metadata": {},
   "outputs": [],
   "source": [
    "# Tuned 30\n",
    "rfc=RandomForestClassifier(random_state=42)"
   ]
  },
  {
   "cell_type": "code",
   "execution_count": 82,
   "metadata": {},
   "outputs": [],
   "source": [
    "param_grid = { \n",
    "    'n_estimators': [200, 500],\n",
    "    'max_depth' : [4,5,6,7,8],\n",
    "    'criterion' :['gini', 'entropy']\n",
    "}"
   ]
  },
  {
   "cell_type": "code",
   "execution_count": 83,
   "metadata": {},
   "outputs": [
    {
     "data": {
      "text/html": [
       "<style>#sk-container-id-1 {color: black;background-color: white;}#sk-container-id-1 pre{padding: 0;}#sk-container-id-1 div.sk-toggleable {background-color: white;}#sk-container-id-1 label.sk-toggleable__label {cursor: pointer;display: block;width: 100%;margin-bottom: 0;padding: 0.3em;box-sizing: border-box;text-align: center;}#sk-container-id-1 label.sk-toggleable__label-arrow:before {content: \"▸\";float: left;margin-right: 0.25em;color: #696969;}#sk-container-id-1 label.sk-toggleable__label-arrow:hover:before {color: black;}#sk-container-id-1 div.sk-estimator:hover label.sk-toggleable__label-arrow:before {color: black;}#sk-container-id-1 div.sk-toggleable__content {max-height: 0;max-width: 0;overflow: hidden;text-align: left;background-color: #f0f8ff;}#sk-container-id-1 div.sk-toggleable__content pre {margin: 0.2em;color: black;border-radius: 0.25em;background-color: #f0f8ff;}#sk-container-id-1 input.sk-toggleable__control:checked~div.sk-toggleable__content {max-height: 200px;max-width: 100%;overflow: auto;}#sk-container-id-1 input.sk-toggleable__control:checked~label.sk-toggleable__label-arrow:before {content: \"▾\";}#sk-container-id-1 div.sk-estimator input.sk-toggleable__control:checked~label.sk-toggleable__label {background-color: #d4ebff;}#sk-container-id-1 div.sk-label input.sk-toggleable__control:checked~label.sk-toggleable__label {background-color: #d4ebff;}#sk-container-id-1 input.sk-hidden--visually {border: 0;clip: rect(1px 1px 1px 1px);clip: rect(1px, 1px, 1px, 1px);height: 1px;margin: -1px;overflow: hidden;padding: 0;position: absolute;width: 1px;}#sk-container-id-1 div.sk-estimator {font-family: monospace;background-color: #f0f8ff;border: 1px dotted black;border-radius: 0.25em;box-sizing: border-box;margin-bottom: 0.5em;}#sk-container-id-1 div.sk-estimator:hover {background-color: #d4ebff;}#sk-container-id-1 div.sk-parallel-item::after {content: \"\";width: 100%;border-bottom: 1px solid gray;flex-grow: 1;}#sk-container-id-1 div.sk-label:hover label.sk-toggleable__label {background-color: #d4ebff;}#sk-container-id-1 div.sk-serial::before {content: \"\";position: absolute;border-left: 1px solid gray;box-sizing: border-box;top: 0;bottom: 0;left: 50%;z-index: 0;}#sk-container-id-1 div.sk-serial {display: flex;flex-direction: column;align-items: center;background-color: white;padding-right: 0.2em;padding-left: 0.2em;position: relative;}#sk-container-id-1 div.sk-item {position: relative;z-index: 1;}#sk-container-id-1 div.sk-parallel {display: flex;align-items: stretch;justify-content: center;background-color: white;position: relative;}#sk-container-id-1 div.sk-item::before, #sk-container-id-1 div.sk-parallel-item::before {content: \"\";position: absolute;border-left: 1px solid gray;box-sizing: border-box;top: 0;bottom: 0;left: 50%;z-index: -1;}#sk-container-id-1 div.sk-parallel-item {display: flex;flex-direction: column;z-index: 1;position: relative;background-color: white;}#sk-container-id-1 div.sk-parallel-item:first-child::after {align-self: flex-end;width: 50%;}#sk-container-id-1 div.sk-parallel-item:last-child::after {align-self: flex-start;width: 50%;}#sk-container-id-1 div.sk-parallel-item:only-child::after {width: 0;}#sk-container-id-1 div.sk-dashed-wrapped {border: 1px dashed gray;margin: 0 0.4em 0.5em 0.4em;box-sizing: border-box;padding-bottom: 0.4em;background-color: white;}#sk-container-id-1 div.sk-label label {font-family: monospace;font-weight: bold;display: inline-block;line-height: 1.2em;}#sk-container-id-1 div.sk-label-container {text-align: center;}#sk-container-id-1 div.sk-container {/* jupyter's `normalize.less` sets `[hidden] { display: none; }` but bootstrap.min.css set `[hidden] { display: none !important; }` so we also need the `!important` here to be able to override the default hidden behavior on the sphinx rendered scikit-learn.org. See: https://github.com/scikit-learn/scikit-learn/issues/21755 */display: inline-block !important;position: relative;}#sk-container-id-1 div.sk-text-repr-fallback {display: none;}</style><div id=\"sk-container-id-1\" class=\"sk-top-container\"><div class=\"sk-text-repr-fallback\"><pre>GridSearchCV(cv=5, estimator=RandomForestClassifier(random_state=42),\n",
       "             param_grid={&#x27;criterion&#x27;: [&#x27;gini&#x27;, &#x27;entropy&#x27;],\n",
       "                         &#x27;max_depth&#x27;: [4, 5, 6, 7, 8],\n",
       "                         &#x27;n_estimators&#x27;: [200, 500]})</pre><b>In a Jupyter environment, please rerun this cell to show the HTML representation or trust the notebook. <br />On GitHub, the HTML representation is unable to render, please try loading this page with nbviewer.org.</b></div><div class=\"sk-container\" hidden><div class=\"sk-item sk-dashed-wrapped\"><div class=\"sk-label-container\"><div class=\"sk-label sk-toggleable\"><input class=\"sk-toggleable__control sk-hidden--visually\" id=\"sk-estimator-id-1\" type=\"checkbox\" ><label for=\"sk-estimator-id-1\" class=\"sk-toggleable__label sk-toggleable__label-arrow\">GridSearchCV</label><div class=\"sk-toggleable__content\"><pre>GridSearchCV(cv=5, estimator=RandomForestClassifier(random_state=42),\n",
       "             param_grid={&#x27;criterion&#x27;: [&#x27;gini&#x27;, &#x27;entropy&#x27;],\n",
       "                         &#x27;max_depth&#x27;: [4, 5, 6, 7, 8],\n",
       "                         &#x27;n_estimators&#x27;: [200, 500]})</pre></div></div></div><div class=\"sk-parallel\"><div class=\"sk-parallel-item\"><div class=\"sk-item\"><div class=\"sk-label-container\"><div class=\"sk-label sk-toggleable\"><input class=\"sk-toggleable__control sk-hidden--visually\" id=\"sk-estimator-id-2\" type=\"checkbox\" ><label for=\"sk-estimator-id-2\" class=\"sk-toggleable__label sk-toggleable__label-arrow\">estimator: RandomForestClassifier</label><div class=\"sk-toggleable__content\"><pre>RandomForestClassifier(random_state=42)</pre></div></div></div><div class=\"sk-serial\"><div class=\"sk-item\"><div class=\"sk-estimator sk-toggleable\"><input class=\"sk-toggleable__control sk-hidden--visually\" id=\"sk-estimator-id-3\" type=\"checkbox\" ><label for=\"sk-estimator-id-3\" class=\"sk-toggleable__label sk-toggleable__label-arrow\">RandomForestClassifier</label><div class=\"sk-toggleable__content\"><pre>RandomForestClassifier(random_state=42)</pre></div></div></div></div></div></div></div></div></div></div>"
      ],
      "text/plain": [
       "GridSearchCV(cv=5, estimator=RandomForestClassifier(random_state=42),\n",
       "             param_grid={'criterion': ['gini', 'entropy'],\n",
       "                         'max_depth': [4, 5, 6, 7, 8],\n",
       "                         'n_estimators': [200, 500]})"
      ]
     },
     "execution_count": 83,
     "metadata": {},
     "output_type": "execute_result"
    }
   ],
   "source": [
    "rf_30_tune = GridSearchCV(estimator=rfc, param_grid=param_grid, cv= 5)\n",
    "rf_30_tune.fit(X_val_30, y_val_30)"
   ]
  },
  {
   "cell_type": "code",
   "execution_count": 84,
   "metadata": {},
   "outputs": [
    {
     "data": {
      "text/plain": [
       "{'criterion': 'gini', 'max_depth': 4, 'n_estimators': 200}"
      ]
     },
     "execution_count": 84,
     "metadata": {},
     "output_type": "execute_result"
    }
   ],
   "source": [
    "rf_30_tune.best_params_"
   ]
  },
  {
   "cell_type": "code",
   "execution_count": 85,
   "metadata": {},
   "outputs": [],
   "source": [
    "rf_30_tuned=RandomForestClassifier(random_state=42, n_estimators= 200, max_depth=4, criterion='gini')"
   ]
  },
  {
   "cell_type": "code",
   "execution_count": 86,
   "metadata": {},
   "outputs": [
    {
     "name": "stdout",
     "output_type": "stream",
     "text": [
      "Random Forest \n",
      "Tuned 30 Model \n",
      "\n",
      "Confusion Matrix (Accuracy 0.8235)\n",
      "\n",
      "       Prediction\n",
      "Actual  0  1\n",
      "     0 34  1\n",
      "     1 11 22\n",
      "              precision    recall  f1-score   support\n",
      "\n",
      "           0       0.76      0.97      0.85        35\n",
      "           1       0.96      0.67      0.79        33\n",
      "\n",
      "    accuracy                           0.82        68\n",
      "   macro avg       0.86      0.82      0.82        68\n",
      "weighted avg       0.85      0.82      0.82        68\n",
      "\n"
     ]
    }
   ],
   "source": [
    "rf_30_tuned.fit(X_train_30, y_train_30)\n",
    "\n",
    "rf_30_tuned_pred = rf_30_tuned.predict(X_test_30)\n",
    "\n",
    "print(\"Random Forest \\nTuned 30 Model \\n\")\n",
    "classificationSummary(y_test_30, rf_30_tuned_pred)\n",
    "print(classification_report(y_test_30, rf_30_tuned_pred))\n",
    "\n",
    "rf_classification_report_30 = classification_report(y_test_30, rf_30_tuned_pred, output_dict=True)"
   ]
  },
  {
   "cell_type": "code",
   "execution_count": 87,
   "metadata": {},
   "outputs": [
    {
     "name": "stdout",
     "output_type": "stream",
     "text": [
      "Random Forest \n",
      "Base 60 Model \n",
      "\n",
      "Confusion Matrix (Accuracy 0.7794)\n",
      "\n",
      "       Prediction\n",
      "Actual  0  1\n",
      "     0 31  1\n",
      "     1 14 22\n",
      "              precision    recall  f1-score   support\n",
      "\n",
      "           0       0.69      0.97      0.81        32\n",
      "           1       0.96      0.61      0.75        36\n",
      "\n",
      "    accuracy                           0.78        68\n",
      "   macro avg       0.82      0.79      0.78        68\n",
      "weighted avg       0.83      0.78      0.77        68\n",
      "\n"
     ]
    }
   ],
   "source": [
    "# Base 60\n",
    "rf_60 = RandomForestClassifier()\n",
    "rf_60.fit(X_train_60, y_train_60)\n",
    "\n",
    "rf_pred_60 = rf_60.predict(X_test_60)\n",
    "\n",
    "print(\"Random Forest \\nBase 60 Model \\n\")\n",
    "classificationSummary(y_test_60, rf_pred_60)\n",
    "print(classification_report(y_test_60, rf_pred_60))"
   ]
  },
  {
   "cell_type": "code",
   "execution_count": 88,
   "metadata": {},
   "outputs": [
    {
     "data": {
      "text/html": [
       "<style>#sk-container-id-2 {color: black;background-color: white;}#sk-container-id-2 pre{padding: 0;}#sk-container-id-2 div.sk-toggleable {background-color: white;}#sk-container-id-2 label.sk-toggleable__label {cursor: pointer;display: block;width: 100%;margin-bottom: 0;padding: 0.3em;box-sizing: border-box;text-align: center;}#sk-container-id-2 label.sk-toggleable__label-arrow:before {content: \"▸\";float: left;margin-right: 0.25em;color: #696969;}#sk-container-id-2 label.sk-toggleable__label-arrow:hover:before {color: black;}#sk-container-id-2 div.sk-estimator:hover label.sk-toggleable__label-arrow:before {color: black;}#sk-container-id-2 div.sk-toggleable__content {max-height: 0;max-width: 0;overflow: hidden;text-align: left;background-color: #f0f8ff;}#sk-container-id-2 div.sk-toggleable__content pre {margin: 0.2em;color: black;border-radius: 0.25em;background-color: #f0f8ff;}#sk-container-id-2 input.sk-toggleable__control:checked~div.sk-toggleable__content {max-height: 200px;max-width: 100%;overflow: auto;}#sk-container-id-2 input.sk-toggleable__control:checked~label.sk-toggleable__label-arrow:before {content: \"▾\";}#sk-container-id-2 div.sk-estimator input.sk-toggleable__control:checked~label.sk-toggleable__label {background-color: #d4ebff;}#sk-container-id-2 div.sk-label input.sk-toggleable__control:checked~label.sk-toggleable__label {background-color: #d4ebff;}#sk-container-id-2 input.sk-hidden--visually {border: 0;clip: rect(1px 1px 1px 1px);clip: rect(1px, 1px, 1px, 1px);height: 1px;margin: -1px;overflow: hidden;padding: 0;position: absolute;width: 1px;}#sk-container-id-2 div.sk-estimator {font-family: monospace;background-color: #f0f8ff;border: 1px dotted black;border-radius: 0.25em;box-sizing: border-box;margin-bottom: 0.5em;}#sk-container-id-2 div.sk-estimator:hover {background-color: #d4ebff;}#sk-container-id-2 div.sk-parallel-item::after {content: \"\";width: 100%;border-bottom: 1px solid gray;flex-grow: 1;}#sk-container-id-2 div.sk-label:hover label.sk-toggleable__label {background-color: #d4ebff;}#sk-container-id-2 div.sk-serial::before {content: \"\";position: absolute;border-left: 1px solid gray;box-sizing: border-box;top: 0;bottom: 0;left: 50%;z-index: 0;}#sk-container-id-2 div.sk-serial {display: flex;flex-direction: column;align-items: center;background-color: white;padding-right: 0.2em;padding-left: 0.2em;position: relative;}#sk-container-id-2 div.sk-item {position: relative;z-index: 1;}#sk-container-id-2 div.sk-parallel {display: flex;align-items: stretch;justify-content: center;background-color: white;position: relative;}#sk-container-id-2 div.sk-item::before, #sk-container-id-2 div.sk-parallel-item::before {content: \"\";position: absolute;border-left: 1px solid gray;box-sizing: border-box;top: 0;bottom: 0;left: 50%;z-index: -1;}#sk-container-id-2 div.sk-parallel-item {display: flex;flex-direction: column;z-index: 1;position: relative;background-color: white;}#sk-container-id-2 div.sk-parallel-item:first-child::after {align-self: flex-end;width: 50%;}#sk-container-id-2 div.sk-parallel-item:last-child::after {align-self: flex-start;width: 50%;}#sk-container-id-2 div.sk-parallel-item:only-child::after {width: 0;}#sk-container-id-2 div.sk-dashed-wrapped {border: 1px dashed gray;margin: 0 0.4em 0.5em 0.4em;box-sizing: border-box;padding-bottom: 0.4em;background-color: white;}#sk-container-id-2 div.sk-label label {font-family: monospace;font-weight: bold;display: inline-block;line-height: 1.2em;}#sk-container-id-2 div.sk-label-container {text-align: center;}#sk-container-id-2 div.sk-container {/* jupyter's `normalize.less` sets `[hidden] { display: none; }` but bootstrap.min.css set `[hidden] { display: none !important; }` so we also need the `!important` here to be able to override the default hidden behavior on the sphinx rendered scikit-learn.org. See: https://github.com/scikit-learn/scikit-learn/issues/21755 */display: inline-block !important;position: relative;}#sk-container-id-2 div.sk-text-repr-fallback {display: none;}</style><div id=\"sk-container-id-2\" class=\"sk-top-container\"><div class=\"sk-text-repr-fallback\"><pre>GridSearchCV(cv=5, estimator=RandomForestClassifier(random_state=42),\n",
       "             param_grid={&#x27;criterion&#x27;: [&#x27;gini&#x27;, &#x27;entropy&#x27;],\n",
       "                         &#x27;max_depth&#x27;: [4, 5, 6, 7, 8],\n",
       "                         &#x27;n_estimators&#x27;: [200, 500]})</pre><b>In a Jupyter environment, please rerun this cell to show the HTML representation or trust the notebook. <br />On GitHub, the HTML representation is unable to render, please try loading this page with nbviewer.org.</b></div><div class=\"sk-container\" hidden><div class=\"sk-item sk-dashed-wrapped\"><div class=\"sk-label-container\"><div class=\"sk-label sk-toggleable\"><input class=\"sk-toggleable__control sk-hidden--visually\" id=\"sk-estimator-id-4\" type=\"checkbox\" ><label for=\"sk-estimator-id-4\" class=\"sk-toggleable__label sk-toggleable__label-arrow\">GridSearchCV</label><div class=\"sk-toggleable__content\"><pre>GridSearchCV(cv=5, estimator=RandomForestClassifier(random_state=42),\n",
       "             param_grid={&#x27;criterion&#x27;: [&#x27;gini&#x27;, &#x27;entropy&#x27;],\n",
       "                         &#x27;max_depth&#x27;: [4, 5, 6, 7, 8],\n",
       "                         &#x27;n_estimators&#x27;: [200, 500]})</pre></div></div></div><div class=\"sk-parallel\"><div class=\"sk-parallel-item\"><div class=\"sk-item\"><div class=\"sk-label-container\"><div class=\"sk-label sk-toggleable\"><input class=\"sk-toggleable__control sk-hidden--visually\" id=\"sk-estimator-id-5\" type=\"checkbox\" ><label for=\"sk-estimator-id-5\" class=\"sk-toggleable__label sk-toggleable__label-arrow\">estimator: RandomForestClassifier</label><div class=\"sk-toggleable__content\"><pre>RandomForestClassifier(random_state=42)</pre></div></div></div><div class=\"sk-serial\"><div class=\"sk-item\"><div class=\"sk-estimator sk-toggleable\"><input class=\"sk-toggleable__control sk-hidden--visually\" id=\"sk-estimator-id-6\" type=\"checkbox\" ><label for=\"sk-estimator-id-6\" class=\"sk-toggleable__label sk-toggleable__label-arrow\">RandomForestClassifier</label><div class=\"sk-toggleable__content\"><pre>RandomForestClassifier(random_state=42)</pre></div></div></div></div></div></div></div></div></div></div>"
      ],
      "text/plain": [
       "GridSearchCV(cv=5, estimator=RandomForestClassifier(random_state=42),\n",
       "             param_grid={'criterion': ['gini', 'entropy'],\n",
       "                         'max_depth': [4, 5, 6, 7, 8],\n",
       "                         'n_estimators': [200, 500]})"
      ]
     },
     "execution_count": 88,
     "metadata": {},
     "output_type": "execute_result"
    }
   ],
   "source": [
    "# Tuned 60\n",
    "rf_60_tune = GridSearchCV(estimator=rfc, param_grid=param_grid, cv= 5)\n",
    "rf_60_tune.fit(X_val_60, y_val_60)"
   ]
  },
  {
   "cell_type": "code",
   "execution_count": 89,
   "metadata": {},
   "outputs": [
    {
     "data": {
      "text/plain": [
       "{'criterion': 'gini', 'max_depth': 4, 'n_estimators': 200}"
      ]
     },
     "execution_count": 89,
     "metadata": {},
     "output_type": "execute_result"
    }
   ],
   "source": [
    "rf_60_tune.best_params_"
   ]
  },
  {
   "cell_type": "code",
   "execution_count": 90,
   "metadata": {},
   "outputs": [],
   "source": [
    "rf_60_tuned=RandomForestClassifier(random_state=42, n_estimators= 200, max_depth=4, criterion='gini')"
   ]
  },
  {
   "cell_type": "code",
   "execution_count": 91,
   "metadata": {},
   "outputs": [
    {
     "name": "stdout",
     "output_type": "stream",
     "text": [
      "Random Forest \n",
      "Tuned 60 Model \n",
      "\n",
      "Confusion Matrix (Accuracy 0.7794)\n",
      "\n",
      "       Prediction\n",
      "Actual  0  1\n",
      "     0 31  1\n",
      "     1 14 22\n",
      "              precision    recall  f1-score   support\n",
      "\n",
      "           0       0.69      0.97      0.81        32\n",
      "           1       0.96      0.61      0.75        36\n",
      "\n",
      "    accuracy                           0.78        68\n",
      "   macro avg       0.82      0.79      0.78        68\n",
      "weighted avg       0.83      0.78      0.77        68\n",
      "\n"
     ]
    }
   ],
   "source": [
    "rf_60_tuned.fit(X_train_60, y_train_60)\n",
    "\n",
    "rf_60_tuned_pred = rf_60_tuned.predict(X_test_60)\n",
    "\n",
    "print(\"Random Forest \\nTuned 60 Model \\n\")\n",
    "classificationSummary(y_test_60, rf_60_tuned_pred)\n",
    "print(classification_report(y_test_60, rf_60_tuned_pred))\n",
    "\n",
    "rf_classification_report_60 = classification_report(y_test_60, rf_60_tuned_pred, output_dict=True)"
   ]
  },
  {
   "cell_type": "code",
   "execution_count": 92,
   "metadata": {},
   "outputs": [
    {
     "name": "stdout",
     "output_type": "stream",
     "text": [
      "Random Forest \n",
      "Base 90 Model \n",
      "\n",
      "Confusion Matrix (Accuracy 0.7353)\n",
      "\n",
      "       Prediction\n",
      "Actual  0  1\n",
      "     0 17  4\n",
      "     1 14 33\n",
      "              precision    recall  f1-score   support\n",
      "\n",
      "           0       0.55      0.81      0.65        21\n",
      "           1       0.89      0.70      0.79        47\n",
      "\n",
      "    accuracy                           0.74        68\n",
      "   macro avg       0.72      0.76      0.72        68\n",
      "weighted avg       0.79      0.74      0.74        68\n",
      "\n"
     ]
    }
   ],
   "source": [
    "# Base 90\n",
    "rf_90 = RandomForestClassifier()\n",
    "rf_90.fit(X_train_90, y_train_90)\n",
    "\n",
    "rf_pred_90 = rf_90.predict(X_test_90)\n",
    "\n",
    "print(\"Random Forest \\nBase 90 Model \\n\")\n",
    "classificationSummary(y_test_90, rf_pred_90)\n",
    "print(classification_report(y_test_90, rf_pred_90))"
   ]
  },
  {
   "cell_type": "code",
   "execution_count": 93,
   "metadata": {},
   "outputs": [
    {
     "data": {
      "text/html": [
       "<style>#sk-container-id-3 {color: black;background-color: white;}#sk-container-id-3 pre{padding: 0;}#sk-container-id-3 div.sk-toggleable {background-color: white;}#sk-container-id-3 label.sk-toggleable__label {cursor: pointer;display: block;width: 100%;margin-bottom: 0;padding: 0.3em;box-sizing: border-box;text-align: center;}#sk-container-id-3 label.sk-toggleable__label-arrow:before {content: \"▸\";float: left;margin-right: 0.25em;color: #696969;}#sk-container-id-3 label.sk-toggleable__label-arrow:hover:before {color: black;}#sk-container-id-3 div.sk-estimator:hover label.sk-toggleable__label-arrow:before {color: black;}#sk-container-id-3 div.sk-toggleable__content {max-height: 0;max-width: 0;overflow: hidden;text-align: left;background-color: #f0f8ff;}#sk-container-id-3 div.sk-toggleable__content pre {margin: 0.2em;color: black;border-radius: 0.25em;background-color: #f0f8ff;}#sk-container-id-3 input.sk-toggleable__control:checked~div.sk-toggleable__content {max-height: 200px;max-width: 100%;overflow: auto;}#sk-container-id-3 input.sk-toggleable__control:checked~label.sk-toggleable__label-arrow:before {content: \"▾\";}#sk-container-id-3 div.sk-estimator input.sk-toggleable__control:checked~label.sk-toggleable__label {background-color: #d4ebff;}#sk-container-id-3 div.sk-label input.sk-toggleable__control:checked~label.sk-toggleable__label {background-color: #d4ebff;}#sk-container-id-3 input.sk-hidden--visually {border: 0;clip: rect(1px 1px 1px 1px);clip: rect(1px, 1px, 1px, 1px);height: 1px;margin: -1px;overflow: hidden;padding: 0;position: absolute;width: 1px;}#sk-container-id-3 div.sk-estimator {font-family: monospace;background-color: #f0f8ff;border: 1px dotted black;border-radius: 0.25em;box-sizing: border-box;margin-bottom: 0.5em;}#sk-container-id-3 div.sk-estimator:hover {background-color: #d4ebff;}#sk-container-id-3 div.sk-parallel-item::after {content: \"\";width: 100%;border-bottom: 1px solid gray;flex-grow: 1;}#sk-container-id-3 div.sk-label:hover label.sk-toggleable__label {background-color: #d4ebff;}#sk-container-id-3 div.sk-serial::before {content: \"\";position: absolute;border-left: 1px solid gray;box-sizing: border-box;top: 0;bottom: 0;left: 50%;z-index: 0;}#sk-container-id-3 div.sk-serial {display: flex;flex-direction: column;align-items: center;background-color: white;padding-right: 0.2em;padding-left: 0.2em;position: relative;}#sk-container-id-3 div.sk-item {position: relative;z-index: 1;}#sk-container-id-3 div.sk-parallel {display: flex;align-items: stretch;justify-content: center;background-color: white;position: relative;}#sk-container-id-3 div.sk-item::before, #sk-container-id-3 div.sk-parallel-item::before {content: \"\";position: absolute;border-left: 1px solid gray;box-sizing: border-box;top: 0;bottom: 0;left: 50%;z-index: -1;}#sk-container-id-3 div.sk-parallel-item {display: flex;flex-direction: column;z-index: 1;position: relative;background-color: white;}#sk-container-id-3 div.sk-parallel-item:first-child::after {align-self: flex-end;width: 50%;}#sk-container-id-3 div.sk-parallel-item:last-child::after {align-self: flex-start;width: 50%;}#sk-container-id-3 div.sk-parallel-item:only-child::after {width: 0;}#sk-container-id-3 div.sk-dashed-wrapped {border: 1px dashed gray;margin: 0 0.4em 0.5em 0.4em;box-sizing: border-box;padding-bottom: 0.4em;background-color: white;}#sk-container-id-3 div.sk-label label {font-family: monospace;font-weight: bold;display: inline-block;line-height: 1.2em;}#sk-container-id-3 div.sk-label-container {text-align: center;}#sk-container-id-3 div.sk-container {/* jupyter's `normalize.less` sets `[hidden] { display: none; }` but bootstrap.min.css set `[hidden] { display: none !important; }` so we also need the `!important` here to be able to override the default hidden behavior on the sphinx rendered scikit-learn.org. See: https://github.com/scikit-learn/scikit-learn/issues/21755 */display: inline-block !important;position: relative;}#sk-container-id-3 div.sk-text-repr-fallback {display: none;}</style><div id=\"sk-container-id-3\" class=\"sk-top-container\"><div class=\"sk-text-repr-fallback\"><pre>GridSearchCV(cv=5, estimator=RandomForestClassifier(random_state=42),\n",
       "             param_grid={&#x27;criterion&#x27;: [&#x27;gini&#x27;, &#x27;entropy&#x27;],\n",
       "                         &#x27;max_depth&#x27;: [4, 5, 6, 7, 8],\n",
       "                         &#x27;n_estimators&#x27;: [200, 500]})</pre><b>In a Jupyter environment, please rerun this cell to show the HTML representation or trust the notebook. <br />On GitHub, the HTML representation is unable to render, please try loading this page with nbviewer.org.</b></div><div class=\"sk-container\" hidden><div class=\"sk-item sk-dashed-wrapped\"><div class=\"sk-label-container\"><div class=\"sk-label sk-toggleable\"><input class=\"sk-toggleable__control sk-hidden--visually\" id=\"sk-estimator-id-7\" type=\"checkbox\" ><label for=\"sk-estimator-id-7\" class=\"sk-toggleable__label sk-toggleable__label-arrow\">GridSearchCV</label><div class=\"sk-toggleable__content\"><pre>GridSearchCV(cv=5, estimator=RandomForestClassifier(random_state=42),\n",
       "             param_grid={&#x27;criterion&#x27;: [&#x27;gini&#x27;, &#x27;entropy&#x27;],\n",
       "                         &#x27;max_depth&#x27;: [4, 5, 6, 7, 8],\n",
       "                         &#x27;n_estimators&#x27;: [200, 500]})</pre></div></div></div><div class=\"sk-parallel\"><div class=\"sk-parallel-item\"><div class=\"sk-item\"><div class=\"sk-label-container\"><div class=\"sk-label sk-toggleable\"><input class=\"sk-toggleable__control sk-hidden--visually\" id=\"sk-estimator-id-8\" type=\"checkbox\" ><label for=\"sk-estimator-id-8\" class=\"sk-toggleable__label sk-toggleable__label-arrow\">estimator: RandomForestClassifier</label><div class=\"sk-toggleable__content\"><pre>RandomForestClassifier(random_state=42)</pre></div></div></div><div class=\"sk-serial\"><div class=\"sk-item\"><div class=\"sk-estimator sk-toggleable\"><input class=\"sk-toggleable__control sk-hidden--visually\" id=\"sk-estimator-id-9\" type=\"checkbox\" ><label for=\"sk-estimator-id-9\" class=\"sk-toggleable__label sk-toggleable__label-arrow\">RandomForestClassifier</label><div class=\"sk-toggleable__content\"><pre>RandomForestClassifier(random_state=42)</pre></div></div></div></div></div></div></div></div></div></div>"
      ],
      "text/plain": [
       "GridSearchCV(cv=5, estimator=RandomForestClassifier(random_state=42),\n",
       "             param_grid={'criterion': ['gini', 'entropy'],\n",
       "                         'max_depth': [4, 5, 6, 7, 8],\n",
       "                         'n_estimators': [200, 500]})"
      ]
     },
     "execution_count": 93,
     "metadata": {},
     "output_type": "execute_result"
    }
   ],
   "source": [
    "# Tuned 90\n",
    "rf_90_tune = GridSearchCV(estimator=rfc, param_grid=param_grid, cv= 5)\n",
    "rf_90_tune.fit(X_val_90, y_val_90)"
   ]
  },
  {
   "cell_type": "code",
   "execution_count": 94,
   "metadata": {},
   "outputs": [
    {
     "data": {
      "text/plain": [
       "{'criterion': 'gini', 'max_depth': 5, 'n_estimators': 200}"
      ]
     },
     "execution_count": 94,
     "metadata": {},
     "output_type": "execute_result"
    }
   ],
   "source": [
    "rf_90_tune.best_params_"
   ]
  },
  {
   "cell_type": "code",
   "execution_count": 95,
   "metadata": {},
   "outputs": [],
   "source": [
    "rf_90_tuned=RandomForestClassifier(random_state=42, n_estimators= 200, max_depth=4, criterion='gini')"
   ]
  },
  {
   "cell_type": "code",
   "execution_count": 96,
   "metadata": {},
   "outputs": [
    {
     "name": "stdout",
     "output_type": "stream",
     "text": [
      "Random Forest \n",
      "Tuned 90 Model \n",
      "\n",
      "Confusion Matrix (Accuracy 0.6618)\n",
      "\n",
      "       Prediction\n",
      "Actual  0  1\n",
      "     0 20  1\n",
      "     1 22 25\n",
      "              precision    recall  f1-score   support\n",
      "\n",
      "           0       0.48      0.95      0.63        21\n",
      "           1       0.96      0.53      0.68        47\n",
      "\n",
      "    accuracy                           0.66        68\n",
      "   macro avg       0.72      0.74      0.66        68\n",
      "weighted avg       0.81      0.66      0.67        68\n",
      "\n"
     ]
    }
   ],
   "source": [
    "rf_90_tuned.fit(X_train_90, y_train_90)\n",
    "\n",
    "rf_90_tuned_pred = rf_90_tuned.predict(X_test_90)\n",
    "\n",
    "print(\"Random Forest \\nTuned 90 Model \\n\")\n",
    "classificationSummary(y_test_90, rf_90_tuned_pred)\n",
    "print(classification_report(y_test_90, rf_90_tuned_pred))\n",
    "\n",
    "rf_classification_report_90 = classification_report(y_test_90, rf_90_tuned_pred, output_dict=True)"
   ]
  },
  {
   "attachments": {},
   "cell_type": "markdown",
   "metadata": {},
   "source": [
    "## Logistic Regression"
   ]
  },
  {
   "cell_type": "code",
   "execution_count": 97,
   "metadata": {},
   "outputs": [
    {
     "name": "stderr",
     "output_type": "stream",
     "text": [
      "/Library/Frameworks/Python.framework/Versions/3.9/lib/python3.9/site-packages/sklearn/linear_model/_logistic.py:458: ConvergenceWarning: lbfgs failed to converge (status=1):\n",
      "STOP: TOTAL NO. of ITERATIONS REACHED LIMIT.\n",
      "\n",
      "Increase the number of iterations (max_iter) or scale the data as shown in:\n",
      "    https://scikit-learn.org/stable/modules/preprocessing.html\n",
      "Please also refer to the documentation for alternative solver options:\n",
      "    https://scikit-learn.org/stable/modules/linear_model.html#logistic-regression\n",
      "  n_iter_i = _check_optimize_result(\n"
     ]
    },
    {
     "name": "stdout",
     "output_type": "stream",
     "text": [
      "Best: 0.794444 using {'C': 100, 'penalty': 'l2', 'solver': 'newton-cg'}\n",
      "0.794444 (0.248824) with: {'C': 100, 'penalty': 'l2', 'solver': 'newton-cg'}\n",
      "0.794444 (0.248824) with: {'C': 100, 'penalty': 'l2', 'solver': 'lbfgs'}\n",
      "0.794444 (0.248824) with: {'C': 100, 'penalty': 'l2', 'solver': 'liblinear'}\n",
      "0.794444 (0.248824) with: {'C': 10, 'penalty': 'l2', 'solver': 'newton-cg'}\n",
      "0.794444 (0.248824) with: {'C': 10, 'penalty': 'l2', 'solver': 'lbfgs'}\n",
      "0.794444 (0.248824) with: {'C': 10, 'penalty': 'l2', 'solver': 'liblinear'}\n",
      "0.775000 (0.243575) with: {'C': 1.0, 'penalty': 'l2', 'solver': 'newton-cg'}\n",
      "0.775000 (0.243575) with: {'C': 1.0, 'penalty': 'l2', 'solver': 'lbfgs'}\n",
      "0.786111 (0.213745) with: {'C': 1.0, 'penalty': 'l2', 'solver': 'liblinear'}\n",
      "0.650000 (0.157233) with: {'C': 0.1, 'penalty': 'l2', 'solver': 'newton-cg'}\n",
      "0.650000 (0.157233) with: {'C': 0.1, 'penalty': 'l2', 'solver': 'lbfgs'}\n",
      "0.713889 (0.182172) with: {'C': 0.1, 'penalty': 'l2', 'solver': 'liblinear'}\n",
      "0.650000 (0.050000) with: {'C': 0.01, 'penalty': 'l2', 'solver': 'newton-cg'}\n",
      "0.650000 (0.050000) with: {'C': 0.01, 'penalty': 'l2', 'solver': 'lbfgs'}\n",
      "0.638889 (0.075564) with: {'C': 0.01, 'penalty': 'l2', 'solver': 'liblinear'}\n"
     ]
    }
   ],
   "source": [
    "# Tuned 30\n",
    "model = LogisticRegression()\n",
    "solvers = ['newton-cg', 'lbfgs', 'liblinear']\n",
    "penalty = ['l2']\n",
    "c_values = [100, 10, 1.0, 0.1, 0.01]\n",
    "\n",
    "grid = dict(solver=solvers,penalty=penalty,C=c_values)\n",
    "cv = RepeatedStratifiedKFold(n_splits=10, n_repeats=3, random_state=1)\n",
    "grid_search = GridSearchCV(estimator=model, param_grid=grid, n_jobs=-1, cv=cv, scoring='accuracy',error_score=0)\n",
    "grid_result = grid_search.fit(X_val_30, y_val_30)\n",
    "\n",
    "print(\"Best: %f using %s\" % (grid_result.best_score_, grid_result.best_params_))\n",
    "means = grid_result.cv_results_['mean_test_score']\n",
    "stds = grid_result.cv_results_['std_test_score']\n",
    "params = grid_result.cv_results_['params']\n",
    "for mean, stdev, param in zip(means, stds, params):\n",
    "    print(\"%f (%f) with: %r\" % (mean, stdev, param))"
   ]
  },
  {
   "cell_type": "code",
   "execution_count": 98,
   "metadata": {
    "scrolled": true
   },
   "outputs": [
    {
     "name": "stdout",
     "output_type": "stream",
     "text": [
      "Logistic Regression \n",
      "Tuned 30 Model \n",
      "\n",
      "Confusion Matrix (Accuracy 0.8382)\n",
      "\n",
      "       Prediction\n",
      "Actual  0  1\n",
      "     0 35  0\n",
      "     1 11 22\n",
      "              precision    recall  f1-score   support\n",
      "\n",
      "           0       0.76      1.00      0.86        35\n",
      "           1       1.00      0.67      0.80        33\n",
      "\n",
      "    accuracy                           0.84        68\n",
      "   macro avg       0.88      0.83      0.83        68\n",
      "weighted avg       0.88      0.84      0.83        68\n",
      "\n"
     ]
    }
   ],
   "source": [
    "lr_30 = LogisticRegression (penalty=\"l2\" , C=100, solver='newton-cg' )\n",
    "lr_30.fit(X_train_30, y_train_30)\n",
    "\n",
    "lr_pred_30 = lr_30.predict(X_test_30)\n",
    "\n",
    "print(\"Logistic Regression \\nTuned 30 Model \\n\")\n",
    "classificationSummary(y_test_30, lr_pred_30)\n",
    "print(classification_report(y_test_30, lr_pred_30))\n",
    "\n",
    "lr_classification_report_30 = classification_report(y_test_30, lr_pred_30, output_dict=True)"
   ]
  },
  {
   "cell_type": "code",
   "execution_count": 99,
   "metadata": {},
   "outputs": [
    {
     "name": "stderr",
     "output_type": "stream",
     "text": [
      "/Library/Frameworks/Python.framework/Versions/3.9/lib/python3.9/site-packages/sklearn/linear_model/_logistic.py:458: ConvergenceWarning: lbfgs failed to converge (status=1):\n",
      "STOP: TOTAL NO. of ITERATIONS REACHED LIMIT.\n",
      "\n",
      "Increase the number of iterations (max_iter) or scale the data as shown in:\n",
      "    https://scikit-learn.org/stable/modules/preprocessing.html\n",
      "Please also refer to the documentation for alternative solver options:\n",
      "    https://scikit-learn.org/stable/modules/linear_model.html#logistic-regression\n",
      "  n_iter_i = _check_optimize_result(\n"
     ]
    },
    {
     "name": "stdout",
     "output_type": "stream",
     "text": [
      "Best: 0.794444 using {'C': 100, 'penalty': 'l2', 'solver': 'newton-cg'}\n",
      "0.794444 (0.248824) with: {'C': 100, 'penalty': 'l2', 'solver': 'newton-cg'}\n",
      "0.794444 (0.248824) with: {'C': 100, 'penalty': 'l2', 'solver': 'lbfgs'}\n",
      "0.794444 (0.248824) with: {'C': 100, 'penalty': 'l2', 'solver': 'liblinear'}\n",
      "0.794444 (0.248824) with: {'C': 10, 'penalty': 'l2', 'solver': 'newton-cg'}\n",
      "0.794444 (0.248824) with: {'C': 10, 'penalty': 'l2', 'solver': 'lbfgs'}\n",
      "0.794444 (0.248824) with: {'C': 10, 'penalty': 'l2', 'solver': 'liblinear'}\n",
      "0.775000 (0.243575) with: {'C': 1.0, 'penalty': 'l2', 'solver': 'newton-cg'}\n",
      "0.775000 (0.243575) with: {'C': 1.0, 'penalty': 'l2', 'solver': 'lbfgs'}\n",
      "0.786111 (0.213745) with: {'C': 1.0, 'penalty': 'l2', 'solver': 'liblinear'}\n",
      "0.650000 (0.157233) with: {'C': 0.1, 'penalty': 'l2', 'solver': 'newton-cg'}\n",
      "0.650000 (0.157233) with: {'C': 0.1, 'penalty': 'l2', 'solver': 'lbfgs'}\n",
      "0.713889 (0.182172) with: {'C': 0.1, 'penalty': 'l2', 'solver': 'liblinear'}\n",
      "0.650000 (0.050000) with: {'C': 0.01, 'penalty': 'l2', 'solver': 'newton-cg'}\n",
      "0.650000 (0.050000) with: {'C': 0.01, 'penalty': 'l2', 'solver': 'lbfgs'}\n",
      "0.638889 (0.075564) with: {'C': 0.01, 'penalty': 'l2', 'solver': 'liblinear'}\n"
     ]
    }
   ],
   "source": [
    "# Tuned 60\n",
    "grid = dict(solver=solvers,penalty=penalty,C=c_values)\n",
    "cv = RepeatedStratifiedKFold(n_splits=10, n_repeats=3, random_state=1)\n",
    "grid_search = GridSearchCV(estimator=model, param_grid=grid, n_jobs=-1, cv=cv, scoring='accuracy',error_score=0)\n",
    "grid_result = grid_search.fit(X_val_60, y_val_60)\n",
    "\n",
    "print(\"Best: %f using %s\" % (grid_result.best_score_, grid_result.best_params_))\n",
    "means = grid_result.cv_results_['mean_test_score']\n",
    "stds = grid_result.cv_results_['std_test_score']\n",
    "params = grid_result.cv_results_['params']\n",
    "for mean, stdev, param in zip(means, stds, params):\n",
    "    print(\"%f (%f) with: %r\" % (mean, stdev, param))"
   ]
  },
  {
   "cell_type": "code",
   "execution_count": 100,
   "metadata": {
    "scrolled": true
   },
   "outputs": [
    {
     "name": "stdout",
     "output_type": "stream",
     "text": [
      "Logistic Regression \n",
      "Tuned 60 Model \n",
      "\n",
      "Confusion Matrix (Accuracy 0.7794)\n",
      "\n",
      "       Prediction\n",
      "Actual  0  1\n",
      "     0 31  1\n",
      "     1 14 22\n",
      "              precision    recall  f1-score   support\n",
      "\n",
      "           0       0.69      0.97      0.81        32\n",
      "           1       0.96      0.61      0.75        36\n",
      "\n",
      "    accuracy                           0.78        68\n",
      "   macro avg       0.82      0.79      0.78        68\n",
      "weighted avg       0.83      0.78      0.77        68\n",
      "\n"
     ]
    }
   ],
   "source": [
    "lr_60 = LogisticRegression (penalty=\"l2\" , C=100, solver='newton-cg' )\n",
    "lr_60.fit(X_train_60, y_train_60)\n",
    "\n",
    "lr_pred_60 = lr_60.predict(X_test_60)\n",
    "\n",
    "print(\"Logistic Regression \\nTuned 60 Model \\n\")\n",
    "classificationSummary(y_test_60, lr_pred_60)\n",
    "print(classification_report(y_test_60, lr_pred_60))\n",
    "\n",
    "lr_classification_report_60 = classification_report(y_test_60, lr_pred_60, output_dict=True)\n"
   ]
  },
  {
   "cell_type": "code",
   "execution_count": 101,
   "metadata": {},
   "outputs": [
    {
     "name": "stderr",
     "output_type": "stream",
     "text": [
      "/Library/Frameworks/Python.framework/Versions/3.9/lib/python3.9/site-packages/sklearn/model_selection/_split.py:700: UserWarning: The least populated class in y has only 8 members, which is less than n_splits=10.\n",
      "  warnings.warn(\n",
      "/Library/Frameworks/Python.framework/Versions/3.9/lib/python3.9/site-packages/sklearn/model_selection/_split.py:700: UserWarning: The least populated class in y has only 8 members, which is less than n_splits=10.\n",
      "  warnings.warn(\n",
      "/Library/Frameworks/Python.framework/Versions/3.9/lib/python3.9/site-packages/sklearn/model_selection/_split.py:700: UserWarning: The least populated class in y has only 8 members, which is less than n_splits=10.\n",
      "  warnings.warn(\n"
     ]
    },
    {
     "name": "stdout",
     "output_type": "stream",
     "text": [
      "Best: 0.780556 using {'C': 1.0, 'penalty': 'l2', 'solver': 'newton-cg'}\n",
      "0.761111 (0.218087) with: {'C': 100, 'penalty': 'l2', 'solver': 'newton-cg'}\n",
      "0.761111 (0.218087) with: {'C': 100, 'penalty': 'l2', 'solver': 'lbfgs'}\n",
      "0.761111 (0.218087) with: {'C': 100, 'penalty': 'l2', 'solver': 'liblinear'}\n",
      "0.750000 (0.230740) with: {'C': 10, 'penalty': 'l2', 'solver': 'newton-cg'}\n",
      "0.750000 (0.230740) with: {'C': 10, 'penalty': 'l2', 'solver': 'lbfgs'}\n",
      "0.761111 (0.218087) with: {'C': 10, 'penalty': 'l2', 'solver': 'liblinear'}\n",
      "0.780556 (0.197769) with: {'C': 1.0, 'penalty': 'l2', 'solver': 'newton-cg'}\n",
      "0.780556 (0.197769) with: {'C': 1.0, 'penalty': 'l2', 'solver': 'lbfgs'}\n",
      "0.780556 (0.197769) with: {'C': 1.0, 'penalty': 'l2', 'solver': 'liblinear'}\n",
      "0.741667 (0.131498) with: {'C': 0.1, 'penalty': 'l2', 'solver': 'newton-cg'}\n",
      "0.741667 (0.131498) with: {'C': 0.1, 'penalty': 'l2', 'solver': 'lbfgs'}\n",
      "0.741667 (0.131498) with: {'C': 0.1, 'penalty': 'l2', 'solver': 'liblinear'}\n",
      "0.741667 (0.131498) with: {'C': 0.01, 'penalty': 'l2', 'solver': 'newton-cg'}\n",
      "0.741667 (0.131498) with: {'C': 0.01, 'penalty': 'l2', 'solver': 'lbfgs'}\n",
      "0.741667 (0.131498) with: {'C': 0.01, 'penalty': 'l2', 'solver': 'liblinear'}\n"
     ]
    }
   ],
   "source": [
    "# Tuned 90\n",
    "grid = dict(solver=solvers,penalty=penalty,C=c_values)\n",
    "cv = RepeatedStratifiedKFold(n_splits=10, n_repeats=3, random_state=1)\n",
    "grid_search = GridSearchCV(estimator=model, param_grid=grid, n_jobs=-1, cv=cv, scoring='accuracy',error_score=0)\n",
    "grid_result = grid_search.fit(X_val_90, y_val_90)\n",
    "\n",
    "print(\"Best: %f using %s\" % (grid_result.best_score_, grid_result.best_params_))\n",
    "means = grid_result.cv_results_['mean_test_score']\n",
    "stds = grid_result.cv_results_['std_test_score']\n",
    "params = grid_result.cv_results_['params']\n",
    "for mean, stdev, param in zip(means, stds, params):\n",
    "    print(\"%f (%f) with: %r\" % (mean, stdev, param))"
   ]
  },
  {
   "cell_type": "code",
   "execution_count": 102,
   "metadata": {},
   "outputs": [
    {
     "name": "stdout",
     "output_type": "stream",
     "text": [
      "Confusion Matrix (Accuracy 0.6618)\n",
      "\n",
      "       Prediction\n",
      "Actual  0  1\n",
      "     0 20  1\n",
      "     1 22 25\n",
      "              precision    recall  f1-score   support\n",
      "\n",
      "           0       0.48      0.95      0.63        21\n",
      "           1       0.96      0.53      0.68        47\n",
      "\n",
      "    accuracy                           0.66        68\n",
      "   macro avg       0.72      0.74      0.66        68\n",
      "weighted avg       0.81      0.66      0.67        68\n",
      "\n"
     ]
    }
   ],
   "source": [
    "lr_90 = LogisticRegression (penalty=\"l2\" , C=10, solver='liblinear' )\n",
    "lr_90.fit(X_train_90, y_train_90)\n",
    "\n",
    "lr_pred_90 = lr_90.predict(X_test_90)\n",
    "classificationSummary(y_test_90, lr_pred_90)\n",
    "print(classification_report(y_test_90, lr_pred_90))\n",
    "\n",
    "lr_classification_report_90 = classification_report(y_test_90, lr_pred_90, output_dict=True)"
   ]
  },
  {
   "attachments": {},
   "cell_type": "markdown",
   "metadata": {},
   "source": [
    "## Naive Bayes"
   ]
  },
  {
   "cell_type": "code",
   "execution_count": 104,
   "metadata": {},
   "outputs": [
    {
     "data": {
      "text/plain": [
       "0.4"
      ]
     },
     "execution_count": 104,
     "metadata": {},
     "output_type": "execute_result"
    }
   ],
   "source": [
    "# ACCIDENT_in_30 NB model tuning\n",
    "nb_30 = BernoulliNB()\n",
    "\n",
    "param_grid_30 = {'alpha': np.linspace(0.1, 1.0, 10)}\n",
    "\n",
    "grid_search_30 = GridSearchCV(nb_30, param_grid_30, cv=5, scoring='accuracy')\n",
    "grid_search_30.fit(X_val_30, y_val_30)\n",
    "\n",
    "alpha_30 = grid_search_30.best_params_['alpha']\n",
    "alpha_30"
   ]
  },
  {
   "cell_type": "code",
   "execution_count": 105,
   "metadata": {},
   "outputs": [
    {
     "name": "stdout",
     "output_type": "stream",
     "text": [
      "Confusion Matrix (Accuracy 0.8382)\n",
      "\n",
      "       Prediction\n",
      "Actual  0  1\n",
      "     0 34  1\n",
      "     1 10 23\n",
      "              precision    recall  f1-score   support\n",
      "\n",
      "           0       0.77      0.97      0.86        35\n",
      "           1       0.96      0.70      0.81        33\n",
      "\n",
      "    accuracy                           0.84        68\n",
      "   macro avg       0.87      0.83      0.83        68\n",
      "weighted avg       0.86      0.84      0.83        68\n",
      "\n"
     ]
    }
   ],
   "source": [
    "# ACCIDENT_in_30 NB model training\n",
    "nb_30_model = BernoulliNB(alpha = alpha_30)\n",
    "nb_30_model.fit(X_train_30, y_train_30)\n",
    "\n",
    "# ACCIDENT_in_30 NB model testing\n",
    "nb_pred_30 = nb_30_model.predict(X_test_30)\n",
    "\n",
    "# ACCIDENT_in_30 NB model results\n",
    "classificationSummary(y_test_30, nb_pred_30)\n",
    "print(classification_report(y_test_30, nb_pred_30))\n",
    "\n",
    "nb_classification_report_30 = classification_report(y_test_30, nb_pred_30, output_dict=True)"
   ]
  },
  {
   "cell_type": "code",
   "execution_count": 106,
   "metadata": {},
   "outputs": [
    {
     "data": {
      "text/plain": [
       "0.4"
      ]
     },
     "execution_count": 106,
     "metadata": {},
     "output_type": "execute_result"
    }
   ],
   "source": [
    "# ACCIDENT_in_60 NB model tuning\n",
    "nb_60 = BernoulliNB()\n",
    "\n",
    "param_grid_60 = {'alpha': np.linspace(0.1, 1.0, 10)}\n",
    "\n",
    "grid_search_60 = GridSearchCV(nb_60, param_grid_60, cv=5, scoring='accuracy')\n",
    "grid_search_60.fit(X_val_60, y_val_60)\n",
    "\n",
    "alpha_60 = grid_search_60.best_params_['alpha']\n",
    "alpha_60"
   ]
  },
  {
   "cell_type": "code",
   "execution_count": 107,
   "metadata": {},
   "outputs": [
    {
     "name": "stdout",
     "output_type": "stream",
     "text": [
      "Confusion Matrix (Accuracy 0.7941)\n",
      "\n",
      "       Prediction\n",
      "Actual  0  1\n",
      "     0 31  1\n",
      "     1 13 23\n",
      "              precision    recall  f1-score   support\n",
      "\n",
      "           0       0.70      0.97      0.82        32\n",
      "           1       0.96      0.64      0.77        36\n",
      "\n",
      "    accuracy                           0.79        68\n",
      "   macro avg       0.83      0.80      0.79        68\n",
      "weighted avg       0.84      0.79      0.79        68\n",
      "\n"
     ]
    }
   ],
   "source": [
    "# ACCIDENT_in_60 NB model training\n",
    "nb_60_model = BernoulliNB(alpha = alpha_60)\n",
    "nb_60_model.fit(X_train_60, y_train_60)\n",
    "\n",
    "# ACCIDENT_in_60 NB model testing\n",
    "nb_pred_60 = nb_60_model.predict(X_test_60)\n",
    "\n",
    "# ACCIDENT_in_60 NB model results\n",
    "classificationSummary(y_test_60, nb_pred_60)\n",
    "print(classification_report(y_test_60, nb_pred_60))\n",
    "\n",
    "nb_classification_report_60 = classification_report(y_test_60, nb_pred_60, output_dict=True)"
   ]
  },
  {
   "cell_type": "code",
   "execution_count": 108,
   "metadata": {},
   "outputs": [
    {
     "data": {
      "text/plain": [
       "0.1"
      ]
     },
     "execution_count": 108,
     "metadata": {},
     "output_type": "execute_result"
    }
   ],
   "source": [
    "# ACCIDENT_in_90 NB model tuning\n",
    "nb_90 = BernoulliNB()\n",
    "\n",
    "param_grid_90 = {'alpha': np.linspace(0.1, 1.0, 10)}\n",
    "\n",
    "grid_search_90 = GridSearchCV(nb_90, param_grid_90, cv=5, scoring='accuracy')\n",
    "grid_search_90.fit(X_val_90, y_val_90)\n",
    "\n",
    "alpha_90 = grid_search_90.best_params_['alpha']\n",
    "alpha_90"
   ]
  },
  {
   "cell_type": "code",
   "execution_count": 109,
   "metadata": {},
   "outputs": [
    {
     "name": "stdout",
     "output_type": "stream",
     "text": [
      "Confusion Matrix (Accuracy 0.6324)\n",
      "\n",
      "       Prediction\n",
      "Actual  0  1\n",
      "     0 20  1\n",
      "     1 24 23\n",
      "              precision    recall  f1-score   support\n",
      "\n",
      "           0       0.45      0.95      0.62        21\n",
      "           1       0.96      0.49      0.65        47\n",
      "\n",
      "    accuracy                           0.63        68\n",
      "   macro avg       0.71      0.72      0.63        68\n",
      "weighted avg       0.80      0.63      0.64        68\n",
      "\n"
     ]
    }
   ],
   "source": [
    "# ACCIDENT_in_90 NB model training\n",
    "nb_90_model = BernoulliNB(alpha = alpha_90)\n",
    "nb_90_model.fit(X_train_90, y_train_90)\n",
    "\n",
    "# ACCIDENT_in_90 NB model testing\n",
    "nb_pred_90 = nb_90_model.predict(X_test_90)\n",
    "\n",
    "# ACCIDENT_in_90 NB model results\n",
    "classificationSummary(y_test_90, nb_pred_90)\n",
    "print(classification_report(y_test_90, nb_pred_90))\n",
    "\n",
    "nb_classification_report_90 = classification_report(y_test_90, nb_pred_90, output_dict=True)"
   ]
  },
  {
   "attachments": {},
   "cell_type": "markdown",
   "metadata": {},
   "source": [
    "## SVM"
   ]
  },
  {
   "cell_type": "code",
   "execution_count": 110,
   "metadata": {},
   "outputs": [],
   "source": [
    "# Create an SVM classifier\n",
    "clf = svm.SVC()\n",
    "\n",
    "# Define the parameter grid for grid search\n",
    "param_grid = {\n",
    "    'C': [0.1, 1, 10],\n",
    "    'kernel': ['linear', 'rbf', 'poly', 'sigmoid'],\n",
    "}\n",
    "\n",
    "grid_search = GridSearchCV(clf, param_grid, cv=5, scoring='accuracy')"
   ]
  },
  {
   "attachments": {},
   "cell_type": "markdown",
   "metadata": {},
   "source": [
    "Tuned 30"
   ]
  },
  {
   "cell_type": "code",
   "execution_count": 111,
   "metadata": {},
   "outputs": [
    {
     "name": "stdout",
     "output_type": "stream",
     "text": [
      "Confusion Matrix (Accuracy 0.8235)\n",
      "\n",
      "       Prediction\n",
      "Actual  0  1\n",
      "     0 34  1\n",
      "     1 11 22\n",
      "Classification Report:\n",
      "              precision    recall  f1-score   support\n",
      "\n",
      "           0       0.76      0.97      0.85        35\n",
      "           1       0.96      0.67      0.79        33\n",
      "\n",
      "    accuracy                           0.82        68\n",
      "   macro avg       0.86      0.82      0.82        68\n",
      "weighted avg       0.85      0.82      0.82        68\n",
      "\n"
     ]
    }
   ],
   "source": [
    "# Perform grid search using the validation set\n",
    "grid_search.fit(X_val_30, y_val_30)\n",
    "\n",
    "# Get the best model from grid search\n",
    "best_clf = grid_search.best_estimator_\n",
    "\n",
    "# Fit the best classifier on the training data\n",
    "best_clf.fit(X_train_30, y_train_30)\n",
    "\n",
    "# Make predictions on the test set\n",
    "y_pred_30 = best_clf.predict(X_test_30)\n",
    "\n",
    "# Print the classification summary and report\n",
    "classificationSummary(y_test_30, y_pred_30)\n",
    "\n",
    "print(\"Classification Report:\")\n",
    "svm_classification_report_30 = classification_report(y_test_30, y_pred_30, output_dict=True)\n",
    "print(classification_report(y_test_30, y_pred_30))"
   ]
  },
  {
   "attachments": {},
   "cell_type": "markdown",
   "metadata": {},
   "source": [
    "Tuned 60"
   ]
  },
  {
   "cell_type": "code",
   "execution_count": 112,
   "metadata": {},
   "outputs": [
    {
     "name": "stdout",
     "output_type": "stream",
     "text": [
      "Confusion Matrix (Accuracy 0.7794)\n",
      "\n",
      "       Prediction\n",
      "Actual  0  1\n",
      "     0 31  1\n",
      "     1 14 22\n",
      "Classification Report:\n",
      "              precision    recall  f1-score   support\n",
      "\n",
      "           0       0.69      0.97      0.81        32\n",
      "           1       0.96      0.61      0.75        36\n",
      "\n",
      "    accuracy                           0.78        68\n",
      "   macro avg       0.82      0.79      0.78        68\n",
      "weighted avg       0.83      0.78      0.77        68\n",
      "\n"
     ]
    }
   ],
   "source": [
    "# Perform grid search using the validation set\n",
    "grid_search.fit(X_val_60, y_val_60)\n",
    "\n",
    "# Get the best model from grid search\n",
    "best_clf = grid_search.best_estimator_\n",
    "\n",
    "# Fit the best classifier on the training data\n",
    "best_clf.fit(X_train_60, y_train_60)\n",
    "\n",
    "# Make predictions on the test set\n",
    "y_pred_60 = best_clf.predict(X_test_60)\n",
    "\n",
    "# Print the classification summary and report\n",
    "classificationSummary(y_test_60, y_pred_60)\n",
    "\n",
    "print(\"Classification Report:\")\n",
    "svm_classification_report_60 = classification_report(y_test_60, y_pred_60, output_dict=True)\n",
    "print(classification_report(y_test_60, y_pred_60))"
   ]
  },
  {
   "attachments": {},
   "cell_type": "markdown",
   "metadata": {},
   "source": [
    "Tuned 90"
   ]
  },
  {
   "cell_type": "code",
   "execution_count": 113,
   "metadata": {},
   "outputs": [
    {
     "name": "stdout",
     "output_type": "stream",
     "text": [
      "Confusion Matrix (Accuracy 0.6324)\n",
      "\n",
      "       Prediction\n",
      "Actual  0  1\n",
      "     0 20  1\n",
      "     1 24 23\n",
      "Classification Report:\n",
      "              precision    recall  f1-score   support\n",
      "\n",
      "           0       0.45      0.95      0.62        21\n",
      "           1       0.96      0.49      0.65        47\n",
      "\n",
      "    accuracy                           0.63        68\n",
      "   macro avg       0.71      0.72      0.63        68\n",
      "weighted avg       0.80      0.63      0.64        68\n",
      "\n"
     ]
    }
   ],
   "source": [
    "# Perform grid search using the validation set\n",
    "grid_search.fit(X_val_90, y_val_90)\n",
    "\n",
    "# Get the best model from grid search\n",
    "best_clf = grid_search.best_estimator_\n",
    "\n",
    "# Fit the best classifier on the training data\n",
    "best_clf.fit(X_train_90, y_train_90)\n",
    "\n",
    "# Make predictions on the test set\n",
    "y_pred_90 = best_clf.predict(X_test_90)\n",
    "\n",
    "# Print the classification summary and report\n",
    "classificationSummary(y_test_90, y_pred_90)\n",
    "\n",
    "print(\"Classification Report:\")\n",
    "svm_classification_report_90 = classification_report(y_test_90, y_pred_90, output_dict=True)\n",
    "print(classification_report(y_test_90, y_pred_90))"
   ]
  },
  {
   "attachments": {},
   "cell_type": "markdown",
   "metadata": {},
   "source": [
    "## GBM"
   ]
  },
  {
   "cell_type": "code",
   "execution_count": 114,
   "metadata": {},
   "outputs": [],
   "source": [
    "# Create a Gradient Boosting Classifier\n",
    "gbm = GradientBoostingClassifier()\n",
    "\n",
    "# Define the parameter grid for grid search\n",
    "param_grid = {\n",
    "    'n_estimators': [50, 100, 150],\n",
    "    'learning_rate': [0.01, 0.1, 0.2],\n",
    "    'max_depth': [3, 4, 5],\n",
    "}\n",
    "\n",
    "# Set up the grid search for the validation set \n",
    "grid_search = GridSearchCV(gbm, param_grid, cv=5, scoring='accuracy')"
   ]
  },
  {
   "attachments": {},
   "cell_type": "markdown",
   "metadata": {},
   "source": [
    "Tuned 30 "
   ]
  },
  {
   "cell_type": "code",
   "execution_count": 115,
   "metadata": {},
   "outputs": [
    {
     "name": "stdout",
     "output_type": "stream",
     "text": [
      "Confusion Matrix (Accuracy 0.8235)\n",
      "\n",
      "       Prediction\n",
      "Actual  0  1\n",
      "     0 34  1\n",
      "     1 11 22\n",
      "Classification Report:\n",
      "              precision    recall  f1-score   support\n",
      "\n",
      "           0       0.76      0.97      0.85        35\n",
      "           1       0.96      0.67      0.79        33\n",
      "\n",
      "    accuracy                           0.82        68\n",
      "   macro avg       0.86      0.82      0.82        68\n",
      "weighted avg       0.85      0.82      0.82        68\n",
      "\n"
     ]
    }
   ],
   "source": [
    "# Perform grid search using the validation set\n",
    "grid_search.fit(X_val_30, y_val_30)\n",
    "\n",
    "# Get the best model from grid search\n",
    "best_gbm_30 = grid_search.best_estimator_\n",
    "\n",
    "# Fit the best classifier on the training data\n",
    "best_gbm_30.fit(X_train_30, y_train_30)\n",
    "\n",
    "# Make predictions on the test set\n",
    "y_pred_30_gbm = best_gbm_30.predict(X_test_30)\n",
    "\n",
    "# Print the classification summary and report\n",
    "classificationSummary(y_test_30, y_pred_30_gbm)\n",
    "\n",
    "print(\"Classification Report:\")\n",
    "gbm_classification_report_30 = classification_report(y_test_30, y_pred_30_gbm, output_dict=True)\n",
    "print(classification_report(y_test_30, y_pred_30_gbm))"
   ]
  },
  {
   "attachments": {},
   "cell_type": "markdown",
   "metadata": {},
   "source": [
    "Tuned 60 "
   ]
  },
  {
   "cell_type": "code",
   "execution_count": 116,
   "metadata": {},
   "outputs": [
    {
     "name": "stdout",
     "output_type": "stream",
     "text": [
      "Confusion Matrix (Accuracy 0.7794)\n",
      "\n",
      "       Prediction\n",
      "Actual  0  1\n",
      "     0 31  1\n",
      "     1 14 22\n",
      "Classification Report:\n",
      "              precision    recall  f1-score   support\n",
      "\n",
      "           0       0.69      0.97      0.81        32\n",
      "           1       0.96      0.61      0.75        36\n",
      "\n",
      "    accuracy                           0.78        68\n",
      "   macro avg       0.82      0.79      0.78        68\n",
      "weighted avg       0.83      0.78      0.77        68\n",
      "\n"
     ]
    }
   ],
   "source": [
    "# Perform grid search using the validation set\n",
    "grid_search.fit(X_val_60, y_val_60)\n",
    "\n",
    "# Get the best model from grid search\n",
    "best_gbm_60 = grid_search.best_estimator_\n",
    "\n",
    "# Fit the best classifier on the training data\n",
    "best_gbm_60.fit(X_train_60, y_train_60)\n",
    "\n",
    "# Make predictions on the test set\n",
    "y_pred_60_gbm = best_gbm_60.predict(X_test_60)\n",
    "\n",
    "# Print the classification summary and report\n",
    "classificationSummary(y_test_60, y_pred_60_gbm)\n",
    "\n",
    "print(\"Classification Report:\")\n",
    "gbm_classification_report_60 = classification_report(y_test_60, y_pred_60_gbm, output_dict=True)\n",
    "print(classification_report(y_test_60, y_pred_60_gbm))"
   ]
  },
  {
   "attachments": {},
   "cell_type": "markdown",
   "metadata": {},
   "source": [
    "Tuned 90 "
   ]
  },
  {
   "cell_type": "code",
   "execution_count": 117,
   "metadata": {},
   "outputs": [
    {
     "name": "stdout",
     "output_type": "stream",
     "text": [
      "Confusion Matrix (Accuracy 0.8088)\n",
      "\n",
      "       Prediction\n",
      "Actual  0  1\n",
      "     0  9 12\n",
      "     1  1 46\n",
      "Classification Report:\n",
      "              precision    recall  f1-score   support\n",
      "\n",
      "           0       0.90      0.43      0.58        21\n",
      "           1       0.79      0.98      0.88        47\n",
      "\n",
      "    accuracy                           0.81        68\n",
      "   macro avg       0.85      0.70      0.73        68\n",
      "weighted avg       0.83      0.81      0.78        68\n",
      "\n"
     ]
    }
   ],
   "source": [
    "# Perform grid search using the validation set\n",
    "grid_search.fit(X_val_90, y_val_90)\n",
    "\n",
    "# Get the best model from grid search\n",
    "best_gbm_90 = grid_search.best_estimator_\n",
    "\n",
    "# Fit the best classifier on the training data\n",
    "best_gbm_90.fit(X_train_90, y_train_90)\n",
    "\n",
    "# Make predictions on the test set\n",
    "y_pred_90_gbm = best_gbm_90.predict(X_test_90)\n",
    "\n",
    "# Print the classification summary and report\n",
    "classificationSummary(y_test_90, y_pred_90_gbm)\n",
    "\n",
    "print(\"Classification Report:\")\n",
    "gbm_classification_report_90 = classification_report(y_test_90, y_pred_90_gbm, output_dict=True)\n",
    "print(classification_report(y_test_90, y_pred_90_gbm))"
   ]
  },
  {
   "attachments": {},
   "cell_type": "markdown",
   "metadata": {},
   "source": [
    "## Compare all Models "
   ]
  },
  {
   "cell_type": "code",
   "execution_count": 118,
   "metadata": {},
   "outputs": [],
   "source": [
    "# Random Forest \n",
    "rf_accuracy_30 = rf_classification_report_30['accuracy']\n",
    "rf_recall_30 = rf_classification_report_30['macro avg']['recall']\n",
    "\n",
    "rf_accuracy_60 = rf_classification_report_60['accuracy']\n",
    "rf_recall_60 = rf_classification_report_60['macro avg']['recall']\n",
    "\n",
    "rf_accuracy_90 = rf_classification_report_90['accuracy']\n",
    "rf_recall_90 = rf_classification_report_90['macro avg']['recall']\n",
    "\n",
    "\n",
    "# Logistic Regression\n",
    "lr_accuracy_30 = lr_classification_report_30['accuracy']\n",
    "lr_recall_30 = lr_classification_report_30['macro avg']['recall']\n",
    "\n",
    "lr_accuracy_60 = lr_classification_report_60['accuracy']\n",
    "lr_recall_60 = lr_classification_report_60['macro avg']['recall']\n",
    "\n",
    "lr_accuracy_90 = lr_classification_report_90['accuracy']\n",
    "lr_recall_90 = lr_classification_report_90['macro avg']['recall']\n",
    "\n",
    "\n",
    "# Naive Bayes\n",
    "nb_accuracy_30 = nb_classification_report_30['accuracy']\n",
    "nb_recall_30 = nb_classification_report_30['macro avg']['recall']\n",
    "\n",
    "nb_accuracy_60 = nb_classification_report_60['accuracy']\n",
    "nb_recall_60 = nb_classification_report_60['macro avg']['recall']\n",
    "\n",
    "nb_accuracy_90 = nb_classification_report_90['accuracy']\n",
    "nb_recall_90 = nb_classification_report_90['macro avg']['recall']\n",
    "\n",
    "# SVM \n",
    "svm_accuracy_30 = svm_classification_report_30['accuracy']\n",
    "svm_recall_30 = svm_classification_report_30['macro avg']['recall']\n",
    "\n",
    "svm_accuracy_60 = svm_classification_report_60['accuracy']\n",
    "svm_recall_60 = svm_classification_report_60['macro avg']['recall']\n",
    "\n",
    "svm_accuracy_90 = svm_classification_report_90['accuracy']\n",
    "svm_recall_90 = svm_classification_report_90['macro avg']['recall']\n",
    "\n",
    "# GBM \n",
    "gbm_accuracy_30 = gbm_classification_report_30['accuracy']\n",
    "gbm_recall_30 = gbm_classification_report_30['macro avg']['recall']\n",
    "\n",
    "gbm_accuracy_60 = gbm_classification_report_60['accuracy']\n",
    "gbm_recall_60 = gbm_classification_report_60['macro avg']['recall']\n",
    "\n",
    "gbm_accuracy_90 = gbm_classification_report_90['accuracy']\n",
    "gbm_recall_90 = gbm_classification_report_90['macro avg']['recall']"
   ]
  },
  {
   "cell_type": "code",
   "execution_count": 119,
   "metadata": {},
   "outputs": [],
   "source": [
    "# Create bar chart\n",
    "targets = ['30', '60', '90']\n",
    "\n",
    "\n",
    "# Separate accuracy and recall values for each model and target\n",
    "rf_accuracy_values = [rf_accuracy_30, rf_accuracy_60, rf_accuracy_90]\n",
    "rf_recall_values = [rf_recall_30, rf_recall_60, rf_recall_90]\n",
    "\n",
    "lr_accuracy_values = [lr_accuracy_30, lr_accuracy_60, lr_accuracy_90]\n",
    "lr_recall_values = [lr_recall_30, lr_recall_60, lr_recall_90]\n",
    "\n",
    "nb_accuracy_values = [nb_accuracy_30, nb_accuracy_60, nb_accuracy_90]\n",
    "nb_recall_values = [nb_recall_30, nb_recall_60, nb_recall_90]\n",
    "\n",
    "gbm_accuracy_values = [gbm_accuracy_30, gbm_accuracy_60, gbm_accuracy_90]\n",
    "gbm_recall_values = [gbm_recall_30, gbm_recall_60, gbm_recall_90]\n",
    "\n",
    "svm_accuracy_values = [svm_accuracy_30, svm_accuracy_60, svm_accuracy_90]\n",
    "svm_recall_values = [svm_recall_30, svm_recall_60, svm_recall_90]"
   ]
  },
  {
   "cell_type": "code",
   "execution_count": 120,
   "metadata": {},
   "outputs": [
    {
     "data": {
      "image/png": "[encoded data removed]",
      "text/plain": [
       "<Figure size 1200x600 with 2 Axes>"
      ]
     },
     "metadata": {},
     "output_type": "display_data"
    }
   ],
   "source": [
    "# Set the width of the bars\n",
    "bar_width = 0.15\n",
    "\n",
    "# Define the positions of the bars for GBM, SVM, RF, LR, and NB\n",
    "bar_positions_rf = np.arange(len(targets))\n",
    "bar_positions_lr = bar_positions_rf + bar_width\n",
    "bar_positions_nb = bar_positions_lr + bar_width\n",
    "bar_positions_svm = bar_positions_nb + bar_width\n",
    "bar_positions_gbm = bar_positions_svm + bar_width\n",
    "\n",
    "# Create subplots\n",
    "fig, (ax1, ax2) = plt.subplots(1, 2, figsize=(12, 6))\n",
    "\n",
    "# Plot the GBM accuracy and recall bars on subplot 1\n",
    "ax1.barh(bar_positions_rf, rf_accuracy_values, height=bar_width, label='RF Accuracy')\n",
    "ax1.barh(bar_positions_lr, lr_accuracy_values, height=bar_width, label='LR Accuracy')\n",
    "ax1.barh(bar_positions_nb, nb_accuracy_values, height=bar_width, label='NB Accuracy')\n",
    "ax1.barh(bar_positions_svm, svm_accuracy_values, height=bar_width, label='SVM Accuracy')\n",
    "ax1.barh(bar_positions_gbm, gbm_accuracy_values, height=bar_width, label='GMB Accuracy')\n",
    "\n",
    "ax1.set_xlabel('Accuracy')\n",
    "ax1.set_yticks(bar_positions_gbm + bar_width / 2)\n",
    "ax1.set_yticklabels(targets)\n",
    "ax1.set_title('Accuracy Comparison for Tuned Models')\n",
    "ax1.legend()\n",
    "\n",
    "# Plot the recall bars on subplot 2\n",
    "\n",
    "ax2.barh(bar_positions_rf, rf_recall_values, height=bar_width, label='RF Recall')\n",
    "ax2.barh(bar_positions_lr, lr_recall_values, height=bar_width, label='LR Recall')\n",
    "ax2.barh(bar_positions_nb, nb_recall_values, height=bar_width, label='NB Recall')\n",
    "ax2.barh(bar_positions_svm, svm_recall_values, height=bar_width, label='SVM Recall')\n",
    "ax2.barh(bar_positions_gbm, gbm_recall_values, height=bar_width, label='GBM Recall')\n",
    "\n",
    "ax2.set_xlabel('Recall')\n",
    "ax2.set_yticks(bar_positions_gbm + bar_width / 2)\n",
    "ax2.set_yticklabels(targets)\n",
    "ax2.set_title('Recall Comparison for Tuned Models')\n",
    "ax2.legend()\n",
    "\n",
    "# Move the legend to the bottom center\n",
    "ax1.legend(loc='lower center', bbox_to_anchor=(0.5, -0.2), ncol=3)\n",
    "ax2.legend(loc='lower center', bbox_to_anchor=(0.5, -0.2), ncol=3)\n",
    "\n",
    "# Adjust layout to avoid overlapping labels\n",
    "plt.tight_layout()\n",
    "\n",
    "plt.show()"
   ]
  },
  {
   "attachments": {},
   "cell_type": "markdown",
   "metadata": {},
   "source": [
    "## "
   ]
  }
 ],
 "metadata": {
  "kernelspec": {
   "display_name": "Python 3 (ipykernel)",
   "language": "python",
   "name": "python3"
  },
  "language_info": {
   "codemirror_mode": {
    "name": "ipython",
    "version": 3
   },
   "file_extension": ".py",
   "mimetype": "text/x-python",
   "name": "python",
   "nbconvert_exporter": "python",
   "pygments_lexer": "ipython3",
   "version": "3.9.0"
  },
  "vscode": {
   "interpreter": {
    "hash": "aee8b7b246df8f9039afb4144a1f6fd8d2ca17a180786b69acc140d282b71a49"
   }
  }
 },
 "nbformat": 4,
 "nbformat_minor": 2
}
