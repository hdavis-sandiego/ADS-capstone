{
 "cells": [
  {
   "cell_type": "markdown",
   "metadata": {},
   "source": [
    "# Libraries"
   ]
  },
  {
   "cell_type": "code",
   "execution_count": 54,
   "metadata": {},
   "outputs": [
    {
     "name": "stderr",
     "output_type": "stream",
     "text": [
      "[nltk_data] Downloading package stopwords to\n",
      "[nltk_data]     /Users/halledavis/nltk_data...\n",
      "[nltk_data]   Package stopwords is already up-to-date!\n"
     ]
    }
   ],
   "source": [
    "import os\n",
    "import re\n",
    "import emoji\n",
    "import pandas as pd\n",
    "import numpy as np\n",
    "import warnings\n",
    "\n",
    "from collections import Counter, defaultdict\n",
    "from nltk.corpus import stopwords\n",
    "from string import punctuation\n",
    "from wordcloud import WordCloud \n",
    "\n",
    "from sklearn.feature_extraction.text import TfidfTransformer, CountVectorizer\n",
    "import string\n",
    "import nltk\n",
    "nltk.download('stopwords')\n",
    "import shutil\n",
    "from scipy.stats import chi2_contingency\n",
    "\n",
    "\n",
    "import seaborn as sns\n",
    "import matplotlib.pylab as plt\n",
    "\n",
    "from datetime import datetime, timedelta\n",
    "from tqdm import tqdm\n"
   ]
  },
  {
   "cell_type": "markdown",
   "metadata": {},
   "source": [
    "# Data Load"
   ]
  },
  {
   "cell_type": "code",
   "execution_count": 2,
   "metadata": {},
   "outputs": [],
   "source": [
    "#os.chdir('C:\\\\Users\\\\halle.davis\\\\Downloads\\\\') ## Halle's work folder path\n",
    "os.chdir('/Users/halledavis/Downloads/') ## Halle's personal folder path\n",
    "#os.chdir('/users/clairephibbs/Desktop/') ## Claire's folder path\n",
    "#os.chdir('/Users/summerpurschke/Desktop/ADS/Capstone') ## Summer's folder path"
   ]
  },
  {
   "cell_type": "code",
   "execution_count": 3,
   "metadata": {
    "scrolled": true
   },
   "outputs": [
    {
     "name": "stderr",
     "output_type": "stream",
     "text": [
      "/var/folders/4w/bl1whnz1491dljnl9k34l06h0000gn/T/ipykernel_4283/3089229011.py:3: DtypeWarning: Columns (35) have mixed types. Specify dtype option on import or set low_memory=False.\n",
      "  accidents = pd.read_csv('Accidents.txt', sep= '|', encoding = 'latin-1')\n",
      "/var/folders/4w/bl1whnz1491dljnl9k34l06h0000gn/T/ipykernel_4283/3089229011.py:4: DtypeWarning: Columns (25,34,36,37,43,45,46,55,56,58) have mixed types. Specify dtype option on import or set low_memory=False.\n",
      "  violations = pd.read_csv('Violations.txt', sep= '|', encoding = 'latin-1')\n"
     ]
    }
   ],
   "source": [
    "inspections = pd.read_csv('Inspections.txt', sep= '|', encoding = 'latin-1')\n",
    "mines = pd.read_csv('Mines.txt', sep= '|', encoding = 'latin-1')\n",
    "accidents = pd.read_csv('Accidents.txt', sep= '|', encoding = 'latin-1')\n",
    "violations = pd.read_csv('Violations.txt', sep= '|', encoding = 'latin-1')"
   ]
  },
  {
   "cell_type": "markdown",
   "metadata": {},
   "source": [
    "### Dataset Description - Violations \n",
    "1. EVENT_NO (VARCHAR2): A preassigned number used to identify each inspection, investigation, audit, survey, etc.  Use event_no to join to the Inspections table which can be joined to the Mines table with mine_id.\n",
    "2. INSPECTION_BEGIN_DT (DATE): Start date of the inspection (mm/dd/yyyy).\n",
    "3. INSPECTION_END_DT (DATE): Inspection close out date (mm/dd/yyyy).\n",
    "4. VIOLATION_NO (VARCHAR2): Citation/order number assigned to each citation written during an inspection.  This is a unique key to the file.\n",
    "5. CONTROLLER_ID (VARCHAR2): Identification number assigned by MSHA Assessments for a Legal Entity acting as a controller of an operator at the time the violation was cited. May contain null values if this record pertains to a violation issued to a contractor.\n",
    "6. CONTROLLER_NAME (VARCHAR2): Name of the controller active at the time the violation was cited.  May contain null values if this record pertains to a violation issued to a contractor.\n",
    "7. VIOLATOR_ID (VARCHAR2): Identification number assigned by MSHA for a Legal Entity acting as an operator at a mine at the time the violation was cited. May contain null values if this record pertains to a violation issued to a contractor.\n",
    "8. VIOLATOR_NAME (VARCHAR2): Name of the operator active at the time the violation was cited.  May contain null values if this record pertains to a violation issued to a contractor.\n",
    "9. VIOLATOR_TYPE_CD (VARCHAR2): Each Violator record represents an entity (Operator, Contractor, Agent or Miner) that has one or more violations at a mine.\n",
    "10. MINE_ID (VARCHAR2): Mine id of the mine where the violation was issued.  Can use the mine_id to join to the Mines table.  \n",
    "11. MINE_NAME (VARCHAR2): Name of the mine where the violation was issued.\n",
    "12. MINE_TYPE (VARCHAR2): Mine type of the mine where the violation has been issued:  Facility, Surface or Underground.\n",
    "13. COAL_METAL_IND (VARCHAR2): Identifies if the record is for a Coal or Metal/Non-Metal mine.\n",
    "14. CONTRACTOR_ID (VARCHAR2): Code identifying the contractor to whom the citation or order was issued.  May contain null values if the contractor was not cited.\n",
    "15. VIOLATION_ISSUE_DT (DATE): Date the citation or order was issued by the MSHA inspector.\n",
    "16. VIOLATION_OCCUR_DT (DATE): Actual date of occurrence of the violation.  \n",
    "17. CAL_YR (NUMBER): Calendar year during which the citation/order was issued by the MSHA inspector.\n",
    "18. CAL_QTR (NUMBER): Calendar Quarter of the date the citation or order was issued by the MSHA inspector.\n",
    "19. FISCAL_YR (NUMBER): Fiscal Year of the date the citation or order was issued by the MSHA inspector.  MSHA's fiscal year begins October 1 and ends September 30.\n",
    "20. FISCAL_QTR (NUMBER): Fiscal Quarter of the date the citation or order was issued by the MSHA inspector.\n",
    "21. VIOLATION_ISSUE_TIME (VARCHAR2): Time (24 hour) the citation or order was issued by the MSHA inspector.\n",
    "22. SIG_SUB (VARCHAR2): An indicator as to whether or not the gravity is determined by the inspector to be significant and substantial.  If this is 'Y', the inspector has indicated that based upon the particular facts surrounding the violation there exists a reasonable likelihood the hazard contributed to will result in an injury or illness of a reasonably serious nature.\n",
    "23. SECTION_OF_ACT (VARCHAR2): Section of the Act under which the citation/order was issued.  May contain null values.\n",
    "24. PART_SECTION (VARCHAR2): Code of Federal Regulations: Part/section of Title 30 CFR violated in format PPSSSSSXXXX where (P) Part, (S) Section and (X) Suffix.  Four-digit section numbers are expanded to five within one leading zero.  May contain null values.\n",
    "25. SECTION_OF_ACT_1 (VARCHAR2): Primary Section of Act which gives the MSHA Inspector the authority to take the action specified by this Issuance.   More than one type of action may be cited.\n",
    "26. SECTION_OF_ACT_2 (VARCHAR2): Secondary Section of Act which gives the MSHA Inspector the authority to take the action specified by this Issuance at Metal/Non-Metal mines only.  More than one type of action may be cited.\n",
    "27. CIT_ORD_SAFE (VARCHAR2): Specifies the type of Citation: Citation, Order, Safeguard, Written Notice or Notice.\n",
    "28. ORIG_TERM_DUE_DT (DATE): Original date by which the cited condition was to be abated.  Original time by which the cited condition was to be abated. \n",
    "29. ORIG_TERM_DUE_TIME (VARCHAR2): Original time by which the cited condition was to be abated.   \n",
    "30. LATEST_TERM_DUE_DT (DATE): Date by which the conditions cited in the citation/order are to be abated.  For Metal mines, this can be the termination due date to which the citation/order is extended.  \n",
    "31. LATEST_TERM_DUE_TIME (VARCHAR2): Time by which the conditions cited on the citation/order are to be abated.  \n",
    "32. TERMINATION_DT (DATE): Date on which the citation/order was terminated.  May contain null values if citation has not yet been terminated.\n",
    "33. TERMINATION_TIME (VARCHAR2): Time of day (24 hour) at which the citation/order was terminated.  May contain null values if citation has not yet been terminated.\n",
    "34. TERMINATION_TYPE (VARCHAR2): Code identifying the type of termination:  Issued, ReplacedByOrder or Terminated.\n",
    "35. VACATE_DT (DATE): Date on which the citation/order was vacated.  May contain null values if the violation was not vacated.\n",
    "36. VACATE_TIME (VARCHAR2): Time of day (24 hour) at which the citation/order was vacated.  May contain null values if the violation was not vacated.\n",
    "37. INITIAL_VIOL_NO (VARCHAR2): This is the preceding citation record when there is a need to relate a citation to a previous one. For example this would apply when an order follows a citation. This relationship is needed to calculate the good faith reduction penalty points.  May contain null values.\n",
    "38. REPLACED_BY_ORDER_NO (VARCHAR2): Order number which replaced the original citation.  May contain null values if situation does not apply.\n",
    "39. LIKELIHOOD (VARCHAR2): This is a measure of the seriousness of the violation being cited as measured by the likelihood of the occurrence of an accident:  Highly, NoLikelihood, Occurred, Reasonably or Unlikely. May contain null values if situation does not apply.\n",
    "40. INJ_ILLNESS (VARCHAR2): Value assigned to a violation for gravity of injury.  Measure of seriousness of violation being cited as measured by severity of the injury or illness to persons if accident were to occur due to the conditions of the violation: Fatal, LostDays, NoLostDays or Permanent.\n",
    "41. NO_AFFECTED (NUMBER): This is a measure of the number of persons affected or potentially affected by the conditions at the Mine due to the violation.  Can be zero.\n",
    "42. NEGLIGENCE (VARCHAR2): Codes representing the degree of negligence that the Inspector assigned to the violator due to the violation:  HighNegligence, LowNegligence, ModNegligence, NoNegligence or Reckless. A high degree of negligence is assigned when the operator was in a position to be aware of the condition that contributed to a dangerous situation and there were no mitigating circumstances, or if there are unique aggravating circumstances associated with the violation, such as repeated past violations of the same standard at the mine.\n",
    "43. WRITTEN_NOTICE (VARCHAR2): Indicates if this citation is a result of a Miner or Agent notice of complaint to MSHA (written notice 103(g)):  ('Y'  or 'N').  May contain null values.\n",
    "44. ENFORCEMENT_AREA (VARCHAR2): Specifies the enforcement areas affected by the violating condition or practice constitute a health hazard, safety hazard, both or other type of hazard. May contain null values.\n",
    "45. SPECIAL_ASSESS (VARCHAR2): Specifies whether this citation has been designated for Special Assessment based on Special Assessment Review (Y or N).\n",
    "46. PRIMARY_OR_MILL (VARCHAR2): A code indicating if the Violation was observed in the Primary Mine location or in an associated Mill (Metal/Non-Metal only). May contain null values.\n",
    "47. RIGHT_TO_CONF_DT (DATE): Date the operator was advised of his right to a conference (Metal/Non-Metal only).  May contain null values.\n",
    "48. ASMT_GENERATED_IND (VARCHAR2): If the violator is an Operator or Contractor, the indicator is 'N'. If the violator is an Agent, the indicator is 'Y'. If the violator is a Miner, the indicator can be 'Y' or 'N'. If none of the above, the indicator is '?'.\n",
    "49. FINAL_ORDER_ISSUE_DT (DATE): Date that this assessment becomes a Final Order.  This date is set when the Certified Return Receipt date (CRR) is set.  Note that this can be a projected future date that is set as soon as the CRR is entered.  \n",
    "50. PROPOSED_PENALTY (NUMBER): The original dollar value of the proposed penalty prior to any modifications such as those possibly resulting from a decision on a contested case.\n",
    "51. AMOUNT_DUE (NUMBER): The current dollar value of the proposed assessment, reflecting any modifications that have been made since it was originally assessed.\n",
    "52. AMOUNT_PAID (NUMBER): The total dollar value of all payments applied to this proposed assessment to date.\n",
    "53. BILL_PRINT_DT (DATE): Date the bill was printed.  This date always represents the first time the bill was printed.\n",
    "54. LAST_ACTION_CD (VARCHAR2): Last action taken against this violation such as 1stDemandPrinted, BillingReady, ApprovedforTreasury and Proposed.  \n",
    "55. LAST_ACTION_DT (DATE): Date the last action taken against this violation.\n",
    "56. DOCKET_NO (VARCHAR2): The Docket Number assigned by the Court to this group of Assessments being contested.\n",
    "57. DOCKET_STATUS_CD (VARCHAR2): Denotes the current status of this docket:  Approved (approved by the court) or Proposed (not yet been approved by the court).\n",
    "58. CONTESTED_IND (VARCHAR2): Indicates if this violation has been assessed and is being contested (Y or N).\n",
    "59. CONTESTED_DT (DATE): Date of the most recent docket status for this violation.\n",
    "60. VIOLATOR_VIOLATION_CNT (NUMBER): Total number of assessed violations for this violator at this time during the violation history period. Used in penalty calculation.  Applies to an Operator or a Contractor.\n",
    "61. VIOLATOR_INSPECTION_DAY_CNT (NUMBER): Total number of inspections for this Operator at a mine during the violation history period. Used in penalty calculation. Does not apply to Contractor."
   ]
  },
  {
   "cell_type": "markdown",
   "metadata": {},
   "source": [
    "# EDA (Exploratory Data Analysis)"
   ]
  },
  {
   "cell_type": "markdown",
   "metadata": {},
   "source": [
    "## Violations Dataset"
   ]
  },
  {
   "cell_type": "markdown",
   "metadata": {},
   "source": [
    "### Initial Peek at Data"
   ]
  },
  {
   "cell_type": "code",
   "execution_count": 4,
   "metadata": {},
   "outputs": [
    {
     "data": {
      "text/html": [
       "<div>\n",
       "<style scoped>\n",
       "    .dataframe tbody tr th:only-of-type {\n",
       "        vertical-align: middle;\n",
       "    }\n",
       "\n",
       "    .dataframe tbody tr th {\n",
       "        vertical-align: top;\n",
       "    }\n",
       "\n",
       "    .dataframe thead th {\n",
       "        text-align: right;\n",
       "    }\n",
       "</style>\n",
       "<table border=\"1\" class=\"dataframe\">\n",
       "  <thead>\n",
       "    <tr style=\"text-align: right;\">\n",
       "      <th></th>\n",
       "      <th>EVENT_NO</th>\n",
       "      <th>INSPECTION_BEGIN_DT</th>\n",
       "      <th>INSPECTION_END_DT</th>\n",
       "      <th>VIOLATION_NO</th>\n",
       "      <th>CONTROLLER_ID</th>\n",
       "      <th>CONTROLLER_NAME</th>\n",
       "      <th>VIOLATOR_ID</th>\n",
       "      <th>VIOLATOR_NAME</th>\n",
       "      <th>VIOLATOR_TYPE_CD</th>\n",
       "      <th>MINE_ID</th>\n",
       "      <th>...</th>\n",
       "      <th>AMOUNT_PAID</th>\n",
       "      <th>BILL_PRINT_DT</th>\n",
       "      <th>LAST_ACTION_CD</th>\n",
       "      <th>LAST_ACTION_DT</th>\n",
       "      <th>DOCKET_NO</th>\n",
       "      <th>DOCKET_STATUS_CD</th>\n",
       "      <th>CONTESTED_IND</th>\n",
       "      <th>CONTESTED_DT</th>\n",
       "      <th>VIOLATOR_VIOLATION_CNT</th>\n",
       "      <th>VIOLATOR_INSPECTION_DAY_CNT</th>\n",
       "    </tr>\n",
       "  </thead>\n",
       "  <tbody>\n",
       "    <tr>\n",
       "      <th>0</th>\n",
       "      <td>711256</td>\n",
       "      <td>01/04/2000</td>\n",
       "      <td>01/07/2000</td>\n",
       "      <td>6089192</td>\n",
       "      <td>0041044</td>\n",
       "      <td>Lhoist Group</td>\n",
       "      <td>L13586</td>\n",
       "      <td>Lhoist North America of Alabama, LLC</td>\n",
       "      <td>Operator</td>\n",
       "      <td>100003</td>\n",
       "      <td>...</td>\n",
       "      <td>55.0</td>\n",
       "      <td>12/04/2000</td>\n",
       "      <td>Paid</td>\n",
       "      <td>01/08/2001</td>\n",
       "      <td>NaN</td>\n",
       "      <td>NaN</td>\n",
       "      <td>N</td>\n",
       "      <td>NaN</td>\n",
       "      <td>0.0</td>\n",
       "      <td>0.0</td>\n",
       "    </tr>\n",
       "    <tr>\n",
       "      <th>1</th>\n",
       "      <td>711256</td>\n",
       "      <td>01/04/2000</td>\n",
       "      <td>01/07/2000</td>\n",
       "      <td>6089193</td>\n",
       "      <td>0041044</td>\n",
       "      <td>Lhoist Group</td>\n",
       "      <td>L13586</td>\n",
       "      <td>Lhoist North America of Alabama, LLC</td>\n",
       "      <td>Operator</td>\n",
       "      <td>100003</td>\n",
       "      <td>...</td>\n",
       "      <td>55.0</td>\n",
       "      <td>12/04/2000</td>\n",
       "      <td>Paid</td>\n",
       "      <td>01/08/2001</td>\n",
       "      <td>NaN</td>\n",
       "      <td>NaN</td>\n",
       "      <td>N</td>\n",
       "      <td>NaN</td>\n",
       "      <td>0.0</td>\n",
       "      <td>0.0</td>\n",
       "    </tr>\n",
       "    <tr>\n",
       "      <th>2</th>\n",
       "      <td>711256</td>\n",
       "      <td>01/04/2000</td>\n",
       "      <td>01/07/2000</td>\n",
       "      <td>6089194</td>\n",
       "      <td>0041044</td>\n",
       "      <td>Lhoist Group</td>\n",
       "      <td>L13586</td>\n",
       "      <td>Lhoist North America of Alabama, LLC</td>\n",
       "      <td>Operator</td>\n",
       "      <td>100003</td>\n",
       "      <td>...</td>\n",
       "      <td>55.0</td>\n",
       "      <td>12/04/2000</td>\n",
       "      <td>Paid</td>\n",
       "      <td>01/08/2001</td>\n",
       "      <td>NaN</td>\n",
       "      <td>NaN</td>\n",
       "      <td>N</td>\n",
       "      <td>NaN</td>\n",
       "      <td>0.0</td>\n",
       "      <td>0.0</td>\n",
       "    </tr>\n",
       "    <tr>\n",
       "      <th>3</th>\n",
       "      <td>711256</td>\n",
       "      <td>01/04/2000</td>\n",
       "      <td>01/07/2000</td>\n",
       "      <td>6089195</td>\n",
       "      <td>0041044</td>\n",
       "      <td>Lhoist Group</td>\n",
       "      <td>L13586</td>\n",
       "      <td>Lhoist North America of Alabama, LLC</td>\n",
       "      <td>Operator</td>\n",
       "      <td>100003</td>\n",
       "      <td>...</td>\n",
       "      <td>196.0</td>\n",
       "      <td>12/04/2000</td>\n",
       "      <td>Paid</td>\n",
       "      <td>01/08/2001</td>\n",
       "      <td>NaN</td>\n",
       "      <td>NaN</td>\n",
       "      <td>N</td>\n",
       "      <td>NaN</td>\n",
       "      <td>0.0</td>\n",
       "      <td>0.0</td>\n",
       "    </tr>\n",
       "    <tr>\n",
       "      <th>4</th>\n",
       "      <td>711256</td>\n",
       "      <td>01/04/2000</td>\n",
       "      <td>01/07/2000</td>\n",
       "      <td>6089196</td>\n",
       "      <td>0041044</td>\n",
       "      <td>Lhoist Group</td>\n",
       "      <td>L13586</td>\n",
       "      <td>Lhoist North America of Alabama, LLC</td>\n",
       "      <td>Operator</td>\n",
       "      <td>100003</td>\n",
       "      <td>...</td>\n",
       "      <td>55.0</td>\n",
       "      <td>12/04/2000</td>\n",
       "      <td>Paid</td>\n",
       "      <td>01/08/2001</td>\n",
       "      <td>NaN</td>\n",
       "      <td>NaN</td>\n",
       "      <td>N</td>\n",
       "      <td>NaN</td>\n",
       "      <td>0.0</td>\n",
       "      <td>0.0</td>\n",
       "    </tr>\n",
       "  </tbody>\n",
       "</table>\n",
       "<p>5 rows × 61 columns</p>\n",
       "</div>"
      ],
      "text/plain": [
       "   EVENT_NO INSPECTION_BEGIN_DT INSPECTION_END_DT  VIOLATION_NO CONTROLLER_ID  \\\n",
       "0    711256          01/04/2000        01/07/2000       6089192       0041044   \n",
       "1    711256          01/04/2000        01/07/2000       6089193       0041044   \n",
       "2    711256          01/04/2000        01/07/2000       6089194       0041044   \n",
       "3    711256          01/04/2000        01/07/2000       6089195       0041044   \n",
       "4    711256          01/04/2000        01/07/2000       6089196       0041044   \n",
       "\n",
       "  CONTROLLER_NAME VIOLATOR_ID                         VIOLATOR_NAME  \\\n",
       "0    Lhoist Group      L13586  Lhoist North America of Alabama, LLC   \n",
       "1    Lhoist Group      L13586  Lhoist North America of Alabama, LLC   \n",
       "2    Lhoist Group      L13586  Lhoist North America of Alabama, LLC   \n",
       "3    Lhoist Group      L13586  Lhoist North America of Alabama, LLC   \n",
       "4    Lhoist Group      L13586  Lhoist North America of Alabama, LLC   \n",
       "\n",
       "  VIOLATOR_TYPE_CD  MINE_ID  ... AMOUNT_PAID BILL_PRINT_DT LAST_ACTION_CD  \\\n",
       "0         Operator   100003  ...        55.0    12/04/2000           Paid   \n",
       "1         Operator   100003  ...        55.0    12/04/2000           Paid   \n",
       "2         Operator   100003  ...        55.0    12/04/2000           Paid   \n",
       "3         Operator   100003  ...       196.0    12/04/2000           Paid   \n",
       "4         Operator   100003  ...        55.0    12/04/2000           Paid   \n",
       "\n",
       "  LAST_ACTION_DT DOCKET_NO DOCKET_STATUS_CD  CONTESTED_IND  CONTESTED_DT  \\\n",
       "0     01/08/2001       NaN              NaN              N           NaN   \n",
       "1     01/08/2001       NaN              NaN              N           NaN   \n",
       "2     01/08/2001       NaN              NaN              N           NaN   \n",
       "3     01/08/2001       NaN              NaN              N           NaN   \n",
       "4     01/08/2001       NaN              NaN              N           NaN   \n",
       "\n",
       "   VIOLATOR_VIOLATION_CNT  VIOLATOR_INSPECTION_DAY_CNT  \n",
       "0                     0.0                          0.0  \n",
       "1                     0.0                          0.0  \n",
       "2                     0.0                          0.0  \n",
       "3                     0.0                          0.0  \n",
       "4                     0.0                          0.0  \n",
       "\n",
       "[5 rows x 61 columns]"
      ]
     },
     "execution_count": 4,
     "metadata": {},
     "output_type": "execute_result"
    }
   ],
   "source": [
    "violations.head() # head"
   ]
  },
  {
   "cell_type": "code",
   "execution_count": 5,
   "metadata": {
    "scrolled": true
   },
   "outputs": [
    {
     "name": "stdout",
     "output_type": "stream",
     "text": [
      "(2814877, 61)\n"
     ]
    }
   ],
   "source": [
    "print(violations.shape) # shape"
   ]
  },
  {
   "cell_type": "markdown",
   "metadata": {},
   "source": [
    "INSIGHT: We have more than 2 million rows (almost 3 million) and 61 columns."
   ]
  },
  {
   "cell_type": "code",
   "execution_count": 6,
   "metadata": {
    "scrolled": true
   },
   "outputs": [
    {
     "data": {
      "text/html": [
       "<div>\n",
       "<style scoped>\n",
       "    .dataframe tbody tr th:only-of-type {\n",
       "        vertical-align: middle;\n",
       "    }\n",
       "\n",
       "    .dataframe tbody tr th {\n",
       "        vertical-align: top;\n",
       "    }\n",
       "\n",
       "    .dataframe thead th {\n",
       "        text-align: right;\n",
       "    }\n",
       "</style>\n",
       "<table border=\"1\" class=\"dataframe\">\n",
       "  <thead>\n",
       "    <tr style=\"text-align: right;\">\n",
       "      <th></th>\n",
       "      <th>EVENT_NO</th>\n",
       "      <th>VIOLATION_NO</th>\n",
       "      <th>MINE_ID</th>\n",
       "      <th>CAL_YR</th>\n",
       "      <th>CAL_QTR</th>\n",
       "      <th>FISCAL_YR</th>\n",
       "      <th>FISCAL_QTR</th>\n",
       "      <th>VIOLATION_ISSUE_TIME</th>\n",
       "      <th>ORIG_TERM_DUE_TIME</th>\n",
       "      <th>LATEST_TERM_DUE_TIME</th>\n",
       "      <th>TERMINATION_TIME</th>\n",
       "      <th>VACATE_TIME</th>\n",
       "      <th>NO_AFFECTED</th>\n",
       "      <th>PROPOSED_PENALTY</th>\n",
       "      <th>AMOUNT_DUE</th>\n",
       "      <th>AMOUNT_PAID</th>\n",
       "      <th>VIOLATOR_VIOLATION_CNT</th>\n",
       "      <th>VIOLATOR_INSPECTION_DAY_CNT</th>\n",
       "    </tr>\n",
       "  </thead>\n",
       "  <tbody>\n",
       "    <tr>\n",
       "      <th>count</th>\n",
       "      <td>2.814877e+06</td>\n",
       "      <td>2.814877e+06</td>\n",
       "      <td>2.814877e+06</td>\n",
       "      <td>2.814877e+06</td>\n",
       "      <td>2.814877e+06</td>\n",
       "      <td>2.814877e+06</td>\n",
       "      <td>2.814877e+06</td>\n",
       "      <td>2.814877e+06</td>\n",
       "      <td>2.137024e+06</td>\n",
       "      <td>2.720495e+06</td>\n",
       "      <td>2.796281e+06</td>\n",
       "      <td>70.000000</td>\n",
       "      <td>2.814877e+06</td>\n",
       "      <td>2.752320e+06</td>\n",
       "      <td>2.752320e+06</td>\n",
       "      <td>2.752320e+06</td>\n",
       "      <td>2.752320e+06</td>\n",
       "      <td>2.752320e+06</td>\n",
       "    </tr>\n",
       "    <tr>\n",
       "      <th>mean</th>\n",
       "      <td>4.465154e+06</td>\n",
       "      <td>7.855610e+06</td>\n",
       "      <td>2.698092e+06</td>\n",
       "      <td>2.010455e+03</td>\n",
       "      <td>2.441416e+00</td>\n",
       "      <td>2.010679e+03</td>\n",
       "      <td>2.546844e+00</td>\n",
       "      <td>1.123202e+03</td>\n",
       "      <td>1.217976e+03</td>\n",
       "      <td>1.200544e+03</td>\n",
       "      <td>1.152244e+03</td>\n",
       "      <td>22.157143</td>\n",
       "      <td>1.481686e+00</td>\n",
       "      <td>5.891074e+02</td>\n",
       "      <td>4.721570e+02</td>\n",
       "      <td>4.069207e+02</td>\n",
       "      <td>1.231456e+02</td>\n",
       "      <td>1.675176e+02</td>\n",
       "    </tr>\n",
       "    <tr>\n",
       "      <th>std</th>\n",
       "      <td>2.214657e+06</td>\n",
       "      <td>1.185013e+06</td>\n",
       "      <td>1.552261e+06</td>\n",
       "      <td>6.288793e+00</td>\n",
       "      <td>1.102928e+00</td>\n",
       "      <td>6.292951e+00</td>\n",
       "      <td>1.098157e+00</td>\n",
       "      <td>3.106849e+02</td>\n",
       "      <td>3.742661e+02</td>\n",
       "      <td>3.763969e+02</td>\n",
       "      <td>3.180759e+02</td>\n",
       "      <td>185.379957</td>\n",
       "      <td>6.264660e+00</td>\n",
       "      <td>3.111021e+03</td>\n",
       "      <td>2.254306e+03</td>\n",
       "      <td>1.886742e+03</td>\n",
       "      <td>2.281789e+02</td>\n",
       "      <td>3.013523e+02</td>\n",
       "    </tr>\n",
       "    <tr>\n",
       "      <th>min</th>\n",
       "      <td>3.206180e+05</td>\n",
       "      <td>7.299270e+05</td>\n",
       "      <td>1.000030e+05</td>\n",
       "      <td>1.994000e+03</td>\n",
       "      <td>1.000000e+00</td>\n",
       "      <td>1.994000e+03</td>\n",
       "      <td>1.000000e+00</td>\n",
       "      <td>0.000000e+00</td>\n",
       "      <td>0.000000e+00</td>\n",
       "      <td>0.000000e+00</td>\n",
       "      <td>0.000000e+00</td>\n",
       "      <td>0.000000</td>\n",
       "      <td>0.000000e+00</td>\n",
       "      <td>1.000000e+00</td>\n",
       "      <td>0.000000e+00</td>\n",
       "      <td>0.000000e+00</td>\n",
       "      <td>0.000000e+00</td>\n",
       "      <td>0.000000e+00</td>\n",
       "    </tr>\n",
       "    <tr>\n",
       "      <th>25%</th>\n",
       "      <td>4.041921e+06</td>\n",
       "      <td>7.045106e+06</td>\n",
       "      <td>1.509571e+06</td>\n",
       "      <td>2.006000e+03</td>\n",
       "      <td>1.000000e+00</td>\n",
       "      <td>2.006000e+03</td>\n",
       "      <td>2.000000e+00</td>\n",
       "      <td>9.300000e+02</td>\n",
       "      <td>9.000000e+02</td>\n",
       "      <td>9.000000e+02</td>\n",
       "      <td>9.350000e+02</td>\n",
       "      <td>0.000000</td>\n",
       "      <td>1.000000e+00</td>\n",
       "      <td>1.000000e+02</td>\n",
       "      <td>1.000000e+02</td>\n",
       "      <td>6.000000e+01</td>\n",
       "      <td>1.000000e+00</td>\n",
       "      <td>1.000000e+00</td>\n",
       "    </tr>\n",
       "    <tr>\n",
       "      <th>50%</th>\n",
       "      <td>4.414561e+06</td>\n",
       "      <td>8.043402e+06</td>\n",
       "      <td>2.602246e+06</td>\n",
       "      <td>2.010000e+03</td>\n",
       "      <td>2.000000e+00</td>\n",
       "      <td>2.010000e+03</td>\n",
       "      <td>3.000000e+00</td>\n",
       "      <td>1.100000e+03</td>\n",
       "      <td>1.200000e+03</td>\n",
       "      <td>1.200000e+03</td>\n",
       "      <td>1.125000e+03</td>\n",
       "      <td>0.000000</td>\n",
       "      <td>1.000000e+00</td>\n",
       "      <td>1.230000e+02</td>\n",
       "      <td>1.230000e+02</td>\n",
       "      <td>1.170000e+02</td>\n",
       "      <td>1.500000e+01</td>\n",
       "      <td>1.800000e+01</td>\n",
       "    </tr>\n",
       "    <tr>\n",
       "      <th>75%</th>\n",
       "      <td>6.542651e+06</td>\n",
       "      <td>8.819866e+06</td>\n",
       "      <td>4.405101e+06</td>\n",
       "      <td>2.015000e+03</td>\n",
       "      <td>3.000000e+00</td>\n",
       "      <td>2.016000e+03</td>\n",
       "      <td>4.000000e+00</td>\n",
       "      <td>1.302000e+03</td>\n",
       "      <td>1.500000e+03</td>\n",
       "      <td>1.500000e+03</td>\n",
       "      <td>1.335000e+03</td>\n",
       "      <td>0.000000</td>\n",
       "      <td>1.000000e+00</td>\n",
       "      <td>3.080000e+02</td>\n",
       "      <td>2.860000e+02</td>\n",
       "      <td>2.630000e+02</td>\n",
       "      <td>1.350000e+02</td>\n",
       "      <td>1.790000e+02</td>\n",
       "    </tr>\n",
       "    <tr>\n",
       "      <th>max</th>\n",
       "      <td>8.890948e+06</td>\n",
       "      <td>9.988780e+06</td>\n",
       "      <td>5.500013e+06</td>\n",
       "      <td>2.023000e+03</td>\n",
       "      <td>4.000000e+00</td>\n",
       "      <td>2.023000e+03</td>\n",
       "      <td>4.000000e+00</td>\n",
       "      <td>2.359000e+03</td>\n",
       "      <td>2.359000e+03</td>\n",
       "      <td>2.359000e+03</td>\n",
       "      <td>2.359000e+03</td>\n",
       "      <td>1551.000000</td>\n",
       "      <td>9.990000e+02</td>\n",
       "      <td>2.462000e+05</td>\n",
       "      <td>2.462000e+05</td>\n",
       "      <td>2.200000e+05</td>\n",
       "      <td>2.452000e+03</td>\n",
       "      <td>3.044000e+03</td>\n",
       "    </tr>\n",
       "  </tbody>\n",
       "</table>\n",
       "</div>"
      ],
      "text/plain": [
       "           EVENT_NO  VIOLATION_NO       MINE_ID        CAL_YR       CAL_QTR  \\\n",
       "count  2.814877e+06  2.814877e+06  2.814877e+06  2.814877e+06  2.814877e+06   \n",
       "mean   4.465154e+06  7.855610e+06  2.698092e+06  2.010455e+03  2.441416e+00   \n",
       "std    2.214657e+06  1.185013e+06  1.552261e+06  6.288793e+00  1.102928e+00   \n",
       "min    3.206180e+05  7.299270e+05  1.000030e+05  1.994000e+03  1.000000e+00   \n",
       "25%    4.041921e+06  7.045106e+06  1.509571e+06  2.006000e+03  1.000000e+00   \n",
       "50%    4.414561e+06  8.043402e+06  2.602246e+06  2.010000e+03  2.000000e+00   \n",
       "75%    6.542651e+06  8.819866e+06  4.405101e+06  2.015000e+03  3.000000e+00   \n",
       "max    8.890948e+06  9.988780e+06  5.500013e+06  2.023000e+03  4.000000e+00   \n",
       "\n",
       "          FISCAL_YR    FISCAL_QTR  VIOLATION_ISSUE_TIME  ORIG_TERM_DUE_TIME  \\\n",
       "count  2.814877e+06  2.814877e+06          2.814877e+06        2.137024e+06   \n",
       "mean   2.010679e+03  2.546844e+00          1.123202e+03        1.217976e+03   \n",
       "std    6.292951e+00  1.098157e+00          3.106849e+02        3.742661e+02   \n",
       "min    1.994000e+03  1.000000e+00          0.000000e+00        0.000000e+00   \n",
       "25%    2.006000e+03  2.000000e+00          9.300000e+02        9.000000e+02   \n",
       "50%    2.010000e+03  3.000000e+00          1.100000e+03        1.200000e+03   \n",
       "75%    2.016000e+03  4.000000e+00          1.302000e+03        1.500000e+03   \n",
       "max    2.023000e+03  4.000000e+00          2.359000e+03        2.359000e+03   \n",
       "\n",
       "       LATEST_TERM_DUE_TIME  TERMINATION_TIME  VACATE_TIME   NO_AFFECTED  \\\n",
       "count          2.720495e+06      2.796281e+06    70.000000  2.814877e+06   \n",
       "mean           1.200544e+03      1.152244e+03    22.157143  1.481686e+00   \n",
       "std            3.763969e+02      3.180759e+02   185.379957  6.264660e+00   \n",
       "min            0.000000e+00      0.000000e+00     0.000000  0.000000e+00   \n",
       "25%            9.000000e+02      9.350000e+02     0.000000  1.000000e+00   \n",
       "50%            1.200000e+03      1.125000e+03     0.000000  1.000000e+00   \n",
       "75%            1.500000e+03      1.335000e+03     0.000000  1.000000e+00   \n",
       "max            2.359000e+03      2.359000e+03  1551.000000  9.990000e+02   \n",
       "\n",
       "       PROPOSED_PENALTY    AMOUNT_DUE   AMOUNT_PAID  VIOLATOR_VIOLATION_CNT  \\\n",
       "count      2.752320e+06  2.752320e+06  2.752320e+06            2.752320e+06   \n",
       "mean       5.891074e+02  4.721570e+02  4.069207e+02            1.231456e+02   \n",
       "std        3.111021e+03  2.254306e+03  1.886742e+03            2.281789e+02   \n",
       "min        1.000000e+00  0.000000e+00  0.000000e+00            0.000000e+00   \n",
       "25%        1.000000e+02  1.000000e+02  6.000000e+01            1.000000e+00   \n",
       "50%        1.230000e+02  1.230000e+02  1.170000e+02            1.500000e+01   \n",
       "75%        3.080000e+02  2.860000e+02  2.630000e+02            1.350000e+02   \n",
       "max        2.462000e+05  2.462000e+05  2.200000e+05            2.452000e+03   \n",
       "\n",
       "       VIOLATOR_INSPECTION_DAY_CNT  \n",
       "count                 2.752320e+06  \n",
       "mean                  1.675176e+02  \n",
       "std                   3.013523e+02  \n",
       "min                   0.000000e+00  \n",
       "25%                   1.000000e+00  \n",
       "50%                   1.800000e+01  \n",
       "75%                   1.790000e+02  \n",
       "max                   3.044000e+03  "
      ]
     },
     "execution_count": 6,
     "metadata": {},
     "output_type": "execute_result"
    }
   ],
   "source": [
    "violations.describe() # description"
   ]
  },
  {
   "cell_type": "markdown",
   "metadata": {},
   "source": [
    "INSIGHT: There's a lot of garbage in here (ID's and dates) so we'll wait until numeric EDA to comment further."
   ]
  },
  {
   "cell_type": "code",
   "execution_count": 7,
   "metadata": {
    "scrolled": false
   },
   "outputs": [
    {
     "name": "stdout",
     "output_type": "stream",
     "text": [
      "<class 'pandas.core.frame.DataFrame'>\n",
      "RangeIndex: 2814877 entries, 0 to 2814876\n",
      "Data columns (total 61 columns):\n",
      " #   Column                       Dtype  \n",
      "---  ------                       -----  \n",
      " 0   EVENT_NO                     int64  \n",
      " 1   INSPECTION_BEGIN_DT          object \n",
      " 2   INSPECTION_END_DT            object \n",
      " 3   VIOLATION_NO                 int64  \n",
      " 4   CONTROLLER_ID                object \n",
      " 5   CONTROLLER_NAME              object \n",
      " 6   VIOLATOR_ID                  object \n",
      " 7   VIOLATOR_NAME                object \n",
      " 8   VIOLATOR_TYPE_CD             object \n",
      " 9   MINE_ID                      int64  \n",
      " 10  MINE_NAME                    object \n",
      " 11  MINE_TYPE                    object \n",
      " 12  COAL_METAL_IND               object \n",
      " 13  CONTRACTOR_ID                object \n",
      " 14  VIOLATION_ISSUE_DT           object \n",
      " 15  VIOLATION_OCCUR_DT           object \n",
      " 16  CAL_YR                       int64  \n",
      " 17  CAL_QTR                      int64  \n",
      " 18  FISCAL_YR                    int64  \n",
      " 19  FISCAL_QTR                   int64  \n",
      " 20  VIOLATION_ISSUE_TIME         int64  \n",
      " 21  SIG_SUB                      object \n",
      " 22  SECTION_OF_ACT               object \n",
      " 23  PART_SECTION                 object \n",
      " 24  SECTION_OF_ACT_1             object \n",
      " 25  SECTION_OF_ACT_2             object \n",
      " 26  CIT_ORD_SAFE                 object \n",
      " 27  ORIG_TERM_DUE_DT             object \n",
      " 28  ORIG_TERM_DUE_TIME           float64\n",
      " 29  LATEST_TERM_DUE_DT           object \n",
      " 30  LATEST_TERM_DUE_TIME         float64\n",
      " 31  TERMINATION_DT               object \n",
      " 32  TERMINATION_TIME             float64\n",
      " 33  TERMINATION_TYPE             object \n",
      " 34  VACATE_DT                    object \n",
      " 35  VACATE_TIME                  float64\n",
      " 36  INITIAL_VIOL_NO              object \n",
      " 37  REPLACED_BY_ORDER_NO         object \n",
      " 38  LIKELIHOOD                   object \n",
      " 39  INJ_ILLNESS                  object \n",
      " 40  NO_AFFECTED                  int64  \n",
      " 41  NEGLIGENCE                   object \n",
      " 42  WRITTEN_NOTICE               object \n",
      " 43  ENFORCEMENT_AREA             object \n",
      " 44  SPECIAL_ASSESS               object \n",
      " 45  PRIMARY_OR_MILL              object \n",
      " 46  RIGHT_TO_CONF_DT             object \n",
      " 47  ASMT_GENERATED_IND           object \n",
      " 48  FINAL_ORDER_ISSUE_DT         object \n",
      " 49  PROPOSED_PENALTY             float64\n",
      " 50  AMOUNT_DUE                   float64\n",
      " 51  AMOUNT_PAID                  float64\n",
      " 52  BILL_PRINT_DT                object \n",
      " 53  LAST_ACTION_CD               object \n",
      " 54  LAST_ACTION_DT               object \n",
      " 55  DOCKET_NO                    object \n",
      " 56  DOCKET_STATUS_CD             object \n",
      " 57  CONTESTED_IND                object \n",
      " 58  CONTESTED_DT                 object \n",
      " 59  VIOLATOR_VIOLATION_CNT       float64\n",
      " 60  VIOLATOR_INSPECTION_DAY_CNT  float64\n",
      "dtypes: float64(9), int64(9), object(43)\n",
      "memory usage: 1.3+ GB\n"
     ]
    }
   ],
   "source": [
    "violations.info() # data types"
   ]
  },
  {
   "cell_type": "code",
   "execution_count": 8,
   "metadata": {
    "scrolled": true
   },
   "outputs": [
    {
     "data": {
      "text/html": [
       "<div>\n",
       "<style scoped>\n",
       "    .dataframe tbody tr th:only-of-type {\n",
       "        vertical-align: middle;\n",
       "    }\n",
       "\n",
       "    .dataframe tbody tr th {\n",
       "        vertical-align: top;\n",
       "    }\n",
       "\n",
       "    .dataframe thead th {\n",
       "        text-align: right;\n",
       "    }\n",
       "</style>\n",
       "<table border=\"1\" class=\"dataframe\">\n",
       "  <thead>\n",
       "    <tr style=\"text-align: right;\">\n",
       "      <th></th>\n",
       "      <th>column</th>\n",
       "      <th>Missing Values</th>\n",
       "      <th>% Missing</th>\n",
       "    </tr>\n",
       "  </thead>\n",
       "  <tbody>\n",
       "    <tr>\n",
       "      <th>0</th>\n",
       "      <td>EVENT_NO</td>\n",
       "      <td>0</td>\n",
       "      <td>0.00</td>\n",
       "    </tr>\n",
       "    <tr>\n",
       "      <th>1</th>\n",
       "      <td>INSPECTION_BEGIN_DT</td>\n",
       "      <td>0</td>\n",
       "      <td>0.00</td>\n",
       "    </tr>\n",
       "    <tr>\n",
       "      <th>2</th>\n",
       "      <td>INSPECTION_END_DT</td>\n",
       "      <td>7606</td>\n",
       "      <td>0.27</td>\n",
       "    </tr>\n",
       "    <tr>\n",
       "      <th>3</th>\n",
       "      <td>VIOLATION_NO</td>\n",
       "      <td>0</td>\n",
       "      <td>0.00</td>\n",
       "    </tr>\n",
       "    <tr>\n",
       "      <th>4</th>\n",
       "      <td>CONTROLLER_ID</td>\n",
       "      <td>192275</td>\n",
       "      <td>6.83</td>\n",
       "    </tr>\n",
       "    <tr>\n",
       "      <th>...</th>\n",
       "      <td>...</td>\n",
       "      <td>...</td>\n",
       "      <td>...</td>\n",
       "    </tr>\n",
       "    <tr>\n",
       "      <th>56</th>\n",
       "      <td>DOCKET_STATUS_CD</td>\n",
       "      <td>2621958</td>\n",
       "      <td>93.15</td>\n",
       "    </tr>\n",
       "    <tr>\n",
       "      <th>57</th>\n",
       "      <td>CONTESTED_IND</td>\n",
       "      <td>0</td>\n",
       "      <td>0.00</td>\n",
       "    </tr>\n",
       "    <tr>\n",
       "      <th>58</th>\n",
       "      <td>CONTESTED_DT</td>\n",
       "      <td>2621958</td>\n",
       "      <td>93.15</td>\n",
       "    </tr>\n",
       "    <tr>\n",
       "      <th>59</th>\n",
       "      <td>VIOLATOR_VIOLATION_CNT</td>\n",
       "      <td>62557</td>\n",
       "      <td>2.22</td>\n",
       "    </tr>\n",
       "    <tr>\n",
       "      <th>60</th>\n",
       "      <td>VIOLATOR_INSPECTION_DAY_CNT</td>\n",
       "      <td>62557</td>\n",
       "      <td>2.22</td>\n",
       "    </tr>\n",
       "  </tbody>\n",
       "</table>\n",
       "<p>61 rows × 3 columns</p>\n",
       "</div>"
      ],
      "text/plain": [
       "                         column  Missing Values  % Missing\n",
       "0                      EVENT_NO               0       0.00\n",
       "1           INSPECTION_BEGIN_DT               0       0.00\n",
       "2             INSPECTION_END_DT            7606       0.27\n",
       "3                  VIOLATION_NO               0       0.00\n",
       "4                 CONTROLLER_ID          192275       6.83\n",
       "..                          ...             ...        ...\n",
       "56             DOCKET_STATUS_CD         2621958      93.15\n",
       "57                CONTESTED_IND               0       0.00\n",
       "58                 CONTESTED_DT         2621958      93.15\n",
       "59       VIOLATOR_VIOLATION_CNT           62557       2.22\n",
       "60  VIOLATOR_INSPECTION_DAY_CNT           62557       2.22\n",
       "\n",
       "[61 rows x 3 columns]"
      ]
     },
     "execution_count": 8,
     "metadata": {},
     "output_type": "execute_result"
    }
   ],
   "source": [
    "# Create dataframe of missing values\n",
    "violations_missing = pd.DataFrame(violations.isna().sum()).reset_index().rename(columns = {'index':'column', 0:'Missing Values'})\n",
    "\n",
    "# Create new column for % Missing values \n",
    "violations_missing['% Missing'] = round(((violations_missing['Missing Values'] / violations.shape[0])*100),2)\n",
    "\n",
    "# Show only columns with missing values \n",
    "violations_missing[violations_missing['Missing Values'] >0][['column', '% Missing']]\n",
    "violations_missing"
   ]
  },
  {
   "cell_type": "markdown",
   "metadata": {},
   "source": [
    "INSIGHT: Some columns have nearly all nulls. Need to see if those nulls are true and the columns are relevant and create a plan to get rid of nulls (e.g. imputation)."
   ]
  },
  {
   "cell_type": "code",
   "execution_count": 9,
   "metadata": {},
   "outputs": [
    {
     "data": {
      "text/plain": [
       "Text(0.5, 1.0, 'Count of Violations over Time')"
      ]
     },
     "execution_count": 9,
     "metadata": {},
     "output_type": "execute_result"
    },
    {
     "data": {
      "image/png": "[encoded data removed]",
      "text/plain": [
       "<Figure size 864x576 with 1 Axes>"
      ]
     },
     "metadata": {
      "needs_background": "light"
     },
     "output_type": "display_data"
    }
   ],
   "source": [
    "# convert column to datetime\n",
    "violations['Date'] = pd.to_datetime(violations['VIOLATION_ISSUE_DT'])\n",
    "\n",
    "# create a representation of the month with strfmt\n",
    "violations['ymaccident'] = violations['Date'].map(lambda dt: dt.strftime('%Y-%m'))\n",
    "\n",
    "grouped_df = violations.groupby('CAL_YR').size().to_frame(\"count\").reset_index()\n",
    "\n",
    "grouped_df.plot(kind='bar', x='CAL_YR', y='count', legend = None, figsize=(12,8))\n",
    "plt.xlabel('Violation Year')\n",
    "plt.ylabel('Violation Count')\n",
    "plt.title('Count of Violations over Time')\n"
   ]
  },
  {
   "cell_type": "markdown",
   "metadata": {},
   "source": [
    "### Numeric EDA"
   ]
  },
  {
   "cell_type": "markdown",
   "metadata": {},
   "source": [
    "#### Overall Visualization"
   ]
  },
  {
   "cell_type": "code",
   "execution_count": 10,
   "metadata": {
    "scrolled": false
   },
   "outputs": [
    {
     "data": {
      "image/png": "[encoded data removed]",
      "text/plain": [
       "<Figure size 1440x1440 with 12 Axes>"
      ]
     },
     "metadata": {
      "needs_background": "light"
     },
     "output_type": "display_data"
    }
   ],
   "source": [
    "# scatter plots of numberical variables in violations df\n",
    "\n",
    "fig, axs = plt.subplots(3, 4, figsize = (20, 20))\n",
    "\n",
    "# cal_yr histogram\n",
    "axs[0,0].hist(violations['CAL_YR'])\n",
    "axs[0,0].set_xlabel('Calendar Year')\n",
    "axs[0,0].set_ylabel('Counts')\n",
    "axs[0,0].set_title('Histogram Plot of Counts by Calendar Year')\n",
    "\n",
    "# cal_qtr histogram\n",
    "axs[0,1].hist(violations['CAL_QTR'])\n",
    "axs[0,1].set_xlabel('Calendar Quarter')\n",
    "axs[0,1].set_ylabel('Counts')\n",
    "axs[0,1].set_title('Histogram Plot of Counts by Calendar Quarter')\n",
    "\n",
    "# fiscal_yr histogram\n",
    "axs[0,2].hist(violations['FISCAL_YR'])\n",
    "axs[0,2].set_xlabel('Fiscal Year')\n",
    "axs[0,2].set_ylabel('Counts')\n",
    "axs[0,2].set_title('Histogram Plot of Counts by Fiscal Year')\n",
    "\n",
    "# fiscal_qtr histogram\n",
    "axs[0,3].hist(violations['FISCAL_QTR'])\n",
    "axs[0,3].set_xlabel('Fiscal Quarter')\n",
    "axs[0,3].set_ylabel('Counts')\n",
    "axs[0,3].set_title('Histogram Plot of Counts by Fiscal Quarter')\n",
    "\n",
    "# no_affected histogram\n",
    "axs[1,0].hist(violations['NO_AFFECTED'])\n",
    "axs[1,0].set_xlabel('Number of People Affected by Mine Conditions')\n",
    "axs[1,0].set_ylabel('Counts')\n",
    "axs[1,0].set_title('Histogram Plot of Counts by Number Affected')\n",
    "\n",
    "# proposed_penalty histogram\n",
    "axs[1,1].hist(violations['PROPOSED_PENALTY'])\n",
    "axs[1,1].set_xlabel('Dollar Value of Proposed Penalty')\n",
    "axs[1,1].set_ylabel('Counts')\n",
    "axs[1,1].set_title('Histogram Plot of Proposed Penalty')\n",
    "\n",
    "# amount_due histogram\n",
    "axs[1,2].hist(violations['AMOUNT_DUE'])\n",
    "axs[1,2].set_xlabel('Actual Dollar Value of Proposed Assessment')\n",
    "axs[1,2].set_ylabel('Counts')\n",
    "axs[1,2].set_title('Histogram Plot of Amount Due')\n",
    "\n",
    "# amount_paid histogram\n",
    "axs[1,3].hist(violations['AMOUNT_PAID'])\n",
    "axs[1,3].set_xlabel('Amount Paid in Dollars')\n",
    "axs[1,3].set_ylabel('Counts')\n",
    "axs[1,3].set_title('Histogram Plot of Amount Paid')\n",
    "\n",
    "# violator_violation_cnt histogram\n",
    "axs[2,0].hist(violations['VIOLATOR_VIOLATION_CNT'])\n",
    "axs[2,0].set_xlabel('Total # of Assessed Violations')\n",
    "axs[2,0].set_ylabel('Counts')\n",
    "axs[2,0].set_title('Histogram Plot of Violator Violations')\n",
    "\n",
    "# violator_inspection_day_cnt histogram\n",
    "axs[2,1].hist(violations['VIOLATOR_INSPECTION_DAY_CNT'])\n",
    "axs[2,1].set_xlabel('Total # of Inspections per Operator')\n",
    "axs[2,1].set_ylabel('Counts')\n",
    "axs[2,1].set_title('Histogram Plot of Violator Inspection Days')\n",
    "\n",
    "plt.tight_layout()\n",
    "plt.show()"
   ]
  },
  {
   "cell_type": "markdown",
   "metadata": {},
   "source": [
    "INSIGHTS \n",
    "\n",
    "Violations are going down (since 2010 really).\n",
    "\n",
    "There are less violations in Q4 (might need to remove 2023 to confirm that).\n",
    "\n",
    "All other graphs are heavily right skewed. Need to dive in further to see if there are any outliers that need to be removed and what the real data picture is."
   ]
  },
  {
   "cell_type": "markdown",
   "metadata": {},
   "source": [
    "#### Number Affected\n",
    "\n",
    "This is a measure of the number of persons affected or potentially affected by the conditions at the Mine due to the violation.  Can be zero."
   ]
  },
  {
   "cell_type": "code",
   "execution_count": 11,
   "metadata": {
    "scrolled": true
   },
   "outputs": [
    {
     "data": {
      "text/plain": [
       "count    2.814877e+06\n",
       "mean     1.481686e+00\n",
       "std      6.264660e+00\n",
       "min      0.000000e+00\n",
       "25%      1.000000e+00\n",
       "50%      1.000000e+00\n",
       "75%      1.000000e+00\n",
       "max      9.990000e+02\n",
       "Name: NO_AFFECTED, dtype: float64"
      ]
     },
     "execution_count": 11,
     "metadata": {},
     "output_type": "execute_result"
    }
   ],
   "source": [
    "violations.NO_AFFECTED.describe()"
   ]
  },
  {
   "cell_type": "code",
   "execution_count": 12,
   "metadata": {
    "scrolled": true
   },
   "outputs": [
    {
     "name": "stdout",
     "output_type": "stream",
     "text": [
      "Skewness: 123.22386290696603\n",
      "Kurtosis: 18957.89644362109\n"
     ]
    }
   ],
   "source": [
    "print(f\"Skewness: {violations['NO_AFFECTED'].skew()}\")\n",
    "print(f\"Kurtosis: {violations['NO_AFFECTED'].kurt()}\")"
   ]
  },
  {
   "cell_type": "markdown",
   "metadata": {},
   "source": [
    "INSIGHT: The average number affected is 1.5. The min is 0. The max is 999 - might want to look into that violation.\n",
    "    \n",
    "- There are 20 violations with max NO_AFFECTED == 999. I want to say this is a null value but there are also records with 998, 991, 900, etc. "
   ]
  },
  {
   "cell_type": "code",
   "execution_count": 13,
   "metadata": {},
   "outputs": [
    {
     "data": {
      "text/html": [
       "<div>\n",
       "<style scoped>\n",
       "    .dataframe tbody tr th:only-of-type {\n",
       "        vertical-align: middle;\n",
       "    }\n",
       "\n",
       "    .dataframe tbody tr th {\n",
       "        vertical-align: top;\n",
       "    }\n",
       "\n",
       "    .dataframe thead th {\n",
       "        text-align: right;\n",
       "    }\n",
       "</style>\n",
       "<table border=\"1\" class=\"dataframe\">\n",
       "  <thead>\n",
       "    <tr style=\"text-align: right;\">\n",
       "      <th></th>\n",
       "      <th>NO_AFFECTED</th>\n",
       "      <th>count</th>\n",
       "    </tr>\n",
       "  </thead>\n",
       "  <tbody>\n",
       "    <tr>\n",
       "      <th>61</th>\n",
       "      <td>999</td>\n",
       "      <td>20</td>\n",
       "    </tr>\n",
       "    <tr>\n",
       "      <th>41</th>\n",
       "      <td>998</td>\n",
       "      <td>59</td>\n",
       "    </tr>\n",
       "    <tr>\n",
       "      <th>128</th>\n",
       "      <td>991</td>\n",
       "      <td>2</td>\n",
       "    </tr>\n",
       "    <tr>\n",
       "      <th>209</th>\n",
       "      <td>900</td>\n",
       "      <td>1</td>\n",
       "    </tr>\n",
       "    <tr>\n",
       "      <th>158</th>\n",
       "      <td>812</td>\n",
       "      <td>1</td>\n",
       "    </tr>\n",
       "  </tbody>\n",
       "</table>\n",
       "</div>"
      ],
      "text/plain": [
       "     NO_AFFECTED  count\n",
       "61           999     20\n",
       "41           998     59\n",
       "128          991      2\n",
       "209          900      1\n",
       "158          812      1"
      ]
     },
     "execution_count": 13,
     "metadata": {},
     "output_type": "execute_result"
    }
   ],
   "source": [
    "#violations[violations['NO_AFFECTED'] == 999]\n",
    "no_affected_counts = pd.DataFrame(violations['NO_AFFECTED'].value_counts()).reset_index()\n",
    "no_affected_counts.sort_values(by = 'NO_AFFECTED', ascending= False).head(5)"
   ]
  },
  {
   "cell_type": "code",
   "execution_count": 14,
   "metadata": {},
   "outputs": [
    {
     "name": "stdout",
     "output_type": "stream",
     "text": [
      "The largest value of NO_AFFECTED is at index : 2356982, with a value of: 999\n"
     ]
    }
   ],
   "source": [
    "max_index = violations[['NO_AFFECTED']].idxmax()\n",
    "max_value = violations['NO_AFFECTED'].iloc[max_index[0]]\n",
    "print(f\"The largest value of NO_AFFECTED is at index : {max_index[0]}, with a value of: {max_value}\")"
   ]
  },
  {
   "cell_type": "code",
   "execution_count": 15,
   "metadata": {},
   "outputs": [],
   "source": [
    "# pd.set_option('display.max_rows', None)\n",
    "\n",
    "# print(violations[['NO_AFFECTED']].idxmax())\n",
    "# print(violations.iloc[2356982])\n",
    "\n",
    "# pd.reset_option('display.max_rows')"
   ]
  },
  {
   "cell_type": "markdown",
   "metadata": {},
   "source": [
    "#### Proposed Penalty\n",
    "\n",
    "The original dollar value of the proposed penalty prior to any modifications such as those possibly resulting from a decision on a contested case."
   ]
  },
  {
   "cell_type": "code",
   "execution_count": 16,
   "metadata": {},
   "outputs": [
    {
     "data": {
      "text/plain": [
       "count    2.752320e+06\n",
       "mean     5.891074e+02\n",
       "std      3.111021e+03\n",
       "min      1.000000e+00\n",
       "25%      1.000000e+02\n",
       "50%      1.230000e+02\n",
       "75%      3.080000e+02\n",
       "max      2.462000e+05\n",
       "Name: PROPOSED_PENALTY, dtype: float64"
      ]
     },
     "execution_count": 16,
     "metadata": {},
     "output_type": "execute_result"
    }
   ],
   "source": [
    "violations.PROPOSED_PENALTY.describe()"
   ]
  },
  {
   "cell_type": "code",
   "execution_count": 17,
   "metadata": {
    "scrolled": true
   },
   "outputs": [
    {
     "name": "stdout",
     "output_type": "stream",
     "text": [
      "Skewness: 25.35834847277272\n",
      "Kurtosis: 1038.4529724247518\n"
     ]
    }
   ],
   "source": [
    "print(f\"Skewness: {violations['PROPOSED_PENALTY'].skew()}\")\n",
    "print(f\"Kurtosis: {violations['PROPOSED_PENALTY'].kurt()}\")"
   ]
  },
  {
   "cell_type": "markdown",
   "metadata": {},
   "source": [
    "INSIGHT: The average proposed penalty is 589.10 dollars. The min is 100 dollars and the max is 246,200 dollars - might want to look into that violation."
   ]
  },
  {
   "cell_type": "code",
   "execution_count": 18,
   "metadata": {},
   "outputs": [
    {
     "name": "stdout",
     "output_type": "stream",
     "text": [
      "The largest value of PROPOSED_PENALTY is at index : 498123, with a value of: $246200.0\n"
     ]
    }
   ],
   "source": [
    "max_index = violations[['PROPOSED_PENALTY']].idxmax()\n",
    "max_value = violations['PROPOSED_PENALTY'].iloc[max_index[0]]\n",
    "print(f\"The largest value of PROPOSED_PENALTY is at index : {max_index[0]}, with a value of: ${max_value}\")"
   ]
  },
  {
   "cell_type": "code",
   "execution_count": 19,
   "metadata": {},
   "outputs": [],
   "source": [
    "# pd.set_option('display.max_rows', None)\n",
    "\n",
    "# print(violations[['PROPOSED_PENALTY']].idxmax())\n",
    "# print(violations.iloc[498123])\n",
    "\n",
    "# pd.reset_option('display.max_rows')"
   ]
  },
  {
   "cell_type": "markdown",
   "metadata": {},
   "source": [
    "INSIGHT: The violation with the highest penalty is a highly likekly, fatal accident that waas characterized by reckless negligence."
   ]
  },
  {
   "cell_type": "markdown",
   "metadata": {},
   "source": [
    "#### Amount Due\n",
    "\n",
    "The current dollar value of the proposed assessment, reflecting any modifications that have been made since it was originally assessed."
   ]
  },
  {
   "cell_type": "code",
   "execution_count": 20,
   "metadata": {},
   "outputs": [
    {
     "data": {
      "text/plain": [
       "count    2.752320e+06\n",
       "mean     4.721570e+02\n",
       "std      2.254306e+03\n",
       "min      0.000000e+00\n",
       "25%      1.000000e+02\n",
       "50%      1.230000e+02\n",
       "75%      2.860000e+02\n",
       "max      2.462000e+05\n",
       "Name: AMOUNT_DUE, dtype: float64"
      ]
     },
     "execution_count": 20,
     "metadata": {},
     "output_type": "execute_result"
    }
   ],
   "source": [
    "violations.AMOUNT_DUE.describe()"
   ]
  },
  {
   "cell_type": "code",
   "execution_count": 21,
   "metadata": {},
   "outputs": [
    {
     "name": "stdout",
     "output_type": "stream",
     "text": [
      "Skewness: 31.60113307522931\n",
      "Kurtosis: 1819.4969349424239\n"
     ]
    }
   ],
   "source": [
    "print(f\"Skewness: {violations['AMOUNT_DUE'].skew()}\")\n",
    "print(f\"Kurtosis: {violations['AMOUNT_DUE'].kurt()}\")"
   ]
  },
  {
   "cell_type": "code",
   "execution_count": 22,
   "metadata": {},
   "outputs": [
    {
     "name": "stdout",
     "output_type": "stream",
     "text": [
      "The largest value of AMOUNT_DUE is at index : 498123, with a value of: $246200.0\n"
     ]
    }
   ],
   "source": [
    "max_index = violations[['AMOUNT_DUE']].idxmax()\n",
    "max_value = violations['AMOUNT_DUE'].iloc[max_index[0]]\n",
    "print(f\"The largest value of AMOUNT_DUE is at index : {max_index[0]}, with a value of: ${max_value}\")"
   ]
  },
  {
   "cell_type": "markdown",
   "metadata": {},
   "source": [
    "INSIGHT: The average amount due is 472.15 dollars. The min is 0 dollars and the max is 246,200 dollars."
   ]
  },
  {
   "cell_type": "markdown",
   "metadata": {},
   "source": [
    "#### Amount Paid\n",
    "\n",
    "The total dollar value of all payments applied to this proposed assessment to date."
   ]
  },
  {
   "cell_type": "code",
   "execution_count": 23,
   "metadata": {},
   "outputs": [
    {
     "data": {
      "text/plain": [
       "count    2.752320e+06\n",
       "mean     4.069207e+02\n",
       "std      1.886742e+03\n",
       "min      0.000000e+00\n",
       "25%      6.000000e+01\n",
       "50%      1.170000e+02\n",
       "75%      2.630000e+02\n",
       "max      2.200000e+05\n",
       "Name: AMOUNT_PAID, dtype: float64"
      ]
     },
     "execution_count": 23,
     "metadata": {},
     "output_type": "execute_result"
    }
   ],
   "source": [
    "violations.AMOUNT_PAID.describe()"
   ]
  },
  {
   "cell_type": "code",
   "execution_count": 24,
   "metadata": {
    "scrolled": true
   },
   "outputs": [
    {
     "name": "stdout",
     "output_type": "stream",
     "text": [
      "Skewness: 36.29273547319254\n",
      "Kurtosis: 2641.5993557580223\n"
     ]
    }
   ],
   "source": [
    "print(f\"Skewness: {violations['AMOUNT_PAID'].skew()}\")\n",
    "print(f\"Kurtosis: {violations['AMOUNT_PAID'].kurt()}\")"
   ]
  },
  {
   "cell_type": "markdown",
   "metadata": {},
   "source": [
    "INSIGHT: The average amount paid is 406.92 dollars. The min is 0 dollars and the max is 220,000 dollars."
   ]
  },
  {
   "cell_type": "markdown",
   "metadata": {},
   "source": [
    "#### Violator Violations\n",
    "\n",
    "Total number of assessed violations for this violator at this time during the violation history period. Used in penalty calculation.  Applies to an Operator or a Contractor."
   ]
  },
  {
   "cell_type": "code",
   "execution_count": 25,
   "metadata": {},
   "outputs": [
    {
     "data": {
      "text/plain": [
       "count    2.752320e+06\n",
       "mean     1.231456e+02\n",
       "std      2.281789e+02\n",
       "min      0.000000e+00\n",
       "25%      1.000000e+00\n",
       "50%      1.500000e+01\n",
       "75%      1.350000e+02\n",
       "max      2.452000e+03\n",
       "Name: VIOLATOR_VIOLATION_CNT, dtype: float64"
      ]
     },
     "execution_count": 25,
     "metadata": {},
     "output_type": "execute_result"
    }
   ],
   "source": [
    "violations.VIOLATOR_VIOLATION_CNT.describe()"
   ]
  },
  {
   "cell_type": "code",
   "execution_count": 26,
   "metadata": {},
   "outputs": [
    {
     "name": "stdout",
     "output_type": "stream",
     "text": [
      "Skewness: 2.862044414106103\n",
      "Kurtosis: 10.344632494860818\n"
     ]
    }
   ],
   "source": [
    "print(f\"Skewness: {violations['VIOLATOR_VIOLATION_CNT'].skew()}\")\n",
    "print(f\"Kurtosis: {violations['VIOLATOR_VIOLATION_CNT'].kurt()}\")"
   ]
  },
  {
   "cell_type": "markdown",
   "metadata": {},
   "source": [
    "INSIGHT: The average number of violations is 123. The min is 0 and the max is 2452. That's a lot of violations!"
   ]
  },
  {
   "cell_type": "markdown",
   "metadata": {},
   "source": [
    "#### Violator Inspection Days\n",
    "\n",
    "Total number of inspections for this Operator at a mine during the violation history period. Used in penalty calculation. Does not apply to Contractor."
   ]
  },
  {
   "cell_type": "code",
   "execution_count": 27,
   "metadata": {},
   "outputs": [
    {
     "data": {
      "text/plain": [
       "count    2.752320e+06\n",
       "mean     1.675176e+02\n",
       "std      3.013523e+02\n",
       "min      0.000000e+00\n",
       "25%      1.000000e+00\n",
       "50%      1.800000e+01\n",
       "75%      1.790000e+02\n",
       "max      3.044000e+03\n",
       "Name: VIOLATOR_INSPECTION_DAY_CNT, dtype: float64"
      ]
     },
     "execution_count": 27,
     "metadata": {},
     "output_type": "execute_result"
    }
   ],
   "source": [
    "violations.VIOLATOR_INSPECTION_DAY_CNT.describe()"
   ]
  },
  {
   "cell_type": "code",
   "execution_count": 28,
   "metadata": {},
   "outputs": [
    {
     "name": "stdout",
     "output_type": "stream",
     "text": [
      "Skewness: 2.4340972318566485\n",
      "Kurtosis: 6.368570495121238\n"
     ]
    }
   ],
   "source": [
    "print(f\"Skewness: {violations['VIOLATOR_INSPECTION_DAY_CNT'].skew()}\")\n",
    "print(f\"Kurtosis: {violations['VIOLATOR_INSPECTION_DAY_CNT'].kurt()}\")"
   ]
  },
  {
   "cell_type": "markdown",
   "metadata": {},
   "source": [
    "INSIGHT: The average number of inspections is 167. The min is 0 and the max is 3044. That's a lot of inspections!"
   ]
  },
  {
   "cell_type": "markdown",
   "metadata": {},
   "source": [
    "#### Pairwise Plots"
   ]
  },
  {
   "cell_type": "code",
   "execution_count": 30,
   "metadata": {},
   "outputs": [],
   "source": [
    "numeric_vars = violations[['NO_AFFECTED', 'PROPOSED_PENALTY', 'AMOUNT_DUE', 'AMOUNT_PAID', 'VIOLATOR_VIOLATION_CNT', 'VIOLATOR_INSPECTION_DAY_CNT']]\n",
    "#sns.pairplot(numeric_vars)\n",
    "#plt.show()"
   ]
  },
  {
   "cell_type": "markdown",
   "metadata": {},
   "source": [
    "#### Correlation"
   ]
  },
  {
   "cell_type": "code",
   "execution_count": null,
   "metadata": {},
   "outputs": [],
   "source": [
    "numeric_vars = violations[['CAL_YR', 'CAL_QTR', 'FISCAL_YR', 'FISCAL_QTR', 'NO_AFFECTED', 'PROPOSED_PENALTY', 'AMOUNT_DUE', 'AMOUNT_PAID', 'VIOLATOR_VIOLATION_CNT', 'VIOLATOR_INSPECTION_DAY_CNT']]\n",
    "corr_matrix = numeric_vars.corr()\n",
    "\n",
    "# Set the figure size to prevent overlapping\n",
    "plt.figure(figsize=(10, 8))\n",
    "\n",
    "# Create and show heatmap - add fontsize parameter\n",
    "sns.heatmap(corr_matrix, annot=True, cmap='coolwarm', annot_kws={'fontsize': 10})\n",
    "plt.title('Correlation Matrix of Numeric Variables')\n",
    "plt.show()"
   ]
  },
  {
   "cell_type": "code",
   "execution_count": null,
   "metadata": {},
   "outputs": [],
   "source": [
    "import winsound\n",
    "winsound.Beep(400, 1000)"
   ]
  },
  {
   "cell_type": "code",
   "execution_count": null,
   "metadata": {},
   "outputs": [],
   "source": [
    "numeric_vars = violations[['CAL_YR', 'CAL_QTR', 'FISCAL_YR', 'FISCAL_QTR', 'NO_AFFECTED', 'PROPOSED_PENALTY', 'AMOUNT_DUE', 'AMOUNT_PAID', 'VIOLATOR_VIOLATION_CNT', 'VIOLATOR_INSPECTION_DAY_CNT']]\n",
    "plt.subplots(figsize=(20,10))\n",
    "sns.heatmap(numeric_vars.corr(), annot = True, fmt = \".2f\", cmap = \"viridis\");"
   ]
  },
  {
   "cell_type": "markdown",
   "metadata": {},
   "source": [
    "NOTE: \n",
    "- PROPOSED_PENALTY and AMOUNT_DUE have a correleation coefficient of 0.88, indicating a high degree of correlation between the two variables. \n",
    "- Proposed penalty is the original dollar amount of the proposed penalty prior to any modifications, while amount due is the current dollar value of the proposed assessment, reflecting any modeifications made since the original assessment. \n",
    "- Given that the two are highly correlated, it seems that there is some type of relationship between perceived cause and actual cause of the accidents. "
   ]
  },
  {
   "cell_type": "markdown",
   "metadata": {},
   "source": [
    "INSIGHTS: \n",
    "\n",
    "Need to remove either FISCAL or CAL, not getting new info there.\n",
    "\n",
    "I would argue number of affected is one of our key numeric variables and it doesnt seem at all correlated with any other numerical variable.\n",
    "\n",
    "Amount paid, amount due, and proposed penalty are correlated, which makes sense.\n",
    "\n",
    "Number of violations (VIOLATOR_VIOLATION_CNT) is supposed to inform penalties and their correlation is a mere 0.10. "
   ]
  },
  {
   "cell_type": "markdown",
   "metadata": {},
   "source": [
    "### Categorical EDA"
   ]
  },
  {
   "cell_type": "markdown",
   "metadata": {},
   "source": [
    "#### Overall Visualizations"
   ]
  },
  {
   "cell_type": "code",
   "execution_count": null,
   "metadata": {},
   "outputs": [],
   "source": [
    "# bar plots of categorical and binary variables in violations df\n",
    "\n",
    "fig, axs = plt.subplots(4, 4, figsize = (20, 20))\n",
    "\n",
    "# violator_type_cd bar chart\n",
    "violations['VIOLATOR_TYPE_CD'].value_counts().plot(kind = 'bar', ax = axs[0,0])\n",
    "axs[0,0].set_xlabel('Type of Violator')\n",
    "axs[0,0].set_ylabel('Counts')\n",
    "axs[0,0].set_title('Bar Plot of Counts by Each Type of Violator')\n",
    "\n",
    "# mine_type bar chart\n",
    "violations['MINE_TYPE'].value_counts().plot(kind = 'bar', ax = axs[0,1])\n",
    "axs[0,1].set_xlabel('Type of Mine')\n",
    "axs[0,1].set_ylabel('Counts')\n",
    "axs[0,1].set_title('Bar Plot of Counts by Each Type of Mine')\n",
    "\n",
    "# coal_metal_ind bar chart\n",
    "violations['COAL_METAL_IND'].value_counts().plot(kind = 'bar', ax = axs[0,2])\n",
    "axs[0,2].set_xlabel('Coal or Metal/Nonmetal Mine')\n",
    "axs[0,2].set_ylabel('Counts')\n",
    "axs[0,2].set_title('Bar Plot of Counts by Each Type of Mine')\n",
    "\n",
    "# Sig_sub bar chart\n",
    "violations['SIG_SUB'].value_counts().plot(kind = 'bar', ax = axs[0,3])\n",
    "axs[0,3].set_xlabel('gravity indicator(y/n)')\n",
    "axs[0,3].set_ylabel('Counts')\n",
    "axs[0,3].set_title('Bar Plot of Whether Significant or Not')\n",
    "\n",
    "# city_ord_safe bar chart\n",
    "violations['CIT_ORD_SAFE'].value_counts().plot(kind = 'bar', ax = axs[1,0])\n",
    "axs[1,0].set_xlabel('Type of Citation')\n",
    "axs[1,0].set_ylabel('Counts')\n",
    "axs[1,0].set_title('Bar Plot of Counts by Each Type of Citation')\n",
    "\n",
    "# termination_type bar chart\n",
    "violations['TERMINATION_TYPE'].value_counts().plot(kind = 'bar', ax = axs[1,1])\n",
    "axs[1,1].set_xlabel('Type of Termination')\n",
    "axs[1,1].set_ylabel('Counts')\n",
    "axs[1,1].set_title('Bar Plot of Counts by Each Type of Termination')\n",
    "\n",
    "# likelihood bar chart\n",
    "violations['LIKELIHOOD'].value_counts().plot(kind = 'bar', ax = axs[1,2])\n",
    "axs[1,2].set_xlabel('Likelihood of an Accident')\n",
    "axs[1,2].set_ylabel('Counts')\n",
    "axs[1,2].set_title('Bar Plot of Counts by Likelihood of an Accident')\n",
    "\n",
    "# inJ_illness bar chart\n",
    "violations['INJ_ILLNESS'].value_counts().plot(kind = 'bar', ax = axs[1,3])\n",
    "axs[1,3].set_xlabel('Gravity of an Injury')\n",
    "axs[1,3].set_ylabel('Counts')\n",
    "axs[1,3].set_title('Bar Plot of Counts by Gravity of Injury')\n",
    "\n",
    "# negligence bar chart\n",
    "violations['NEGLIGENCE'].value_counts().plot(kind = 'bar', ax = axs[2,0])\n",
    "axs[2,0].set_xlabel('Degree of Negligence')\n",
    "axs[2,0].set_ylabel('Counts')\n",
    "axs[2,0].set_title('Bar Plot of Counts by Degree of Negligence')\n",
    "\n",
    "# written_notice bar chart\n",
    "violations['WRITTEN_NOTICE'].value_counts().plot(kind = 'bar', ax = axs[2,1])\n",
    "axs[2,1].set_xlabel('Written Notice(y/n)')\n",
    "axs[2,1].set_ylabel('Counts')\n",
    "axs[2,1].set_title('Bar Plot of Counts by Written Notice Type')\n",
    "\n",
    "# enforcement_area bar chart\n",
    "violations['ENFORCEMENT_AREA'].value_counts().plot(kind = 'bar', ax = axs[2,2])\n",
    "axs[2,2].set_xlabel('Enforcement Area Affected')\n",
    "axs[2,2].set_ylabel('Counts')\n",
    "axs[2,2].set_title('Bar Plot of Counts by Enforcement Area Affected')\n",
    "\n",
    "# special_assess bar chart\n",
    "violations['SPECIAL_ASSESS'].value_counts().plot(kind = 'bar', ax = axs[2,2])\n",
    "axs[2,2].set_xlabel('Special assessment(y/n)')\n",
    "axs[2,2].set_ylabel('Counts')\n",
    "axs[2,2].set_title('Bar Plot of Counts by Special Assessment')\n",
    "\n",
    "# primary_or_mill bar chart\n",
    "violations['PRIMARY_OR_MILL'].value_counts().plot(kind = 'bar', ax = axs[2,3])\n",
    "axs[2,3].set_xlabel('Primary Mine or Mill')\n",
    "axs[2,3].set_ylabel('Counts')\n",
    "axs[2,3].set_title('Bar Plot of Counts by Primary Mine or Mill')\n",
    "\n",
    "# asmt_generated_ind bar chart\n",
    "violations['ASMT_GENERATED_IND'].value_counts().plot(kind = 'bar', ax = axs[3,0])\n",
    "axs[3,0].set_xlabel('Operator/Contractor, Agent,or Miner')\n",
    "axs[3,0].set_ylabel('Counts')\n",
    "axs[3,0].set_title('Bar Plot of Counts by Type of Violator')\n",
    "\n",
    "# last_action_cd bar chart\n",
    "violations['LAST_ACTION_CD'].value_counts().plot(kind = 'bar', ax = axs[3,1])\n",
    "axs[3,1].set_xlabel('Last Action Taken Against Violation')\n",
    "axs[3,1].set_ylabel('Counts')\n",
    "axs[3,1].set_title('Bar Plot of Counts by Last Action Against Violation')\n",
    "\n",
    "# docket_status_cd bar chart\n",
    "violations['DOCKET_STATUS_CD'].value_counts().plot(kind = 'bar', ax = axs[3,2])\n",
    "axs[3,2].set_xlabel('Docket Status')\n",
    "axs[3,2].set_ylabel('Counts')\n",
    "axs[3,2].set_title('Bar Plot of Counts by Docket Status')\n",
    "\n",
    "# contested_ind bar chart\n",
    "violations['CONTESTED_IND'].value_counts().plot(kind = 'bar', ax = axs[3,3])\n",
    "axs[3,3].set_xlabel('Contested (y/n)')\n",
    "axs[3,3].set_ylabel('Counts')\n",
    "axs[3,3].set_title('Bar Plot of Counts by Contested Status')\n",
    "\n",
    "plt.tight_layout()\n",
    "plt.show()"
   ]
  },
  {
   "cell_type": "markdown",
   "metadata": {},
   "source": [
    "INSIGHTS: \n",
    "\n",
    "By far, most violators are operators, not contractors. (Need to compare with inspections to see if this is due to differing volume of inspections).\n",
    "\n",
    "Most mines are surface or underground, not facility.\n",
    "\n",
    "Pretty even mix of coal and metal mines represented.\n",
    "\n",
    "Apx. 1/3 of violations were likely to happen."
   ]
  },
  {
   "cell_type": "markdown",
   "metadata": {},
   "source": [
    "#### Violator Type\n",
    "\n",
    "Each Violator record represents an entity (Operator, Contractor, Agent or Miner) that has one or more violations at a mine."
   ]
  },
  {
   "cell_type": "code",
   "execution_count": null,
   "metadata": {
    "scrolled": true
   },
   "outputs": [],
   "source": [
    "violations.VIOLATOR_TYPE_CD.value_counts(normalize = True)"
   ]
  },
  {
   "cell_type": "markdown",
   "metadata": {},
   "source": [
    "INSIGHT: 93% of violators are operators."
   ]
  },
  {
   "cell_type": "code",
   "execution_count": null,
   "metadata": {},
   "outputs": [],
   "source": [
    "value_counts = violations.groupby('CAL_YR')['VIOLATOR_TYPE_CD'].value_counts().unstack()\n",
    "value_counts.plot(kind='bar', stacked=True)\n",
    "plt.xlabel('CAL_YR')\n",
    "plt.ylabel('Counts')\n",
    "plt.title('VIOLATOR_TYPE_CD Changes Over the CAL_YR')\n",
    "plt.show()"
   ]
  },
  {
   "cell_type": "markdown",
   "metadata": {},
   "source": [
    "#### Mine Type\n",
    "\n",
    "Mine type of the mine where the violation has been issued:  Facility, Surface or Underground."
   ]
  },
  {
   "cell_type": "code",
   "execution_count": null,
   "metadata": {
    "scrolled": true
   },
   "outputs": [],
   "source": [
    "violations.MINE_TYPE.value_counts(normalize = True)"
   ]
  },
  {
   "cell_type": "markdown",
   "metadata": {},
   "source": [
    "INSIGHT: 45% of violators are in surface mines, 40% are in underground, and only 14% in facility. Need to compare to mine types overall/inspection data."
   ]
  },
  {
   "cell_type": "code",
   "execution_count": null,
   "metadata": {},
   "outputs": [],
   "source": [
    "value_counts = violations.groupby('CAL_YR')['MINE_TYPE'].value_counts().unstack()\n",
    "value_counts.plot(kind='bar', stacked=True)\n",
    "plt.xlabel('CAL_YR')\n",
    "plt.ylabel('Counts')\n",
    "plt.title('Mine_TYPE Changes Over the CAL_YR')\n",
    "plt.show()"
   ]
  },
  {
   "cell_type": "markdown",
   "metadata": {},
   "source": [
    "#### Coal or Metal\n",
    "\n",
    "Identifies if the record is for a Coal or Metal/Non-Metal mine."
   ]
  },
  {
   "cell_type": "code",
   "execution_count": null,
   "metadata": {
    "scrolled": true
   },
   "outputs": [],
   "source": [
    "violations.COAL_METAL_IND.value_counts(normalize = True)"
   ]
  },
  {
   "cell_type": "code",
   "execution_count": null,
   "metadata": {
    "scrolled": false
   },
   "outputs": [],
   "source": [
    "value_counts = violations.groupby('CAL_YR')['COAL_METAL_IND'].value_counts().unstack()\n",
    "value_counts.plot(kind='bar', stacked=True)\n",
    "plt.xlabel('CAL_YR')\n",
    "plt.ylabel('Counts')\n",
    "plt.title('COAL_METAL_IND Changes Over the CAL_YR')\n",
    "plt.show()"
   ]
  },
  {
   "cell_type": "markdown",
   "metadata": {},
   "source": [
    "#### Significant\n",
    "\n",
    "An indicator as to whether or not the gravity is determined by the inspector to be significant and substantial.  If this is 'Y', the inspector has indicated that based upon the particular facts surrounding the violation there exists a reasonable likelihood the hazard contributed to will result in an injury or illness of a reasonably serious nature."
   ]
  },
  {
   "cell_type": "code",
   "execution_count": null,
   "metadata": {},
   "outputs": [],
   "source": [
    "violations.SIG_SUB.value_counts(normalize = True)"
   ]
  },
  {
   "cell_type": "markdown",
   "metadata": {},
   "source": [
    "INSIGHT: 72% of violations are not \"significant or substantial\". "
   ]
  },
  {
   "cell_type": "code",
   "execution_count": null,
   "metadata": {
    "scrolled": false
   },
   "outputs": [],
   "source": [
    "value_counts = violations.groupby('CAL_YR')['SIG_SUB'].value_counts().unstack()\n",
    "value_counts.plot(kind='bar', stacked=True, figsize=(12,8))\n",
    "plt.xlabel('Year')\n",
    "plt.ylabel('Number of Violations')\n",
    "plt.title('Relative Proportion of Signficant vs. Non-Significant Violations over Time')\n",
    "plt.show()"
   ]
  },
  {
   "cell_type": "markdown",
   "metadata": {},
   "source": [
    "#### City Ordinance\n",
    "\n",
    "Specifies the type of Citation: Citation, Order, Safeguard, Written Notice or Notice."
   ]
  },
  {
   "cell_type": "code",
   "execution_count": null,
   "metadata": {},
   "outputs": [],
   "source": [
    "violations.CIT_ORD_SAFE.value_counts(normalize = True)"
   ]
  },
  {
   "cell_type": "markdown",
   "metadata": {},
   "source": [
    "INSIGHT: 90% of violations are citations. Need to understand the heirarchy on these."
   ]
  },
  {
   "cell_type": "code",
   "execution_count": null,
   "metadata": {
    "scrolled": true
   },
   "outputs": [],
   "source": [
    "value_counts = violations.groupby('CAL_YR')['CIT_ORD_SAFE'].value_counts().unstack()\n",
    "value_counts.plot(kind='bar', stacked=True)\n",
    "plt.xlabel('CAL_YR')\n",
    "plt.ylabel('Counts')\n",
    "plt.title('CIT_ORD_SAFE Changes Over the CAL_YR')\n",
    "plt.show()"
   ]
  },
  {
   "cell_type": "markdown",
   "metadata": {},
   "source": [
    "#### Termination Type\n",
    "\n",
    "Code identifying the type of termination:  Issued, ReplacedByOrder or Terminated."
   ]
  },
  {
   "cell_type": "code",
   "execution_count": null,
   "metadata": {
    "scrolled": true
   },
   "outputs": [],
   "source": [
    "violations.TERMINATION_TYPE.value_counts(normalize = True)"
   ]
  },
  {
   "cell_type": "markdown",
   "metadata": {},
   "source": [
    "INSIGHT: 99% of violations are \"Terminated\" -- Not sure what it means that the citation was terminated. "
   ]
  },
  {
   "cell_type": "code",
   "execution_count": null,
   "metadata": {
    "scrolled": false
   },
   "outputs": [],
   "source": [
    "value_counts = violations.groupby('CAL_YR')['TERMINATION_TYPE'].value_counts().unstack()\n",
    "value_counts.plot(kind='bar', stacked=True)\n",
    "plt.xlabel('CAL_YR')\n",
    "plt.ylabel('Counts')\n",
    "plt.title('TERMINATION_TYPE Changes Over the CAL_YR')\n",
    "plt.show()"
   ]
  },
  {
   "cell_type": "markdown",
   "metadata": {},
   "source": [
    "#### Likelihood\n",
    "\n",
    "This is a measure of the seriousness of the violation being cited as measured by the likelihood of the occurrence of an accident:  Highly, NoLikelihood, Occurred, Reasonably or Unlikely. May contain null values if situation does not apply."
   ]
  },
  {
   "cell_type": "code",
   "execution_count": 46,
   "metadata": {
    "scrolled": true
   },
   "outputs": [
    {
     "data": {
      "text/plain": [
       "LIKELIHOOD\n",
       "Unlikely        0.667596\n",
       "Reasonably      0.271965\n",
       "NoLikelihood    0.052720\n",
       "Highly          0.005478\n",
       "Occurred        0.002240\n",
       "Name: proportion, dtype: float64"
      ]
     },
     "execution_count": 46,
     "metadata": {},
     "output_type": "execute_result"
    }
   ],
   "source": [
    "violations.LIKELIHOOD.value_counts(normalize = True)"
   ]
  },
  {
   "cell_type": "markdown",
   "metadata": {},
   "source": [
    "INSIGHT: Primarily unlikely, some reasonable, very few of everything else."
   ]
  },
  {
   "cell_type": "code",
   "execution_count": 47,
   "metadata": {
    "scrolled": false
   },
   "outputs": [
    {
     "data": {
      "image/png": "[encoded data removed]",
      "text/plain": [
       "<Figure size 432x288 with 1 Axes>"
      ]
     },
     "metadata": {
      "needs_background": "light"
     },
     "output_type": "display_data"
    }
   ],
   "source": [
    "value_counts = violations.groupby('CAL_YR')['LIKELIHOOD'].value_counts().unstack()\n",
    "value_counts.plot(kind='bar', stacked=True)\n",
    "plt.xlabel('CAL_YR')\n",
    "plt.ylabel('Counts')\n",
    "plt.title('LIKELIHOOD Changes Over the CAL_YR')\n",
    "plt.show()"
   ]
  },
  {
   "cell_type": "markdown",
   "metadata": {},
   "source": [
    "INSIGHT: This actually does seem like not only are violations going down but so are reasonably likely violations."
   ]
  },
  {
   "cell_type": "markdown",
   "metadata": {},
   "source": [
    "#### Inj_Illness\n",
    "\n",
    "Value assigned to a violation for gravity of injury.  Measure of seriousness of violation being cited as measured by severity of the injury or illness to persons if accident were to occur due to the conditions of the violation: Fatal, LostDays, NoLostDays or Permanent."
   ]
  },
  {
   "cell_type": "code",
   "execution_count": 48,
   "metadata": {
    "scrolled": false
   },
   "outputs": [
    {
     "data": {
      "text/plain": [
       "INJ_ILLNESS\n",
       "LostDays      0.559744\n",
       "Fatal         0.170817\n",
       "Permanent     0.159863\n",
       "NoLostDays    0.109577\n",
       "Name: proportion, dtype: float64"
      ]
     },
     "execution_count": 48,
     "metadata": {},
     "output_type": "execute_result"
    }
   ],
   "source": [
    "violations.INJ_ILLNESS.value_counts(normalize = True)"
   ]
  },
  {
   "cell_type": "markdown",
   "metadata": {},
   "source": [
    "INSIGHT: Primarily lostdays, even mix of everything else."
   ]
  },
  {
   "cell_type": "code",
   "execution_count": 49,
   "metadata": {
    "scrolled": false
   },
   "outputs": [
    {
     "data": {
      "image/png": "[encoded data removed]",
      "text/plain": [
       "<Figure size 432x288 with 1 Axes>"
      ]
     },
     "metadata": {
      "needs_background": "light"
     },
     "output_type": "display_data"
    }
   ],
   "source": [
    "value_counts = violations.groupby('CAL_YR')['INJ_ILLNESS'].value_counts().unstack()\n",
    "value_counts.plot(kind='bar', stacked=True)\n",
    "plt.xlabel('CAL_YR')\n",
    "plt.ylabel('Counts')\n",
    "plt.title('INJ_ILLNESS Changes Over the CAL_YR')\n",
    "plt.show()"
   ]
  },
  {
   "cell_type": "markdown",
   "metadata": {},
   "source": [
    "#### Negligence\n",
    "\n",
    "Codes representing the degree of negligence that the Inspector assigned to the violator due to the violation:  HighNegligence, LowNegligence, ModNegligence, NoNegligence or Reckless. A high degree of negligence is assigned when the operator was in a position to be aware of the condition that contributed to a dangerous situation and there were no mitigating circumstances, or if there are unique aggravating circumstances associated with the violation, such as repeated past violations of the same standard at the mine."
   ]
  },
  {
   "cell_type": "code",
   "execution_count": 44,
   "metadata": {
    "scrolled": true
   },
   "outputs": [
    {
     "data": {
      "text/plain": [
       "NEGLIGENCE\n",
       "ModNegligence     0.783829\n",
       "LowNegligence     0.149872\n",
       "HighNegligence    0.064228\n",
       "NoNegligence      0.001349\n",
       "Reckless          0.000722\n",
       "Name: proportion, dtype: float64"
      ]
     },
     "execution_count": 44,
     "metadata": {},
     "output_type": "execute_result"
    }
   ],
   "source": [
    "violations.NEGLIGENCE.value_counts(normalize = True)"
   ]
  },
  {
   "cell_type": "markdown",
   "metadata": {},
   "source": [
    "INSIGHT: Primarily moderate negligence."
   ]
  },
  {
   "cell_type": "code",
   "execution_count": 45,
   "metadata": {
    "scrolled": false
   },
   "outputs": [
    {
     "data": {
      "image/png": "[encoded data removed]",
      "text/plain": [
       "<Figure size 432x288 with 1 Axes>"
      ]
     },
     "metadata": {
      "needs_background": "light"
     },
     "output_type": "display_data"
    }
   ],
   "source": [
    "value_counts = violations.groupby('CAL_YR')['NEGLIGENCE'].value_counts().unstack()\n",
    "value_counts.plot(kind='bar', stacked=True)\n",
    "plt.xlabel('CAL_YR')\n",
    "plt.ylabel('Counts')\n",
    "plt.title('NEGLIGENCE Changes Over the CAL_YR')\n",
    "plt.show()"
   ]
  },
  {
   "cell_type": "markdown",
   "metadata": {},
   "source": [
    "#### Written Notice\n",
    "\n",
    "Indicates if this citation is a result of a Miner or Agent notice of complaint to MSHA (written notice 103(g)):  ('Y'  or 'N').  May contain null values."
   ]
  },
  {
   "cell_type": "code",
   "execution_count": null,
   "metadata": {
    "scrolled": false
   },
   "outputs": [],
   "source": [
    "violations.WRITTEN_NOTICE.value_counts(normalize = True)"
   ]
  },
  {
   "cell_type": "markdown",
   "metadata": {},
   "source": [
    "INSIGHT: Very few violations are the result of writer complaints -- meaning they are likely the result of random inspections?"
   ]
  },
  {
   "cell_type": "code",
   "execution_count": null,
   "metadata": {
    "scrolled": false
   },
   "outputs": [],
   "source": [
    "value_counts = violations.groupby('CAL_YR')['WRITTEN_NOTICE'].value_counts().unstack()\n",
    "value_counts.plot(kind='bar', stacked=True)\n",
    "plt.xlabel('CAL_YR')\n",
    "plt.ylabel('Counts')\n",
    "plt.title('WRITTEN_NOTICE Changes Over the CAL_YR')\n",
    "plt.show()"
   ]
  },
  {
   "cell_type": "markdown",
   "metadata": {},
   "source": [
    "INSIGHT: No \"No\"s until 2005 -- random inspections must have started then."
   ]
  },
  {
   "cell_type": "markdown",
   "metadata": {},
   "source": [
    "#### Special Assessment\n",
    "\n",
    "Specifies whether this citation has been designated for Special Assessment based on Special Assessment Review (Y or N)."
   ]
  },
  {
   "cell_type": "code",
   "execution_count": null,
   "metadata": {
    "scrolled": true
   },
   "outputs": [],
   "source": [
    "violations.SPECIAL_ASSESS.value_counts(normalize = True)"
   ]
  },
  {
   "cell_type": "markdown",
   "metadata": {},
   "source": [
    "INSIGHT: Very few violations are designated for Special Assessment -- what is Special Assessment? Is it something about the investigation or the violation? Like follow up required? Or weird type of observation, need it assessed as to whether its a violation or not?"
   ]
  },
  {
   "cell_type": "code",
   "execution_count": null,
   "metadata": {
    "scrolled": false
   },
   "outputs": [],
   "source": [
    "value_counts = violations.groupby('CAL_YR')['SPECIAL_ASSESS'].value_counts().unstack()\n",
    "value_counts.plot(kind='bar', stacked=True)\n",
    "plt.xlabel('CAL_YR')\n",
    "plt.ylabel('Counts')\n",
    "plt.title('SPECIAL_ASSESS Changes Over the CAL_YR')\n",
    "plt.show()"
   ]
  },
  {
   "cell_type": "markdown",
   "metadata": {},
   "source": [
    "INSIGHT: Special assessment only really occured during the Obama administration."
   ]
  },
  {
   "cell_type": "markdown",
   "metadata": {},
   "source": [
    "#### Primary or Mill\n",
    "\n",
    "A code indicating if the Violation was observed in the Primary Mine location or in an associated Mill (Metal/Non-Metal only). May contain null values."
   ]
  },
  {
   "cell_type": "code",
   "execution_count": null,
   "metadata": {
    "scrolled": false
   },
   "outputs": [],
   "source": [
    "violations.PRIMARY_OR_MILL.value_counts(normalize = True)"
   ]
  },
  {
   "cell_type": "markdown",
   "metadata": {},
   "source": [
    "INSIGHT: Most take place in the primary. Need more context here -- what's the difference between the two? What does this tell us? Why would there be nulls?"
   ]
  },
  {
   "cell_type": "code",
   "execution_count": null,
   "metadata": {
    "scrolled": false
   },
   "outputs": [],
   "source": [
    "value_counts = violations.groupby('CAL_YR')['PRIMARY_OR_MILL'].value_counts().unstack()\n",
    "value_counts.plot(kind='bar', stacked=True)\n",
    "plt.xlabel('CAL_YR')\n",
    "plt.ylabel('Counts')\n",
    "plt.title('PRIMARY_OR_MILL Changes Over the CAL_YR')\n",
    "plt.show()"
   ]
  },
  {
   "cell_type": "markdown",
   "metadata": {},
   "source": [
    "#### Asmt Generated\n",
    "\n",
    "If the violator is an Operator or Contractor, the indicator is 'N'. If the violator is an Agent, the indicator is 'Y'. If the violator is a Miner, the indicator can be 'Y' or 'N'. If none of the above, the indicator is '?'."
   ]
  },
  {
   "cell_type": "code",
   "execution_count": null,
   "metadata": {
    "scrolled": false
   },
   "outputs": [],
   "source": [
    "violations.ASMT_GENERATED_IND.value_counts(normalize = True)"
   ]
  },
  {
   "cell_type": "markdown",
   "metadata": {},
   "source": [
    "INSIGHT: Everything is N? Probably best to drop this column, I think our dataset must be a filtered dataset."
   ]
  },
  {
   "cell_type": "code",
   "execution_count": null,
   "metadata": {
    "scrolled": false
   },
   "outputs": [],
   "source": [
    "value_counts = violations.groupby('CAL_YR')['ASMT_GENERATED_IND'].value_counts().unstack()\n",
    "value_counts.plot(kind='bar', stacked=True)\n",
    "plt.xlabel('CAL_YR')\n",
    "plt.ylabel('Counts')\n",
    "plt.title('ASMT_GENERATED_IND Changes Over the CAL_YR')\n",
    "plt.show()"
   ]
  },
  {
   "cell_type": "markdown",
   "metadata": {},
   "source": [
    "#### Last Action\n",
    "\n",
    "Last action taken against this violation such as 1stDemandPrinted, BillingReady, ApprovedforTreasury and Proposed.  "
   ]
  },
  {
   "cell_type": "code",
   "execution_count": null,
   "metadata": {
    "scrolled": false
   },
   "outputs": [],
   "source": [
    "violations.LAST_ACTION_CD.value_counts(normalize = True)"
   ]
  },
  {
   "cell_type": "markdown",
   "metadata": {},
   "source": [
    "INSIGHT: Most are paid. "
   ]
  },
  {
   "cell_type": "markdown",
   "metadata": {},
   "source": [
    "#### Docket Status\n",
    "\n",
    "Denotes the current status of this docket:  Approved (approved by the court) or Proposed (not yet been approved by the court)."
   ]
  },
  {
   "cell_type": "code",
   "execution_count": null,
   "metadata": {
    "scrolled": true
   },
   "outputs": [],
   "source": [
    "violations.DOCKET_STATUS_CD.value_counts(normalize = True)"
   ]
  },
  {
   "cell_type": "markdown",
   "metadata": {},
   "source": [
    "INSIGHT: Basically everything is accepted."
   ]
  },
  {
   "cell_type": "code",
   "execution_count": null,
   "metadata": {},
   "outputs": [],
   "source": [
    "value_counts = violations.groupby('CAL_YR')['DOCKET_STATUS_CD'].value_counts().unstack()\n",
    "value_counts.plot(kind='bar', stacked=True)\n",
    "plt.xlabel('CAL_YR')\n",
    "plt.ylabel('Counts')\n",
    "plt.title('DOCKET_STATUS_CD Changes Over the CAL_YR')\n",
    "plt.show()"
   ]
  },
  {
   "cell_type": "markdown",
   "metadata": {},
   "source": [
    "INSIGHT: Makes sense that only the most recent data would still be in proposed status -- but no data 2011-2023?"
   ]
  },
  {
   "cell_type": "markdown",
   "metadata": {},
   "source": [
    "#### Docket Status\n",
    "\n",
    "Denotes the current status of this docket:  Approved (approved by the court) or Proposed (not yet been approved by the court)."
   ]
  },
  {
   "cell_type": "code",
   "execution_count": null,
   "metadata": {
    "scrolled": true
   },
   "outputs": [],
   "source": [
    "violations.CONTESTED_IND.value_counts(normalize = True)"
   ]
  },
  {
   "cell_type": "markdown",
   "metadata": {},
   "source": [
    "INSIGHT: 93% not contested."
   ]
  },
  {
   "cell_type": "code",
   "execution_count": null,
   "metadata": {},
   "outputs": [],
   "source": [
    "value_counts = violations.groupby('CAL_YR')['CONTESTED_IND'].value_counts().unstack()\n",
    "value_counts.plot(kind='bar', stacked=True)\n",
    "plt.xlabel('CAL_YR')\n",
    "plt.ylabel('Counts')\n",
    "plt.title('CONTESTED_IND Changes Over the CAL_YR')\n",
    "plt.show()"
   ]
  },
  {
   "cell_type": "markdown",
   "metadata": {},
   "source": [
    "INSIGHT: Weird that nothing has been contested since 2011? Have the rules changed for contesting?"
   ]
  },
  {
   "cell_type": "markdown",
   "metadata": {},
   "source": [
    "#### Enforcement Area\n",
    "\n",
    "Specifies the enforcement areas affected by the violating condition or practice constitute a health hazard, safety hazard, both or other type of hazard. May contain null values."
   ]
  },
  {
   "cell_type": "code",
   "execution_count": 50,
   "metadata": {
    "scrolled": true
   },
   "outputs": [
    {
     "data": {
      "text/plain": [
       "ENFORCEMENT_AREA\n",
       "Safety             0.952718\n",
       "Health             0.030132\n",
       "Other              0.012261\n",
       "HealthAndSafety    0.004890\n",
       "Name: proportion, dtype: float64"
      ]
     },
     "execution_count": 50,
     "metadata": {},
     "output_type": "execute_result"
    }
   ],
   "source": [
    "violations.ENFORCEMENT_AREA.value_counts(normalize = True)"
   ]
  },
  {
   "cell_type": "markdown",
   "metadata": {},
   "source": [
    "INSIGHT: 95% are safety violations."
   ]
  },
  {
   "cell_type": "code",
   "execution_count": 51,
   "metadata": {},
   "outputs": [
    {
     "data": {
      "image/png": "[encoded data removed]",
      "text/plain": [
       "<Figure size 432x288 with 1 Axes>"
      ]
     },
     "metadata": {
      "needs_background": "light"
     },
     "output_type": "display_data"
    }
   ],
   "source": [
    "value_counts = violations.groupby('CAL_YR')['ENFORCEMENT_AREA'].value_counts().unstack()\n",
    "value_counts.plot(kind='bar', stacked=True)\n",
    "plt.xlabel('CAL_YR')\n",
    "plt.ylabel('Counts')\n",
    "plt.title('ENFORCEMENT_AREA Changes Over the CAL_YR')\n",
    "plt.show()"
   ]
  },
  {
   "cell_type": "markdown",
   "metadata": {},
   "source": [
    "#### Controller\n",
    "\n",
    "Name of the controller active at the time the violation was cited.  May contain null values if this record pertains to a violation issued to a contractor."
   ]
  },
  {
   "cell_type": "code",
   "execution_count": null,
   "metadata": {
    "scrolled": true
   },
   "outputs": [],
   "source": [
    "controller_valuecounts = violations['CONTROLLER_NAME'].value_counts()\n",
    "controller_valuecounts_filtered = controller_valuecounts[controller_valuecounts >= 1000]\n",
    "controller_valuecounts_filtered"
   ]
  },
  {
   "cell_type": "markdown",
   "metadata": {},
   "source": [
    "#### Section of Act\n",
    "\n",
    "Section of the Act under which the citation/order was issued.  May contain null values."
   ]
  },
  {
   "cell_type": "code",
   "execution_count": null,
   "metadata": {},
   "outputs": [],
   "source": [
    "violations.SECTION_OF_ACT.value_counts(normalize = True)"
   ]
  },
  {
   "cell_type": "markdown",
   "metadata": {},
   "source": [
    "INSIGHT: 33% of violations are under section 316(b) - Should check out that section."
   ]
  },
  {
   "cell_type": "code",
   "execution_count": null,
   "metadata": {
    "scrolled": false
   },
   "outputs": [],
   "source": [
    "value_counts = violations['SECTION_OF_ACT'].value_counts()\n",
    "value_counts.plot(kind='bar', stacked=True)\n",
    "plt.xlabel('CAL_YR')\n",
    "plt.ylabel('Counts')\n",
    "plt.title('SECTION_OF_ACT Volume')\n",
    "plt.show()"
   ]
  },
  {
   "cell_type": "markdown",
   "metadata": {},
   "source": [
    "#### Part Section\n",
    "\n",
    "Code of Federal Regulations: Part/section of Title 30 CFR violated in format PPSSSSSXXXX where (P) Part, (S) Section and (X) Suffix.  Four-digit section numbers are expanded to five within one leading zero.  May contain null values."
   ]
  },
  {
   "cell_type": "code",
   "execution_count": null,
   "metadata": {
    "scrolled": true
   },
   "outputs": [],
   "source": [
    "violations['PART_SECTION'].value_counts()"
   ]
  },
  {
   "cell_type": "markdown",
   "metadata": {},
   "source": [
    "#### Section of Act 1\n",
    "\n",
    "Primary Section of Act which gives the MSHA Inspector the authority to take the action specified by this Issuance.   More than one type of action may be cited."
   ]
  },
  {
   "cell_type": "code",
   "execution_count": null,
   "metadata": {
    "scrolled": false
   },
   "outputs": [],
   "source": [
    "violations['SECTION_OF_ACT_1'].value_counts()"
   ]
  },
  {
   "cell_type": "markdown",
   "metadata": {},
   "source": [
    "#### Section of Act 2\n",
    "\n",
    "Secondary Section of Act which gives the MSHA Inspector the authority to take the action specified by this Issuance at Metal/Non-Metal mines only.  More than one type of action may be cited."
   ]
  },
  {
   "cell_type": "code",
   "execution_count": null,
   "metadata": {
    "scrolled": false
   },
   "outputs": [],
   "source": [
    "violations['SECTION_OF_ACT_2'].value_counts()"
   ]
  },
  {
   "cell_type": "markdown",
   "metadata": {},
   "source": [
    "#### Initial Viol No.\n",
    "\n",
    "This is the preceding citation record when there is a need to relate a citation to a previous one. For example this would apply when an order follows a citation. This relationship is needed to calculate the good faith reduction penalty points.  May contain null values."
   ]
  },
  {
   "cell_type": "code",
   "execution_count": null,
   "metadata": {
    "scrolled": false
   },
   "outputs": [],
   "source": [
    "violations['INITIAL_VIOL_NO'].value_counts()"
   ]
  },
  {
   "cell_type": "markdown",
   "metadata": {},
   "source": [
    "#### Replaced by Order No.\n",
    "\n",
    "Order number which replaced the original citation.  May contain null values if situation does not apply."
   ]
  },
  {
   "cell_type": "code",
   "execution_count": null,
   "metadata": {
    "scrolled": false
   },
   "outputs": [],
   "source": [
    "violations['REPLACED_BY_ORDER_NO'].value_counts()"
   ]
  },
  {
   "cell_type": "markdown",
   "metadata": {},
   "source": [
    "### Bivariate EDA"
   ]
  },
  {
   "cell_type": "markdown",
   "metadata": {},
   "source": [
    "#### Violator Type: Number Affected"
   ]
  },
  {
   "cell_type": "code",
   "execution_count": null,
   "metadata": {},
   "outputs": [],
   "source": [
    "sns.catplot(x=\"NO_AFFECTED\", y=\"VIOLATOR_TYPE_CD\", data=violations, kind=\"box\", aspect=1.5)\n",
    "plt.show()"
   ]
  },
  {
   "cell_type": "code",
   "execution_count": null,
   "metadata": {
    "scrolled": false
   },
   "outputs": [],
   "source": [
    "violations.groupby('VIOLATOR_TYPE_CD').agg({'NO_AFFECTED': ['min', 'mean', 'max']})"
   ]
  },
  {
   "cell_type": "markdown",
   "metadata": {},
   "source": [
    "INSIGHT: On average operator has more number affected, but unclear at this point if statistically significant difference (especially considering operator has way more violations)."
   ]
  },
  {
   "cell_type": "markdown",
   "metadata": {},
   "source": [
    "#### Violator Type: Proposed Penalty"
   ]
  },
  {
   "cell_type": "code",
   "execution_count": null,
   "metadata": {},
   "outputs": [],
   "source": [
    "sns.catplot(x=\"PROPOSED_PENALTY\", y=\"VIOLATOR_TYPE_CD\", data=violations, kind=\"box\", aspect=1.5)\n",
    "plt.show()"
   ]
  },
  {
   "cell_type": "code",
   "execution_count": null,
   "metadata": {
    "scrolled": false
   },
   "outputs": [],
   "source": [
    "violations.groupby('VIOLATOR_TYPE_CD').agg({'PROPOSED_PENALTY': ['min', 'mean', 'max']})"
   ]
  },
  {
   "cell_type": "markdown",
   "metadata": {},
   "source": [
    "INSIGHT: On average operator has a higher proposed penalty, but unclear at this point if statistically significant difference (especially considering operator has way more violations)."
   ]
  },
  {
   "cell_type": "markdown",
   "metadata": {},
   "source": [
    "#### Coal Metal: Number Affected"
   ]
  },
  {
   "cell_type": "code",
   "execution_count": null,
   "metadata": {},
   "outputs": [],
   "source": [
    "sns.catplot(x=\"NO_AFFECTED\", y=\"COAL_METAL_IND\", data=violations, kind=\"box\", aspect=1.5)\n",
    "plt.show()"
   ]
  },
  {
   "cell_type": "code",
   "execution_count": null,
   "metadata": {
    "scrolled": true
   },
   "outputs": [],
   "source": [
    "violations.groupby('COAL_METAL_IND').agg({'NO_AFFECTED': ['min', 'mean', 'max']})"
   ]
  },
  {
   "cell_type": "markdown",
   "metadata": {},
   "source": [
    "INSIGHT: On average, coal has more affected. Seems big enough to be significant but have to see."
   ]
  },
  {
   "cell_type": "markdown",
   "metadata": {},
   "source": [
    "#### Coal Metal: Proposed Penalty"
   ]
  },
  {
   "cell_type": "code",
   "execution_count": null,
   "metadata": {},
   "outputs": [],
   "source": [
    "sns.catplot(x=\"PROPOSED_PENALTY\", y=\"COAL_METAL_IND\", data=violations, kind=\"box\", aspect=1.5)\n",
    "plt.show()"
   ]
  },
  {
   "cell_type": "code",
   "execution_count": null,
   "metadata": {
    "scrolled": true
   },
   "outputs": [],
   "source": [
    "violations.groupby('COAL_METAL_IND').agg({'PROPOSED_PENALTY': ['min', 'mean', 'max']})"
   ]
  },
  {
   "cell_type": "markdown",
   "metadata": {},
   "source": [
    "INSIGHT: On average, coal has a way higher proposed penalty."
   ]
  },
  {
   "cell_type": "markdown",
   "metadata": {},
   "source": [
    "#### Sig Sub: Number Affected"
   ]
  },
  {
   "cell_type": "code",
   "execution_count": 31,
   "metadata": {
    "scrolled": false
   },
   "outputs": [
    {
     "data": {
      "image/png": "[encoded data removed]",
      "text/plain": [
       "<Figure size 540x360 with 1 Axes>"
      ]
     },
     "metadata": {
      "needs_background": "light"
     },
     "output_type": "display_data"
    }
   ],
   "source": [
    "sns.catplot(x=\"NO_AFFECTED\", y=\"SIG_SUB\", data=violations, kind=\"box\", aspect=1.5)\n",
    "plt.show()"
   ]
  },
  {
   "cell_type": "code",
   "execution_count": 32,
   "metadata": {
    "scrolled": false
   },
   "outputs": [
    {
     "data": {
      "text/html": [
       "<div>\n",
       "<style scoped>\n",
       "    .dataframe tbody tr th:only-of-type {\n",
       "        vertical-align: middle;\n",
       "    }\n",
       "\n",
       "    .dataframe tbody tr th {\n",
       "        vertical-align: top;\n",
       "    }\n",
       "\n",
       "    .dataframe thead tr th {\n",
       "        text-align: left;\n",
       "    }\n",
       "\n",
       "    .dataframe thead tr:last-of-type th {\n",
       "        text-align: right;\n",
       "    }\n",
       "</style>\n",
       "<table border=\"1\" class=\"dataframe\">\n",
       "  <thead>\n",
       "    <tr>\n",
       "      <th></th>\n",
       "      <th colspan=\"3\" halign=\"left\">NO_AFFECTED</th>\n",
       "    </tr>\n",
       "    <tr>\n",
       "      <th></th>\n",
       "      <th>min</th>\n",
       "      <th>mean</th>\n",
       "      <th>max</th>\n",
       "    </tr>\n",
       "    <tr>\n",
       "      <th>SIG_SUB</th>\n",
       "      <th></th>\n",
       "      <th></th>\n",
       "      <th></th>\n",
       "    </tr>\n",
       "  </thead>\n",
       "  <tbody>\n",
       "    <tr>\n",
       "      <th>N</th>\n",
       "      <td>0</td>\n",
       "      <td>1.473819</td>\n",
       "      <td>999</td>\n",
       "    </tr>\n",
       "    <tr>\n",
       "      <th>Y</th>\n",
       "      <td>0</td>\n",
       "      <td>1.589285</td>\n",
       "      <td>999</td>\n",
       "    </tr>\n",
       "  </tbody>\n",
       "</table>\n",
       "</div>"
      ],
      "text/plain": [
       "        NO_AFFECTED               \n",
       "                min      mean  max\n",
       "SIG_SUB                           \n",
       "N                 0  1.473819  999\n",
       "Y                 0  1.589285  999"
      ]
     },
     "execution_count": 32,
     "metadata": {},
     "output_type": "execute_result"
    }
   ],
   "source": [
    "violations.groupby('SIG_SUB').agg({'NO_AFFECTED': ['min', 'mean', 'max']})"
   ]
  },
  {
   "cell_type": "code",
   "execution_count": 40,
   "metadata": {},
   "outputs": [],
   "source": [
    "yessig = violations[violations[\"SIG_SUB\"] == \"Y\"]\n",
    "nosig = violations[violations[\"SIG_SUB\"] == \"N\"]\n"
   ]
  },
  {
   "cell_type": "code",
   "execution_count": 42,
   "metadata": {},
   "outputs": [],
   "source": [
    "yessig = yessig[['NO_AFFECTED']]\n",
    "nosig = nosig[['NO_AFFECTED']]"
   ]
  },
  {
   "cell_type": "markdown",
   "metadata": {},
   "source": [
    "INSIGHT: Definitely expected to see a bigger difference here!"
   ]
  },
  {
   "cell_type": "code",
   "execution_count": 43,
   "metadata": {},
   "outputs": [
    {
     "data": {
      "text/plain": [
       "(array([13.62202339]), array([2.96244713e-42]))"
      ]
     },
     "execution_count": 43,
     "metadata": {},
     "output_type": "execute_result"
    }
   ],
   "source": [
    "from statsmodels.stats.weightstats import ztest as ztest\n",
    "\n",
    "\n",
    "ztest(yessig, nosig, value=0) \n"
   ]
  },
  {
   "cell_type": "markdown",
   "metadata": {},
   "source": [
    "#### Sig Sub: Proposed Penalty"
   ]
  },
  {
   "cell_type": "code",
   "execution_count": 33,
   "metadata": {},
   "outputs": [
    {
     "data": {
      "image/png": "[encoded data removed]",
      "text/plain": [
       "<Figure size 540x360 with 1 Axes>"
      ]
     },
     "metadata": {
      "needs_background": "light"
     },
     "output_type": "display_data"
    }
   ],
   "source": [
    "sns.catplot(x=\"PROPOSED_PENALTY\", y=\"SIG_SUB\", data=violations, kind=\"box\", aspect=1.5)\n",
    "plt.show()"
   ]
  },
  {
   "cell_type": "code",
   "execution_count": 34,
   "metadata": {
    "scrolled": true
   },
   "outputs": [
    {
     "data": {
      "text/html": [
       "<div>\n",
       "<style scoped>\n",
       "    .dataframe tbody tr th:only-of-type {\n",
       "        vertical-align: middle;\n",
       "    }\n",
       "\n",
       "    .dataframe tbody tr th {\n",
       "        vertical-align: top;\n",
       "    }\n",
       "\n",
       "    .dataframe thead tr th {\n",
       "        text-align: left;\n",
       "    }\n",
       "\n",
       "    .dataframe thead tr:last-of-type th {\n",
       "        text-align: right;\n",
       "    }\n",
       "</style>\n",
       "<table border=\"1\" class=\"dataframe\">\n",
       "  <thead>\n",
       "    <tr>\n",
       "      <th></th>\n",
       "      <th colspan=\"3\" halign=\"left\">PROPOSED_PENALTY</th>\n",
       "    </tr>\n",
       "    <tr>\n",
       "      <th></th>\n",
       "      <th>min</th>\n",
       "      <th>mean</th>\n",
       "      <th>max</th>\n",
       "    </tr>\n",
       "    <tr>\n",
       "      <th>SIG_SUB</th>\n",
       "      <th></th>\n",
       "      <th></th>\n",
       "      <th></th>\n",
       "    </tr>\n",
       "  </thead>\n",
       "  <tbody>\n",
       "    <tr>\n",
       "      <th>N</th>\n",
       "      <td>50.0</td>\n",
       "      <td>250.838715</td>\n",
       "      <td>220000.0</td>\n",
       "    </tr>\n",
       "    <tr>\n",
       "      <th>Y</th>\n",
       "      <td>1.0</td>\n",
       "      <td>1473.164205</td>\n",
       "      <td>246200.0</td>\n",
       "    </tr>\n",
       "  </tbody>\n",
       "</table>\n",
       "</div>"
      ],
      "text/plain": [
       "        PROPOSED_PENALTY                       \n",
       "                     min         mean       max\n",
       "SIG_SUB                                        \n",
       "N                   50.0   250.838715  220000.0\n",
       "Y                    1.0  1473.164205  246200.0"
      ]
     },
     "execution_count": 34,
     "metadata": {},
     "output_type": "execute_result"
    }
   ],
   "source": [
    "violations.groupby('SIG_SUB').agg({'PROPOSED_PENALTY': ['min', 'mean', 'max']})"
   ]
  },
  {
   "cell_type": "markdown",
   "metadata": {},
   "source": [
    "INSIGHT: Now here is a big difference!"
   ]
  },
  {
   "cell_type": "markdown",
   "metadata": {},
   "source": [
    "#### Section of Act: Number Affected"
   ]
  },
  {
   "cell_type": "code",
   "execution_count": null,
   "metadata": {
    "scrolled": true
   },
   "outputs": [],
   "source": [
    "violations.groupby('SECTION_OF_ACT').agg({'NO_AFFECTED': ['min', 'mean', 'max']})"
   ]
  },
  {
   "cell_type": "markdown",
   "metadata": {},
   "source": [
    "#### Section of Act: Proposed Penalty"
   ]
  },
  {
   "cell_type": "code",
   "execution_count": null,
   "metadata": {
    "scrolled": true
   },
   "outputs": [],
   "source": [
    "violations.groupby('SECTION_OF_ACT').agg({'PROPOSED_PENALTY': ['min', 'mean', 'max']})"
   ]
  },
  {
   "cell_type": "markdown",
   "metadata": {},
   "source": [
    "#### Likelihood: Number Affected"
   ]
  },
  {
   "cell_type": "code",
   "execution_count": null,
   "metadata": {
    "scrolled": false
   },
   "outputs": [],
   "source": [
    "sns.catplot(x=\"NO_AFFECTED\", y=\"LIKELIHOOD\", data=violations, kind=\"box\", aspect=1.5)\n",
    "plt.show()\n"
   ]
  },
  {
   "cell_type": "code",
   "execution_count": null,
   "metadata": {
    "scrolled": true
   },
   "outputs": [],
   "source": [
    "violations.groupby('LIKELIHOOD').agg({'NO_AFFECTED': ['min', 'mean', 'max']})"
   ]
  },
  {
   "cell_type": "markdown",
   "metadata": {},
   "source": [
    "INSIGHT: High likely things impact more people on average."
   ]
  },
  {
   "cell_type": "markdown",
   "metadata": {},
   "source": [
    "#### Likelihood: Proposed Penalty"
   ]
  },
  {
   "cell_type": "code",
   "execution_count": null,
   "metadata": {
    "scrolled": false
   },
   "outputs": [],
   "source": [
    "sns.catplot(x=\"PROPOSED_PENALTY\", y=\"LIKELIHOOD\", data=violations, kind=\"box\", aspect=1.5)\n",
    "plt.show()"
   ]
  },
  {
   "cell_type": "code",
   "execution_count": null,
   "metadata": {
    "scrolled": true
   },
   "outputs": [],
   "source": [
    "violations.groupby('LIKELIHOOD').agg({'PROPOSED_PENALTY': ['min', 'mean', 'max']})"
   ]
  },
  {
   "cell_type": "markdown",
   "metadata": {},
   "source": [
    "#### Injury Illness: Number Affected"
   ]
  },
  {
   "cell_type": "code",
   "execution_count": null,
   "metadata": {
    "scrolled": false
   },
   "outputs": [],
   "source": [
    "sns.catplot(x=\"NO_AFFECTED\", y=\"INJ_ILLNESS\", data=violations, kind=\"box\", aspect=1.5)\n",
    "plt.show()"
   ]
  },
  {
   "cell_type": "code",
   "execution_count": null,
   "metadata": {
    "scrolled": false
   },
   "outputs": [],
   "source": [
    "violations.groupby('INJ_ILLNESS').agg({'NO_AFFECTED': ['min', 'mean', 'max']})"
   ]
  },
  {
   "cell_type": "markdown",
   "metadata": {},
   "source": [
    "#### Injury Illness: Proposed Penalty"
   ]
  },
  {
   "cell_type": "code",
   "execution_count": null,
   "metadata": {
    "scrolled": false
   },
   "outputs": [],
   "source": [
    "sns.catplot(x=\"PROPOSED_PENALTY\", y=\"INJ_ILLNESS\", data=violations, kind=\"box\", aspect=1.5)\n",
    "plt.show()"
   ]
  },
  {
   "cell_type": "code",
   "execution_count": null,
   "metadata": {
    "scrolled": true
   },
   "outputs": [],
   "source": [
    "violations.groupby('INJ_ILLNESS').agg({'PROPOSED_PENALTY': ['min', 'mean', 'max']})"
   ]
  },
  {
   "cell_type": "markdown",
   "metadata": {},
   "source": [
    "INSIGHT: The worse the injury/impact, the higher the penalty."
   ]
  },
  {
   "cell_type": "markdown",
   "metadata": {},
   "source": [
    "#### Negligence: Number Affected"
   ]
  },
  {
   "cell_type": "code",
   "execution_count": null,
   "metadata": {
    "scrolled": false
   },
   "outputs": [],
   "source": [
    "sns.catplot(x=\"NO_AFFECTED\", y=\"NEGLIGENCE\", data=violations, kind=\"box\", aspect=1.5)\n",
    "plt.show()"
   ]
  },
  {
   "cell_type": "code",
   "execution_count": null,
   "metadata": {
    "scrolled": true
   },
   "outputs": [],
   "source": [
    "violations.groupby('NEGLIGENCE').agg({'NO_AFFECTED': ['min', 'mean', 'max']})"
   ]
  },
  {
   "cell_type": "markdown",
   "metadata": {},
   "source": [
    "INSIGHT: Reckless violations affect more people on average."
   ]
  },
  {
   "cell_type": "markdown",
   "metadata": {},
   "source": [
    "#### Negligence: Proposed Penalty"
   ]
  },
  {
   "cell_type": "code",
   "execution_count": null,
   "metadata": {
    "scrolled": false
   },
   "outputs": [],
   "source": [
    "sns.catplot(x=\"PROPOSED_PENALTY\", y=\"NEGLIGENCE\", data=violations, kind=\"box\", aspect=1.5)\n",
    "plt.show()"
   ]
  },
  {
   "cell_type": "code",
   "execution_count": null,
   "metadata": {
    "scrolled": false
   },
   "outputs": [],
   "source": [
    "violations.groupby('NEGLIGENCE').agg({'PROPOSED_PENALTY': ['min', 'mean', 'max']})"
   ]
  },
  {
   "cell_type": "markdown",
   "metadata": {},
   "source": [
    "INSIGHT: Reckless and highly negligent actions carry higher penalties."
   ]
  },
  {
   "cell_type": "markdown",
   "metadata": {},
   "source": [
    "#### Enforcement Area: Number Affected"
   ]
  },
  {
   "cell_type": "code",
   "execution_count": null,
   "metadata": {
    "scrolled": false
   },
   "outputs": [],
   "source": [
    "sns.catplot(x=\"NO_AFFECTED\", y=\"ENFORCEMENT_AREA\", data=violations, kind=\"box\", aspect=1.5)\n",
    "plt.show()"
   ]
  },
  {
   "cell_type": "code",
   "execution_count": null,
   "metadata": {
    "scrolled": false
   },
   "outputs": [],
   "source": [
    "violations.groupby('ENFORCEMENT_AREA').agg({'NO_AFFECTED': ['min', 'mean', 'max']})"
   ]
  },
  {
   "cell_type": "markdown",
   "metadata": {},
   "source": [
    "#### Enforcement Area: Proposed Penalty"
   ]
  },
  {
   "cell_type": "code",
   "execution_count": null,
   "metadata": {
    "scrolled": false
   },
   "outputs": [],
   "source": [
    "sns.catplot(x=\"PROPOSED_PENALTY\", y=\"ENFORCEMENT_AREA\", data=violations, kind=\"box\", aspect=1.5)\n",
    "plt.show()"
   ]
  },
  {
   "cell_type": "code",
   "execution_count": null,
   "metadata": {
    "scrolled": false
   },
   "outputs": [],
   "source": [
    "violations.groupby('ENFORCEMENT_AREA').agg({'PROPOSED_PENALTY': ['min', 'mean', 'max']})"
   ]
  },
  {
   "cell_type": "markdown",
   "metadata": {},
   "source": [
    "INSIGHT: Health AND safety violations carry high penalties -- makes sense, they're double whammies!"
   ]
  },
  {
   "cell_type": "markdown",
   "metadata": {},
   "source": [
    "#### Contested: Number Affected"
   ]
  },
  {
   "cell_type": "code",
   "execution_count": null,
   "metadata": {
    "scrolled": false
   },
   "outputs": [],
   "source": [
    "sns.catplot(x=\"NO_AFFECTED\", y=\"CONTESTED_IND\", data=violations, kind=\"box\", aspect=1.5)\n",
    "plt.show()"
   ]
  },
  {
   "cell_type": "code",
   "execution_count": null,
   "metadata": {
    "scrolled": true
   },
   "outputs": [],
   "source": [
    "violations.groupby('CONTESTED_IND').agg({'NO_AFFECTED': ['min', 'mean', 'max']})"
   ]
  },
  {
   "cell_type": "markdown",
   "metadata": {},
   "source": [
    "INSIGHT: Interesting -- I wouldn't have that that contested violations would have affected more people on average!"
   ]
  },
  {
   "cell_type": "markdown",
   "metadata": {},
   "source": [
    "#### Contested: Proposed Penalty"
   ]
  },
  {
   "cell_type": "code",
   "execution_count": null,
   "metadata": {
    "scrolled": false
   },
   "outputs": [],
   "source": [
    "sns.catplot(x=\"PROPOSED_PENALTY\", y=\"CONTESTED_IND\", data=violations, kind=\"box\", aspect=1.5)\n",
    "plt.show()"
   ]
  },
  {
   "cell_type": "code",
   "execution_count": null,
   "metadata": {
    "scrolled": false
   },
   "outputs": [],
   "source": [
    "violations.groupby('CONTESTED_IND').agg({'PROPOSED_PENALTY': ['min', 'mean', 'max']})"
   ]
  },
  {
   "cell_type": "markdown",
   "metadata": {},
   "source": [
    "INSIGHT: Interesting -- People contest higher proposed violations!"
   ]
  },
  {
   "cell_type": "code",
   "execution_count": 61,
   "metadata": {},
   "outputs": [
    {
     "data": {
      "text/html": [
       "<div>\n",
       "<style scoped>\n",
       "    .dataframe tbody tr th:only-of-type {\n",
       "        vertical-align: middle;\n",
       "    }\n",
       "\n",
       "    .dataframe tbody tr th {\n",
       "        vertical-align: top;\n",
       "    }\n",
       "\n",
       "    .dataframe thead th {\n",
       "        text-align: right;\n",
       "    }\n",
       "</style>\n",
       "<table border=\"1\" class=\"dataframe\">\n",
       "  <thead>\n",
       "    <tr style=\"text-align: right;\">\n",
       "      <th>NEGLIGENCE</th>\n",
       "      <th>HighNegligence</th>\n",
       "      <th>LowNegligence</th>\n",
       "      <th>ModNegligence</th>\n",
       "      <th>NoNegligence</th>\n",
       "      <th>Reckless</th>\n",
       "    </tr>\n",
       "    <tr>\n",
       "      <th>SIG_SUB</th>\n",
       "      <th></th>\n",
       "      <th></th>\n",
       "      <th></th>\n",
       "      <th></th>\n",
       "      <th></th>\n",
       "    </tr>\n",
       "  </thead>\n",
       "  <tbody>\n",
       "    <tr>\n",
       "      <th>N</th>\n",
       "      <td>107028</td>\n",
       "      <td>340032</td>\n",
       "      <td>1552342</td>\n",
       "      <td>2642</td>\n",
       "      <td>498</td>\n",
       "    </tr>\n",
       "    <tr>\n",
       "      <th>Y</th>\n",
       "      <td>70778</td>\n",
       "      <td>74878</td>\n",
       "      <td>617699</td>\n",
       "      <td>1092</td>\n",
       "      <td>1500</td>\n",
       "    </tr>\n",
       "  </tbody>\n",
       "</table>\n",
       "</div>"
      ],
      "text/plain": [
       "NEGLIGENCE  HighNegligence  LowNegligence  ModNegligence  NoNegligence  \\\n",
       "SIG_SUB                                                                  \n",
       "N                   107028         340032        1552342          2642   \n",
       "Y                    70778          74878         617699          1092   \n",
       "\n",
       "NEGLIGENCE  Reckless  \n",
       "SIG_SUB               \n",
       "N                498  \n",
       "Y               1500  "
      ]
     },
     "execution_count": 61,
     "metadata": {},
     "output_type": "execute_result"
    }
   ],
   "source": [
    "signeg= pd.crosstab(violations['SIG_SUB'], violations['NEGLIGENCE'])\n",
    "signeg"
   ]
  },
  {
   "cell_type": "code",
   "execution_count": 62,
   "metadata": {},
   "outputs": [
    {
     "data": {
      "text/plain": [
       "<AxesSubplot: xlabel='NEGLIGENCE', ylabel='SIG_SUB'>"
      ]
     },
     "execution_count": 62,
     "metadata": {},
     "output_type": "execute_result"
    },
    {
     "data": {
      "image/png": "[encoded data removed]",
      "text/plain": [
       "<Figure size 864x576 with 2 Axes>"
      ]
     },
     "metadata": {
      "needs_background": "light"
     },
     "output_type": "display_data"
    }
   ],
   "source": [
    "plt.figure(figsize=(12,8))\n",
    "sns.heatmap(signeg, annot=True, cmap=\"YlGnBu\")"
   ]
  },
  {
   "cell_type": "code",
   "execution_count": 63,
   "metadata": {},
   "outputs": [
    {
     "name": "stdout",
     "output_type": "stream",
     "text": [
      "35219.70644175799\n",
      "0.0\n",
      "4\n"
     ]
    }
   ],
   "source": [
    "c, p, dof, expected = chi2_contingency(signeg)\n",
    "print(c)\n",
    "print(p)\n",
    "print(dof)"
   ]
  },
  {
   "cell_type": "code",
   "execution_count": 72,
   "metadata": {},
   "outputs": [
    {
     "data": {
      "text/html": [
       "<div>\n",
       "<style scoped>\n",
       "    .dataframe tbody tr th:only-of-type {\n",
       "        vertical-align: middle;\n",
       "    }\n",
       "\n",
       "    .dataframe tbody tr th {\n",
       "        vertical-align: top;\n",
       "    }\n",
       "\n",
       "    .dataframe thead th {\n",
       "        text-align: right;\n",
       "    }\n",
       "</style>\n",
       "<table border=\"1\" class=\"dataframe\">\n",
       "  <thead>\n",
       "    <tr style=\"text-align: right;\">\n",
       "      <th>LIKELIHOOD</th>\n",
       "      <th>Highly</th>\n",
       "      <th>NoLikelihood</th>\n",
       "      <th>Occurred</th>\n",
       "      <th>Reasonably</th>\n",
       "      <th>Unlikely</th>\n",
       "    </tr>\n",
       "    <tr>\n",
       "      <th>SIG_SUB</th>\n",
       "      <th></th>\n",
       "      <th></th>\n",
       "      <th></th>\n",
       "      <th></th>\n",
       "      <th></th>\n",
       "    </tr>\n",
       "  </thead>\n",
       "  <tbody>\n",
       "    <tr>\n",
       "      <th>N</th>\n",
       "      <td>132</td>\n",
       "      <td>145437</td>\n",
       "      <td>372</td>\n",
       "      <td>10571</td>\n",
       "      <td>1846028</td>\n",
       "    </tr>\n",
       "    <tr>\n",
       "      <th>Y</th>\n",
       "      <td>15034</td>\n",
       "      <td>516</td>\n",
       "      <td>5829</td>\n",
       "      <td>742357</td>\n",
       "      <td>2187</td>\n",
       "    </tr>\n",
       "  </tbody>\n",
       "</table>\n",
       "</div>"
      ],
      "text/plain": [
       "LIKELIHOOD  Highly  NoLikelihood  Occurred  Reasonably  Unlikely\n",
       "SIG_SUB                                                         \n",
       "N              132        145437       372       10571   1846028\n",
       "Y            15034           516      5829      742357      2187"
      ]
     },
     "execution_count": 72,
     "metadata": {},
     "output_type": "execute_result"
    }
   ],
   "source": [
    "siglike= pd.crosstab(violations['SIG_SUB'], violations['LIKELIHOOD'])\n",
    "siglike"
   ]
  },
  {
   "cell_type": "code",
   "execution_count": 73,
   "metadata": {},
   "outputs": [
    {
     "data": {
      "text/plain": [
       "<AxesSubplot: xlabel='LIKELIHOOD', ylabel='SIG_SUB'>"
      ]
     },
     "execution_count": 73,
     "metadata": {},
     "output_type": "execute_result"
    },
    {
     "data": {
      "image/png": "[encoded data removed]",
      "text/plain": [
       "<Figure size 864x576 with 2 Axes>"
      ]
     },
     "metadata": {
      "needs_background": "light"
     },
     "output_type": "display_data"
    }
   ],
   "source": [
    "plt.figure(figsize=(12,8))\n",
    "sns.heatmap(siglike, annot=True, cmap=\"YlGnBu\")"
   ]
  },
  {
   "cell_type": "code",
   "execution_count": 74,
   "metadata": {},
   "outputs": [
    {
     "name": "stdout",
     "output_type": "stream",
     "text": [
      "2700494.98916361\n",
      "0.0\n",
      "4\n"
     ]
    }
   ],
   "source": [
    "c, p, dof, expected = chi2_contingency(siglike)\n",
    "print(c)\n",
    "print(p)\n",
    "print(dof)"
   ]
  },
  {
   "cell_type": "code",
   "execution_count": 68,
   "metadata": {},
   "outputs": [
    {
     "data": {
      "text/html": [
       "<div>\n",
       "<style scoped>\n",
       "    .dataframe tbody tr th:only-of-type {\n",
       "        vertical-align: middle;\n",
       "    }\n",
       "\n",
       "    .dataframe tbody tr th {\n",
       "        vertical-align: top;\n",
       "    }\n",
       "\n",
       "    .dataframe thead th {\n",
       "        text-align: right;\n",
       "    }\n",
       "</style>\n",
       "<table border=\"1\" class=\"dataframe\">\n",
       "  <thead>\n",
       "    <tr style=\"text-align: right;\">\n",
       "      <th>INJ_ILLNESS</th>\n",
       "      <th>Fatal</th>\n",
       "      <th>LostDays</th>\n",
       "      <th>NoLostDays</th>\n",
       "      <th>Permanent</th>\n",
       "    </tr>\n",
       "    <tr>\n",
       "      <th>SIG_SUB</th>\n",
       "      <th></th>\n",
       "      <th></th>\n",
       "      <th></th>\n",
       "      <th></th>\n",
       "    </tr>\n",
       "  </thead>\n",
       "  <tbody>\n",
       "    <tr>\n",
       "      <th>N</th>\n",
       "      <td>293087</td>\n",
       "      <td>1140672</td>\n",
       "      <td>302744</td>\n",
       "      <td>266037</td>\n",
       "    </tr>\n",
       "    <tr>\n",
       "      <th>Y</th>\n",
       "      <td>179817</td>\n",
       "      <td>408972</td>\n",
       "      <td>618</td>\n",
       "      <td>176537</td>\n",
       "    </tr>\n",
       "  </tbody>\n",
       "</table>\n",
       "</div>"
      ],
      "text/plain": [
       "INJ_ILLNESS   Fatal  LostDays  NoLostDays  Permanent\n",
       "SIG_SUB                                             \n",
       "N            293087   1140672      302744     266037\n",
       "Y            179817    408972         618     176537"
      ]
     },
     "execution_count": 68,
     "metadata": {},
     "output_type": "execute_result"
    }
   ],
   "source": [
    "siginj= pd.crosstab(violations['SIG_SUB'], violations['INJ_ILLNESS'])\n",
    "siginj"
   ]
  },
  {
   "cell_type": "code",
   "execution_count": 69,
   "metadata": {},
   "outputs": [
    {
     "data": {
      "text/plain": [
       "<AxesSubplot: xlabel='INJ_ILLNESS', ylabel='SIG_SUB'>"
      ]
     },
     "execution_count": 69,
     "metadata": {},
     "output_type": "execute_result"
    },
    {
     "data": {
      "image/png": "[encoded data removed]",
      "text/plain": [
       "<Figure size 864x576 with 2 Axes>"
      ]
     },
     "metadata": {
      "needs_background": "light"
     },
     "output_type": "display_data"
    }
   ],
   "source": [
    "plt.figure(figsize=(12,8))\n",
    "sns.heatmap(siginj, annot=True, cmap=\"YlGnBu\")"
   ]
  },
  {
   "cell_type": "code",
   "execution_count": 71,
   "metadata": {},
   "outputs": [
    {
     "name": "stdout",
     "output_type": "stream",
     "text": [
      "173974.83332500013\n",
      "0.0\n",
      "3\n"
     ]
    }
   ],
   "source": [
    "c, p, dof, expected = chi2_contingency(siginj)\n",
    "print(c)\n",
    "print(p)\n",
    "print(dof)"
   ]
  },
  {
   "cell_type": "markdown",
   "metadata": {},
   "source": [
    "## Violations + Inspections + Mines Dataset"
   ]
  },
  {
   "cell_type": "code",
   "execution_count": null,
   "metadata": {},
   "outputs": [],
   "source": [
    "violations_inspections_mines = pd.merge(violations, inspections_mines ,on= 'EVENT_NO')\n",
    "violations_inspections_mines"
   ]
  },
  {
   "cell_type": "code",
   "execution_count": null,
   "metadata": {},
   "outputs": [],
   "source": [
    "# MINE_TYPE stacked bar plot with CURRENT_MINE_TYPE from Mines data\n",
    " \n",
    "fig, ax = plt.subplots()\n",
    "\n",
    "violations['MINE_TYPE'].value_counts().plot(kind='bar', color='r', ax=ax, label='Violations', stacked=True)\n",
    "mines['CURRENT_MINE_TYPE'].value_counts().plot(kind='bar', color='b', ax=ax, label='Current Mine Type', stacked=True)\n",
    "\n",
    "ax.set_xlabel('Mine Type')\n",
    "ax.set_ylabel('Count')\n",
    "ax.set_title('Mine Type Counts')\n",
    "ax.legend()\n",
    "\n",
    "plt.show()\n"
   ]
  },
  {
   "cell_type": "markdown",
   "metadata": {},
   "source": [
    "INSIGHT:\n",
    "From the stacked bar plot above, we can see that there are clearly more violations occuring per mine type than there are actual mines, indicating that mines, of all types, often have more than one violation per mine. But, the mine types still appear to be relatively proportional number of violations per mine type. For example, surface mines have the most mines, and appear to also have the most violations, which makes sense. On the otherhand, facility mines, which have the least number of mines, also appear to have the least number of violations. "
   ]
  }
 ],
 "metadata": {
  "kernelspec": {
   "display_name": "Python 3 (ipykernel)",
   "language": "python",
   "name": "python3"
  },
  "language_info": {
   "codemirror_mode": {
    "name": "ipython",
    "version": 3
   },
   "file_extension": ".py",
   "mimetype": "text/x-python",
   "name": "python",
   "nbconvert_exporter": "python",
   "pygments_lexer": "ipython3",
   "version": "3.9.7"
  },
  "vscode": {
   "interpreter": {
    "hash": "aee8b7b246df8f9039afb4144a1f6fd8d2ca17a180786b69acc140d282b71a49"
   }
  }
 },
 "nbformat": 4,
 "nbformat_minor": 2
}
